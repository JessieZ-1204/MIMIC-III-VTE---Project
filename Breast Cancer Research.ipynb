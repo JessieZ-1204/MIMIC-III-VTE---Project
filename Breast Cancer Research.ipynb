{
 "cells": [
  {
   "cell_type": "markdown",
   "id": "7d3931e7",
   "metadata": {},
   "source": [
    "# Load Dataset"
   ]
  },
  {
   "cell_type": "code",
   "execution_count": 1,
   "id": "1dc265b1",
   "metadata": {},
   "outputs": [],
   "source": [
    "# set up notebook\n",
    "import pandas as pd\n",
    "import numpy as np\n",
    "import matplotlib.pyplot as plt"
   ]
  },
  {
   "cell_type": "code",
   "execution_count": 48,
   "id": "01b630ad",
   "metadata": {},
   "outputs": [],
   "source": [
    "# read the admissions table\n",
    "df_adm = pd.read_csv('ADMISSIONS.csv')\n",
    "df_pat = pd.read_csv('PATIENTS.csv')\n",
    "df_icu = pd.read_csv('ICUSTAYS.csv')"
   ]
  },
  {
   "cell_type": "code",
   "execution_count": 3,
   "id": "38a0c230",
   "metadata": {},
   "outputs": [
    {
     "name": "stderr",
     "output_type": "stream",
     "text": [
      "/Users/kexinzhang/opt/anaconda3/lib/python3.9/site-packages/IPython/core/interactiveshell.py:3444: DtypeWarning: Columns (7,9,17,20,21) have mixed types.Specify dtype option on import or set low_memory=False.\n",
      "  exec(code_obj, self.user_global_ns, self.user_ns)\n"
     ]
    }
   ],
   "source": [
    "df_ineven = pd.read_csv('INPUTEVENTS_CV.csv')"
   ]
  },
  {
   "cell_type": "code",
   "execution_count": 4,
   "id": "90cd78bc-87de-48ed-92b4-0f9cb0e0b645",
   "metadata": {},
   "outputs": [],
   "source": [
    "df_dicd_dia = pd.read_csv('D_ICD_DIAGNOSES.csv')"
   ]
  },
  {
   "cell_type": "code",
   "execution_count": 5,
   "id": "433f4356-fe2f-4636-bbc0-3206c58da258",
   "metadata": {},
   "outputs": [],
   "source": [
    "df_proce = pd.read_csv('PROCEDUREEVENTS_MV.csv')"
   ]
  },
  {
   "cell_type": "code",
   "execution_count": 6,
   "id": "8942ad24-d3ad-4833-9dd8-4038358883c8",
   "metadata": {},
   "outputs": [],
   "source": [
    "df_dia_icd = pd.read_csv('DIAGNOSES_ICD.csv.gz', compression='gzip', header=0, sep=',', quotechar='\"')"
   ]
  },
  {
   "cell_type": "markdown",
   "id": "5bf67667-cfd0-4c99-8449-c64e612a78c6",
   "metadata": {},
   "source": [
    "# Count Number of Total People"
   ]
  },
  {
   "cell_type": "code",
   "execution_count": 7,
   "id": "d14f2ea9-a655-41b5-af9a-8e33e5636047",
   "metadata": {},
   "outputs": [
    {
     "data": {
      "text/html": [
       "<div>\n",
       "<style scoped>\n",
       "    .dataframe tbody tr th:only-of-type {\n",
       "        vertical-align: middle;\n",
       "    }\n",
       "\n",
       "    .dataframe tbody tr th {\n",
       "        vertical-align: top;\n",
       "    }\n",
       "\n",
       "    .dataframe thead th {\n",
       "        text-align: right;\n",
       "    }\n",
       "</style>\n",
       "<table border=\"1\" class=\"dataframe\">\n",
       "  <thead>\n",
       "    <tr style=\"text-align: right;\">\n",
       "      <th></th>\n",
       "      <th>ROW_ID</th>\n",
       "      <th>SUBJECT_ID</th>\n",
       "      <th>GENDER</th>\n",
       "      <th>DOB</th>\n",
       "      <th>DOD</th>\n",
       "      <th>DOD_HOSP</th>\n",
       "      <th>DOD_SSN</th>\n",
       "      <th>EXPIRE_FLAG</th>\n",
       "    </tr>\n",
       "  </thead>\n",
       "  <tbody>\n",
       "    <tr>\n",
       "      <th>0</th>\n",
       "      <td>234</td>\n",
       "      <td>249</td>\n",
       "      <td>F</td>\n",
       "      <td>2075-03-13 00:00:00</td>\n",
       "      <td>NaN</td>\n",
       "      <td>NaN</td>\n",
       "      <td>NaN</td>\n",
       "      <td>0</td>\n",
       "    </tr>\n",
       "    <tr>\n",
       "      <th>1</th>\n",
       "      <td>235</td>\n",
       "      <td>250</td>\n",
       "      <td>F</td>\n",
       "      <td>2164-12-27 00:00:00</td>\n",
       "      <td>2188-11-22 00:00:00</td>\n",
       "      <td>2188-11-22 00:00:00</td>\n",
       "      <td>NaN</td>\n",
       "      <td>1</td>\n",
       "    </tr>\n",
       "    <tr>\n",
       "      <th>2</th>\n",
       "      <td>236</td>\n",
       "      <td>251</td>\n",
       "      <td>M</td>\n",
       "      <td>2090-03-15 00:00:00</td>\n",
       "      <td>NaN</td>\n",
       "      <td>NaN</td>\n",
       "      <td>NaN</td>\n",
       "      <td>0</td>\n",
       "    </tr>\n",
       "    <tr>\n",
       "      <th>3</th>\n",
       "      <td>237</td>\n",
       "      <td>252</td>\n",
       "      <td>M</td>\n",
       "      <td>2078-03-06 00:00:00</td>\n",
       "      <td>NaN</td>\n",
       "      <td>NaN</td>\n",
       "      <td>NaN</td>\n",
       "      <td>0</td>\n",
       "    </tr>\n",
       "    <tr>\n",
       "      <th>4</th>\n",
       "      <td>238</td>\n",
       "      <td>253</td>\n",
       "      <td>F</td>\n",
       "      <td>2089-11-26 00:00:00</td>\n",
       "      <td>NaN</td>\n",
       "      <td>NaN</td>\n",
       "      <td>NaN</td>\n",
       "      <td>0</td>\n",
       "    </tr>\n",
       "  </tbody>\n",
       "</table>\n",
       "</div>"
      ],
      "text/plain": [
       "   ROW_ID  SUBJECT_ID GENDER                  DOB                  DOD  \\\n",
       "0     234         249      F  2075-03-13 00:00:00                  NaN   \n",
       "1     235         250      F  2164-12-27 00:00:00  2188-11-22 00:00:00   \n",
       "2     236         251      M  2090-03-15 00:00:00                  NaN   \n",
       "3     237         252      M  2078-03-06 00:00:00                  NaN   \n",
       "4     238         253      F  2089-11-26 00:00:00                  NaN   \n",
       "\n",
       "              DOD_HOSP DOD_SSN  EXPIRE_FLAG  \n",
       "0                  NaN     NaN            0  \n",
       "1  2188-11-22 00:00:00     NaN            1  \n",
       "2                  NaN     NaN            0  \n",
       "3                  NaN     NaN            0  \n",
       "4                  NaN     NaN            0  "
      ]
     },
     "execution_count": 7,
     "metadata": {},
     "output_type": "execute_result"
    }
   ],
   "source": [
    "df_pat.head()"
   ]
  },
  {
   "cell_type": "code",
   "execution_count": 8,
   "id": "e4081f94-dc1d-44fc-9129-594e9c8788c6",
   "metadata": {},
   "outputs": [
    {
     "data": {
      "text/plain": [
       "M    26121\n",
       "F    20399\n",
       "Name: GENDER, dtype: int64"
      ]
     },
     "execution_count": 8,
     "metadata": {},
     "output_type": "execute_result"
    }
   ],
   "source": [
    "df_pat.GENDER.value_counts()"
   ]
  },
  {
   "cell_type": "code",
   "execution_count": 9,
   "id": "5ed5289d-c929-430c-8fc4-096c11ff9b6b",
   "metadata": {},
   "outputs": [
    {
     "name": "stdout",
     "output_type": "stream",
     "text": [
      "Total number of patient is : 46520\n"
     ]
    }
   ],
   "source": [
    "gender_total = df_pat.SUBJECT_ID.nunique()\n",
    "print(\"Total number of patient is :\", gender_total )"
   ]
  },
  {
   "cell_type": "markdown",
   "id": "99ff5d8e-87a2-44f9-a61d-ba04bc71d46b",
   "metadata": {},
   "source": [
    "#### Convert dates"
   ]
  },
  {
   "cell_type": "code",
   "execution_count": 10,
   "id": "3504f349-78fd-401f-bbba-6aa1ed4530c5",
   "metadata": {},
   "outputs": [],
   "source": [
    "df_pat.DOB = pd.to_datetime(df_pat.DOB, format = '%Y-%m-%d %H:%M:%S', errors = 'coerce')\n",
    "df_pat.DOD = pd.to_datetime(df_pat.DOD, format = '%Y-%m-%d %H:%M:%S', errors = 'coerce')"
   ]
  },
  {
   "cell_type": "code",
   "execution_count": 11,
   "id": "d5a499da-5c58-4503-a15e-824a45326791",
   "metadata": {},
   "outputs": [
    {
     "data": {
      "text/html": [
       "<div>\n",
       "<style scoped>\n",
       "    .dataframe tbody tr th:only-of-type {\n",
       "        vertical-align: middle;\n",
       "    }\n",
       "\n",
       "    .dataframe tbody tr th {\n",
       "        vertical-align: top;\n",
       "    }\n",
       "\n",
       "    .dataframe thead th {\n",
       "        text-align: right;\n",
       "    }\n",
       "</style>\n",
       "<table border=\"1\" class=\"dataframe\">\n",
       "  <thead>\n",
       "    <tr style=\"text-align: right;\">\n",
       "      <th></th>\n",
       "      <th>ROW_ID</th>\n",
       "      <th>SUBJECT_ID</th>\n",
       "      <th>GENDER</th>\n",
       "      <th>DOB</th>\n",
       "      <th>DOD</th>\n",
       "      <th>DOD_HOSP</th>\n",
       "      <th>DOD_SSN</th>\n",
       "      <th>EXPIRE_FLAG</th>\n",
       "    </tr>\n",
       "  </thead>\n",
       "  <tbody>\n",
       "    <tr>\n",
       "      <th>222</th>\n",
       "      <td>1</td>\n",
       "      <td>2</td>\n",
       "      <td>M</td>\n",
       "      <td>2138-07-17</td>\n",
       "      <td>NaT</td>\n",
       "      <td>NaN</td>\n",
       "      <td>NaN</td>\n",
       "      <td>0</td>\n",
       "    </tr>\n",
       "    <tr>\n",
       "      <th>223</th>\n",
       "      <td>2</td>\n",
       "      <td>3</td>\n",
       "      <td>M</td>\n",
       "      <td>2025-04-11</td>\n",
       "      <td>2102-06-14</td>\n",
       "      <td>NaN</td>\n",
       "      <td>2102-06-14 00:00:00</td>\n",
       "      <td>1</td>\n",
       "    </tr>\n",
       "    <tr>\n",
       "      <th>224</th>\n",
       "      <td>3</td>\n",
       "      <td>4</td>\n",
       "      <td>F</td>\n",
       "      <td>2143-05-12</td>\n",
       "      <td>NaT</td>\n",
       "      <td>NaN</td>\n",
       "      <td>NaN</td>\n",
       "      <td>0</td>\n",
       "    </tr>\n",
       "    <tr>\n",
       "      <th>225</th>\n",
       "      <td>4</td>\n",
       "      <td>5</td>\n",
       "      <td>M</td>\n",
       "      <td>2103-02-02</td>\n",
       "      <td>NaT</td>\n",
       "      <td>NaN</td>\n",
       "      <td>NaN</td>\n",
       "      <td>0</td>\n",
       "    </tr>\n",
       "    <tr>\n",
       "      <th>226</th>\n",
       "      <td>5</td>\n",
       "      <td>6</td>\n",
       "      <td>F</td>\n",
       "      <td>2109-06-21</td>\n",
       "      <td>NaT</td>\n",
       "      <td>NaN</td>\n",
       "      <td>NaN</td>\n",
       "      <td>0</td>\n",
       "    </tr>\n",
       "    <tr>\n",
       "      <th>...</th>\n",
       "      <td>...</td>\n",
       "      <td>...</td>\n",
       "      <td>...</td>\n",
       "      <td>...</td>\n",
       "      <td>...</td>\n",
       "      <td>...</td>\n",
       "      <td>...</td>\n",
       "      <td>...</td>\n",
       "    </tr>\n",
       "    <tr>\n",
       "      <th>41091</th>\n",
       "      <td>46516</td>\n",
       "      <td>99985</td>\n",
       "      <td>M</td>\n",
       "      <td>2127-04-08</td>\n",
       "      <td>NaT</td>\n",
       "      <td>NaN</td>\n",
       "      <td>NaN</td>\n",
       "      <td>0</td>\n",
       "    </tr>\n",
       "    <tr>\n",
       "      <th>41092</th>\n",
       "      <td>46517</td>\n",
       "      <td>99991</td>\n",
       "      <td>M</td>\n",
       "      <td>2137-04-07</td>\n",
       "      <td>NaT</td>\n",
       "      <td>NaN</td>\n",
       "      <td>NaN</td>\n",
       "      <td>0</td>\n",
       "    </tr>\n",
       "    <tr>\n",
       "      <th>41093</th>\n",
       "      <td>46518</td>\n",
       "      <td>99992</td>\n",
       "      <td>F</td>\n",
       "      <td>2078-10-17</td>\n",
       "      <td>NaT</td>\n",
       "      <td>NaN</td>\n",
       "      <td>NaN</td>\n",
       "      <td>0</td>\n",
       "    </tr>\n",
       "    <tr>\n",
       "      <th>41094</th>\n",
       "      <td>46519</td>\n",
       "      <td>99995</td>\n",
       "      <td>F</td>\n",
       "      <td>2058-05-29</td>\n",
       "      <td>2147-09-29</td>\n",
       "      <td>NaN</td>\n",
       "      <td>2147-09-29 00:00:00</td>\n",
       "      <td>1</td>\n",
       "    </tr>\n",
       "    <tr>\n",
       "      <th>41095</th>\n",
       "      <td>46520</td>\n",
       "      <td>99999</td>\n",
       "      <td>F</td>\n",
       "      <td>2054-01-06</td>\n",
       "      <td>NaT</td>\n",
       "      <td>NaN</td>\n",
       "      <td>NaN</td>\n",
       "      <td>0</td>\n",
       "    </tr>\n",
       "  </tbody>\n",
       "</table>\n",
       "<p>46520 rows × 8 columns</p>\n",
       "</div>"
      ],
      "text/plain": [
       "       ROW_ID  SUBJECT_ID GENDER        DOB        DOD DOD_HOSP  \\\n",
       "222         1           2      M 2138-07-17        NaT      NaN   \n",
       "223         2           3      M 2025-04-11 2102-06-14      NaN   \n",
       "224         3           4      F 2143-05-12        NaT      NaN   \n",
       "225         4           5      M 2103-02-02        NaT      NaN   \n",
       "226         5           6      F 2109-06-21        NaT      NaN   \n",
       "...       ...         ...    ...        ...        ...      ...   \n",
       "41091   46516       99985      M 2127-04-08        NaT      NaN   \n",
       "41092   46517       99991      M 2137-04-07        NaT      NaN   \n",
       "41093   46518       99992      F 2078-10-17        NaT      NaN   \n",
       "41094   46519       99995      F 2058-05-29 2147-09-29      NaN   \n",
       "41095   46520       99999      F 2054-01-06        NaT      NaN   \n",
       "\n",
       "                   DOD_SSN  EXPIRE_FLAG  \n",
       "222                    NaN            0  \n",
       "223    2102-06-14 00:00:00            1  \n",
       "224                    NaN            0  \n",
       "225                    NaN            0  \n",
       "226                    NaN            0  \n",
       "...                    ...          ...  \n",
       "41091                  NaN            0  \n",
       "41092                  NaN            0  \n",
       "41093                  NaN            0  \n",
       "41094  2147-09-29 00:00:00            1  \n",
       "41095                  NaN            0  \n",
       "\n",
       "[46520 rows x 8 columns]"
      ]
     },
     "execution_count": 11,
     "metadata": {},
     "output_type": "execute_result"
    }
   ],
   "source": [
    "df_pat.sort_values(by=['SUBJECT_ID'])"
   ]
  },
  {
   "cell_type": "markdown",
   "id": "e1f7cdb9-2a81-46f9-8e9e-399932aeef9c",
   "metadata": {},
   "source": [
    "# Count Ethnicity, Marital status, and Admission type"
   ]
  },
  {
   "cell_type": "code",
   "execution_count": 49,
   "id": "5d43be0a-e984-462f-b12f-b02a271688e8",
   "metadata": {},
   "outputs": [
    {
     "name": "stderr",
     "output_type": "stream",
     "text": [
      "/var/folders/73/37k4t3k50d7gry5vs9_z5yth0000gn/T/ipykernel_64341/2112481919.py:3: FutureWarning: The default value of regex will change from True to False in a future version.\n",
      "  df_adm['ETHNICITY'] = df_adm['ETHNICITY'].str.replace(regex_black, 'BLACK')\n",
      "/var/folders/73/37k4t3k50d7gry5vs9_z5yth0000gn/T/ipykernel_64341/2112481919.py:6: FutureWarning: The default value of regex will change from True to False in a future version.\n",
      "  df_adm['ETHNICITY'] = df_adm['ETHNICITY'].str.replace(regx_white, 'WHITE')\n",
      "/var/folders/73/37k4t3k50d7gry5vs9_z5yth0000gn/T/ipykernel_64341/2112481919.py:9: FutureWarning: The default value of regex will change from True to False in a future version.\n",
      "  df_adm['ETHNICITY'] = df_adm['ETHNICITY'].str.replace(regx_asian, 'ASIAN')\n",
      "/var/folders/73/37k4t3k50d7gry5vs9_z5yth0000gn/T/ipykernel_64341/2112481919.py:12: FutureWarning: The default value of regex will change from True to False in a future version.\n",
      "  df_adm['ETHNICITY'] = df_adm['ETHNICITY'].str.replace(regx_hispanic, 'HISPANIC OR LATINO')\n"
     ]
    }
   ],
   "source": [
    "# Summarize Ethnicity\n",
    "regex_black = '(BLACK(/| )([A-Z]| )*)'\n",
    "df_adm['ETHNICITY'] = df_adm['ETHNICITY'].str.replace(regex_black, 'BLACK')\n",
    "\n",
    "regx_white = '(WHITE - [A-Z ]*)'\n",
    "df_adm['ETHNICITY'] = df_adm['ETHNICITY'].str.replace(regx_white, 'WHITE')\n",
    "\n",
    "regx_asian = '(ASIAN (- )?[A-Z ]*)'\n",
    "df_adm['ETHNICITY'] = df_adm['ETHNICITY'].str.replace(regx_asian, 'ASIAN')\n",
    "\n",
    "regx_hispanic = '(HISPANIC/LATINO - [A-Z \\(\\)]*)|(HISPANIC OR LATINO([A-Z \\(\\)]*))'\n",
    "df_adm['ETHNICITY'] = df_adm['ETHNICITY'].str.replace(regx_hispanic, 'HISPANIC OR LATINO')"
   ]
  },
  {
   "cell_type": "markdown",
   "id": "3db0e91f-99cf-4e41-9b21-2c2c1665f545",
   "metadata": {},
   "source": [
    "#### Dropping Duplicate Subject_id"
   ]
  },
  {
   "cell_type": "code",
   "execution_count": 50,
   "id": "16fc3cf4-5ef5-4b63-92b4-77c9143c20f2",
   "metadata": {},
   "outputs": [],
   "source": [
    "df_uniadm = df_adm.drop_duplicates(subset=[\"SUBJECT_ID\"], keep='last')"
   ]
  },
  {
   "cell_type": "code",
   "execution_count": 51,
   "id": "17e0d1e5-0816-4158-9249-94ca351834ee",
   "metadata": {},
   "outputs": [
    {
     "data": {
      "text/html": [
       "<div>\n",
       "<style scoped>\n",
       "    .dataframe tbody tr th:only-of-type {\n",
       "        vertical-align: middle;\n",
       "    }\n",
       "\n",
       "    .dataframe tbody tr th {\n",
       "        vertical-align: top;\n",
       "    }\n",
       "\n",
       "    .dataframe thead th {\n",
       "        text-align: right;\n",
       "    }\n",
       "</style>\n",
       "<table border=\"1\" class=\"dataframe\">\n",
       "  <thead>\n",
       "    <tr style=\"text-align: right;\">\n",
       "      <th></th>\n",
       "      <th>ROW_ID</th>\n",
       "      <th>SUBJECT_ID</th>\n",
       "      <th>HADM_ID</th>\n",
       "      <th>ADMITTIME</th>\n",
       "      <th>DISCHTIME</th>\n",
       "      <th>DEATHTIME</th>\n",
       "      <th>ADMISSION_TYPE</th>\n",
       "      <th>ADMISSION_LOCATION</th>\n",
       "      <th>DISCHARGE_LOCATION</th>\n",
       "      <th>INSURANCE</th>\n",
       "      <th>LANGUAGE</th>\n",
       "      <th>RELIGION</th>\n",
       "      <th>MARITAL_STATUS</th>\n",
       "      <th>ETHNICITY</th>\n",
       "      <th>EDREGTIME</th>\n",
       "      <th>EDOUTTIME</th>\n",
       "      <th>DIAGNOSIS</th>\n",
       "      <th>HOSPITAL_EXPIRE_FLAG</th>\n",
       "      <th>HAS_CHARTEVENTS_DATA</th>\n",
       "    </tr>\n",
       "  </thead>\n",
       "  <tbody>\n",
       "    <tr>\n",
       "      <th>211</th>\n",
       "      <td>1</td>\n",
       "      <td>2</td>\n",
       "      <td>163353</td>\n",
       "      <td>2138-07-17 19:04:00</td>\n",
       "      <td>2138-07-21 15:48:00</td>\n",
       "      <td>NaN</td>\n",
       "      <td>NEWBORN</td>\n",
       "      <td>PHYS REFERRAL/NORMAL DELI</td>\n",
       "      <td>HOME</td>\n",
       "      <td>Private</td>\n",
       "      <td>NaN</td>\n",
       "      <td>NOT SPECIFIED</td>\n",
       "      <td>NaN</td>\n",
       "      <td>ASIAN</td>\n",
       "      <td>NaN</td>\n",
       "      <td>NaN</td>\n",
       "      <td>NEWBORN</td>\n",
       "      <td>0</td>\n",
       "      <td>1</td>\n",
       "    </tr>\n",
       "    <tr>\n",
       "      <th>212</th>\n",
       "      <td>2</td>\n",
       "      <td>3</td>\n",
       "      <td>145834</td>\n",
       "      <td>2101-10-20 19:08:00</td>\n",
       "      <td>2101-10-31 13:58:00</td>\n",
       "      <td>NaN</td>\n",
       "      <td>EMERGENCY</td>\n",
       "      <td>EMERGENCY ROOM ADMIT</td>\n",
       "      <td>SNF</td>\n",
       "      <td>Medicare</td>\n",
       "      <td>NaN</td>\n",
       "      <td>CATHOLIC</td>\n",
       "      <td>MARRIED</td>\n",
       "      <td>WHITE</td>\n",
       "      <td>2101-10-20 17:09:00</td>\n",
       "      <td>2101-10-20 19:24:00</td>\n",
       "      <td>HYPOTENSION</td>\n",
       "      <td>0</td>\n",
       "      <td>1</td>\n",
       "    </tr>\n",
       "    <tr>\n",
       "      <th>213</th>\n",
       "      <td>3</td>\n",
       "      <td>4</td>\n",
       "      <td>185777</td>\n",
       "      <td>2191-03-16 00:28:00</td>\n",
       "      <td>2191-03-23 18:41:00</td>\n",
       "      <td>NaN</td>\n",
       "      <td>EMERGENCY</td>\n",
       "      <td>EMERGENCY ROOM ADMIT</td>\n",
       "      <td>HOME WITH HOME IV PROVIDR</td>\n",
       "      <td>Private</td>\n",
       "      <td>NaN</td>\n",
       "      <td>PROTESTANT QUAKER</td>\n",
       "      <td>SINGLE</td>\n",
       "      <td>WHITE</td>\n",
       "      <td>2191-03-15 13:10:00</td>\n",
       "      <td>2191-03-16 01:10:00</td>\n",
       "      <td>FEVER,DEHYDRATION,FAILURE TO THRIVE</td>\n",
       "      <td>0</td>\n",
       "      <td>1</td>\n",
       "    </tr>\n",
       "    <tr>\n",
       "      <th>214</th>\n",
       "      <td>4</td>\n",
       "      <td>5</td>\n",
       "      <td>178980</td>\n",
       "      <td>2103-02-02 04:31:00</td>\n",
       "      <td>2103-02-04 12:15:00</td>\n",
       "      <td>NaN</td>\n",
       "      <td>NEWBORN</td>\n",
       "      <td>PHYS REFERRAL/NORMAL DELI</td>\n",
       "      <td>HOME</td>\n",
       "      <td>Private</td>\n",
       "      <td>NaN</td>\n",
       "      <td>BUDDHIST</td>\n",
       "      <td>NaN</td>\n",
       "      <td>ASIAN</td>\n",
       "      <td>NaN</td>\n",
       "      <td>NaN</td>\n",
       "      <td>NEWBORN</td>\n",
       "      <td>0</td>\n",
       "      <td>1</td>\n",
       "    </tr>\n",
       "    <tr>\n",
       "      <th>215</th>\n",
       "      <td>5</td>\n",
       "      <td>6</td>\n",
       "      <td>107064</td>\n",
       "      <td>2175-05-30 07:15:00</td>\n",
       "      <td>2175-06-15 16:00:00</td>\n",
       "      <td>NaN</td>\n",
       "      <td>ELECTIVE</td>\n",
       "      <td>PHYS REFERRAL/NORMAL DELI</td>\n",
       "      <td>HOME HEALTH CARE</td>\n",
       "      <td>Medicare</td>\n",
       "      <td>ENGL</td>\n",
       "      <td>NOT SPECIFIED</td>\n",
       "      <td>MARRIED</td>\n",
       "      <td>WHITE</td>\n",
       "      <td>NaN</td>\n",
       "      <td>NaN</td>\n",
       "      <td>CHRONIC RENAL FAILURE/SDA</td>\n",
       "      <td>0</td>\n",
       "      <td>1</td>\n",
       "    </tr>\n",
       "    <tr>\n",
       "      <th>...</th>\n",
       "      <td>...</td>\n",
       "      <td>...</td>\n",
       "      <td>...</td>\n",
       "      <td>...</td>\n",
       "      <td>...</td>\n",
       "      <td>...</td>\n",
       "      <td>...</td>\n",
       "      <td>...</td>\n",
       "      <td>...</td>\n",
       "      <td>...</td>\n",
       "      <td>...</td>\n",
       "      <td>...</td>\n",
       "      <td>...</td>\n",
       "      <td>...</td>\n",
       "      <td>...</td>\n",
       "      <td>...</td>\n",
       "      <td>...</td>\n",
       "      <td>...</td>\n",
       "      <td>...</td>\n",
       "    </tr>\n",
       "    <tr>\n",
       "      <th>56435</th>\n",
       "      <td>58972</td>\n",
       "      <td>99985</td>\n",
       "      <td>176670</td>\n",
       "      <td>2181-01-27 02:47:00</td>\n",
       "      <td>2181-02-12 17:05:00</td>\n",
       "      <td>NaN</td>\n",
       "      <td>EMERGENCY</td>\n",
       "      <td>EMERGENCY ROOM ADMIT</td>\n",
       "      <td>HOME HEALTH CARE</td>\n",
       "      <td>Private</td>\n",
       "      <td>ENGL</td>\n",
       "      <td>JEWISH</td>\n",
       "      <td>MARRIED</td>\n",
       "      <td>WHITE</td>\n",
       "      <td>2181-01-26 23:35:00</td>\n",
       "      <td>2181-01-27 04:18:00</td>\n",
       "      <td>FEVER</td>\n",
       "      <td>0</td>\n",
       "      <td>1</td>\n",
       "    </tr>\n",
       "    <tr>\n",
       "      <th>56436</th>\n",
       "      <td>58973</td>\n",
       "      <td>99991</td>\n",
       "      <td>151118</td>\n",
       "      <td>2184-12-24 08:30:00</td>\n",
       "      <td>2185-01-05 12:15:00</td>\n",
       "      <td>NaN</td>\n",
       "      <td>ELECTIVE</td>\n",
       "      <td>PHYS REFERRAL/NORMAL DELI</td>\n",
       "      <td>HOME</td>\n",
       "      <td>Private</td>\n",
       "      <td>ENGL</td>\n",
       "      <td>NOT SPECIFIED</td>\n",
       "      <td>MARRIED</td>\n",
       "      <td>WHITE</td>\n",
       "      <td>NaN</td>\n",
       "      <td>NaN</td>\n",
       "      <td>DIVERTICULITIS/SDA</td>\n",
       "      <td>0</td>\n",
       "      <td>1</td>\n",
       "    </tr>\n",
       "    <tr>\n",
       "      <th>56437</th>\n",
       "      <td>58974</td>\n",
       "      <td>99992</td>\n",
       "      <td>197084</td>\n",
       "      <td>2144-07-25 18:03:00</td>\n",
       "      <td>2144-07-28 17:56:00</td>\n",
       "      <td>NaN</td>\n",
       "      <td>EMERGENCY</td>\n",
       "      <td>CLINIC REFERRAL/PREMATURE</td>\n",
       "      <td>SNF</td>\n",
       "      <td>Medicare</td>\n",
       "      <td>ENGL</td>\n",
       "      <td>CATHOLIC</td>\n",
       "      <td>WIDOWED</td>\n",
       "      <td>WHITE</td>\n",
       "      <td>2144-07-25 13:40:00</td>\n",
       "      <td>2144-07-25 18:50:00</td>\n",
       "      <td>RETROPERITONEAL HEMORRHAGE</td>\n",
       "      <td>0</td>\n",
       "      <td>1</td>\n",
       "    </tr>\n",
       "    <tr>\n",
       "      <th>56565</th>\n",
       "      <td>58975</td>\n",
       "      <td>99995</td>\n",
       "      <td>137810</td>\n",
       "      <td>2147-02-08 08:00:00</td>\n",
       "      <td>2147-02-11 13:15:00</td>\n",
       "      <td>NaN</td>\n",
       "      <td>ELECTIVE</td>\n",
       "      <td>PHYS REFERRAL/NORMAL DELI</td>\n",
       "      <td>HOME</td>\n",
       "      <td>Medicare</td>\n",
       "      <td>ENGL</td>\n",
       "      <td>NOT SPECIFIED</td>\n",
       "      <td>MARRIED</td>\n",
       "      <td>WHITE</td>\n",
       "      <td>NaN</td>\n",
       "      <td>NaN</td>\n",
       "      <td>ABDOMINAL AORTIC ANEURYSM/SDA</td>\n",
       "      <td>0</td>\n",
       "      <td>1</td>\n",
       "    </tr>\n",
       "    <tr>\n",
       "      <th>56566</th>\n",
       "      <td>58976</td>\n",
       "      <td>99999</td>\n",
       "      <td>113369</td>\n",
       "      <td>2117-12-30 07:15:00</td>\n",
       "      <td>2118-01-04 16:30:00</td>\n",
       "      <td>NaN</td>\n",
       "      <td>ELECTIVE</td>\n",
       "      <td>PHYS REFERRAL/NORMAL DELI</td>\n",
       "      <td>SNF</td>\n",
       "      <td>Medicare</td>\n",
       "      <td>SPAN</td>\n",
       "      <td>JEHOVAH'S WITNESS</td>\n",
       "      <td>SEPARATED</td>\n",
       "      <td>HISPANIC OR LATINO</td>\n",
       "      <td>NaN</td>\n",
       "      <td>NaN</td>\n",
       "      <td>SPONDYLOLISTHESIS/SDA</td>\n",
       "      <td>0</td>\n",
       "      <td>1</td>\n",
       "    </tr>\n",
       "  </tbody>\n",
       "</table>\n",
       "<p>46520 rows × 19 columns</p>\n",
       "</div>"
      ],
      "text/plain": [
       "       ROW_ID  SUBJECT_ID  HADM_ID            ADMITTIME            DISCHTIME  \\\n",
       "211         1           2   163353  2138-07-17 19:04:00  2138-07-21 15:48:00   \n",
       "212         2           3   145834  2101-10-20 19:08:00  2101-10-31 13:58:00   \n",
       "213         3           4   185777  2191-03-16 00:28:00  2191-03-23 18:41:00   \n",
       "214         4           5   178980  2103-02-02 04:31:00  2103-02-04 12:15:00   \n",
       "215         5           6   107064  2175-05-30 07:15:00  2175-06-15 16:00:00   \n",
       "...       ...         ...      ...                  ...                  ...   \n",
       "56435   58972       99985   176670  2181-01-27 02:47:00  2181-02-12 17:05:00   \n",
       "56436   58973       99991   151118  2184-12-24 08:30:00  2185-01-05 12:15:00   \n",
       "56437   58974       99992   197084  2144-07-25 18:03:00  2144-07-28 17:56:00   \n",
       "56565   58975       99995   137810  2147-02-08 08:00:00  2147-02-11 13:15:00   \n",
       "56566   58976       99999   113369  2117-12-30 07:15:00  2118-01-04 16:30:00   \n",
       "\n",
       "      DEATHTIME ADMISSION_TYPE         ADMISSION_LOCATION  \\\n",
       "211         NaN        NEWBORN  PHYS REFERRAL/NORMAL DELI   \n",
       "212         NaN      EMERGENCY       EMERGENCY ROOM ADMIT   \n",
       "213         NaN      EMERGENCY       EMERGENCY ROOM ADMIT   \n",
       "214         NaN        NEWBORN  PHYS REFERRAL/NORMAL DELI   \n",
       "215         NaN       ELECTIVE  PHYS REFERRAL/NORMAL DELI   \n",
       "...         ...            ...                        ...   \n",
       "56435       NaN      EMERGENCY       EMERGENCY ROOM ADMIT   \n",
       "56436       NaN       ELECTIVE  PHYS REFERRAL/NORMAL DELI   \n",
       "56437       NaN      EMERGENCY  CLINIC REFERRAL/PREMATURE   \n",
       "56565       NaN       ELECTIVE  PHYS REFERRAL/NORMAL DELI   \n",
       "56566       NaN       ELECTIVE  PHYS REFERRAL/NORMAL DELI   \n",
       "\n",
       "              DISCHARGE_LOCATION INSURANCE LANGUAGE           RELIGION  \\\n",
       "211                         HOME   Private      NaN      NOT SPECIFIED   \n",
       "212                          SNF  Medicare      NaN           CATHOLIC   \n",
       "213    HOME WITH HOME IV PROVIDR   Private      NaN  PROTESTANT QUAKER   \n",
       "214                         HOME   Private      NaN           BUDDHIST   \n",
       "215             HOME HEALTH CARE  Medicare     ENGL      NOT SPECIFIED   \n",
       "...                          ...       ...      ...                ...   \n",
       "56435           HOME HEALTH CARE   Private     ENGL             JEWISH   \n",
       "56436                       HOME   Private     ENGL      NOT SPECIFIED   \n",
       "56437                        SNF  Medicare     ENGL           CATHOLIC   \n",
       "56565                       HOME  Medicare     ENGL      NOT SPECIFIED   \n",
       "56566                        SNF  Medicare     SPAN  JEHOVAH'S WITNESS   \n",
       "\n",
       "      MARITAL_STATUS           ETHNICITY            EDREGTIME  \\\n",
       "211              NaN               ASIAN                  NaN   \n",
       "212          MARRIED               WHITE  2101-10-20 17:09:00   \n",
       "213           SINGLE               WHITE  2191-03-15 13:10:00   \n",
       "214              NaN               ASIAN                  NaN   \n",
       "215          MARRIED               WHITE                  NaN   \n",
       "...              ...                 ...                  ...   \n",
       "56435        MARRIED               WHITE  2181-01-26 23:35:00   \n",
       "56436        MARRIED               WHITE                  NaN   \n",
       "56437        WIDOWED               WHITE  2144-07-25 13:40:00   \n",
       "56565        MARRIED               WHITE                  NaN   \n",
       "56566      SEPARATED  HISPANIC OR LATINO                  NaN   \n",
       "\n",
       "                 EDOUTTIME                            DIAGNOSIS  \\\n",
       "211                    NaN                              NEWBORN   \n",
       "212    2101-10-20 19:24:00                          HYPOTENSION   \n",
       "213    2191-03-16 01:10:00  FEVER,DEHYDRATION,FAILURE TO THRIVE   \n",
       "214                    NaN                              NEWBORN   \n",
       "215                    NaN            CHRONIC RENAL FAILURE/SDA   \n",
       "...                    ...                                  ...   \n",
       "56435  2181-01-27 04:18:00                                FEVER   \n",
       "56436                  NaN                   DIVERTICULITIS/SDA   \n",
       "56437  2144-07-25 18:50:00           RETROPERITONEAL HEMORRHAGE   \n",
       "56565                  NaN        ABDOMINAL AORTIC ANEURYSM/SDA   \n",
       "56566                  NaN                SPONDYLOLISTHESIS/SDA   \n",
       "\n",
       "       HOSPITAL_EXPIRE_FLAG  HAS_CHARTEVENTS_DATA  \n",
       "211                       0                     1  \n",
       "212                       0                     1  \n",
       "213                       0                     1  \n",
       "214                       0                     1  \n",
       "215                       0                     1  \n",
       "...                     ...                   ...  \n",
       "56435                     0                     1  \n",
       "56436                     0                     1  \n",
       "56437                     0                     1  \n",
       "56565                     0                     1  \n",
       "56566                     0                     1  \n",
       "\n",
       "[46520 rows x 19 columns]"
      ]
     },
     "execution_count": 51,
     "metadata": {},
     "output_type": "execute_result"
    }
   ],
   "source": [
    "df_uniadm.sort_values(by=['SUBJECT_ID'])"
   ]
  },
  {
   "cell_type": "markdown",
   "id": "6a6239e8-04c6-4215-a952-113aa10611d1",
   "metadata": {},
   "source": [
    "#### Combine patient and admission df"
   ]
  },
  {
   "cell_type": "code",
   "execution_count": 52,
   "id": "4e093a67-74a0-4da5-9b72-3a32447a28a0",
   "metadata": {},
   "outputs": [],
   "source": [
    "df_merge=pd.merge(df_pat, df_uniadm, how='outer', on='SUBJECT_ID')"
   ]
  },
  {
   "cell_type": "code",
   "execution_count": 53,
   "id": "16536122-0930-4a6f-842d-fdcb19c79bd4",
   "metadata": {},
   "outputs": [
    {
     "data": {
      "text/html": [
       "<div>\n",
       "<style scoped>\n",
       "    .dataframe tbody tr th:only-of-type {\n",
       "        vertical-align: middle;\n",
       "    }\n",
       "\n",
       "    .dataframe tbody tr th {\n",
       "        vertical-align: top;\n",
       "    }\n",
       "\n",
       "    .dataframe thead th {\n",
       "        text-align: right;\n",
       "    }\n",
       "</style>\n",
       "<table border=\"1\" class=\"dataframe\">\n",
       "  <thead>\n",
       "    <tr style=\"text-align: right;\">\n",
       "      <th></th>\n",
       "      <th>ROW_ID_x</th>\n",
       "      <th>SUBJECT_ID</th>\n",
       "      <th>GENDER</th>\n",
       "      <th>DOB</th>\n",
       "      <th>DOD</th>\n",
       "      <th>DOD_HOSP</th>\n",
       "      <th>DOD_SSN</th>\n",
       "      <th>EXPIRE_FLAG</th>\n",
       "      <th>ROW_ID_y</th>\n",
       "      <th>HADM_ID</th>\n",
       "      <th>...</th>\n",
       "      <th>INSURANCE</th>\n",
       "      <th>LANGUAGE</th>\n",
       "      <th>RELIGION</th>\n",
       "      <th>MARITAL_STATUS</th>\n",
       "      <th>ETHNICITY</th>\n",
       "      <th>EDREGTIME</th>\n",
       "      <th>EDOUTTIME</th>\n",
       "      <th>DIAGNOSIS</th>\n",
       "      <th>HOSPITAL_EXPIRE_FLAG</th>\n",
       "      <th>HAS_CHARTEVENTS_DATA</th>\n",
       "    </tr>\n",
       "  </thead>\n",
       "  <tbody>\n",
       "    <tr>\n",
       "      <th>0</th>\n",
       "      <td>234</td>\n",
       "      <td>249</td>\n",
       "      <td>F</td>\n",
       "      <td>2075-03-13 00:00:00</td>\n",
       "      <td>NaN</td>\n",
       "      <td>NaN</td>\n",
       "      <td>NaN</td>\n",
       "      <td>0</td>\n",
       "      <td>323</td>\n",
       "      <td>158975</td>\n",
       "      <td>...</td>\n",
       "      <td>Medicare</td>\n",
       "      <td>ENGL</td>\n",
       "      <td>CATHOLIC</td>\n",
       "      <td>DIVORCED</td>\n",
       "      <td>WHITE</td>\n",
       "      <td>NaN</td>\n",
       "      <td>NaN</td>\n",
       "      <td>GI BLEEDING\\COLONOSCOPY</td>\n",
       "      <td>0</td>\n",
       "      <td>1</td>\n",
       "    </tr>\n",
       "    <tr>\n",
       "      <th>1</th>\n",
       "      <td>235</td>\n",
       "      <td>250</td>\n",
       "      <td>F</td>\n",
       "      <td>2164-12-27 00:00:00</td>\n",
       "      <td>2188-11-22 00:00:00</td>\n",
       "      <td>2188-11-22 00:00:00</td>\n",
       "      <td>NaN</td>\n",
       "      <td>1</td>\n",
       "      <td>324</td>\n",
       "      <td>124271</td>\n",
       "      <td>...</td>\n",
       "      <td>Self Pay</td>\n",
       "      <td>HAIT</td>\n",
       "      <td>NOT SPECIFIED</td>\n",
       "      <td>SINGLE</td>\n",
       "      <td>BLACK</td>\n",
       "      <td>2188-11-12 06:56:00</td>\n",
       "      <td>2188-11-12 10:10:00</td>\n",
       "      <td>PNEUMONIA;R/O TB</td>\n",
       "      <td>1</td>\n",
       "      <td>1</td>\n",
       "    </tr>\n",
       "    <tr>\n",
       "      <th>2</th>\n",
       "      <td>236</td>\n",
       "      <td>251</td>\n",
       "      <td>M</td>\n",
       "      <td>2090-03-15 00:00:00</td>\n",
       "      <td>NaN</td>\n",
       "      <td>NaN</td>\n",
       "      <td>NaN</td>\n",
       "      <td>0</td>\n",
       "      <td>325</td>\n",
       "      <td>117937</td>\n",
       "      <td>...</td>\n",
       "      <td>Private</td>\n",
       "      <td>NaN</td>\n",
       "      <td>OTHER</td>\n",
       "      <td>NaN</td>\n",
       "      <td>UNKNOWN/NOT SPECIFIED</td>\n",
       "      <td>2110-07-27 05:00:00</td>\n",
       "      <td>2110-07-27 07:15:00</td>\n",
       "      <td>INTRACRANIAL HEAD BLEED</td>\n",
       "      <td>0</td>\n",
       "      <td>1</td>\n",
       "    </tr>\n",
       "    <tr>\n",
       "      <th>3</th>\n",
       "      <td>237</td>\n",
       "      <td>252</td>\n",
       "      <td>M</td>\n",
       "      <td>2078-03-06 00:00:00</td>\n",
       "      <td>NaN</td>\n",
       "      <td>NaN</td>\n",
       "      <td>NaN</td>\n",
       "      <td>0</td>\n",
       "      <td>327</td>\n",
       "      <td>193470</td>\n",
       "      <td>...</td>\n",
       "      <td>Private</td>\n",
       "      <td>NaN</td>\n",
       "      <td>UNOBTAINABLE</td>\n",
       "      <td>SINGLE</td>\n",
       "      <td>WHITE</td>\n",
       "      <td>2133-08-15 01:42:00</td>\n",
       "      <td>2133-08-15 04:45:00</td>\n",
       "      <td>GASTROINTESINAL BLEED</td>\n",
       "      <td>0</td>\n",
       "      <td>1</td>\n",
       "    </tr>\n",
       "    <tr>\n",
       "      <th>4</th>\n",
       "      <td>238</td>\n",
       "      <td>253</td>\n",
       "      <td>F</td>\n",
       "      <td>2089-11-26 00:00:00</td>\n",
       "      <td>NaN</td>\n",
       "      <td>NaN</td>\n",
       "      <td>NaN</td>\n",
       "      <td>0</td>\n",
       "      <td>328</td>\n",
       "      <td>176189</td>\n",
       "      <td>...</td>\n",
       "      <td>Medicare</td>\n",
       "      <td>NaN</td>\n",
       "      <td>CATHOLIC</td>\n",
       "      <td>WIDOWED</td>\n",
       "      <td>WHITE</td>\n",
       "      <td>NaN</td>\n",
       "      <td>NaN</td>\n",
       "      <td>COMPLETE HEART BLOCK\\PACEMAKER IMPLANT</td>\n",
       "      <td>0</td>\n",
       "      <td>1</td>\n",
       "    </tr>\n",
       "  </tbody>\n",
       "</table>\n",
       "<p>5 rows × 26 columns</p>\n",
       "</div>"
      ],
      "text/plain": [
       "   ROW_ID_x  SUBJECT_ID GENDER                  DOB                  DOD  \\\n",
       "0       234         249      F  2075-03-13 00:00:00                  NaN   \n",
       "1       235         250      F  2164-12-27 00:00:00  2188-11-22 00:00:00   \n",
       "2       236         251      M  2090-03-15 00:00:00                  NaN   \n",
       "3       237         252      M  2078-03-06 00:00:00                  NaN   \n",
       "4       238         253      F  2089-11-26 00:00:00                  NaN   \n",
       "\n",
       "              DOD_HOSP DOD_SSN  EXPIRE_FLAG  ROW_ID_y  HADM_ID  ... INSURANCE  \\\n",
       "0                  NaN     NaN            0       323   158975  ...  Medicare   \n",
       "1  2188-11-22 00:00:00     NaN            1       324   124271  ...  Self Pay   \n",
       "2                  NaN     NaN            0       325   117937  ...   Private   \n",
       "3                  NaN     NaN            0       327   193470  ...   Private   \n",
       "4                  NaN     NaN            0       328   176189  ...  Medicare   \n",
       "\n",
       "  LANGUAGE       RELIGION MARITAL_STATUS              ETHNICITY  \\\n",
       "0     ENGL       CATHOLIC       DIVORCED                  WHITE   \n",
       "1     HAIT  NOT SPECIFIED         SINGLE                  BLACK   \n",
       "2      NaN          OTHER            NaN  UNKNOWN/NOT SPECIFIED   \n",
       "3      NaN   UNOBTAINABLE         SINGLE                  WHITE   \n",
       "4      NaN       CATHOLIC        WIDOWED                  WHITE   \n",
       "\n",
       "             EDREGTIME            EDOUTTIME  \\\n",
       "0                  NaN                  NaN   \n",
       "1  2188-11-12 06:56:00  2188-11-12 10:10:00   \n",
       "2  2110-07-27 05:00:00  2110-07-27 07:15:00   \n",
       "3  2133-08-15 01:42:00  2133-08-15 04:45:00   \n",
       "4                  NaN                  NaN   \n",
       "\n",
       "                                DIAGNOSIS HOSPITAL_EXPIRE_FLAG  \\\n",
       "0                 GI BLEEDING\\COLONOSCOPY                    0   \n",
       "1                        PNEUMONIA;R/O TB                    1   \n",
       "2                 INTRACRANIAL HEAD BLEED                    0   \n",
       "3                   GASTROINTESINAL BLEED                    0   \n",
       "4  COMPLETE HEART BLOCK\\PACEMAKER IMPLANT                    0   \n",
       "\n",
       "  HAS_CHARTEVENTS_DATA  \n",
       "0                    1  \n",
       "1                    1  \n",
       "2                    1  \n",
       "3                    1  \n",
       "4                    1  \n",
       "\n",
       "[5 rows x 26 columns]"
      ]
     },
     "execution_count": 53,
     "metadata": {},
     "output_type": "execute_result"
    }
   ],
   "source": [
    "df_merge.head()"
   ]
  },
  {
   "cell_type": "code",
   "execution_count": 54,
   "id": "dbfde729-4bad-4bd7-9320-a035cc627253",
   "metadata": {},
   "outputs": [],
   "source": [
    "df_merge_female = df_merge[df_merge.GENDER == 'F']\n",
    "df_merge_male = df_merge[df_merge.GENDER == 'M']"
   ]
  },
  {
   "cell_type": "markdown",
   "id": "80cd351f-068b-4841-969b-563ea94dd7f1",
   "metadata": {},
   "source": [
    "## Count Ethnicity"
   ]
  },
  {
   "cell_type": "code",
   "execution_count": 55,
   "id": "e13df3c9-0d91-42c1-b474-cf4520a10ef7",
   "metadata": {},
   "outputs": [],
   "source": [
    "# total count & prob for each ethnicity\n",
    "num_rac = df_uniadm.ETHNICITY.value_counts()\n",
    "rac_prob = df_merge.groupby('ETHNICITY').size().div(len(df_merge))*100"
   ]
  },
  {
   "cell_type": "code",
   "execution_count": 57,
   "id": "52fe2267-435b-4d74-bc56-92d94825b19a",
   "metadata": {},
   "outputs": [
    {
     "data": {
      "text/plain": [
       "ETHNICITY\n",
       "WHITE                                                       69.587274\n",
       "UNKNOWN/NOT SPECIFIED                                        8.886500\n",
       "BLACK                                                        8.303955\n",
       "ASIAN                                                        3.632846\n",
       "HISPANIC OR LATINO                                           3.529665\n",
       "OTHER                                                        2.770851\n",
       "UNABLE TO OBTAIN                                             1.691745\n",
       "PATIENT DECLINED TO ANSWER                                   1.051161\n",
       "MULTI RACE ETHNICITY                                         0.234308\n",
       "AMERICAN INDIAN/ALASKA NATIVE                                0.094583\n",
       "PORTUGUESE                                                   0.085985\n",
       "MIDDLE EASTERN                                               0.060189\n",
       "NATIVE HAWAIIAN OR OTHER PACIFIC ISLANDER                    0.032244\n",
       "CARIBBEAN ISLAND                                             0.017197\n",
       "SOUTH AMERICAN                                               0.017197\n",
       "AMERICAN INDIAN/ALASKA NATIVE FEDERALLY RECOGNIZED TRIBE     0.004299\n",
       "dtype: float64"
      ]
     },
     "execution_count": 57,
     "metadata": {},
     "output_type": "execute_result"
    }
   ],
   "source": [
    "rac_prob.sort_values(ascending=False)"
   ]
  },
  {
   "cell_type": "code",
   "execution_count": 116,
   "id": "7a2cba5e-c5ab-44e3-b206-f20e6136814d",
   "metadata": {},
   "outputs": [
    {
     "data": {
      "text/plain": [
       "WHITE                                                       32372\n",
       "UNKNOWN/NOT SPECIFIED                                        4134\n",
       "BLACK                                                        3863\n",
       "ASIAN                                                        1690\n",
       "HISPANIC OR LATINO                                           1642\n",
       "OTHER                                                        1289\n",
       "UNABLE TO OBTAIN                                              787\n",
       "PATIENT DECLINED TO ANSWER                                    489\n",
       "MULTI RACE ETHNICITY                                          109\n",
       "AMERICAN INDIAN/ALASKA NATIVE                                  44\n",
       "PORTUGUESE                                                     40\n",
       "MIDDLE EASTERN                                                 28\n",
       "NATIVE HAWAIIAN OR OTHER PACIFIC ISLANDER                      15\n",
       "SOUTH AMERICAN                                                  8\n",
       "CARIBBEAN ISLAND                                                8\n",
       "AMERICAN INDIAN/ALASKA NATIVE FEDERALLY RECOGNIZED TRIBE        2\n",
       "Name: ETHNICITY, dtype: int64"
      ]
     },
     "execution_count": 116,
     "metadata": {},
     "output_type": "execute_result"
    }
   ],
   "source": [
    "num_rac"
   ]
  },
  {
   "cell_type": "code",
   "execution_count": 58,
   "id": "adb86b5d-7d2c-4866-b86e-a23d0f5fdb71",
   "metadata": {},
   "outputs": [],
   "source": [
    "# total count for ethnicity in female\n",
    "num_rac_F = df_merge_female.ETHNICITY.value_counts()\n",
    "rac_female_prob = df_merge_female.groupby('ETHNICITY').size().div(len(df_merge_female))*100"
   ]
  },
  {
   "cell_type": "code",
   "execution_count": 60,
   "id": "52e1716a-a6a4-4897-b9dd-517cdc73d892",
   "metadata": {},
   "outputs": [
    {
     "data": {
      "text/plain": [
       "ETHNICITY\n",
       "WHITE                                                       69.106329\n",
       "BLACK                                                       10.054414\n",
       "UNKNOWN/NOT SPECIFIED                                        8.343546\n",
       "ASIAN                                                        3.647238\n",
       "HISPANIC OR LATINO                                           3.235453\n",
       "OTHER                                                        2.480514\n",
       "UNABLE TO OBTAIN                                             1.583411\n",
       "PATIENT DECLINED TO ANSWER                                   1.004951\n",
       "MULTI RACE ETHNICITY                                         0.245110\n",
       "AMERICAN INDIAN/ALASKA NATIVE                                0.093142\n",
       "PORTUGUESE                                                   0.093142\n",
       "MIDDLE EASTERN                                               0.044120\n",
       "NATIVE HAWAIIAN OR OTHER PACIFIC ISLANDER                    0.034315\n",
       "SOUTH AMERICAN                                               0.019609\n",
       "CARIBBEAN ISLAND                                             0.009804\n",
       "AMERICAN INDIAN/ALASKA NATIVE FEDERALLY RECOGNIZED TRIBE     0.004902\n",
       "dtype: float64"
      ]
     },
     "execution_count": 60,
     "metadata": {},
     "output_type": "execute_result"
    }
   ],
   "source": [
    "rac_female_prob.sort_values(ascending=False)"
   ]
  },
  {
   "cell_type": "code",
   "execution_count": 117,
   "id": "0de8f39a-d5c3-4197-a863-e50160d4b2ef",
   "metadata": {},
   "outputs": [
    {
     "data": {
      "text/plain": [
       "WHITE                                                       14097\n",
       "BLACK                                                        2051\n",
       "UNKNOWN/NOT SPECIFIED                                        1702\n",
       "ASIAN                                                         744\n",
       "HISPANIC OR LATINO                                            660\n",
       "OTHER                                                         506\n",
       "UNABLE TO OBTAIN                                              323\n",
       "PATIENT DECLINED TO ANSWER                                    205\n",
       "MULTI RACE ETHNICITY                                           50\n",
       "AMERICAN INDIAN/ALASKA NATIVE                                  19\n",
       "PORTUGUESE                                                     19\n",
       "MIDDLE EASTERN                                                  9\n",
       "NATIVE HAWAIIAN OR OTHER PACIFIC ISLANDER                       7\n",
       "SOUTH AMERICAN                                                  4\n",
       "CARIBBEAN ISLAND                                                2\n",
       "AMERICAN INDIAN/ALASKA NATIVE FEDERALLY RECOGNIZED TRIBE        1\n",
       "Name: ETHNICITY, dtype: int64"
      ]
     },
     "execution_count": 117,
     "metadata": {},
     "output_type": "execute_result"
    }
   ],
   "source": [
    "num_rac_F"
   ]
  },
  {
   "cell_type": "code",
   "execution_count": 61,
   "id": "02e83dd8-7490-4c10-898e-32dbac226a4c",
   "metadata": {},
   "outputs": [],
   "source": [
    "# total count for ethnicity in male\n",
    "num_rac_M = df_merge_male.ETHNICITY.value_counts()\n",
    "rac_male_prob = df_merge_male.groupby('ETHNICITY').size().div(len(df_merge_male))*100"
   ]
  },
  {
   "cell_type": "code",
   "execution_count": 63,
   "id": "5f236614-d857-43e6-bd15-562c233b5722",
   "metadata": {},
   "outputs": [
    {
     "data": {
      "text/plain": [
       "ETHNICITY\n",
       "WHITE                                                       69.962865\n",
       "UNKNOWN/NOT SPECIFIED                                        9.310516\n",
       "BLACK                                                        6.936947\n",
       "HISPANIC OR LATINO                                           3.759427\n",
       "ASIAN                                                        3.621607\n",
       "OTHER                                                        2.997588\n",
       "UNABLE TO OBTAIN                                             1.776349\n",
       "PATIENT DECLINED TO ANSWER                                   1.087248\n",
       "MULTI RACE ETHNICITY                                         0.225872\n",
       "AMERICAN INDIAN/ALASKA NATIVE                                0.095708\n",
       "PORTUGUESE                                                   0.080395\n",
       "MIDDLE EASTERN                                               0.072738\n",
       "NATIVE HAWAIIAN OR OTHER PACIFIC ISLANDER                    0.030627\n",
       "CARIBBEAN ISLAND                                             0.022970\n",
       "SOUTH AMERICAN                                               0.015313\n",
       "AMERICAN INDIAN/ALASKA NATIVE FEDERALLY RECOGNIZED TRIBE     0.003828\n",
       "dtype: float64"
      ]
     },
     "execution_count": 63,
     "metadata": {},
     "output_type": "execute_result"
    }
   ],
   "source": [
    "rac_male_prob.sort_values(ascending=False)"
   ]
  },
  {
   "cell_type": "code",
   "execution_count": 118,
   "id": "29f25f58-19bb-4288-80ff-77a4f3787a14",
   "metadata": {},
   "outputs": [
    {
     "data": {
      "text/plain": [
       "WHITE                                                       18275\n",
       "UNKNOWN/NOT SPECIFIED                                        2432\n",
       "BLACK                                                        1812\n",
       "HISPANIC OR LATINO                                            982\n",
       "ASIAN                                                         946\n",
       "OTHER                                                         783\n",
       "UNABLE TO OBTAIN                                              464\n",
       "PATIENT DECLINED TO ANSWER                                    284\n",
       "MULTI RACE ETHNICITY                                           59\n",
       "AMERICAN INDIAN/ALASKA NATIVE                                  25\n",
       "PORTUGUESE                                                     21\n",
       "MIDDLE EASTERN                                                 19\n",
       "NATIVE HAWAIIAN OR OTHER PACIFIC ISLANDER                       8\n",
       "CARIBBEAN ISLAND                                                6\n",
       "SOUTH AMERICAN                                                  4\n",
       "AMERICAN INDIAN/ALASKA NATIVE FEDERALLY RECOGNIZED TRIBE        1\n",
       "Name: ETHNICITY, dtype: int64"
      ]
     },
     "execution_count": 118,
     "metadata": {},
     "output_type": "execute_result"
    }
   ],
   "source": [
    "num_rac_M"
   ]
  },
  {
   "cell_type": "markdown",
   "id": "0ce3bad4-fc4f-4285-acca-0e7035baafd2",
   "metadata": {},
   "source": [
    "## Count Admission Type"
   ]
  },
  {
   "cell_type": "code",
   "execution_count": 64,
   "id": "b1b41d1f-11b8-4a94-862e-e84119daac78",
   "metadata": {},
   "outputs": [],
   "source": [
    "# total number of admission\n",
    "num_adm = df_uniadm.ADMISSION_TYPE.value_counts()\n",
    "adm_prob = df_merge.groupby('ADMISSION_TYPE').size().div(len(df_merge))*100"
   ]
  },
  {
   "cell_type": "code",
   "execution_count": 123,
   "id": "7a633e86-4a64-4a8b-8962-2258c339befc",
   "metadata": {},
   "outputs": [
    {
     "data": {
      "text/plain": [
       "ADMISSION_TYPE\n",
       "ELECTIVE     12.996561\n",
       "EMERGENCY    68.372743\n",
       "NEWBORN      16.407997\n",
       "URGENT        2.222700\n",
       "dtype: float64"
      ]
     },
     "execution_count": 123,
     "metadata": {},
     "output_type": "execute_result"
    }
   ],
   "source": [
    "adm_prob"
   ]
  },
  {
   "cell_type": "code",
   "execution_count": 125,
   "id": "1829b3ba-0ecd-473b-a387-85b946152ef8",
   "metadata": {},
   "outputs": [
    {
     "data": {
      "text/plain": [
       "EMERGENCY    13983\n",
       "NEWBORN       3510\n",
       "ELECTIVE      2436\n",
       "URGENT         470\n",
       "Name: ADMISSION_TYPE, dtype: int64"
      ]
     },
     "execution_count": 125,
     "metadata": {},
     "output_type": "execute_result"
    }
   ],
   "source": [
    "# total number of admission in female\n",
    "num_adm_F = df_merge_female.ADMISSION_TYPE.value_counts()\n",
    "adm_female_prob = df_merge_female.groupby('ADMISSION_TYPE').size().div(len(df_merge_female))*100\n",
    "num_adm_F"
   ]
  },
  {
   "cell_type": "code",
   "execution_count": 67,
   "id": "f994b58e-542e-4c2a-86d0-1ba4e7b316f4",
   "metadata": {},
   "outputs": [
    {
     "data": {
      "text/plain": [
       "ADMISSION_TYPE\n",
       "ELECTIVE     11.941762\n",
       "EMERGENCY    68.547478\n",
       "NEWBORN      17.206726\n",
       "URGENT        2.304035\n",
       "dtype: float64"
      ]
     },
     "execution_count": 67,
     "metadata": {},
     "output_type": "execute_result"
    }
   ],
   "source": [
    "adm_female_prob"
   ]
  },
  {
   "cell_type": "code",
   "execution_count": 126,
   "id": "ecd44681-3f4f-40e2-8839-862248de1bde",
   "metadata": {},
   "outputs": [
    {
     "data": {
      "text/plain": [
       "EMERGENCY    17824\n",
       "NEWBORN       4123\n",
       "ELECTIVE      3610\n",
       "URGENT         564\n",
       "Name: ADMISSION_TYPE, dtype: int64"
      ]
     },
     "execution_count": 126,
     "metadata": {},
     "output_type": "execute_result"
    }
   ],
   "source": [
    "# total number of admission in male\n",
    "num_adm_M = df_merge_male.ADMISSION_TYPE.value_counts()\n",
    "adm_male_prob = df_merge_male.groupby('ADMISSION_TYPE').size().div(len(df_merge_male))*100\n",
    "num_adm_M"
   ]
  },
  {
   "cell_type": "code",
   "execution_count": 69,
   "id": "ee562110-d0fa-4cec-9a42-cc50d88a1664",
   "metadata": {},
   "outputs": [
    {
     "data": {
      "text/plain": [
       "ADMISSION_TYPE\n",
       "ELECTIVE     13.820298\n",
       "EMERGENCY    68.236285\n",
       "NEWBORN      15.784235\n",
       "URGENT        2.159182\n",
       "dtype: float64"
      ]
     },
     "execution_count": 69,
     "metadata": {},
     "output_type": "execute_result"
    }
   ],
   "source": [
    "adm_male_prob"
   ]
  },
  {
   "cell_type": "markdown",
   "id": "220b31cf-0018-4ca1-9090-f45d3bf8e128",
   "metadata": {},
   "source": [
    "## Count Marital status"
   ]
  },
  {
   "cell_type": "code",
   "execution_count": 127,
   "id": "c01517e3-0ac0-451d-852e-65d2a761dee0",
   "metadata": {},
   "outputs": [
    {
     "data": {
      "text/plain": [
       "MARRIED              18492\n",
       "SINGLE                9767\n",
       "WIDOWED               5462\n",
       "DIVORCED              2331\n",
       "SEPARATED              384\n",
       "UNKNOWN (DEFAULT)      307\n",
       "LIFE PARTNER            13\n",
       "Name: MARITAL_STATUS, dtype: int64"
      ]
     },
     "execution_count": 127,
     "metadata": {},
     "output_type": "execute_result"
    }
   ],
   "source": [
    "# total number of marital status\n",
    "num_mar = df_uniadm.MARITAL_STATUS.value_counts()\n",
    "mar_prob = df_uniadm.groupby('MARITAL_STATUS').size().div(len(df_uniadm))*100\n",
    "num_mar"
   ]
  },
  {
   "cell_type": "code",
   "execution_count": 71,
   "id": "f902e3da-89e9-467a-aab0-085d452e37ce",
   "metadata": {},
   "outputs": [
    {
     "data": {
      "text/plain": [
       "MARITAL_STATUS\n",
       "MARRIED              39.750645\n",
       "SINGLE               20.995271\n",
       "WIDOWED              11.741187\n",
       "DIVORCED              5.010748\n",
       "SEPARATED             0.825451\n",
       "UNKNOWN (DEFAULT)     0.659931\n",
       "LIFE PARTNER          0.027945\n",
       "dtype: float64"
      ]
     },
     "execution_count": 71,
     "metadata": {},
     "output_type": "execute_result"
    }
   ],
   "source": [
    "mar_prob.sort_values(ascending=False)"
   ]
  },
  {
   "cell_type": "code",
   "execution_count": 72,
   "id": "789aa02e-d0d5-46c7-8842-2a45cd7fd721",
   "metadata": {},
   "outputs": [],
   "source": [
    "# total number of marital status in female"
   ]
  },
  {
   "cell_type": "code",
   "execution_count": 128,
   "id": "995435bb-7611-4478-a1e7-4c06197b353f",
   "metadata": {},
   "outputs": [
    {
     "data": {
      "text/plain": [
       "MARRIED              6192\n",
       "SINGLE               4154\n",
       "WIDOWED              4065\n",
       "DIVORCED             1219\n",
       "SEPARATED             212\n",
       "UNKNOWN (DEFAULT)     154\n",
       "LIFE PARTNER            5\n",
       "Name: MARITAL_STATUS, dtype: int64"
      ]
     },
     "execution_count": 128,
     "metadata": {},
     "output_type": "execute_result"
    }
   ],
   "source": [
    "num_mar_F = df_merge_female.MARITAL_STATUS.value_counts()\n",
    "mar_female_prob = df_merge_female.groupby('MARITAL_STATUS').size().div(len(df_merge_female))*100\n",
    "num_mar_F"
   ]
  },
  {
   "cell_type": "code",
   "execution_count": 74,
   "id": "67f2d45f-2689-4e8a-9e54-b03a853641b8",
   "metadata": {},
   "outputs": [
    {
     "data": {
      "text/plain": [
       "MARITAL_STATUS\n",
       "MARRIED              30.354429\n",
       "SINGLE               20.363743\n",
       "WIDOWED              19.927447\n",
       "DIVORCED              5.975783\n",
       "SEPARATED             1.039267\n",
       "UNKNOWN (DEFAULT)     0.754939\n",
       "LIFE PARTNER          0.024511\n",
       "dtype: float64"
      ]
     },
     "execution_count": 74,
     "metadata": {},
     "output_type": "execute_result"
    }
   ],
   "source": [
    "mar_female_prob.sort_values(ascending=False)"
   ]
  },
  {
   "cell_type": "code",
   "execution_count": 129,
   "id": "61a2f77e-72cc-4560-95f4-a0c07f042281",
   "metadata": {},
   "outputs": [
    {
     "data": {
      "text/plain": [
       "MARRIED              12300\n",
       "SINGLE                5613\n",
       "WIDOWED               1397\n",
       "DIVORCED              1112\n",
       "SEPARATED              172\n",
       "UNKNOWN (DEFAULT)      153\n",
       "LIFE PARTNER             8\n",
       "Name: MARITAL_STATUS, dtype: int64"
      ]
     },
     "execution_count": 129,
     "metadata": {},
     "output_type": "execute_result"
    }
   ],
   "source": [
    "# total number of marital status in male\n",
    "num_mar_M = df_merge_male.MARITAL_STATUS.value_counts()\n",
    "mar_male_prob = df_merge_male.groupby('MARITAL_STATUS').size().div(len(df_merge_male))*100\n",
    "num_mar_M"
   ]
  },
  {
   "cell_type": "code",
   "execution_count": 76,
   "id": "6c2618d6-41a1-4efb-b13a-2b2c65bcd9f9",
   "metadata": {},
   "outputs": [
    {
     "data": {
      "text/plain": [
       "MARITAL_STATUS\n",
       "MARRIED              47.088549\n",
       "SINGLE               21.488458\n",
       "WIDOWED               5.348187\n",
       "DIVORCED              4.257111\n",
       "SEPARATED             0.658474\n",
       "UNKNOWN (DEFAULT)     0.585736\n",
       "LIFE PARTNER          0.030627\n",
       "dtype: float64"
      ]
     },
     "execution_count": 76,
     "metadata": {},
     "output_type": "execute_result"
    }
   ],
   "source": [
    "mar_male_prob.sort_values(ascending=False)"
   ]
  },
  {
   "cell_type": "markdown",
   "id": "36f8ac80-7f4a-4dbb-9904-fd288d24ac15",
   "metadata": {},
   "source": [
    "# Filter Out Breast Cancer"
   ]
  },
  {
   "cell_type": "code",
   "execution_count": 77,
   "id": "10397fb2-68f3-4841-a29c-25156c6fb38a",
   "metadata": {},
   "outputs": [],
   "source": [
    "df_breast_cancer = df_dia_icd[df_dia_icd.ICD9_CODE=='1749']"
   ]
  },
  {
   "cell_type": "code",
   "execution_count": 87,
   "id": "11ebcbed-d94d-4f76-8238-d2bc2d636ad3",
   "metadata": {},
   "outputs": [
    {
     "data": {
      "text/plain": [
       "(58, 5)"
      ]
     },
     "execution_count": 87,
     "metadata": {},
     "output_type": "execute_result"
    }
   ],
   "source": [
    "df_breast_cancer.shape"
   ]
  },
  {
   "cell_type": "markdown",
   "id": "1db40d92-6e66-4cbe-b6aa-7c59f84c7948",
   "metadata": {},
   "source": [
    "## Merge admission_df and breast cancer_df"
   ]
  },
  {
   "cell_type": "code",
   "execution_count": 107,
   "id": "7c52053e-f3e3-4f73-9ca4-1331e1f648a9",
   "metadata": {},
   "outputs": [],
   "source": [
    "bc_adm = pd.merge(df_breast_cancer, df_adm, how='inner', on=['SUBJECT_ID', 'HADM_ID'])\n",
    "\n",
    "df_sub_gender = df_merge[['SUBJECT_ID', 'GENDER']]\n",
    "bc_adm_2 = pd.merge(bc_adm, df_sub_gender, how='left', on='SUBJECT_ID')"
   ]
  },
  {
   "cell_type": "code",
   "execution_count": 109,
   "id": "2cda8a97-25f2-4b79-bfef-ecd3b05d2424",
   "metadata": {},
   "outputs": [
    {
     "data": {
      "text/plain": [
       "F    58\n",
       "Name: GENDER, dtype: int64"
      ]
     },
     "execution_count": 109,
     "metadata": {},
     "output_type": "execute_result"
    }
   ],
   "source": [
    "bc_adm_2.GENDER.value_counts()"
   ]
  },
  {
   "cell_type": "code",
   "execution_count": 96,
   "id": "03668762-8c83-4eff-bb9c-27b761de15c7",
   "metadata": {},
   "outputs": [],
   "source": [
    "bc_adm_black = bc_adm[bc_adm.ETHNICITY==\"BLACK\"]"
   ]
  },
  {
   "cell_type": "code",
   "execution_count": 101,
   "id": "43c57124-5019-4c21-a3d6-2dae253e88f4",
   "metadata": {},
   "outputs": [
    {
     "data": {
      "text/plain": [
       "(6, 22)"
      ]
     },
     "execution_count": 101,
     "metadata": {},
     "output_type": "execute_result"
    }
   ],
   "source": [
    "bc_adm_black.shape"
   ]
  },
  {
   "cell_type": "markdown",
   "id": "b1d0d484-b3e8-4ff7-aac3-fafe5e304837",
   "metadata": {},
   "source": [
    "There are 6 black people got breast cancer"
   ]
  },
  {
   "cell_type": "code",
   "execution_count": 99,
   "id": "4f3a23ad-76e2-4339-94c2-c8153cfaf3bd",
   "metadata": {},
   "outputs": [],
   "source": [
    "bc_adm_white = bc_adm[bc_adm.ETHNICITY==\"WHITE\"]"
   ]
  },
  {
   "cell_type": "code",
   "execution_count": 102,
   "id": "fe054bd8-5dca-488c-936c-9e5ff07bb963",
   "metadata": {},
   "outputs": [
    {
     "data": {
      "text/plain": [
       "(46, 22)"
      ]
     },
     "execution_count": 102,
     "metadata": {},
     "output_type": "execute_result"
    }
   ],
   "source": [
    "bc_adm_white.shape"
   ]
  },
  {
   "cell_type": "markdown",
   "id": "dc4fde4b-e10a-4b6a-a745-3641206a62f7",
   "metadata": {},
   "source": [
    "There are 46 white people got breast cancer"
   ]
  },
  {
   "cell_type": "code",
   "execution_count": 113,
   "id": "e28e431c-0248-450c-9c98-4deef7201371",
   "metadata": {},
   "outputs": [],
   "source": [
    "a = bc_adm_2.groupby('ETHNICITY').size().div(len(bc_adm_2))*100"
   ]
  },
  {
   "cell_type": "code",
   "execution_count": 115,
   "id": "73215987-11c1-41d8-8267-d0ed7d135e02",
   "metadata": {},
   "outputs": [
    {
     "data": {
      "text/plain": [
       "ETHNICITY\n",
       "WHITE                    79.310345\n",
       "BLACK                    10.344828\n",
       "OTHER                     5.172414\n",
       "MIDDLE EASTERN            1.724138\n",
       "UNABLE TO OBTAIN          1.724138\n",
       "UNKNOWN/NOT SPECIFIED     1.724138\n",
       "dtype: float64"
      ]
     },
     "execution_count": 115,
     "metadata": {},
     "output_type": "execute_result"
    }
   ],
   "source": [
    "a.sort_values(ascending=False)"
   ]
  }
 ],
 "metadata": {
  "kernelspec": {
   "display_name": "Python 3 (ipykernel)",
   "language": "python",
   "name": "python3"
  },
  "language_info": {
   "codemirror_mode": {
    "name": "ipython",
    "version": 3
   },
   "file_extension": ".py",
   "mimetype": "text/x-python",
   "name": "python",
   "nbconvert_exporter": "python",
   "pygments_lexer": "ipython3",
   "version": "3.9.7"
  }
 },
 "nbformat": 4,
 "nbformat_minor": 5
}
