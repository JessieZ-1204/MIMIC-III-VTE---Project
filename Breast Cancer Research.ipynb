{
 "cells": [
  {
   "cell_type": "markdown",
   "id": "7d3931e7",
   "metadata": {
    "tags": []
   },
   "source": [
    "# Load Dataset"
   ]
  },
  {
   "cell_type": "code",
   "execution_count": 1,
   "id": "1dc265b1",
   "metadata": {},
   "outputs": [],
   "source": [
    "# set up notebook\n",
    "import os\n",
    "import pandas as pd\n",
    "import numpy as np\n",
    "import matplotlib.pyplot as plt\n",
    "import sqlalchemy"
   ]
  },
  {
   "cell_type": "code",
   "execution_count": 2,
   "id": "01b630ad",
   "metadata": {},
   "outputs": [],
   "source": [
    "# read the admissions table\n",
    "df_adm = pd.read_csv('ADMISSIONS.csv')\n",
    "df_pat = pd.read_csv('PATIENTS.csv')\n",
    "df_icu = pd.read_csv('ICUSTAYS.csv')"
   ]
  },
  {
   "cell_type": "code",
   "execution_count": 3,
   "id": "38a0c230",
   "metadata": {},
   "outputs": [
    {
     "name": "stderr",
     "output_type": "stream",
     "text": [
      "/Users/kexinzhang/opt/anaconda3/lib/python3.9/site-packages/IPython/core/interactiveshell.py:3444: DtypeWarning: Columns (7,9,17,20,21) have mixed types.Specify dtype option on import or set low_memory=False.\n",
      "  exec(code_obj, self.user_global_ns, self.user_ns)\n"
     ]
    }
   ],
   "source": [
    "df_ineven = pd.read_csv('INPUTEVENTS_CV.csv')"
   ]
  },
  {
   "cell_type": "code",
   "execution_count": 475,
   "id": "90cd78bc-87de-48ed-92b4-0f9cb0e0b645",
   "metadata": {},
   "outputs": [],
   "source": [
    "df_dicd_dia = pd.read_csv('D_ICD_DIAGNOSES.csv')"
   ]
  },
  {
   "cell_type": "code",
   "execution_count": 4,
   "id": "433f4356-fe2f-4636-bbc0-3206c58da258",
   "metadata": {},
   "outputs": [],
   "source": [
    "#df_proce = pd.read_csv('PROCEDUREEVENTS_MV.csv')"
   ]
  },
  {
   "cell_type": "code",
   "execution_count": 3,
   "id": "8942ad24-d3ad-4833-9dd8-4038358883c8",
   "metadata": {},
   "outputs": [],
   "source": [
    "df_dia_icd = pd.read_csv('DIAGNOSES_ICD.csv.gz', compression='gzip', header=0, sep=',', quotechar='\"')"
   ]
  },
  {
   "cell_type": "markdown",
   "id": "5bf67667-cfd0-4c99-8449-c64e612a78c6",
   "metadata": {
    "jp-MarkdownHeadingCollapsed": true,
    "tags": []
   },
   "source": [
    "# Count Number of Total People (Whole Data)"
   ]
  },
  {
   "cell_type": "code",
   "execution_count": 4,
   "id": "d14f2ea9-a655-41b5-af9a-8e33e5636047",
   "metadata": {},
   "outputs": [
    {
     "data": {
      "text/html": [
       "<div>\n",
       "<style scoped>\n",
       "    .dataframe tbody tr th:only-of-type {\n",
       "        vertical-align: middle;\n",
       "    }\n",
       "\n",
       "    .dataframe tbody tr th {\n",
       "        vertical-align: top;\n",
       "    }\n",
       "\n",
       "    .dataframe thead th {\n",
       "        text-align: right;\n",
       "    }\n",
       "</style>\n",
       "<table border=\"1\" class=\"dataframe\">\n",
       "  <thead>\n",
       "    <tr style=\"text-align: right;\">\n",
       "      <th></th>\n",
       "      <th>ROW_ID</th>\n",
       "      <th>SUBJECT_ID</th>\n",
       "      <th>GENDER</th>\n",
       "      <th>DOB</th>\n",
       "      <th>DOD</th>\n",
       "      <th>DOD_HOSP</th>\n",
       "      <th>DOD_SSN</th>\n",
       "      <th>EXPIRE_FLAG</th>\n",
       "    </tr>\n",
       "  </thead>\n",
       "  <tbody>\n",
       "    <tr>\n",
       "      <th>0</th>\n",
       "      <td>234</td>\n",
       "      <td>249</td>\n",
       "      <td>F</td>\n",
       "      <td>2075-03-13 00:00:00</td>\n",
       "      <td>NaN</td>\n",
       "      <td>NaN</td>\n",
       "      <td>NaN</td>\n",
       "      <td>0</td>\n",
       "    </tr>\n",
       "    <tr>\n",
       "      <th>1</th>\n",
       "      <td>235</td>\n",
       "      <td>250</td>\n",
       "      <td>F</td>\n",
       "      <td>2164-12-27 00:00:00</td>\n",
       "      <td>2188-11-22 00:00:00</td>\n",
       "      <td>2188-11-22 00:00:00</td>\n",
       "      <td>NaN</td>\n",
       "      <td>1</td>\n",
       "    </tr>\n",
       "    <tr>\n",
       "      <th>2</th>\n",
       "      <td>236</td>\n",
       "      <td>251</td>\n",
       "      <td>M</td>\n",
       "      <td>2090-03-15 00:00:00</td>\n",
       "      <td>NaN</td>\n",
       "      <td>NaN</td>\n",
       "      <td>NaN</td>\n",
       "      <td>0</td>\n",
       "    </tr>\n",
       "    <tr>\n",
       "      <th>3</th>\n",
       "      <td>237</td>\n",
       "      <td>252</td>\n",
       "      <td>M</td>\n",
       "      <td>2078-03-06 00:00:00</td>\n",
       "      <td>NaN</td>\n",
       "      <td>NaN</td>\n",
       "      <td>NaN</td>\n",
       "      <td>0</td>\n",
       "    </tr>\n",
       "    <tr>\n",
       "      <th>4</th>\n",
       "      <td>238</td>\n",
       "      <td>253</td>\n",
       "      <td>F</td>\n",
       "      <td>2089-11-26 00:00:00</td>\n",
       "      <td>NaN</td>\n",
       "      <td>NaN</td>\n",
       "      <td>NaN</td>\n",
       "      <td>0</td>\n",
       "    </tr>\n",
       "  </tbody>\n",
       "</table>\n",
       "</div>"
      ],
      "text/plain": [
       "   ROW_ID  SUBJECT_ID GENDER                  DOB                  DOD  \\\n",
       "0     234         249      F  2075-03-13 00:00:00                  NaN   \n",
       "1     235         250      F  2164-12-27 00:00:00  2188-11-22 00:00:00   \n",
       "2     236         251      M  2090-03-15 00:00:00                  NaN   \n",
       "3     237         252      M  2078-03-06 00:00:00                  NaN   \n",
       "4     238         253      F  2089-11-26 00:00:00                  NaN   \n",
       "\n",
       "              DOD_HOSP DOD_SSN  EXPIRE_FLAG  \n",
       "0                  NaN     NaN            0  \n",
       "1  2188-11-22 00:00:00     NaN            1  \n",
       "2                  NaN     NaN            0  \n",
       "3                  NaN     NaN            0  \n",
       "4                  NaN     NaN            0  "
      ]
     },
     "execution_count": 4,
     "metadata": {},
     "output_type": "execute_result"
    }
   ],
   "source": [
    "df_pat.head()"
   ]
  },
  {
   "cell_type": "code",
   "execution_count": 5,
   "id": "e4081f94-dc1d-44fc-9129-594e9c8788c6",
   "metadata": {},
   "outputs": [
    {
     "data": {
      "text/plain": [
       "M    26121\n",
       "F    20399\n",
       "Name: GENDER, dtype: int64"
      ]
     },
     "execution_count": 5,
     "metadata": {},
     "output_type": "execute_result"
    }
   ],
   "source": [
    "df_pat.GENDER.value_counts()"
   ]
  },
  {
   "cell_type": "code",
   "execution_count": 6,
   "id": "5ed5289d-c929-430c-8fc4-096c11ff9b6b",
   "metadata": {},
   "outputs": [
    {
     "name": "stdout",
     "output_type": "stream",
     "text": [
      "Total number of patient is : 46520\n"
     ]
    }
   ],
   "source": [
    "gender_total = df_pat.SUBJECT_ID.nunique()\n",
    "print(\"Total number of patient is :\", gender_total )"
   ]
  },
  {
   "cell_type": "markdown",
   "id": "99ff5d8e-87a2-44f9-a61d-ba04bc71d46b",
   "metadata": {},
   "source": [
    "#### Convert dates"
   ]
  },
  {
   "cell_type": "code",
   "execution_count": 7,
   "id": "3504f349-78fd-401f-bbba-6aa1ed4530c5",
   "metadata": {},
   "outputs": [],
   "source": [
    "#df_pat.DOB = pd.to_datetime(df_pat.DOB, format = '%Y-%m-%d %H:%M:%S', errors = 'coerce')\n",
    "#df_pat.DOD = pd.to_datetime(df_pat.DOD, format = '%Y-%m-%d %H:%M:%S', errors = 'coerce')\n",
    "#df_adm.ADMITTIME = pd.to_datetime(df_adm.ADMITTIME, format = '%Y-%m-%d %H:%M:%S', errors = 'coerce')\n",
    "\n",
    "#df_pat.DOB = pd.to_datetime(df_pat.DOB).dt.date\n",
    "#df_adm.ADMITTIME = pd.to_datetime(df_adm.ADMITTIME).dt.date\n",
    "\n",
    "#type(df_pat.DOB[1])"
   ]
  },
  {
   "cell_type": "code",
   "execution_count": 8,
   "id": "d5a499da-5c58-4503-a15e-824a45326791",
   "metadata": {},
   "outputs": [
    {
     "data": {
      "text/html": [
       "<div>\n",
       "<style scoped>\n",
       "    .dataframe tbody tr th:only-of-type {\n",
       "        vertical-align: middle;\n",
       "    }\n",
       "\n",
       "    .dataframe tbody tr th {\n",
       "        vertical-align: top;\n",
       "    }\n",
       "\n",
       "    .dataframe thead th {\n",
       "        text-align: right;\n",
       "    }\n",
       "</style>\n",
       "<table border=\"1\" class=\"dataframe\">\n",
       "  <thead>\n",
       "    <tr style=\"text-align: right;\">\n",
       "      <th></th>\n",
       "      <th>ROW_ID</th>\n",
       "      <th>SUBJECT_ID</th>\n",
       "      <th>GENDER</th>\n",
       "      <th>DOB</th>\n",
       "      <th>DOD</th>\n",
       "      <th>DOD_HOSP</th>\n",
       "      <th>DOD_SSN</th>\n",
       "      <th>EXPIRE_FLAG</th>\n",
       "    </tr>\n",
       "  </thead>\n",
       "  <tbody>\n",
       "    <tr>\n",
       "      <th>222</th>\n",
       "      <td>1</td>\n",
       "      <td>2</td>\n",
       "      <td>M</td>\n",
       "      <td>2138-07-17 00:00:00</td>\n",
       "      <td>NaN</td>\n",
       "      <td>NaN</td>\n",
       "      <td>NaN</td>\n",
       "      <td>0</td>\n",
       "    </tr>\n",
       "    <tr>\n",
       "      <th>223</th>\n",
       "      <td>2</td>\n",
       "      <td>3</td>\n",
       "      <td>M</td>\n",
       "      <td>2025-04-11 00:00:00</td>\n",
       "      <td>2102-06-14 00:00:00</td>\n",
       "      <td>NaN</td>\n",
       "      <td>2102-06-14 00:00:00</td>\n",
       "      <td>1</td>\n",
       "    </tr>\n",
       "    <tr>\n",
       "      <th>224</th>\n",
       "      <td>3</td>\n",
       "      <td>4</td>\n",
       "      <td>F</td>\n",
       "      <td>2143-05-12 00:00:00</td>\n",
       "      <td>NaN</td>\n",
       "      <td>NaN</td>\n",
       "      <td>NaN</td>\n",
       "      <td>0</td>\n",
       "    </tr>\n",
       "    <tr>\n",
       "      <th>225</th>\n",
       "      <td>4</td>\n",
       "      <td>5</td>\n",
       "      <td>M</td>\n",
       "      <td>2103-02-02 00:00:00</td>\n",
       "      <td>NaN</td>\n",
       "      <td>NaN</td>\n",
       "      <td>NaN</td>\n",
       "      <td>0</td>\n",
       "    </tr>\n",
       "    <tr>\n",
       "      <th>226</th>\n",
       "      <td>5</td>\n",
       "      <td>6</td>\n",
       "      <td>F</td>\n",
       "      <td>2109-06-21 00:00:00</td>\n",
       "      <td>NaN</td>\n",
       "      <td>NaN</td>\n",
       "      <td>NaN</td>\n",
       "      <td>0</td>\n",
       "    </tr>\n",
       "    <tr>\n",
       "      <th>...</th>\n",
       "      <td>...</td>\n",
       "      <td>...</td>\n",
       "      <td>...</td>\n",
       "      <td>...</td>\n",
       "      <td>...</td>\n",
       "      <td>...</td>\n",
       "      <td>...</td>\n",
       "      <td>...</td>\n",
       "    </tr>\n",
       "    <tr>\n",
       "      <th>41091</th>\n",
       "      <td>46516</td>\n",
       "      <td>99985</td>\n",
       "      <td>M</td>\n",
       "      <td>2127-04-08 00:00:00</td>\n",
       "      <td>NaN</td>\n",
       "      <td>NaN</td>\n",
       "      <td>NaN</td>\n",
       "      <td>0</td>\n",
       "    </tr>\n",
       "    <tr>\n",
       "      <th>41092</th>\n",
       "      <td>46517</td>\n",
       "      <td>99991</td>\n",
       "      <td>M</td>\n",
       "      <td>2137-04-07 00:00:00</td>\n",
       "      <td>NaN</td>\n",
       "      <td>NaN</td>\n",
       "      <td>NaN</td>\n",
       "      <td>0</td>\n",
       "    </tr>\n",
       "    <tr>\n",
       "      <th>41093</th>\n",
       "      <td>46518</td>\n",
       "      <td>99992</td>\n",
       "      <td>F</td>\n",
       "      <td>2078-10-17 00:00:00</td>\n",
       "      <td>NaN</td>\n",
       "      <td>NaN</td>\n",
       "      <td>NaN</td>\n",
       "      <td>0</td>\n",
       "    </tr>\n",
       "    <tr>\n",
       "      <th>41094</th>\n",
       "      <td>46519</td>\n",
       "      <td>99995</td>\n",
       "      <td>F</td>\n",
       "      <td>2058-05-29 00:00:00</td>\n",
       "      <td>2147-09-29 00:00:00</td>\n",
       "      <td>NaN</td>\n",
       "      <td>2147-09-29 00:00:00</td>\n",
       "      <td>1</td>\n",
       "    </tr>\n",
       "    <tr>\n",
       "      <th>41095</th>\n",
       "      <td>46520</td>\n",
       "      <td>99999</td>\n",
       "      <td>F</td>\n",
       "      <td>2054-01-06 00:00:00</td>\n",
       "      <td>NaN</td>\n",
       "      <td>NaN</td>\n",
       "      <td>NaN</td>\n",
       "      <td>0</td>\n",
       "    </tr>\n",
       "  </tbody>\n",
       "</table>\n",
       "<p>46520 rows × 8 columns</p>\n",
       "</div>"
      ],
      "text/plain": [
       "       ROW_ID  SUBJECT_ID GENDER                  DOB                  DOD  \\\n",
       "222         1           2      M  2138-07-17 00:00:00                  NaN   \n",
       "223         2           3      M  2025-04-11 00:00:00  2102-06-14 00:00:00   \n",
       "224         3           4      F  2143-05-12 00:00:00                  NaN   \n",
       "225         4           5      M  2103-02-02 00:00:00                  NaN   \n",
       "226         5           6      F  2109-06-21 00:00:00                  NaN   \n",
       "...       ...         ...    ...                  ...                  ...   \n",
       "41091   46516       99985      M  2127-04-08 00:00:00                  NaN   \n",
       "41092   46517       99991      M  2137-04-07 00:00:00                  NaN   \n",
       "41093   46518       99992      F  2078-10-17 00:00:00                  NaN   \n",
       "41094   46519       99995      F  2058-05-29 00:00:00  2147-09-29 00:00:00   \n",
       "41095   46520       99999      F  2054-01-06 00:00:00                  NaN   \n",
       "\n",
       "      DOD_HOSP              DOD_SSN  EXPIRE_FLAG  \n",
       "222        NaN                  NaN            0  \n",
       "223        NaN  2102-06-14 00:00:00            1  \n",
       "224        NaN                  NaN            0  \n",
       "225        NaN                  NaN            0  \n",
       "226        NaN                  NaN            0  \n",
       "...        ...                  ...          ...  \n",
       "41091      NaN                  NaN            0  \n",
       "41092      NaN                  NaN            0  \n",
       "41093      NaN                  NaN            0  \n",
       "41094      NaN  2147-09-29 00:00:00            1  \n",
       "41095      NaN                  NaN            0  \n",
       "\n",
       "[46520 rows x 8 columns]"
      ]
     },
     "execution_count": 8,
     "metadata": {},
     "output_type": "execute_result"
    }
   ],
   "source": [
    "df_pat.sort_values(by=['SUBJECT_ID'])"
   ]
  },
  {
   "cell_type": "markdown",
   "id": "e1f7cdb9-2a81-46f9-8e9e-399932aeef9c",
   "metadata": {
    "jp-MarkdownHeadingCollapsed": true,
    "tags": []
   },
   "source": [
    "# Count Ethnicity, Marital status, and Admission type (Whole Data)"
   ]
  },
  {
   "cell_type": "code",
   "execution_count": 9,
   "id": "5d43be0a-e984-462f-b12f-b02a271688e8",
   "metadata": {},
   "outputs": [
    {
     "name": "stderr",
     "output_type": "stream",
     "text": [
      "/var/folders/73/37k4t3k50d7gry5vs9_z5yth0000gn/T/ipykernel_5879/2112481919.py:3: FutureWarning: The default value of regex will change from True to False in a future version.\n",
      "  df_adm['ETHNICITY'] = df_adm['ETHNICITY'].str.replace(regex_black, 'BLACK')\n",
      "/var/folders/73/37k4t3k50d7gry5vs9_z5yth0000gn/T/ipykernel_5879/2112481919.py:6: FutureWarning: The default value of regex will change from True to False in a future version.\n",
      "  df_adm['ETHNICITY'] = df_adm['ETHNICITY'].str.replace(regx_white, 'WHITE')\n",
      "/var/folders/73/37k4t3k50d7gry5vs9_z5yth0000gn/T/ipykernel_5879/2112481919.py:9: FutureWarning: The default value of regex will change from True to False in a future version.\n",
      "  df_adm['ETHNICITY'] = df_adm['ETHNICITY'].str.replace(regx_asian, 'ASIAN')\n",
      "/var/folders/73/37k4t3k50d7gry5vs9_z5yth0000gn/T/ipykernel_5879/2112481919.py:12: FutureWarning: The default value of regex will change from True to False in a future version.\n",
      "  df_adm['ETHNICITY'] = df_adm['ETHNICITY'].str.replace(regx_hispanic, 'HISPANIC OR LATINO')\n"
     ]
    }
   ],
   "source": [
    "# Summarize Ethnicity\n",
    "regex_black = '(BLACK(/| )([A-Z]| )*)'\n",
    "df_adm['ETHNICITY'] = df_adm['ETHNICITY'].str.replace(regex_black, 'BLACK')\n",
    "\n",
    "regx_white = '(WHITE - [A-Z ]*)'\n",
    "df_adm['ETHNICITY'] = df_adm['ETHNICITY'].str.replace(regx_white, 'WHITE')\n",
    "\n",
    "regx_asian = '(ASIAN (- )?[A-Z ]*)'\n",
    "df_adm['ETHNICITY'] = df_adm['ETHNICITY'].str.replace(regx_asian, 'ASIAN')\n",
    "\n",
    "regx_hispanic = '(HISPANIC/LATINO - [A-Z \\(\\)]*)|(HISPANIC OR LATINO([A-Z \\(\\)]*))'\n",
    "df_adm['ETHNICITY'] = df_adm['ETHNICITY'].str.replace(regx_hispanic, 'HISPANIC OR LATINO')"
   ]
  },
  {
   "cell_type": "markdown",
   "id": "3db0e91f-99cf-4e41-9b21-2c2c1665f545",
   "metadata": {},
   "source": [
    "#### Dropping Duplicate Subject_id"
   ]
  },
  {
   "cell_type": "code",
   "execution_count": 10,
   "id": "16fc3cf4-5ef5-4b63-92b4-77c9143c20f2",
   "metadata": {},
   "outputs": [],
   "source": [
    "df_uniadm = df_adm.drop_duplicates(subset=[\"SUBJECT_ID\"], keep='last')"
   ]
  },
  {
   "cell_type": "code",
   "execution_count": 11,
   "id": "17e0d1e5-0816-4158-9249-94ca351834ee",
   "metadata": {},
   "outputs": [
    {
     "data": {
      "text/html": [
       "<div>\n",
       "<style scoped>\n",
       "    .dataframe tbody tr th:only-of-type {\n",
       "        vertical-align: middle;\n",
       "    }\n",
       "\n",
       "    .dataframe tbody tr th {\n",
       "        vertical-align: top;\n",
       "    }\n",
       "\n",
       "    .dataframe thead th {\n",
       "        text-align: right;\n",
       "    }\n",
       "</style>\n",
       "<table border=\"1\" class=\"dataframe\">\n",
       "  <thead>\n",
       "    <tr style=\"text-align: right;\">\n",
       "      <th></th>\n",
       "      <th>ROW_ID</th>\n",
       "      <th>SUBJECT_ID</th>\n",
       "      <th>HADM_ID</th>\n",
       "      <th>ADMITTIME</th>\n",
       "      <th>DISCHTIME</th>\n",
       "      <th>DEATHTIME</th>\n",
       "      <th>ADMISSION_TYPE</th>\n",
       "      <th>ADMISSION_LOCATION</th>\n",
       "      <th>DISCHARGE_LOCATION</th>\n",
       "      <th>INSURANCE</th>\n",
       "      <th>LANGUAGE</th>\n",
       "      <th>RELIGION</th>\n",
       "      <th>MARITAL_STATUS</th>\n",
       "      <th>ETHNICITY</th>\n",
       "      <th>EDREGTIME</th>\n",
       "      <th>EDOUTTIME</th>\n",
       "      <th>DIAGNOSIS</th>\n",
       "      <th>HOSPITAL_EXPIRE_FLAG</th>\n",
       "      <th>HAS_CHARTEVENTS_DATA</th>\n",
       "    </tr>\n",
       "  </thead>\n",
       "  <tbody>\n",
       "    <tr>\n",
       "      <th>211</th>\n",
       "      <td>1</td>\n",
       "      <td>2</td>\n",
       "      <td>163353</td>\n",
       "      <td>2138-07-17 19:04:00</td>\n",
       "      <td>2138-07-21 15:48:00</td>\n",
       "      <td>NaN</td>\n",
       "      <td>NEWBORN</td>\n",
       "      <td>PHYS REFERRAL/NORMAL DELI</td>\n",
       "      <td>HOME</td>\n",
       "      <td>Private</td>\n",
       "      <td>NaN</td>\n",
       "      <td>NOT SPECIFIED</td>\n",
       "      <td>NaN</td>\n",
       "      <td>ASIAN</td>\n",
       "      <td>NaN</td>\n",
       "      <td>NaN</td>\n",
       "      <td>NEWBORN</td>\n",
       "      <td>0</td>\n",
       "      <td>1</td>\n",
       "    </tr>\n",
       "    <tr>\n",
       "      <th>212</th>\n",
       "      <td>2</td>\n",
       "      <td>3</td>\n",
       "      <td>145834</td>\n",
       "      <td>2101-10-20 19:08:00</td>\n",
       "      <td>2101-10-31 13:58:00</td>\n",
       "      <td>NaN</td>\n",
       "      <td>EMERGENCY</td>\n",
       "      <td>EMERGENCY ROOM ADMIT</td>\n",
       "      <td>SNF</td>\n",
       "      <td>Medicare</td>\n",
       "      <td>NaN</td>\n",
       "      <td>CATHOLIC</td>\n",
       "      <td>MARRIED</td>\n",
       "      <td>WHITE</td>\n",
       "      <td>2101-10-20 17:09:00</td>\n",
       "      <td>2101-10-20 19:24:00</td>\n",
       "      <td>HYPOTENSION</td>\n",
       "      <td>0</td>\n",
       "      <td>1</td>\n",
       "    </tr>\n",
       "    <tr>\n",
       "      <th>213</th>\n",
       "      <td>3</td>\n",
       "      <td>4</td>\n",
       "      <td>185777</td>\n",
       "      <td>2191-03-16 00:28:00</td>\n",
       "      <td>2191-03-23 18:41:00</td>\n",
       "      <td>NaN</td>\n",
       "      <td>EMERGENCY</td>\n",
       "      <td>EMERGENCY ROOM ADMIT</td>\n",
       "      <td>HOME WITH HOME IV PROVIDR</td>\n",
       "      <td>Private</td>\n",
       "      <td>NaN</td>\n",
       "      <td>PROTESTANT QUAKER</td>\n",
       "      <td>SINGLE</td>\n",
       "      <td>WHITE</td>\n",
       "      <td>2191-03-15 13:10:00</td>\n",
       "      <td>2191-03-16 01:10:00</td>\n",
       "      <td>FEVER,DEHYDRATION,FAILURE TO THRIVE</td>\n",
       "      <td>0</td>\n",
       "      <td>1</td>\n",
       "    </tr>\n",
       "    <tr>\n",
       "      <th>214</th>\n",
       "      <td>4</td>\n",
       "      <td>5</td>\n",
       "      <td>178980</td>\n",
       "      <td>2103-02-02 04:31:00</td>\n",
       "      <td>2103-02-04 12:15:00</td>\n",
       "      <td>NaN</td>\n",
       "      <td>NEWBORN</td>\n",
       "      <td>PHYS REFERRAL/NORMAL DELI</td>\n",
       "      <td>HOME</td>\n",
       "      <td>Private</td>\n",
       "      <td>NaN</td>\n",
       "      <td>BUDDHIST</td>\n",
       "      <td>NaN</td>\n",
       "      <td>ASIAN</td>\n",
       "      <td>NaN</td>\n",
       "      <td>NaN</td>\n",
       "      <td>NEWBORN</td>\n",
       "      <td>0</td>\n",
       "      <td>1</td>\n",
       "    </tr>\n",
       "    <tr>\n",
       "      <th>215</th>\n",
       "      <td>5</td>\n",
       "      <td>6</td>\n",
       "      <td>107064</td>\n",
       "      <td>2175-05-30 07:15:00</td>\n",
       "      <td>2175-06-15 16:00:00</td>\n",
       "      <td>NaN</td>\n",
       "      <td>ELECTIVE</td>\n",
       "      <td>PHYS REFERRAL/NORMAL DELI</td>\n",
       "      <td>HOME HEALTH CARE</td>\n",
       "      <td>Medicare</td>\n",
       "      <td>ENGL</td>\n",
       "      <td>NOT SPECIFIED</td>\n",
       "      <td>MARRIED</td>\n",
       "      <td>WHITE</td>\n",
       "      <td>NaN</td>\n",
       "      <td>NaN</td>\n",
       "      <td>CHRONIC RENAL FAILURE/SDA</td>\n",
       "      <td>0</td>\n",
       "      <td>1</td>\n",
       "    </tr>\n",
       "    <tr>\n",
       "      <th>...</th>\n",
       "      <td>...</td>\n",
       "      <td>...</td>\n",
       "      <td>...</td>\n",
       "      <td>...</td>\n",
       "      <td>...</td>\n",
       "      <td>...</td>\n",
       "      <td>...</td>\n",
       "      <td>...</td>\n",
       "      <td>...</td>\n",
       "      <td>...</td>\n",
       "      <td>...</td>\n",
       "      <td>...</td>\n",
       "      <td>...</td>\n",
       "      <td>...</td>\n",
       "      <td>...</td>\n",
       "      <td>...</td>\n",
       "      <td>...</td>\n",
       "      <td>...</td>\n",
       "      <td>...</td>\n",
       "    </tr>\n",
       "    <tr>\n",
       "      <th>56435</th>\n",
       "      <td>58972</td>\n",
       "      <td>99985</td>\n",
       "      <td>176670</td>\n",
       "      <td>2181-01-27 02:47:00</td>\n",
       "      <td>2181-02-12 17:05:00</td>\n",
       "      <td>NaN</td>\n",
       "      <td>EMERGENCY</td>\n",
       "      <td>EMERGENCY ROOM ADMIT</td>\n",
       "      <td>HOME HEALTH CARE</td>\n",
       "      <td>Private</td>\n",
       "      <td>ENGL</td>\n",
       "      <td>JEWISH</td>\n",
       "      <td>MARRIED</td>\n",
       "      <td>WHITE</td>\n",
       "      <td>2181-01-26 23:35:00</td>\n",
       "      <td>2181-01-27 04:18:00</td>\n",
       "      <td>FEVER</td>\n",
       "      <td>0</td>\n",
       "      <td>1</td>\n",
       "    </tr>\n",
       "    <tr>\n",
       "      <th>56436</th>\n",
       "      <td>58973</td>\n",
       "      <td>99991</td>\n",
       "      <td>151118</td>\n",
       "      <td>2184-12-24 08:30:00</td>\n",
       "      <td>2185-01-05 12:15:00</td>\n",
       "      <td>NaN</td>\n",
       "      <td>ELECTIVE</td>\n",
       "      <td>PHYS REFERRAL/NORMAL DELI</td>\n",
       "      <td>HOME</td>\n",
       "      <td>Private</td>\n",
       "      <td>ENGL</td>\n",
       "      <td>NOT SPECIFIED</td>\n",
       "      <td>MARRIED</td>\n",
       "      <td>WHITE</td>\n",
       "      <td>NaN</td>\n",
       "      <td>NaN</td>\n",
       "      <td>DIVERTICULITIS/SDA</td>\n",
       "      <td>0</td>\n",
       "      <td>1</td>\n",
       "    </tr>\n",
       "    <tr>\n",
       "      <th>56437</th>\n",
       "      <td>58974</td>\n",
       "      <td>99992</td>\n",
       "      <td>197084</td>\n",
       "      <td>2144-07-25 18:03:00</td>\n",
       "      <td>2144-07-28 17:56:00</td>\n",
       "      <td>NaN</td>\n",
       "      <td>EMERGENCY</td>\n",
       "      <td>CLINIC REFERRAL/PREMATURE</td>\n",
       "      <td>SNF</td>\n",
       "      <td>Medicare</td>\n",
       "      <td>ENGL</td>\n",
       "      <td>CATHOLIC</td>\n",
       "      <td>WIDOWED</td>\n",
       "      <td>WHITE</td>\n",
       "      <td>2144-07-25 13:40:00</td>\n",
       "      <td>2144-07-25 18:50:00</td>\n",
       "      <td>RETROPERITONEAL HEMORRHAGE</td>\n",
       "      <td>0</td>\n",
       "      <td>1</td>\n",
       "    </tr>\n",
       "    <tr>\n",
       "      <th>56565</th>\n",
       "      <td>58975</td>\n",
       "      <td>99995</td>\n",
       "      <td>137810</td>\n",
       "      <td>2147-02-08 08:00:00</td>\n",
       "      <td>2147-02-11 13:15:00</td>\n",
       "      <td>NaN</td>\n",
       "      <td>ELECTIVE</td>\n",
       "      <td>PHYS REFERRAL/NORMAL DELI</td>\n",
       "      <td>HOME</td>\n",
       "      <td>Medicare</td>\n",
       "      <td>ENGL</td>\n",
       "      <td>NOT SPECIFIED</td>\n",
       "      <td>MARRIED</td>\n",
       "      <td>WHITE</td>\n",
       "      <td>NaN</td>\n",
       "      <td>NaN</td>\n",
       "      <td>ABDOMINAL AORTIC ANEURYSM/SDA</td>\n",
       "      <td>0</td>\n",
       "      <td>1</td>\n",
       "    </tr>\n",
       "    <tr>\n",
       "      <th>56566</th>\n",
       "      <td>58976</td>\n",
       "      <td>99999</td>\n",
       "      <td>113369</td>\n",
       "      <td>2117-12-30 07:15:00</td>\n",
       "      <td>2118-01-04 16:30:00</td>\n",
       "      <td>NaN</td>\n",
       "      <td>ELECTIVE</td>\n",
       "      <td>PHYS REFERRAL/NORMAL DELI</td>\n",
       "      <td>SNF</td>\n",
       "      <td>Medicare</td>\n",
       "      <td>SPAN</td>\n",
       "      <td>JEHOVAH'S WITNESS</td>\n",
       "      <td>SEPARATED</td>\n",
       "      <td>HISPANIC OR LATINO</td>\n",
       "      <td>NaN</td>\n",
       "      <td>NaN</td>\n",
       "      <td>SPONDYLOLISTHESIS/SDA</td>\n",
       "      <td>0</td>\n",
       "      <td>1</td>\n",
       "    </tr>\n",
       "  </tbody>\n",
       "</table>\n",
       "<p>46520 rows × 19 columns</p>\n",
       "</div>"
      ],
      "text/plain": [
       "       ROW_ID  SUBJECT_ID  HADM_ID            ADMITTIME            DISCHTIME  \\\n",
       "211         1           2   163353  2138-07-17 19:04:00  2138-07-21 15:48:00   \n",
       "212         2           3   145834  2101-10-20 19:08:00  2101-10-31 13:58:00   \n",
       "213         3           4   185777  2191-03-16 00:28:00  2191-03-23 18:41:00   \n",
       "214         4           5   178980  2103-02-02 04:31:00  2103-02-04 12:15:00   \n",
       "215         5           6   107064  2175-05-30 07:15:00  2175-06-15 16:00:00   \n",
       "...       ...         ...      ...                  ...                  ...   \n",
       "56435   58972       99985   176670  2181-01-27 02:47:00  2181-02-12 17:05:00   \n",
       "56436   58973       99991   151118  2184-12-24 08:30:00  2185-01-05 12:15:00   \n",
       "56437   58974       99992   197084  2144-07-25 18:03:00  2144-07-28 17:56:00   \n",
       "56565   58975       99995   137810  2147-02-08 08:00:00  2147-02-11 13:15:00   \n",
       "56566   58976       99999   113369  2117-12-30 07:15:00  2118-01-04 16:30:00   \n",
       "\n",
       "      DEATHTIME ADMISSION_TYPE         ADMISSION_LOCATION  \\\n",
       "211         NaN        NEWBORN  PHYS REFERRAL/NORMAL DELI   \n",
       "212         NaN      EMERGENCY       EMERGENCY ROOM ADMIT   \n",
       "213         NaN      EMERGENCY       EMERGENCY ROOM ADMIT   \n",
       "214         NaN        NEWBORN  PHYS REFERRAL/NORMAL DELI   \n",
       "215         NaN       ELECTIVE  PHYS REFERRAL/NORMAL DELI   \n",
       "...         ...            ...                        ...   \n",
       "56435       NaN      EMERGENCY       EMERGENCY ROOM ADMIT   \n",
       "56436       NaN       ELECTIVE  PHYS REFERRAL/NORMAL DELI   \n",
       "56437       NaN      EMERGENCY  CLINIC REFERRAL/PREMATURE   \n",
       "56565       NaN       ELECTIVE  PHYS REFERRAL/NORMAL DELI   \n",
       "56566       NaN       ELECTIVE  PHYS REFERRAL/NORMAL DELI   \n",
       "\n",
       "              DISCHARGE_LOCATION INSURANCE LANGUAGE           RELIGION  \\\n",
       "211                         HOME   Private      NaN      NOT SPECIFIED   \n",
       "212                          SNF  Medicare      NaN           CATHOLIC   \n",
       "213    HOME WITH HOME IV PROVIDR   Private      NaN  PROTESTANT QUAKER   \n",
       "214                         HOME   Private      NaN           BUDDHIST   \n",
       "215             HOME HEALTH CARE  Medicare     ENGL      NOT SPECIFIED   \n",
       "...                          ...       ...      ...                ...   \n",
       "56435           HOME HEALTH CARE   Private     ENGL             JEWISH   \n",
       "56436                       HOME   Private     ENGL      NOT SPECIFIED   \n",
       "56437                        SNF  Medicare     ENGL           CATHOLIC   \n",
       "56565                       HOME  Medicare     ENGL      NOT SPECIFIED   \n",
       "56566                        SNF  Medicare     SPAN  JEHOVAH'S WITNESS   \n",
       "\n",
       "      MARITAL_STATUS           ETHNICITY            EDREGTIME  \\\n",
       "211              NaN               ASIAN                  NaN   \n",
       "212          MARRIED               WHITE  2101-10-20 17:09:00   \n",
       "213           SINGLE               WHITE  2191-03-15 13:10:00   \n",
       "214              NaN               ASIAN                  NaN   \n",
       "215          MARRIED               WHITE                  NaN   \n",
       "...              ...                 ...                  ...   \n",
       "56435        MARRIED               WHITE  2181-01-26 23:35:00   \n",
       "56436        MARRIED               WHITE                  NaN   \n",
       "56437        WIDOWED               WHITE  2144-07-25 13:40:00   \n",
       "56565        MARRIED               WHITE                  NaN   \n",
       "56566      SEPARATED  HISPANIC OR LATINO                  NaN   \n",
       "\n",
       "                 EDOUTTIME                            DIAGNOSIS  \\\n",
       "211                    NaN                              NEWBORN   \n",
       "212    2101-10-20 19:24:00                          HYPOTENSION   \n",
       "213    2191-03-16 01:10:00  FEVER,DEHYDRATION,FAILURE TO THRIVE   \n",
       "214                    NaN                              NEWBORN   \n",
       "215                    NaN            CHRONIC RENAL FAILURE/SDA   \n",
       "...                    ...                                  ...   \n",
       "56435  2181-01-27 04:18:00                                FEVER   \n",
       "56436                  NaN                   DIVERTICULITIS/SDA   \n",
       "56437  2144-07-25 18:50:00           RETROPERITONEAL HEMORRHAGE   \n",
       "56565                  NaN        ABDOMINAL AORTIC ANEURYSM/SDA   \n",
       "56566                  NaN                SPONDYLOLISTHESIS/SDA   \n",
       "\n",
       "       HOSPITAL_EXPIRE_FLAG  HAS_CHARTEVENTS_DATA  \n",
       "211                       0                     1  \n",
       "212                       0                     1  \n",
       "213                       0                     1  \n",
       "214                       0                     1  \n",
       "215                       0                     1  \n",
       "...                     ...                   ...  \n",
       "56435                     0                     1  \n",
       "56436                     0                     1  \n",
       "56437                     0                     1  \n",
       "56565                     0                     1  \n",
       "56566                     0                     1  \n",
       "\n",
       "[46520 rows x 19 columns]"
      ]
     },
     "execution_count": 11,
     "metadata": {},
     "output_type": "execute_result"
    }
   ],
   "source": [
    "df_uniadm.sort_values(by=['SUBJECT_ID'])"
   ]
  },
  {
   "cell_type": "markdown",
   "id": "6a6239e8-04c6-4215-a952-113aa10611d1",
   "metadata": {},
   "source": [
    "#### Combine patient and admission df"
   ]
  },
  {
   "cell_type": "code",
   "execution_count": 12,
   "id": "4e093a67-74a0-4da5-9b72-3a32447a28a0",
   "metadata": {},
   "outputs": [],
   "source": [
    "df_merge=pd.merge(df_pat, df_uniadm, how='outer', on='SUBJECT_ID')"
   ]
  },
  {
   "cell_type": "code",
   "execution_count": 13,
   "id": "16536122-0930-4a6f-842d-fdcb19c79bd4",
   "metadata": {},
   "outputs": [
    {
     "data": {
      "text/html": [
       "<div>\n",
       "<style scoped>\n",
       "    .dataframe tbody tr th:only-of-type {\n",
       "        vertical-align: middle;\n",
       "    }\n",
       "\n",
       "    .dataframe tbody tr th {\n",
       "        vertical-align: top;\n",
       "    }\n",
       "\n",
       "    .dataframe thead th {\n",
       "        text-align: right;\n",
       "    }\n",
       "</style>\n",
       "<table border=\"1\" class=\"dataframe\">\n",
       "  <thead>\n",
       "    <tr style=\"text-align: right;\">\n",
       "      <th></th>\n",
       "      <th>ROW_ID_x</th>\n",
       "      <th>SUBJECT_ID</th>\n",
       "      <th>GENDER</th>\n",
       "      <th>DOB</th>\n",
       "      <th>DOD</th>\n",
       "      <th>DOD_HOSP</th>\n",
       "      <th>DOD_SSN</th>\n",
       "      <th>EXPIRE_FLAG</th>\n",
       "      <th>ROW_ID_y</th>\n",
       "      <th>HADM_ID</th>\n",
       "      <th>...</th>\n",
       "      <th>INSURANCE</th>\n",
       "      <th>LANGUAGE</th>\n",
       "      <th>RELIGION</th>\n",
       "      <th>MARITAL_STATUS</th>\n",
       "      <th>ETHNICITY</th>\n",
       "      <th>EDREGTIME</th>\n",
       "      <th>EDOUTTIME</th>\n",
       "      <th>DIAGNOSIS</th>\n",
       "      <th>HOSPITAL_EXPIRE_FLAG</th>\n",
       "      <th>HAS_CHARTEVENTS_DATA</th>\n",
       "    </tr>\n",
       "  </thead>\n",
       "  <tbody>\n",
       "    <tr>\n",
       "      <th>0</th>\n",
       "      <td>234</td>\n",
       "      <td>249</td>\n",
       "      <td>F</td>\n",
       "      <td>2075-03-13 00:00:00</td>\n",
       "      <td>NaN</td>\n",
       "      <td>NaN</td>\n",
       "      <td>NaN</td>\n",
       "      <td>0</td>\n",
       "      <td>323</td>\n",
       "      <td>158975</td>\n",
       "      <td>...</td>\n",
       "      <td>Medicare</td>\n",
       "      <td>ENGL</td>\n",
       "      <td>CATHOLIC</td>\n",
       "      <td>DIVORCED</td>\n",
       "      <td>WHITE</td>\n",
       "      <td>NaN</td>\n",
       "      <td>NaN</td>\n",
       "      <td>GI BLEEDING\\COLONOSCOPY</td>\n",
       "      <td>0</td>\n",
       "      <td>1</td>\n",
       "    </tr>\n",
       "    <tr>\n",
       "      <th>1</th>\n",
       "      <td>235</td>\n",
       "      <td>250</td>\n",
       "      <td>F</td>\n",
       "      <td>2164-12-27 00:00:00</td>\n",
       "      <td>2188-11-22 00:00:00</td>\n",
       "      <td>2188-11-22 00:00:00</td>\n",
       "      <td>NaN</td>\n",
       "      <td>1</td>\n",
       "      <td>324</td>\n",
       "      <td>124271</td>\n",
       "      <td>...</td>\n",
       "      <td>Self Pay</td>\n",
       "      <td>HAIT</td>\n",
       "      <td>NOT SPECIFIED</td>\n",
       "      <td>SINGLE</td>\n",
       "      <td>BLACK</td>\n",
       "      <td>2188-11-12 06:56:00</td>\n",
       "      <td>2188-11-12 10:10:00</td>\n",
       "      <td>PNEUMONIA;R/O TB</td>\n",
       "      <td>1</td>\n",
       "      <td>1</td>\n",
       "    </tr>\n",
       "    <tr>\n",
       "      <th>2</th>\n",
       "      <td>236</td>\n",
       "      <td>251</td>\n",
       "      <td>M</td>\n",
       "      <td>2090-03-15 00:00:00</td>\n",
       "      <td>NaN</td>\n",
       "      <td>NaN</td>\n",
       "      <td>NaN</td>\n",
       "      <td>0</td>\n",
       "      <td>325</td>\n",
       "      <td>117937</td>\n",
       "      <td>...</td>\n",
       "      <td>Private</td>\n",
       "      <td>NaN</td>\n",
       "      <td>OTHER</td>\n",
       "      <td>NaN</td>\n",
       "      <td>UNKNOWN/NOT SPECIFIED</td>\n",
       "      <td>2110-07-27 05:00:00</td>\n",
       "      <td>2110-07-27 07:15:00</td>\n",
       "      <td>INTRACRANIAL HEAD BLEED</td>\n",
       "      <td>0</td>\n",
       "      <td>1</td>\n",
       "    </tr>\n",
       "    <tr>\n",
       "      <th>3</th>\n",
       "      <td>237</td>\n",
       "      <td>252</td>\n",
       "      <td>M</td>\n",
       "      <td>2078-03-06 00:00:00</td>\n",
       "      <td>NaN</td>\n",
       "      <td>NaN</td>\n",
       "      <td>NaN</td>\n",
       "      <td>0</td>\n",
       "      <td>327</td>\n",
       "      <td>193470</td>\n",
       "      <td>...</td>\n",
       "      <td>Private</td>\n",
       "      <td>NaN</td>\n",
       "      <td>UNOBTAINABLE</td>\n",
       "      <td>SINGLE</td>\n",
       "      <td>WHITE</td>\n",
       "      <td>2133-08-15 01:42:00</td>\n",
       "      <td>2133-08-15 04:45:00</td>\n",
       "      <td>GASTROINTESINAL BLEED</td>\n",
       "      <td>0</td>\n",
       "      <td>1</td>\n",
       "    </tr>\n",
       "    <tr>\n",
       "      <th>4</th>\n",
       "      <td>238</td>\n",
       "      <td>253</td>\n",
       "      <td>F</td>\n",
       "      <td>2089-11-26 00:00:00</td>\n",
       "      <td>NaN</td>\n",
       "      <td>NaN</td>\n",
       "      <td>NaN</td>\n",
       "      <td>0</td>\n",
       "      <td>328</td>\n",
       "      <td>176189</td>\n",
       "      <td>...</td>\n",
       "      <td>Medicare</td>\n",
       "      <td>NaN</td>\n",
       "      <td>CATHOLIC</td>\n",
       "      <td>WIDOWED</td>\n",
       "      <td>WHITE</td>\n",
       "      <td>NaN</td>\n",
       "      <td>NaN</td>\n",
       "      <td>COMPLETE HEART BLOCK\\PACEMAKER IMPLANT</td>\n",
       "      <td>0</td>\n",
       "      <td>1</td>\n",
       "    </tr>\n",
       "  </tbody>\n",
       "</table>\n",
       "<p>5 rows × 26 columns</p>\n",
       "</div>"
      ],
      "text/plain": [
       "   ROW_ID_x  SUBJECT_ID GENDER                  DOB                  DOD  \\\n",
       "0       234         249      F  2075-03-13 00:00:00                  NaN   \n",
       "1       235         250      F  2164-12-27 00:00:00  2188-11-22 00:00:00   \n",
       "2       236         251      M  2090-03-15 00:00:00                  NaN   \n",
       "3       237         252      M  2078-03-06 00:00:00                  NaN   \n",
       "4       238         253      F  2089-11-26 00:00:00                  NaN   \n",
       "\n",
       "              DOD_HOSP DOD_SSN  EXPIRE_FLAG  ROW_ID_y  HADM_ID  ... INSURANCE  \\\n",
       "0                  NaN     NaN            0       323   158975  ...  Medicare   \n",
       "1  2188-11-22 00:00:00     NaN            1       324   124271  ...  Self Pay   \n",
       "2                  NaN     NaN            0       325   117937  ...   Private   \n",
       "3                  NaN     NaN            0       327   193470  ...   Private   \n",
       "4                  NaN     NaN            0       328   176189  ...  Medicare   \n",
       "\n",
       "  LANGUAGE       RELIGION MARITAL_STATUS              ETHNICITY  \\\n",
       "0     ENGL       CATHOLIC       DIVORCED                  WHITE   \n",
       "1     HAIT  NOT SPECIFIED         SINGLE                  BLACK   \n",
       "2      NaN          OTHER            NaN  UNKNOWN/NOT SPECIFIED   \n",
       "3      NaN   UNOBTAINABLE         SINGLE                  WHITE   \n",
       "4      NaN       CATHOLIC        WIDOWED                  WHITE   \n",
       "\n",
       "             EDREGTIME            EDOUTTIME  \\\n",
       "0                  NaN                  NaN   \n",
       "1  2188-11-12 06:56:00  2188-11-12 10:10:00   \n",
       "2  2110-07-27 05:00:00  2110-07-27 07:15:00   \n",
       "3  2133-08-15 01:42:00  2133-08-15 04:45:00   \n",
       "4                  NaN                  NaN   \n",
       "\n",
       "                                DIAGNOSIS HOSPITAL_EXPIRE_FLAG  \\\n",
       "0                 GI BLEEDING\\COLONOSCOPY                    0   \n",
       "1                        PNEUMONIA;R/O TB                    1   \n",
       "2                 INTRACRANIAL HEAD BLEED                    0   \n",
       "3                   GASTROINTESINAL BLEED                    0   \n",
       "4  COMPLETE HEART BLOCK\\PACEMAKER IMPLANT                    0   \n",
       "\n",
       "  HAS_CHARTEVENTS_DATA  \n",
       "0                    1  \n",
       "1                    1  \n",
       "2                    1  \n",
       "3                    1  \n",
       "4                    1  \n",
       "\n",
       "[5 rows x 26 columns]"
      ]
     },
     "execution_count": 13,
     "metadata": {},
     "output_type": "execute_result"
    }
   ],
   "source": [
    "df_merge.head()"
   ]
  },
  {
   "cell_type": "code",
   "execution_count": 14,
   "id": "dbfde729-4bad-4bd7-9320-a035cc627253",
   "metadata": {},
   "outputs": [],
   "source": [
    "df_merge_female = df_merge[df_merge.GENDER == 'F']\n",
    "df_merge_male = df_merge[df_merge.GENDER == 'M']"
   ]
  },
  {
   "cell_type": "markdown",
   "id": "80cd351f-068b-4841-969b-563ea94dd7f1",
   "metadata": {
    "tags": []
   },
   "source": [
    "## Count Ethnicity"
   ]
  },
  {
   "cell_type": "code",
   "execution_count": 15,
   "id": "e13df3c9-0d91-42c1-b474-cf4520a10ef7",
   "metadata": {},
   "outputs": [],
   "source": [
    "# total count & prob for each ethnicity\n",
    "num_rac = df_uniadm.ETHNICITY.value_counts()\n",
    "rac_prob = df_merge.groupby('ETHNICITY').size().div(len(df_merge))*100"
   ]
  },
  {
   "cell_type": "code",
   "execution_count": 16,
   "id": "52fe2267-435b-4d74-bc56-92d94825b19a",
   "metadata": {},
   "outputs": [
    {
     "data": {
      "text/plain": [
       "ETHNICITY\n",
       "WHITE                                                       69.587274\n",
       "UNKNOWN/NOT SPECIFIED                                        8.886500\n",
       "BLACK                                                        8.303955\n",
       "ASIAN                                                        3.632846\n",
       "HISPANIC OR LATINO                                           3.529665\n",
       "OTHER                                                        2.770851\n",
       "UNABLE TO OBTAIN                                             1.691745\n",
       "PATIENT DECLINED TO ANSWER                                   1.051161\n",
       "MULTI RACE ETHNICITY                                         0.234308\n",
       "AMERICAN INDIAN/ALASKA NATIVE                                0.094583\n",
       "PORTUGUESE                                                   0.085985\n",
       "MIDDLE EASTERN                                               0.060189\n",
       "NATIVE HAWAIIAN OR OTHER PACIFIC ISLANDER                    0.032244\n",
       "CARIBBEAN ISLAND                                             0.017197\n",
       "SOUTH AMERICAN                                               0.017197\n",
       "AMERICAN INDIAN/ALASKA NATIVE FEDERALLY RECOGNIZED TRIBE     0.004299\n",
       "dtype: float64"
      ]
     },
     "execution_count": 16,
     "metadata": {},
     "output_type": "execute_result"
    }
   ],
   "source": [
    "rac_prob.sort_values(ascending=False)"
   ]
  },
  {
   "cell_type": "code",
   "execution_count": 17,
   "id": "7a2cba5e-c5ab-44e3-b206-f20e6136814d",
   "metadata": {},
   "outputs": [
    {
     "data": {
      "text/plain": [
       "WHITE                                                       32372\n",
       "UNKNOWN/NOT SPECIFIED                                        4134\n",
       "BLACK                                                        3863\n",
       "ASIAN                                                        1690\n",
       "HISPANIC OR LATINO                                           1642\n",
       "OTHER                                                        1289\n",
       "UNABLE TO OBTAIN                                              787\n",
       "PATIENT DECLINED TO ANSWER                                    489\n",
       "MULTI RACE ETHNICITY                                          109\n",
       "AMERICAN INDIAN/ALASKA NATIVE                                  44\n",
       "PORTUGUESE                                                     40\n",
       "MIDDLE EASTERN                                                 28\n",
       "NATIVE HAWAIIAN OR OTHER PACIFIC ISLANDER                      15\n",
       "SOUTH AMERICAN                                                  8\n",
       "CARIBBEAN ISLAND                                                8\n",
       "AMERICAN INDIAN/ALASKA NATIVE FEDERALLY RECOGNIZED TRIBE        2\n",
       "Name: ETHNICITY, dtype: int64"
      ]
     },
     "execution_count": 17,
     "metadata": {},
     "output_type": "execute_result"
    }
   ],
   "source": [
    "num_rac"
   ]
  },
  {
   "cell_type": "code",
   "execution_count": 18,
   "id": "adb86b5d-7d2c-4866-b86e-a23d0f5fdb71",
   "metadata": {},
   "outputs": [],
   "source": [
    "# total count for ethnicity in female\n",
    "num_rac_F = df_merge_female.ETHNICITY.value_counts()\n",
    "rac_female_prob = df_merge_female.groupby('ETHNICITY').size().div(len(df_merge_female))*100"
   ]
  },
  {
   "cell_type": "code",
   "execution_count": 19,
   "id": "52e1716a-a6a4-4897-b9dd-517cdc73d892",
   "metadata": {},
   "outputs": [
    {
     "data": {
      "text/plain": [
       "ETHNICITY\n",
       "WHITE                                                       69.106329\n",
       "BLACK                                                       10.054414\n",
       "UNKNOWN/NOT SPECIFIED                                        8.343546\n",
       "ASIAN                                                        3.647238\n",
       "HISPANIC OR LATINO                                           3.235453\n",
       "OTHER                                                        2.480514\n",
       "UNABLE TO OBTAIN                                             1.583411\n",
       "PATIENT DECLINED TO ANSWER                                   1.004951\n",
       "MULTI RACE ETHNICITY                                         0.245110\n",
       "AMERICAN INDIAN/ALASKA NATIVE                                0.093142\n",
       "PORTUGUESE                                                   0.093142\n",
       "MIDDLE EASTERN                                               0.044120\n",
       "NATIVE HAWAIIAN OR OTHER PACIFIC ISLANDER                    0.034315\n",
       "SOUTH AMERICAN                                               0.019609\n",
       "CARIBBEAN ISLAND                                             0.009804\n",
       "AMERICAN INDIAN/ALASKA NATIVE FEDERALLY RECOGNIZED TRIBE     0.004902\n",
       "dtype: float64"
      ]
     },
     "execution_count": 19,
     "metadata": {},
     "output_type": "execute_result"
    }
   ],
   "source": [
    "rac_female_prob.sort_values(ascending=False)"
   ]
  },
  {
   "cell_type": "code",
   "execution_count": 20,
   "id": "0de8f39a-d5c3-4197-a863-e50160d4b2ef",
   "metadata": {},
   "outputs": [
    {
     "data": {
      "text/plain": [
       "WHITE                                                       14097\n",
       "BLACK                                                        2051\n",
       "UNKNOWN/NOT SPECIFIED                                        1702\n",
       "ASIAN                                                         744\n",
       "HISPANIC OR LATINO                                            660\n",
       "OTHER                                                         506\n",
       "UNABLE TO OBTAIN                                              323\n",
       "PATIENT DECLINED TO ANSWER                                    205\n",
       "MULTI RACE ETHNICITY                                           50\n",
       "AMERICAN INDIAN/ALASKA NATIVE                                  19\n",
       "PORTUGUESE                                                     19\n",
       "MIDDLE EASTERN                                                  9\n",
       "NATIVE HAWAIIAN OR OTHER PACIFIC ISLANDER                       7\n",
       "SOUTH AMERICAN                                                  4\n",
       "CARIBBEAN ISLAND                                                2\n",
       "AMERICAN INDIAN/ALASKA NATIVE FEDERALLY RECOGNIZED TRIBE        1\n",
       "Name: ETHNICITY, dtype: int64"
      ]
     },
     "execution_count": 20,
     "metadata": {},
     "output_type": "execute_result"
    }
   ],
   "source": [
    "num_rac_F"
   ]
  },
  {
   "cell_type": "code",
   "execution_count": 21,
   "id": "02e83dd8-7490-4c10-898e-32dbac226a4c",
   "metadata": {},
   "outputs": [],
   "source": [
    "# total count for ethnicity in male\n",
    "num_rac_M = df_merge_male.ETHNICITY.value_counts()\n",
    "rac_male_prob = df_merge_male.groupby('ETHNICITY').size().div(len(df_merge_male))*100"
   ]
  },
  {
   "cell_type": "code",
   "execution_count": 22,
   "id": "5f236614-d857-43e6-bd15-562c233b5722",
   "metadata": {},
   "outputs": [
    {
     "data": {
      "text/plain": [
       "ETHNICITY\n",
       "WHITE                                                       69.962865\n",
       "UNKNOWN/NOT SPECIFIED                                        9.310516\n",
       "BLACK                                                        6.936947\n",
       "HISPANIC OR LATINO                                           3.759427\n",
       "ASIAN                                                        3.621607\n",
       "OTHER                                                        2.997588\n",
       "UNABLE TO OBTAIN                                             1.776349\n",
       "PATIENT DECLINED TO ANSWER                                   1.087248\n",
       "MULTI RACE ETHNICITY                                         0.225872\n",
       "AMERICAN INDIAN/ALASKA NATIVE                                0.095708\n",
       "PORTUGUESE                                                   0.080395\n",
       "MIDDLE EASTERN                                               0.072738\n",
       "NATIVE HAWAIIAN OR OTHER PACIFIC ISLANDER                    0.030627\n",
       "CARIBBEAN ISLAND                                             0.022970\n",
       "SOUTH AMERICAN                                               0.015313\n",
       "AMERICAN INDIAN/ALASKA NATIVE FEDERALLY RECOGNIZED TRIBE     0.003828\n",
       "dtype: float64"
      ]
     },
     "execution_count": 22,
     "metadata": {},
     "output_type": "execute_result"
    }
   ],
   "source": [
    "rac_male_prob.sort_values(ascending=False)"
   ]
  },
  {
   "cell_type": "code",
   "execution_count": 23,
   "id": "29f25f58-19bb-4288-80ff-77a4f3787a14",
   "metadata": {},
   "outputs": [
    {
     "data": {
      "text/plain": [
       "WHITE                                                       18275\n",
       "UNKNOWN/NOT SPECIFIED                                        2432\n",
       "BLACK                                                        1812\n",
       "HISPANIC OR LATINO                                            982\n",
       "ASIAN                                                         946\n",
       "OTHER                                                         783\n",
       "UNABLE TO OBTAIN                                              464\n",
       "PATIENT DECLINED TO ANSWER                                    284\n",
       "MULTI RACE ETHNICITY                                           59\n",
       "AMERICAN INDIAN/ALASKA NATIVE                                  25\n",
       "PORTUGUESE                                                     21\n",
       "MIDDLE EASTERN                                                 19\n",
       "NATIVE HAWAIIAN OR OTHER PACIFIC ISLANDER                       8\n",
       "CARIBBEAN ISLAND                                                6\n",
       "SOUTH AMERICAN                                                  4\n",
       "AMERICAN INDIAN/ALASKA NATIVE FEDERALLY RECOGNIZED TRIBE        1\n",
       "Name: ETHNICITY, dtype: int64"
      ]
     },
     "execution_count": 23,
     "metadata": {},
     "output_type": "execute_result"
    }
   ],
   "source": [
    "num_rac_M"
   ]
  },
  {
   "cell_type": "markdown",
   "id": "0ce3bad4-fc4f-4285-acca-0e7035baafd2",
   "metadata": {
    "tags": []
   },
   "source": [
    "## Count Admission Type"
   ]
  },
  {
   "cell_type": "code",
   "execution_count": 24,
   "id": "b1b41d1f-11b8-4a94-862e-e84119daac78",
   "metadata": {},
   "outputs": [],
   "source": [
    "# total number of admission\n",
    "num_adm = df_uniadm.ADMISSION_TYPE.value_counts()\n",
    "adm_prob = df_merge.groupby('ADMISSION_TYPE').size().div(len(df_merge))*100"
   ]
  },
  {
   "cell_type": "code",
   "execution_count": 25,
   "id": "7a633e86-4a64-4a8b-8962-2258c339befc",
   "metadata": {},
   "outputs": [
    {
     "data": {
      "text/plain": [
       "ADMISSION_TYPE\n",
       "ELECTIVE     12.996561\n",
       "EMERGENCY    68.372743\n",
       "NEWBORN      16.407997\n",
       "URGENT        2.222700\n",
       "dtype: float64"
      ]
     },
     "execution_count": 25,
     "metadata": {},
     "output_type": "execute_result"
    }
   ],
   "source": [
    "adm_prob"
   ]
  },
  {
   "cell_type": "code",
   "execution_count": 26,
   "id": "1829b3ba-0ecd-473b-a387-85b946152ef8",
   "metadata": {},
   "outputs": [
    {
     "data": {
      "text/plain": [
       "EMERGENCY    13983\n",
       "NEWBORN       3510\n",
       "ELECTIVE      2436\n",
       "URGENT         470\n",
       "Name: ADMISSION_TYPE, dtype: int64"
      ]
     },
     "execution_count": 26,
     "metadata": {},
     "output_type": "execute_result"
    }
   ],
   "source": [
    "# total number of admission in female\n",
    "num_adm_F = df_merge_female.ADMISSION_TYPE.value_counts()\n",
    "adm_female_prob = df_merge_female.groupby('ADMISSION_TYPE').size().div(len(df_merge_female))*100\n",
    "num_adm_F"
   ]
  },
  {
   "cell_type": "code",
   "execution_count": 27,
   "id": "f994b58e-542e-4c2a-86d0-1ba4e7b316f4",
   "metadata": {},
   "outputs": [
    {
     "data": {
      "text/plain": [
       "ADMISSION_TYPE\n",
       "ELECTIVE     11.941762\n",
       "EMERGENCY    68.547478\n",
       "NEWBORN      17.206726\n",
       "URGENT        2.304035\n",
       "dtype: float64"
      ]
     },
     "execution_count": 27,
     "metadata": {},
     "output_type": "execute_result"
    }
   ],
   "source": [
    "adm_female_prob"
   ]
  },
  {
   "cell_type": "code",
   "execution_count": 28,
   "id": "ecd44681-3f4f-40e2-8839-862248de1bde",
   "metadata": {},
   "outputs": [
    {
     "data": {
      "text/plain": [
       "EMERGENCY    17824\n",
       "NEWBORN       4123\n",
       "ELECTIVE      3610\n",
       "URGENT         564\n",
       "Name: ADMISSION_TYPE, dtype: int64"
      ]
     },
     "execution_count": 28,
     "metadata": {},
     "output_type": "execute_result"
    }
   ],
   "source": [
    "# total number of admission in male\n",
    "num_adm_M = df_merge_male.ADMISSION_TYPE.value_counts()\n",
    "adm_male_prob = df_merge_male.groupby('ADMISSION_TYPE').size().div(len(df_merge_male))*100\n",
    "num_adm_M"
   ]
  },
  {
   "cell_type": "code",
   "execution_count": 29,
   "id": "ee562110-d0fa-4cec-9a42-cc50d88a1664",
   "metadata": {},
   "outputs": [
    {
     "data": {
      "text/plain": [
       "ADMISSION_TYPE\n",
       "ELECTIVE     13.820298\n",
       "EMERGENCY    68.236285\n",
       "NEWBORN      15.784235\n",
       "URGENT        2.159182\n",
       "dtype: float64"
      ]
     },
     "execution_count": 29,
     "metadata": {},
     "output_type": "execute_result"
    }
   ],
   "source": [
    "adm_male_prob"
   ]
  },
  {
   "cell_type": "markdown",
   "id": "220b31cf-0018-4ca1-9090-f45d3bf8e128",
   "metadata": {
    "tags": []
   },
   "source": [
    "## Count Marital status"
   ]
  },
  {
   "cell_type": "code",
   "execution_count": 30,
   "id": "c01517e3-0ac0-451d-852e-65d2a761dee0",
   "metadata": {},
   "outputs": [
    {
     "data": {
      "text/plain": [
       "MARRIED              18492\n",
       "SINGLE                9767\n",
       "WIDOWED               5462\n",
       "DIVORCED              2331\n",
       "SEPARATED              384\n",
       "UNKNOWN (DEFAULT)      307\n",
       "LIFE PARTNER            13\n",
       "Name: MARITAL_STATUS, dtype: int64"
      ]
     },
     "execution_count": 30,
     "metadata": {},
     "output_type": "execute_result"
    }
   ],
   "source": [
    "# total number of marital status\n",
    "num_mar = df_uniadm.MARITAL_STATUS.value_counts()\n",
    "mar_prob = df_uniadm.groupby('MARITAL_STATUS').size().div(len(df_uniadm))*100\n",
    "num_mar"
   ]
  },
  {
   "cell_type": "code",
   "execution_count": 31,
   "id": "f902e3da-89e9-467a-aab0-085d452e37ce",
   "metadata": {},
   "outputs": [
    {
     "data": {
      "text/plain": [
       "MARITAL_STATUS\n",
       "MARRIED              39.750645\n",
       "SINGLE               20.995271\n",
       "WIDOWED              11.741187\n",
       "DIVORCED              5.010748\n",
       "SEPARATED             0.825451\n",
       "UNKNOWN (DEFAULT)     0.659931\n",
       "LIFE PARTNER          0.027945\n",
       "dtype: float64"
      ]
     },
     "execution_count": 31,
     "metadata": {},
     "output_type": "execute_result"
    }
   ],
   "source": [
    "mar_prob.sort_values(ascending=False)"
   ]
  },
  {
   "cell_type": "code",
   "execution_count": 32,
   "id": "789aa02e-d0d5-46c7-8842-2a45cd7fd721",
   "metadata": {},
   "outputs": [],
   "source": [
    "# total number of marital status in female"
   ]
  },
  {
   "cell_type": "code",
   "execution_count": 33,
   "id": "995435bb-7611-4478-a1e7-4c06197b353f",
   "metadata": {},
   "outputs": [
    {
     "data": {
      "text/plain": [
       "MARRIED              6192\n",
       "SINGLE               4154\n",
       "WIDOWED              4065\n",
       "DIVORCED             1219\n",
       "SEPARATED             212\n",
       "UNKNOWN (DEFAULT)     154\n",
       "LIFE PARTNER            5\n",
       "Name: MARITAL_STATUS, dtype: int64"
      ]
     },
     "execution_count": 33,
     "metadata": {},
     "output_type": "execute_result"
    }
   ],
   "source": [
    "num_mar_F = df_merge_female.MARITAL_STATUS.value_counts()\n",
    "mar_female_prob = df_merge_female.groupby('MARITAL_STATUS').size().div(len(df_merge_female))*100\n",
    "num_mar_F"
   ]
  },
  {
   "cell_type": "code",
   "execution_count": 34,
   "id": "67f2d45f-2689-4e8a-9e54-b03a853641b8",
   "metadata": {},
   "outputs": [
    {
     "data": {
      "text/plain": [
       "MARITAL_STATUS\n",
       "MARRIED              30.354429\n",
       "SINGLE               20.363743\n",
       "WIDOWED              19.927447\n",
       "DIVORCED              5.975783\n",
       "SEPARATED             1.039267\n",
       "UNKNOWN (DEFAULT)     0.754939\n",
       "LIFE PARTNER          0.024511\n",
       "dtype: float64"
      ]
     },
     "execution_count": 34,
     "metadata": {},
     "output_type": "execute_result"
    }
   ],
   "source": [
    "mar_female_prob.sort_values(ascending=False)"
   ]
  },
  {
   "cell_type": "code",
   "execution_count": 35,
   "id": "61a2f77e-72cc-4560-95f4-a0c07f042281",
   "metadata": {},
   "outputs": [
    {
     "data": {
      "text/plain": [
       "MARRIED              12300\n",
       "SINGLE                5613\n",
       "WIDOWED               1397\n",
       "DIVORCED              1112\n",
       "SEPARATED              172\n",
       "UNKNOWN (DEFAULT)      153\n",
       "LIFE PARTNER             8\n",
       "Name: MARITAL_STATUS, dtype: int64"
      ]
     },
     "execution_count": 35,
     "metadata": {},
     "output_type": "execute_result"
    }
   ],
   "source": [
    "# total number of marital status in male\n",
    "num_mar_M = df_merge_male.MARITAL_STATUS.value_counts()\n",
    "mar_male_prob = df_merge_male.groupby('MARITAL_STATUS').size().div(len(df_merge_male))*100\n",
    "num_mar_M"
   ]
  },
  {
   "cell_type": "code",
   "execution_count": 36,
   "id": "6c2618d6-41a1-4efb-b13a-2b2c65bcd9f9",
   "metadata": {},
   "outputs": [
    {
     "data": {
      "text/plain": [
       "MARITAL_STATUS\n",
       "MARRIED              47.088549\n",
       "SINGLE               21.488458\n",
       "WIDOWED               5.348187\n",
       "DIVORCED              4.257111\n",
       "SEPARATED             0.658474\n",
       "UNKNOWN (DEFAULT)     0.585736\n",
       "LIFE PARTNER          0.030627\n",
       "dtype: float64"
      ]
     },
     "execution_count": 36,
     "metadata": {},
     "output_type": "execute_result"
    }
   ],
   "source": [
    "mar_male_prob.sort_values(ascending=False)"
   ]
  },
  {
   "cell_type": "markdown",
   "id": "aff77061-0ede-481a-a8b6-4dd3123034e8",
   "metadata": {
    "jp-MarkdownHeadingCollapsed": true,
    "tags": []
   },
   "source": [
    "# Calculate Age "
   ]
  },
  {
   "cell_type": "code",
   "execution_count": 37,
   "id": "027de167-25ea-4383-9d2b-61c52dc5a455",
   "metadata": {},
   "outputs": [
    {
     "data": {
      "text/html": [
       "<div>\n",
       "<style scoped>\n",
       "    .dataframe tbody tr th:only-of-type {\n",
       "        vertical-align: middle;\n",
       "    }\n",
       "\n",
       "    .dataframe tbody tr th {\n",
       "        vertical-align: top;\n",
       "    }\n",
       "\n",
       "    .dataframe thead th {\n",
       "        text-align: right;\n",
       "    }\n",
       "</style>\n",
       "<table border=\"1\" class=\"dataframe\">\n",
       "  <thead>\n",
       "    <tr style=\"text-align: right;\">\n",
       "      <th></th>\n",
       "      <th>ROW_ID_x</th>\n",
       "      <th>SUBJECT_ID</th>\n",
       "      <th>HADM_ID</th>\n",
       "      <th>ADMITTIME</th>\n",
       "      <th>DISCHTIME</th>\n",
       "      <th>DEATHTIME</th>\n",
       "      <th>ADMISSION_TYPE</th>\n",
       "      <th>ADMISSION_LOCATION</th>\n",
       "      <th>DISCHARGE_LOCATION</th>\n",
       "      <th>INSURANCE</th>\n",
       "      <th>...</th>\n",
       "      <th>DIAGNOSIS</th>\n",
       "      <th>HOSPITAL_EXPIRE_FLAG</th>\n",
       "      <th>HAS_CHARTEVENTS_DATA</th>\n",
       "      <th>ROW_ID_y</th>\n",
       "      <th>GENDER</th>\n",
       "      <th>DOB</th>\n",
       "      <th>DOD</th>\n",
       "      <th>DOD_HOSP</th>\n",
       "      <th>DOD_SSN</th>\n",
       "      <th>EXPIRE_FLAG</th>\n",
       "    </tr>\n",
       "  </thead>\n",
       "  <tbody>\n",
       "    <tr>\n",
       "      <th>58971</th>\n",
       "      <td>58592</td>\n",
       "      <td>98794</td>\n",
       "      <td>190603</td>\n",
       "      <td>2127-11-07 11:00:00</td>\n",
       "      <td>2127-11-11 14:30:00</td>\n",
       "      <td>NaN</td>\n",
       "      <td>ELECTIVE</td>\n",
       "      <td>PHYS REFERRAL/NORMAL DELI</td>\n",
       "      <td>HOME HEALTH CARE</td>\n",
       "      <td>Medicare</td>\n",
       "      <td>...</td>\n",
       "      <td>AORTIC STENOSIS\\AORTIC VALVE REPLACEMENT /SDA</td>\n",
       "      <td>0</td>\n",
       "      <td>1</td>\n",
       "      <td>46211</td>\n",
       "      <td>M</td>\n",
       "      <td>2049-07-29 00:00:00</td>\n",
       "      <td>NaN</td>\n",
       "      <td>NaN</td>\n",
       "      <td>NaN</td>\n",
       "      <td>0</td>\n",
       "    </tr>\n",
       "    <tr>\n",
       "      <th>58972</th>\n",
       "      <td>58593</td>\n",
       "      <td>98797</td>\n",
       "      <td>105447</td>\n",
       "      <td>2132-12-24 20:06:00</td>\n",
       "      <td>2132-12-25 12:00:00</td>\n",
       "      <td>2132-12-25 12:00:00</td>\n",
       "      <td>EMERGENCY</td>\n",
       "      <td>EMERGENCY ROOM ADMIT</td>\n",
       "      <td>DEAD/EXPIRED</td>\n",
       "      <td>Medicare</td>\n",
       "      <td>...</td>\n",
       "      <td>ALTERED MENTAL STATUS</td>\n",
       "      <td>1</td>\n",
       "      <td>1</td>\n",
       "      <td>46212</td>\n",
       "      <td>M</td>\n",
       "      <td>2044-12-27 00:00:00</td>\n",
       "      <td>2132-12-25 00:00:00</td>\n",
       "      <td>2132-12-25 00:00:00</td>\n",
       "      <td>NaN</td>\n",
       "      <td>1</td>\n",
       "    </tr>\n",
       "    <tr>\n",
       "      <th>58973</th>\n",
       "      <td>58594</td>\n",
       "      <td>98800</td>\n",
       "      <td>191113</td>\n",
       "      <td>2131-03-30 21:13:00</td>\n",
       "      <td>2131-04-02 15:02:00</td>\n",
       "      <td>NaN</td>\n",
       "      <td>EMERGENCY</td>\n",
       "      <td>CLINIC REFERRAL/PREMATURE</td>\n",
       "      <td>HOME</td>\n",
       "      <td>Private</td>\n",
       "      <td>...</td>\n",
       "      <td>TRAUMA</td>\n",
       "      <td>0</td>\n",
       "      <td>1</td>\n",
       "      <td>46213</td>\n",
       "      <td>F</td>\n",
       "      <td>2111-11-05 00:00:00</td>\n",
       "      <td>NaN</td>\n",
       "      <td>NaN</td>\n",
       "      <td>NaN</td>\n",
       "      <td>0</td>\n",
       "    </tr>\n",
       "    <tr>\n",
       "      <th>58974</th>\n",
       "      <td>58595</td>\n",
       "      <td>98802</td>\n",
       "      <td>101071</td>\n",
       "      <td>2151-03-05 20:00:00</td>\n",
       "      <td>2151-03-06 09:10:00</td>\n",
       "      <td>2151-03-06 09:10:00</td>\n",
       "      <td>EMERGENCY</td>\n",
       "      <td>CLINIC REFERRAL/PREMATURE</td>\n",
       "      <td>DEAD/EXPIRED</td>\n",
       "      <td>Medicare</td>\n",
       "      <td>...</td>\n",
       "      <td>SAH</td>\n",
       "      <td>1</td>\n",
       "      <td>1</td>\n",
       "      <td>46214</td>\n",
       "      <td>F</td>\n",
       "      <td>2067-09-21 00:00:00</td>\n",
       "      <td>2151-03-06 00:00:00</td>\n",
       "      <td>2151-03-06 00:00:00</td>\n",
       "      <td>NaN</td>\n",
       "      <td>1</td>\n",
       "    </tr>\n",
       "    <tr>\n",
       "      <th>58975</th>\n",
       "      <td>58596</td>\n",
       "      <td>98805</td>\n",
       "      <td>122631</td>\n",
       "      <td>2200-09-12 07:15:00</td>\n",
       "      <td>2200-09-20 12:08:00</td>\n",
       "      <td>NaN</td>\n",
       "      <td>ELECTIVE</td>\n",
       "      <td>PHYS REFERRAL/NORMAL DELI</td>\n",
       "      <td>HOME HEALTH CARE</td>\n",
       "      <td>Private</td>\n",
       "      <td>...</td>\n",
       "      <td>RENAL CANCER/SDA</td>\n",
       "      <td>0</td>\n",
       "      <td>1</td>\n",
       "      <td>46215</td>\n",
       "      <td>M</td>\n",
       "      <td>2158-03-02 00:00:00</td>\n",
       "      <td>NaN</td>\n",
       "      <td>NaN</td>\n",
       "      <td>NaN</td>\n",
       "      <td>0</td>\n",
       "    </tr>\n",
       "  </tbody>\n",
       "</table>\n",
       "<p>5 rows × 26 columns</p>\n",
       "</div>"
      ],
      "text/plain": [
       "       ROW_ID_x  SUBJECT_ID  HADM_ID            ADMITTIME  \\\n",
       "58971     58592       98794   190603  2127-11-07 11:00:00   \n",
       "58972     58593       98797   105447  2132-12-24 20:06:00   \n",
       "58973     58594       98800   191113  2131-03-30 21:13:00   \n",
       "58974     58595       98802   101071  2151-03-05 20:00:00   \n",
       "58975     58596       98805   122631  2200-09-12 07:15:00   \n",
       "\n",
       "                 DISCHTIME            DEATHTIME ADMISSION_TYPE  \\\n",
       "58971  2127-11-11 14:30:00                  NaN       ELECTIVE   \n",
       "58972  2132-12-25 12:00:00  2132-12-25 12:00:00      EMERGENCY   \n",
       "58973  2131-04-02 15:02:00                  NaN      EMERGENCY   \n",
       "58974  2151-03-06 09:10:00  2151-03-06 09:10:00      EMERGENCY   \n",
       "58975  2200-09-20 12:08:00                  NaN       ELECTIVE   \n",
       "\n",
       "              ADMISSION_LOCATION DISCHARGE_LOCATION INSURANCE  ...  \\\n",
       "58971  PHYS REFERRAL/NORMAL DELI   HOME HEALTH CARE  Medicare  ...   \n",
       "58972       EMERGENCY ROOM ADMIT       DEAD/EXPIRED  Medicare  ...   \n",
       "58973  CLINIC REFERRAL/PREMATURE               HOME   Private  ...   \n",
       "58974  CLINIC REFERRAL/PREMATURE       DEAD/EXPIRED  Medicare  ...   \n",
       "58975  PHYS REFERRAL/NORMAL DELI   HOME HEALTH CARE   Private  ...   \n",
       "\n",
       "                                           DIAGNOSIS HOSPITAL_EXPIRE_FLAG  \\\n",
       "58971  AORTIC STENOSIS\\AORTIC VALVE REPLACEMENT /SDA                    0   \n",
       "58972                          ALTERED MENTAL STATUS                    1   \n",
       "58973                                         TRAUMA                    0   \n",
       "58974                                            SAH                    1   \n",
       "58975                               RENAL CANCER/SDA                    0   \n",
       "\n",
       "      HAS_CHARTEVENTS_DATA ROW_ID_y GENDER                  DOB  \\\n",
       "58971                    1    46211      M  2049-07-29 00:00:00   \n",
       "58972                    1    46212      M  2044-12-27 00:00:00   \n",
       "58973                    1    46213      F  2111-11-05 00:00:00   \n",
       "58974                    1    46214      F  2067-09-21 00:00:00   \n",
       "58975                    1    46215      M  2158-03-02 00:00:00   \n",
       "\n",
       "                       DOD             DOD_HOSP  DOD_SSN  EXPIRE_FLAG  \n",
       "58971                  NaN                  NaN      NaN            0  \n",
       "58972  2132-12-25 00:00:00  2132-12-25 00:00:00      NaN            1  \n",
       "58973                  NaN                  NaN      NaN            0  \n",
       "58974  2151-03-06 00:00:00  2151-03-06 00:00:00      NaN            1  \n",
       "58975                  NaN                  NaN      NaN            0  \n",
       "\n",
       "[5 rows x 26 columns]"
      ]
     },
     "execution_count": 37,
     "metadata": {},
     "output_type": "execute_result"
    }
   ],
   "source": [
    "adm_age = pd.merge( df_adm , df_pat, how='inner', on='SUBJECT_ID')\n",
    "adm_age.tail(5)"
   ]
  },
  {
   "cell_type": "code",
   "execution_count": 186,
   "id": "03032599-3b3f-4e9f-ad16-241a01b6a202",
   "metadata": {},
   "outputs": [
    {
     "data": {
      "text/plain": [
       "(58976, 27)"
      ]
     },
     "execution_count": 186,
     "metadata": {},
     "output_type": "execute_result"
    }
   ],
   "source": [
    "adm_age.shape"
   ]
  },
  {
   "cell_type": "code",
   "execution_count": 39,
   "id": "41c222f0-371a-4c7b-a61b-0fe8213c9382",
   "metadata": {},
   "outputs": [],
   "source": [
    "adm_age['ADMITTIME'] = pd.to_datetime(adm_age['ADMITTIME']).dt.date\n",
    "adm_age['DISCHTIME'] = pd.to_datetime(adm_age['DISCHTIME']).dt.date\n",
    "\n",
    "adm_age['DOB'] = pd.to_datetime(adm_age['DOB']).dt.date\n",
    "\n",
    "adm_age['AGE'] = (adm_age['ADMITTIME']-adm_age['DOB']).apply(lambda x: int(x.days/365))"
   ]
  },
  {
   "cell_type": "code",
   "execution_count": 40,
   "id": "b432da16-f2b5-442d-8ded-50f18fc3e679",
   "metadata": {},
   "outputs": [],
   "source": [
    "adm_age = adm_age.drop(['ROW_ID_x', 'ROW_ID_y'], axis=1)"
   ]
  },
  {
   "cell_type": "code",
   "execution_count": 41,
   "id": "06e130d0-6ccc-432f-8790-a33084278dc8",
   "metadata": {},
   "outputs": [],
   "source": [
    "# Add admit times\n",
    "adm_age['ADMIT_TIMES'] = adm_age.groupby('SUBJECT_ID').SUBJECT_ID.transform('count')\n",
    "# Add length stay\n",
    "adm_age['LENGTH_STAY'] = (adm_age['DISCHTIME'] - adm_age['ADMITTIME']).apply(lambda x: int(x.days))"
   ]
  },
  {
   "cell_type": "markdown",
   "id": "36f8ac80-7f4a-4dbb-9904-fd288d24ac15",
   "metadata": {
    "tags": []
   },
   "source": [
    "# Filter Out VTE"
   ]
  },
  {
   "cell_type": "code",
   "execution_count": 42,
   "id": "10397fb2-68f3-4841-a29c-25156c6fb38a",
   "metadata": {},
   "outputs": [],
   "source": [
    "lista = ['4511', '4512', '45181', '4534', '4535', '45183', '45184', '45189', '45372', '45373', '45374', '45375', '45376', '45377', '45382', '45383', '45384', '45385', '45386', '45387', '4510', '4519', '4520', '4530', '4530', '4531', '4532', '4533', '45379', '4538', '45389', '4539']\n",
    "df_vte = df_dia_icd.loc[df_dia_icd['ICD9_CODE'].isin(lista)]"
   ]
  },
  {
   "cell_type": "markdown",
   "id": "ff8e684b-4cd1-4a44-ab69-e3276b8df67a",
   "metadata": {},
   "source": [
    "# df_vte.shape"
   ]
  },
  {
   "cell_type": "markdown",
   "id": "1db40d92-6e66-4cbe-b6aa-7c59f84c7948",
   "metadata": {
    "tags": []
   },
   "source": [
    "## Merge admission_age df and vte df"
   ]
  },
  {
   "cell_type": "code",
   "execution_count": 43,
   "id": "7c52053e-f3e3-4f73-9ca4-1331e1f648a9",
   "metadata": {},
   "outputs": [],
   "source": [
    "vte_adm = pd.merge(df_vte, adm_age, how='inner', on=['SUBJECT_ID', 'HADM_ID'])"
   ]
  },
  {
   "cell_type": "markdown",
   "id": "ffb2a11c-e60c-46fc-9705-e067529c104c",
   "metadata": {
    "tags": []
   },
   "source": [
    "#### Gender Count in total"
   ]
  },
  {
   "cell_type": "code",
   "execution_count": 174,
   "id": "2cda8a97-25f2-4b79-bfef-ecd3b05d2424",
   "metadata": {},
   "outputs": [
    {
     "data": {
      "text/plain": [
       "M    652\n",
       "F    501\n",
       "Name: GENDER, dtype: int64"
      ]
     },
     "execution_count": 174,
     "metadata": {},
     "output_type": "execute_result"
    }
   ],
   "source": [
    "vte_adm.GENDER.value_counts()"
   ]
  },
  {
   "cell_type": "code",
   "execution_count": 187,
   "id": "f9c77f4b-a9c6-4cb4-b8a8-29030ec3d858",
   "metadata": {},
   "outputs": [
    {
     "data": {
      "text/plain": [
       "(1153, 31)"
      ]
     },
     "execution_count": 187,
     "metadata": {},
     "output_type": "execute_result"
    }
   ],
   "source": [
    "vte_adm.shape"
   ]
  },
  {
   "cell_type": "code",
   "execution_count": 54,
   "id": "5db167eb-21ba-4618-9f2a-c709930ac633",
   "metadata": {},
   "outputs": [],
   "source": [
    "vte_adm = vte_adm.sort_values(by='AGE')"
   ]
  },
  {
   "cell_type": "code",
   "execution_count": 55,
   "id": "cf675cad-cfe0-4d75-beb0-81a02b2f338b",
   "metadata": {},
   "outputs": [
    {
     "data": {
      "text/html": [
       "<div>\n",
       "<style scoped>\n",
       "    .dataframe tbody tr th:only-of-type {\n",
       "        vertical-align: middle;\n",
       "    }\n",
       "\n",
       "    .dataframe tbody tr th {\n",
       "        vertical-align: top;\n",
       "    }\n",
       "\n",
       "    .dataframe thead th {\n",
       "        text-align: right;\n",
       "    }\n",
       "</style>\n",
       "<table border=\"1\" class=\"dataframe\">\n",
       "  <thead>\n",
       "    <tr style=\"text-align: right;\">\n",
       "      <th></th>\n",
       "      <th>ROW_ID</th>\n",
       "      <th>SUBJECT_ID</th>\n",
       "      <th>HADM_ID</th>\n",
       "      <th>SEQ_NUM</th>\n",
       "      <th>ICD9_CODE</th>\n",
       "      <th>ADMITTIME</th>\n",
       "      <th>DISCHTIME</th>\n",
       "      <th>DEATHTIME</th>\n",
       "      <th>ADMISSION_TYPE</th>\n",
       "      <th>ADMISSION_LOCATION</th>\n",
       "      <th>...</th>\n",
       "      <th>HAS_CHARTEVENTS_DATA</th>\n",
       "      <th>GENDER</th>\n",
       "      <th>DOB</th>\n",
       "      <th>DOD</th>\n",
       "      <th>DOD_HOSP</th>\n",
       "      <th>DOD_SSN</th>\n",
       "      <th>EXPIRE_FLAG</th>\n",
       "      <th>AGE</th>\n",
       "      <th>ADMIT_TIMES</th>\n",
       "      <th>LENGTH_STAY</th>\n",
       "    </tr>\n",
       "  </thead>\n",
       "  <tbody>\n",
       "    <tr>\n",
       "      <th>27</th>\n",
       "      <td>10124</td>\n",
       "      <td>873</td>\n",
       "      <td>162837</td>\n",
       "      <td>5.0</td>\n",
       "      <td>4532</td>\n",
       "      <td>2134-02-24</td>\n",
       "      <td>2134-03-26</td>\n",
       "      <td>NaN</td>\n",
       "      <td>NEWBORN</td>\n",
       "      <td>CLINIC REFERRAL/PREMATURE</td>\n",
       "      <td>...</td>\n",
       "      <td>1</td>\n",
       "      <td>M</td>\n",
       "      <td>2134-02-24</td>\n",
       "      <td>NaN</td>\n",
       "      <td>NaN</td>\n",
       "      <td>NaN</td>\n",
       "      <td>0</td>\n",
       "      <td>0</td>\n",
       "      <td>1</td>\n",
       "      <td>30</td>\n",
       "    </tr>\n",
       "    <tr>\n",
       "      <th>28</th>\n",
       "      <td>10126</td>\n",
       "      <td>873</td>\n",
       "      <td>162837</td>\n",
       "      <td>7.0</td>\n",
       "      <td>4533</td>\n",
       "      <td>2134-02-24</td>\n",
       "      <td>2134-03-26</td>\n",
       "      <td>NaN</td>\n",
       "      <td>NEWBORN</td>\n",
       "      <td>CLINIC REFERRAL/PREMATURE</td>\n",
       "      <td>...</td>\n",
       "      <td>1</td>\n",
       "      <td>M</td>\n",
       "      <td>2134-02-24</td>\n",
       "      <td>NaN</td>\n",
       "      <td>NaN</td>\n",
       "      <td>NaN</td>\n",
       "      <td>0</td>\n",
       "      <td>0</td>\n",
       "      <td>1</td>\n",
       "      <td>30</td>\n",
       "    </tr>\n",
       "    <tr>\n",
       "      <th>718</th>\n",
       "      <td>363667</td>\n",
       "      <td>31597</td>\n",
       "      <td>131426</td>\n",
       "      <td>11.0</td>\n",
       "      <td>4519</td>\n",
       "      <td>2199-05-27</td>\n",
       "      <td>2199-09-02</td>\n",
       "      <td>NaN</td>\n",
       "      <td>NEWBORN</td>\n",
       "      <td>CLINIC REFERRAL/PREMATURE</td>\n",
       "      <td>...</td>\n",
       "      <td>1</td>\n",
       "      <td>M</td>\n",
       "      <td>2199-05-27</td>\n",
       "      <td>NaN</td>\n",
       "      <td>NaN</td>\n",
       "      <td>NaN</td>\n",
       "      <td>0</td>\n",
       "      <td>0</td>\n",
       "      <td>1</td>\n",
       "      <td>98</td>\n",
       "    </tr>\n",
       "    <tr>\n",
       "      <th>135</th>\n",
       "      <td>75190</td>\n",
       "      <td>6732</td>\n",
       "      <td>152060</td>\n",
       "      <td>2.0</td>\n",
       "      <td>4538</td>\n",
       "      <td>2197-11-02</td>\n",
       "      <td>2197-11-09</td>\n",
       "      <td>NaN</td>\n",
       "      <td>ELECTIVE</td>\n",
       "      <td>PHYS REFERRAL/NORMAL DELI</td>\n",
       "      <td>...</td>\n",
       "      <td>1</td>\n",
       "      <td>F</td>\n",
       "      <td>2180-06-01</td>\n",
       "      <td>2198-04-02 00:00:00</td>\n",
       "      <td>NaN</td>\n",
       "      <td>2198-04-02 00:00:00</td>\n",
       "      <td>1</td>\n",
       "      <td>17</td>\n",
       "      <td>1</td>\n",
       "      <td>7</td>\n",
       "    </tr>\n",
       "    <tr>\n",
       "      <th>134</th>\n",
       "      <td>75189</td>\n",
       "      <td>6732</td>\n",
       "      <td>152060</td>\n",
       "      <td>1.0</td>\n",
       "      <td>4532</td>\n",
       "      <td>2197-11-02</td>\n",
       "      <td>2197-11-09</td>\n",
       "      <td>NaN</td>\n",
       "      <td>ELECTIVE</td>\n",
       "      <td>PHYS REFERRAL/NORMAL DELI</td>\n",
       "      <td>...</td>\n",
       "      <td>1</td>\n",
       "      <td>F</td>\n",
       "      <td>2180-06-01</td>\n",
       "      <td>2198-04-02 00:00:00</td>\n",
       "      <td>NaN</td>\n",
       "      <td>2198-04-02 00:00:00</td>\n",
       "      <td>1</td>\n",
       "      <td>17</td>\n",
       "      <td>1</td>\n",
       "      <td>7</td>\n",
       "    </tr>\n",
       "  </tbody>\n",
       "</table>\n",
       "<p>5 rows × 30 columns</p>\n",
       "</div>"
      ],
      "text/plain": [
       "     ROW_ID  SUBJECT_ID  HADM_ID  SEQ_NUM ICD9_CODE   ADMITTIME   DISCHTIME  \\\n",
       "27    10124         873   162837      5.0      4532  2134-02-24  2134-03-26   \n",
       "28    10126         873   162837      7.0      4533  2134-02-24  2134-03-26   \n",
       "718  363667       31597   131426     11.0      4519  2199-05-27  2199-09-02   \n",
       "135   75190        6732   152060      2.0      4538  2197-11-02  2197-11-09   \n",
       "134   75189        6732   152060      1.0      4532  2197-11-02  2197-11-09   \n",
       "\n",
       "    DEATHTIME ADMISSION_TYPE         ADMISSION_LOCATION  ...  \\\n",
       "27        NaN        NEWBORN  CLINIC REFERRAL/PREMATURE  ...   \n",
       "28        NaN        NEWBORN  CLINIC REFERRAL/PREMATURE  ...   \n",
       "718       NaN        NEWBORN  CLINIC REFERRAL/PREMATURE  ...   \n",
       "135       NaN       ELECTIVE  PHYS REFERRAL/NORMAL DELI  ...   \n",
       "134       NaN       ELECTIVE  PHYS REFERRAL/NORMAL DELI  ...   \n",
       "\n",
       "    HAS_CHARTEVENTS_DATA GENDER         DOB                  DOD DOD_HOSP  \\\n",
       "27                     1      M  2134-02-24                  NaN      NaN   \n",
       "28                     1      M  2134-02-24                  NaN      NaN   \n",
       "718                    1      M  2199-05-27                  NaN      NaN   \n",
       "135                    1      F  2180-06-01  2198-04-02 00:00:00      NaN   \n",
       "134                    1      F  2180-06-01  2198-04-02 00:00:00      NaN   \n",
       "\n",
       "                 DOD_SSN EXPIRE_FLAG AGE ADMIT_TIMES  LENGTH_STAY  \n",
       "27                   NaN           0   0           1           30  \n",
       "28                   NaN           0   0           1           30  \n",
       "718                  NaN           0   0           1           98  \n",
       "135  2198-04-02 00:00:00           1  17           1            7  \n",
       "134  2198-04-02 00:00:00           1  17           1            7  \n",
       "\n",
       "[5 rows x 30 columns]"
      ]
     },
     "execution_count": 55,
     "metadata": {},
     "output_type": "execute_result"
    }
   ],
   "source": [
    "vte_adm.head()"
   ]
  },
  {
   "cell_type": "code",
   "execution_count": 56,
   "id": "c8e29f7d-c804-4d51-9239-682a2288632d",
   "metadata": {},
   "outputs": [],
   "source": [
    "condition = [((vte_adm['AGE']>=0) & (vte_adm['AGE']<=9)),\n",
    "            ((vte_adm['AGE']>=10) & (vte_adm['AGE']<=19)),\n",
    "            ((vte_adm['AGE']>=20) & (vte_adm['AGE']<=29)),\n",
    "            ((vte_adm['AGE']>=30) & (vte_adm['AGE']<=39)),\n",
    "            ((vte_adm['AGE']>=40) & (vte_adm['AGE']<=49)),\n",
    "            ((vte_adm['AGE']>=50) & (vte_adm['AGE']<=59)),\n",
    "            ((vte_adm['AGE']>=60) & (vte_adm['AGE']<=69)),\n",
    "            ((vte_adm['AGE']>=70) & (vte_adm['AGE']<=79)),\n",
    "            ((vte_adm['AGE']>=80) & (vte_adm['AGE']<=89)),\n",
    "            (vte_adm['AGE'] > 89)]\n",
    "\n",
    "age_range = ['[0-9]', '[10-19]', '[20-29]', '[30-39]', '[40-49]', '[50-59]', '[60-69]', '[70-79]', '[80-89]', '[89+]']\n",
    "\n",
    "vte_adm['AGE_RANGE'] = np.select(condition, age_range)"
   ]
  },
  {
   "cell_type": "code",
   "execution_count": 57,
   "id": "939d9066-b424-4fb6-9eca-c955daca249a",
   "metadata": {},
   "outputs": [
    {
     "data": {
      "text/plain": [
       "AGE_RANGE\n",
       "[0-9]        3\n",
       "[10-19]      8\n",
       "[20-29]     33\n",
       "[30-39]     72\n",
       "[40-49]    132\n",
       "[50-59]    224\n",
       "[60-69]    249\n",
       "[70-79]    243\n",
       "[80-89]    153\n",
       "[89+]       36\n",
       "dtype: int64"
      ]
     },
     "execution_count": 57,
     "metadata": {},
     "output_type": "execute_result"
    }
   ],
   "source": [
    "vte_adm.groupby('AGE_RANGE').size()"
   ]
  },
  {
   "cell_type": "code",
   "execution_count": 58,
   "id": "10bd81af-0a87-4f83-a6e7-eb2bab516f28",
   "metadata": {},
   "outputs": [
    {
     "data": {
      "text/plain": [
       "count    1153.000000\n",
       "mean       68.940156\n",
       "std        44.486586\n",
       "min         0.000000\n",
       "25%        51.000000\n",
       "50%        64.000000\n",
       "75%        76.000000\n",
       "max       307.000000\n",
       "Name: AGE, dtype: float64"
      ]
     },
     "execution_count": 58,
     "metadata": {},
     "output_type": "execute_result"
    }
   ],
   "source": [
    "vte_adm['AGE'].describe()"
   ]
  },
  {
   "cell_type": "code",
   "execution_count": 59,
   "id": "29261f43-d88c-4d40-b521-8a8b331e4e9f",
   "metadata": {},
   "outputs": [
    {
     "data": {
      "text/plain": [
       "count    501.000000\n",
       "mean      71.315369\n",
       "std       49.533750\n",
       "min       17.000000\n",
       "25%       51.000000\n",
       "50%       66.000000\n",
       "75%       76.000000\n",
       "max      307.000000\n",
       "Name: AGE, dtype: float64"
      ]
     },
     "execution_count": 59,
     "metadata": {},
     "output_type": "execute_result"
    }
   ],
   "source": [
    "#Female\n",
    "vte_adm['AGE'][vte_adm['GENDER'] == 'F'].describe()"
   ]
  },
  {
   "cell_type": "code",
   "execution_count": 60,
   "id": "6d0c8abc-9b45-483e-8e01-20ed33ecb9ab",
   "metadata": {},
   "outputs": [
    {
     "data": {
      "text/plain": [
       "count    652.000000\n",
       "mean      67.115031\n",
       "std       40.124200\n",
       "min        0.000000\n",
       "25%       51.750000\n",
       "50%       63.000000\n",
       "75%       75.000000\n",
       "max      302.000000\n",
       "Name: AGE, dtype: float64"
      ]
     },
     "execution_count": 60,
     "metadata": {},
     "output_type": "execute_result"
    }
   ],
   "source": [
    "# Male\n",
    "vte_adm['AGE'][vte_adm['GENDER'] == 'M'].describe()"
   ]
  },
  {
   "cell_type": "code",
   "execution_count": 61,
   "id": "a201b8f4-8a2e-4032-8a61-30c56bf5d01a",
   "metadata": {},
   "outputs": [
    {
     "data": {
      "text/plain": [
       "count    1153.000000\n",
       "mean        2.267997\n",
       "std         2.630977\n",
       "min         1.000000\n",
       "25%         1.000000\n",
       "50%         1.000000\n",
       "75%         2.000000\n",
       "max        34.000000\n",
       "Name: ADMIT_TIMES, dtype: float64"
      ]
     },
     "execution_count": 61,
     "metadata": {},
     "output_type": "execute_result"
    }
   ],
   "source": [
    "vte_adm['ADMIT_TIMES'].describe()"
   ]
  },
  {
   "cell_type": "code",
   "execution_count": 62,
   "id": "fda3a1f7-4948-497f-8403-790e43c8a440",
   "metadata": {},
   "outputs": [
    {
     "data": {
      "text/plain": [
       "count    501.000000\n",
       "mean       2.357285\n",
       "std        3.172710\n",
       "min        1.000000\n",
       "25%        1.000000\n",
       "50%        1.000000\n",
       "75%        2.000000\n",
       "max       34.000000\n",
       "Name: ADMIT_TIMES, dtype: float64"
      ]
     },
     "execution_count": 62,
     "metadata": {},
     "output_type": "execute_result"
    }
   ],
   "source": [
    "#Female\n",
    "vte_adm['ADMIT_TIMES'][vte_adm['GENDER'] == 'F'].describe()"
   ]
  },
  {
   "cell_type": "code",
   "execution_count": 63,
   "id": "be443c69-54c1-4360-bb83-75b3c7ae62d9",
   "metadata": {},
   "outputs": [
    {
     "data": {
      "text/plain": [
       "count    652.000000\n",
       "mean       2.199387\n",
       "std        2.122978\n",
       "min        1.000000\n",
       "25%        1.000000\n",
       "50%        1.000000\n",
       "75%        2.000000\n",
       "max       16.000000\n",
       "Name: ADMIT_TIMES, dtype: float64"
      ]
     },
     "execution_count": 63,
     "metadata": {},
     "output_type": "execute_result"
    }
   ],
   "source": [
    "# Male\n",
    "vte_adm['ADMIT_TIMES'][vte_adm['GENDER'] == 'M'].describe()"
   ]
  },
  {
   "cell_type": "code",
   "execution_count": 64,
   "id": "354a915d-f2fd-4770-b85d-e8a9829907eb",
   "metadata": {},
   "outputs": [
    {
     "data": {
      "text/plain": [
       "count    1153.000000\n",
       "mean       18.501301\n",
       "std        18.526263\n",
       "min         0.000000\n",
       "25%         8.000000\n",
       "50%        14.000000\n",
       "75%        22.000000\n",
       "max       182.000000\n",
       "Name: LENGTH_STAY, dtype: float64"
      ]
     },
     "execution_count": 64,
     "metadata": {},
     "output_type": "execute_result"
    }
   ],
   "source": [
    "vte_adm['LENGTH_STAY'].describe()"
   ]
  },
  {
   "cell_type": "code",
   "execution_count": 65,
   "id": "27891e3b-672d-48d7-bf1b-647c51044e99",
   "metadata": {},
   "outputs": [
    {
     "data": {
      "text/plain": [
       "count    501.000000\n",
       "mean      17.720559\n",
       "std       15.829143\n",
       "min        0.000000\n",
       "25%        8.000000\n",
       "50%       14.000000\n",
       "75%       21.000000\n",
       "max      182.000000\n",
       "Name: LENGTH_STAY, dtype: float64"
      ]
     },
     "execution_count": 65,
     "metadata": {},
     "output_type": "execute_result"
    }
   ],
   "source": [
    "#Female\n",
    "vte_adm['LENGTH_STAY'][vte_adm['GENDER'] == 'F'].describe()"
   ]
  },
  {
   "cell_type": "code",
   "execution_count": 66,
   "id": "5b8ad41a-445a-401b-8626-3eec689f0534",
   "metadata": {},
   "outputs": [
    {
     "data": {
      "text/plain": [
       "count    652.000000\n",
       "mean      19.101227\n",
       "std       20.349153\n",
       "min        0.000000\n",
       "25%        8.000000\n",
       "50%       14.000000\n",
       "75%       22.250000\n",
       "max      174.000000\n",
       "Name: LENGTH_STAY, dtype: float64"
      ]
     },
     "execution_count": 66,
     "metadata": {},
     "output_type": "execute_result"
    }
   ],
   "source": [
    "# Male\n",
    "vte_adm['LENGTH_STAY'][vte_adm['GENDER'] == 'M'].describe()"
   ]
  },
  {
   "cell_type": "markdown",
   "id": "2f9ffa65-98e3-4999-9553-ac5f47b63417",
   "metadata": {
    "tags": []
   },
   "source": [
    "# All Patients Who Was Readmitted Within 30 days"
   ]
  },
  {
   "cell_type": "code",
   "execution_count": 67,
   "id": "c541bbe4-c38c-4d02-9866-d0f118356ca5",
   "metadata": {},
   "outputs": [
    {
     "data": {
      "text/html": [
       "<div>\n",
       "<style scoped>\n",
       "    .dataframe tbody tr th:only-of-type {\n",
       "        vertical-align: middle;\n",
       "    }\n",
       "\n",
       "    .dataframe tbody tr th {\n",
       "        vertical-align: top;\n",
       "    }\n",
       "\n",
       "    .dataframe thead th {\n",
       "        text-align: right;\n",
       "    }\n",
       "</style>\n",
       "<table border=\"1\" class=\"dataframe\">\n",
       "  <thead>\n",
       "    <tr style=\"text-align: right;\">\n",
       "      <th></th>\n",
       "      <th>SUBJECT_ID</th>\n",
       "      <th>HADM_ID</th>\n",
       "      <th>ADMITTIME</th>\n",
       "      <th>DISCHTIME</th>\n",
       "      <th>DEATHTIME</th>\n",
       "      <th>ADMISSION_TYPE</th>\n",
       "      <th>ADMISSION_LOCATION</th>\n",
       "      <th>DISCHARGE_LOCATION</th>\n",
       "      <th>INSURANCE</th>\n",
       "      <th>LANGUAGE</th>\n",
       "      <th>...</th>\n",
       "      <th>HAS_CHARTEVENTS_DATA</th>\n",
       "      <th>GENDER</th>\n",
       "      <th>DOB</th>\n",
       "      <th>DOD</th>\n",
       "      <th>DOD_HOSP</th>\n",
       "      <th>DOD_SSN</th>\n",
       "      <th>EXPIRE_FLAG</th>\n",
       "      <th>AGE</th>\n",
       "      <th>ADMIT_TIMES</th>\n",
       "      <th>LENGTH_STAY</th>\n",
       "    </tr>\n",
       "  </thead>\n",
       "  <tbody>\n",
       "    <tr>\n",
       "      <th>0</th>\n",
       "      <td>22</td>\n",
       "      <td>165315</td>\n",
       "      <td>2196-04-09</td>\n",
       "      <td>2196-04-10</td>\n",
       "      <td>NaN</td>\n",
       "      <td>EMERGENCY</td>\n",
       "      <td>EMERGENCY ROOM ADMIT</td>\n",
       "      <td>DISC-TRAN CANCER/CHLDRN H</td>\n",
       "      <td>Private</td>\n",
       "      <td>NaN</td>\n",
       "      <td>...</td>\n",
       "      <td>1</td>\n",
       "      <td>F</td>\n",
       "      <td>2131-05-07</td>\n",
       "      <td>NaN</td>\n",
       "      <td>NaN</td>\n",
       "      <td>NaN</td>\n",
       "      <td>0</td>\n",
       "      <td>64</td>\n",
       "      <td>1</td>\n",
       "      <td>1</td>\n",
       "    </tr>\n",
       "    <tr>\n",
       "      <th>1</th>\n",
       "      <td>23</td>\n",
       "      <td>152223</td>\n",
       "      <td>2153-09-03</td>\n",
       "      <td>2153-09-08</td>\n",
       "      <td>NaN</td>\n",
       "      <td>ELECTIVE</td>\n",
       "      <td>PHYS REFERRAL/NORMAL DELI</td>\n",
       "      <td>HOME HEALTH CARE</td>\n",
       "      <td>Medicare</td>\n",
       "      <td>NaN</td>\n",
       "      <td>...</td>\n",
       "      <td>1</td>\n",
       "      <td>M</td>\n",
       "      <td>2082-07-17</td>\n",
       "      <td>NaN</td>\n",
       "      <td>NaN</td>\n",
       "      <td>NaN</td>\n",
       "      <td>0</td>\n",
       "      <td>71</td>\n",
       "      <td>2</td>\n",
       "      <td>5</td>\n",
       "    </tr>\n",
       "    <tr>\n",
       "      <th>2</th>\n",
       "      <td>23</td>\n",
       "      <td>124321</td>\n",
       "      <td>2157-10-18</td>\n",
       "      <td>2157-10-25</td>\n",
       "      <td>NaN</td>\n",
       "      <td>EMERGENCY</td>\n",
       "      <td>TRANSFER FROM HOSP/EXTRAM</td>\n",
       "      <td>HOME HEALTH CARE</td>\n",
       "      <td>Medicare</td>\n",
       "      <td>ENGL</td>\n",
       "      <td>...</td>\n",
       "      <td>1</td>\n",
       "      <td>M</td>\n",
       "      <td>2082-07-17</td>\n",
       "      <td>NaN</td>\n",
       "      <td>NaN</td>\n",
       "      <td>NaN</td>\n",
       "      <td>0</td>\n",
       "      <td>75</td>\n",
       "      <td>2</td>\n",
       "      <td>7</td>\n",
       "    </tr>\n",
       "    <tr>\n",
       "      <th>3</th>\n",
       "      <td>24</td>\n",
       "      <td>161859</td>\n",
       "      <td>2139-06-06</td>\n",
       "      <td>2139-06-09</td>\n",
       "      <td>NaN</td>\n",
       "      <td>EMERGENCY</td>\n",
       "      <td>TRANSFER FROM HOSP/EXTRAM</td>\n",
       "      <td>HOME</td>\n",
       "      <td>Private</td>\n",
       "      <td>NaN</td>\n",
       "      <td>...</td>\n",
       "      <td>1</td>\n",
       "      <td>M</td>\n",
       "      <td>2100-05-31</td>\n",
       "      <td>NaN</td>\n",
       "      <td>NaN</td>\n",
       "      <td>NaN</td>\n",
       "      <td>0</td>\n",
       "      <td>39</td>\n",
       "      <td>1</td>\n",
       "      <td>3</td>\n",
       "    </tr>\n",
       "    <tr>\n",
       "      <th>4</th>\n",
       "      <td>25</td>\n",
       "      <td>129635</td>\n",
       "      <td>2160-11-02</td>\n",
       "      <td>2160-11-05</td>\n",
       "      <td>NaN</td>\n",
       "      <td>EMERGENCY</td>\n",
       "      <td>EMERGENCY ROOM ADMIT</td>\n",
       "      <td>HOME</td>\n",
       "      <td>Private</td>\n",
       "      <td>NaN</td>\n",
       "      <td>...</td>\n",
       "      <td>1</td>\n",
       "      <td>M</td>\n",
       "      <td>2101-11-21</td>\n",
       "      <td>NaN</td>\n",
       "      <td>NaN</td>\n",
       "      <td>NaN</td>\n",
       "      <td>0</td>\n",
       "      <td>58</td>\n",
       "      <td>1</td>\n",
       "      <td>3</td>\n",
       "    </tr>\n",
       "  </tbody>\n",
       "</table>\n",
       "<p>5 rows × 27 columns</p>\n",
       "</div>"
      ],
      "text/plain": [
       "   SUBJECT_ID  HADM_ID   ADMITTIME   DISCHTIME DEATHTIME ADMISSION_TYPE  \\\n",
       "0          22   165315  2196-04-09  2196-04-10       NaN      EMERGENCY   \n",
       "1          23   152223  2153-09-03  2153-09-08       NaN       ELECTIVE   \n",
       "2          23   124321  2157-10-18  2157-10-25       NaN      EMERGENCY   \n",
       "3          24   161859  2139-06-06  2139-06-09       NaN      EMERGENCY   \n",
       "4          25   129635  2160-11-02  2160-11-05       NaN      EMERGENCY   \n",
       "\n",
       "          ADMISSION_LOCATION         DISCHARGE_LOCATION INSURANCE LANGUAGE  \\\n",
       "0       EMERGENCY ROOM ADMIT  DISC-TRAN CANCER/CHLDRN H   Private      NaN   \n",
       "1  PHYS REFERRAL/NORMAL DELI           HOME HEALTH CARE  Medicare      NaN   \n",
       "2  TRANSFER FROM HOSP/EXTRAM           HOME HEALTH CARE  Medicare     ENGL   \n",
       "3  TRANSFER FROM HOSP/EXTRAM                       HOME   Private      NaN   \n",
       "4       EMERGENCY ROOM ADMIT                       HOME   Private      NaN   \n",
       "\n",
       "   ... HAS_CHARTEVENTS_DATA GENDER         DOB  DOD DOD_HOSP DOD_SSN  \\\n",
       "0  ...                    1      F  2131-05-07  NaN      NaN     NaN   \n",
       "1  ...                    1      M  2082-07-17  NaN      NaN     NaN   \n",
       "2  ...                    1      M  2082-07-17  NaN      NaN     NaN   \n",
       "3  ...                    1      M  2100-05-31  NaN      NaN     NaN   \n",
       "4  ...                    1      M  2101-11-21  NaN      NaN     NaN   \n",
       "\n",
       "   EXPIRE_FLAG  AGE ADMIT_TIMES LENGTH_STAY  \n",
       "0            0   64           1           1  \n",
       "1            0   71           2           5  \n",
       "2            0   75           2           7  \n",
       "3            0   39           1           3  \n",
       "4            0   58           1           3  \n",
       "\n",
       "[5 rows x 27 columns]"
      ]
     },
     "execution_count": 67,
     "metadata": {},
     "output_type": "execute_result"
    }
   ],
   "source": [
    "adm_age.head()"
   ]
  },
  {
   "cell_type": "code",
   "execution_count": 241,
   "id": "c9a0fbee-ac53-4b67-a32e-776205e940cb",
   "metadata": {},
   "outputs": [],
   "source": [
    "adm_age_gb = adm_age.sort_values(by=['SUBJECT_ID', 'ADMITTIME']).groupby(['SUBJECT_ID'], axis=0, as_index=False)"
   ]
  },
  {
   "cell_type": "code",
   "execution_count": 242,
   "id": "fa614bf4-61f7-416f-91b3-7cb9d4aaf821",
   "metadata": {},
   "outputs": [],
   "source": [
    "readmit = adm_age_gb.filter(lambda x: (x['SUBJECT_ID'].value_counts()) > 1)"
   ]
  },
  {
   "cell_type": "code",
   "execution_count": 243,
   "id": "68d30921-c08b-4159-bc32-c08088d06d58",
   "metadata": {},
   "outputs": [],
   "source": [
    "readmit = readmit.reset_index(drop = True)"
   ]
  },
  {
   "cell_type": "code",
   "execution_count": 244,
   "id": "2d755811-25b4-4f86-a420-13374d5ad7a3",
   "metadata": {},
   "outputs": [
    {
     "data": {
      "text/html": [
       "<div>\n",
       "<style scoped>\n",
       "    .dataframe tbody tr th:only-of-type {\n",
       "        vertical-align: middle;\n",
       "    }\n",
       "\n",
       "    .dataframe tbody tr th {\n",
       "        vertical-align: top;\n",
       "    }\n",
       "\n",
       "    .dataframe thead th {\n",
       "        text-align: right;\n",
       "    }\n",
       "</style>\n",
       "<table border=\"1\" class=\"dataframe\">\n",
       "  <thead>\n",
       "    <tr style=\"text-align: right;\">\n",
       "      <th></th>\n",
       "      <th>SUBJECT_ID</th>\n",
       "      <th>HADM_ID</th>\n",
       "      <th>ADMITTIME</th>\n",
       "      <th>DISCHTIME</th>\n",
       "      <th>DEATHTIME</th>\n",
       "      <th>ADMISSION_TYPE</th>\n",
       "      <th>ADMISSION_LOCATION</th>\n",
       "      <th>DISCHARGE_LOCATION</th>\n",
       "      <th>INSURANCE</th>\n",
       "      <th>LANGUAGE</th>\n",
       "      <th>...</th>\n",
       "      <th>HAS_CHARTEVENTS_DATA</th>\n",
       "      <th>GENDER</th>\n",
       "      <th>DOB</th>\n",
       "      <th>DOD</th>\n",
       "      <th>DOD_HOSP</th>\n",
       "      <th>DOD_SSN</th>\n",
       "      <th>EXPIRE_FLAG</th>\n",
       "      <th>AGE</th>\n",
       "      <th>ADMIT_TIMES</th>\n",
       "      <th>LENGTH_STAY</th>\n",
       "    </tr>\n",
       "  </thead>\n",
       "  <tbody>\n",
       "    <tr>\n",
       "      <th>0</th>\n",
       "      <td>17</td>\n",
       "      <td>194023</td>\n",
       "      <td>2134-12-27</td>\n",
       "      <td>2134-12-31</td>\n",
       "      <td>NaN</td>\n",
       "      <td>ELECTIVE</td>\n",
       "      <td>PHYS REFERRAL/NORMAL DELI</td>\n",
       "      <td>HOME HEALTH CARE</td>\n",
       "      <td>Private</td>\n",
       "      <td>ENGL</td>\n",
       "      <td>...</td>\n",
       "      <td>1</td>\n",
       "      <td>F</td>\n",
       "      <td>2087-07-14</td>\n",
       "      <td>NaN</td>\n",
       "      <td>NaN</td>\n",
       "      <td>NaN</td>\n",
       "      <td>0</td>\n",
       "      <td>47</td>\n",
       "      <td>2</td>\n",
       "      <td>4</td>\n",
       "    </tr>\n",
       "    <tr>\n",
       "      <th>1</th>\n",
       "      <td>17</td>\n",
       "      <td>161087</td>\n",
       "      <td>2135-05-09</td>\n",
       "      <td>2135-05-13</td>\n",
       "      <td>NaN</td>\n",
       "      <td>EMERGENCY</td>\n",
       "      <td>EMERGENCY ROOM ADMIT</td>\n",
       "      <td>HOME HEALTH CARE</td>\n",
       "      <td>Private</td>\n",
       "      <td>ENGL</td>\n",
       "      <td>...</td>\n",
       "      <td>1</td>\n",
       "      <td>F</td>\n",
       "      <td>2087-07-14</td>\n",
       "      <td>NaN</td>\n",
       "      <td>NaN</td>\n",
       "      <td>NaN</td>\n",
       "      <td>0</td>\n",
       "      <td>47</td>\n",
       "      <td>2</td>\n",
       "      <td>4</td>\n",
       "    </tr>\n",
       "    <tr>\n",
       "      <th>2</th>\n",
       "      <td>21</td>\n",
       "      <td>109451</td>\n",
       "      <td>2134-09-11</td>\n",
       "      <td>2134-09-24</td>\n",
       "      <td>NaN</td>\n",
       "      <td>EMERGENCY</td>\n",
       "      <td>EMERGENCY ROOM ADMIT</td>\n",
       "      <td>REHAB/DISTINCT PART HOSP</td>\n",
       "      <td>Medicare</td>\n",
       "      <td>NaN</td>\n",
       "      <td>...</td>\n",
       "      <td>1</td>\n",
       "      <td>M</td>\n",
       "      <td>2047-04-04</td>\n",
       "      <td>2135-02-08 00:00:00</td>\n",
       "      <td>2135-02-08 00:00:00</td>\n",
       "      <td>2135-02-08 00:00:00</td>\n",
       "      <td>1</td>\n",
       "      <td>87</td>\n",
       "      <td>2</td>\n",
       "      <td>13</td>\n",
       "    </tr>\n",
       "    <tr>\n",
       "      <th>3</th>\n",
       "      <td>21</td>\n",
       "      <td>111970</td>\n",
       "      <td>2135-01-30</td>\n",
       "      <td>2135-02-08</td>\n",
       "      <td>2135-02-08 02:08:00</td>\n",
       "      <td>EMERGENCY</td>\n",
       "      <td>EMERGENCY ROOM ADMIT</td>\n",
       "      <td>DEAD/EXPIRED</td>\n",
       "      <td>Medicare</td>\n",
       "      <td>NaN</td>\n",
       "      <td>...</td>\n",
       "      <td>1</td>\n",
       "      <td>M</td>\n",
       "      <td>2047-04-04</td>\n",
       "      <td>2135-02-08 00:00:00</td>\n",
       "      <td>2135-02-08 00:00:00</td>\n",
       "      <td>2135-02-08 00:00:00</td>\n",
       "      <td>1</td>\n",
       "      <td>87</td>\n",
       "      <td>2</td>\n",
       "      <td>9</td>\n",
       "    </tr>\n",
       "    <tr>\n",
       "      <th>4</th>\n",
       "      <td>23</td>\n",
       "      <td>152223</td>\n",
       "      <td>2153-09-03</td>\n",
       "      <td>2153-09-08</td>\n",
       "      <td>NaN</td>\n",
       "      <td>ELECTIVE</td>\n",
       "      <td>PHYS REFERRAL/NORMAL DELI</td>\n",
       "      <td>HOME HEALTH CARE</td>\n",
       "      <td>Medicare</td>\n",
       "      <td>NaN</td>\n",
       "      <td>...</td>\n",
       "      <td>1</td>\n",
       "      <td>M</td>\n",
       "      <td>2082-07-17</td>\n",
       "      <td>NaN</td>\n",
       "      <td>NaN</td>\n",
       "      <td>NaN</td>\n",
       "      <td>0</td>\n",
       "      <td>71</td>\n",
       "      <td>2</td>\n",
       "      <td>5</td>\n",
       "    </tr>\n",
       "  </tbody>\n",
       "</table>\n",
       "<p>5 rows × 27 columns</p>\n",
       "</div>"
      ],
      "text/plain": [
       "   SUBJECT_ID  HADM_ID   ADMITTIME   DISCHTIME            DEATHTIME  \\\n",
       "0          17   194023  2134-12-27  2134-12-31                  NaN   \n",
       "1          17   161087  2135-05-09  2135-05-13                  NaN   \n",
       "2          21   109451  2134-09-11  2134-09-24                  NaN   \n",
       "3          21   111970  2135-01-30  2135-02-08  2135-02-08 02:08:00   \n",
       "4          23   152223  2153-09-03  2153-09-08                  NaN   \n",
       "\n",
       "  ADMISSION_TYPE         ADMISSION_LOCATION        DISCHARGE_LOCATION  \\\n",
       "0       ELECTIVE  PHYS REFERRAL/NORMAL DELI          HOME HEALTH CARE   \n",
       "1      EMERGENCY       EMERGENCY ROOM ADMIT          HOME HEALTH CARE   \n",
       "2      EMERGENCY       EMERGENCY ROOM ADMIT  REHAB/DISTINCT PART HOSP   \n",
       "3      EMERGENCY       EMERGENCY ROOM ADMIT              DEAD/EXPIRED   \n",
       "4       ELECTIVE  PHYS REFERRAL/NORMAL DELI          HOME HEALTH CARE   \n",
       "\n",
       "  INSURANCE LANGUAGE  ... HAS_CHARTEVENTS_DATA GENDER         DOB  \\\n",
       "0   Private     ENGL  ...                    1      F  2087-07-14   \n",
       "1   Private     ENGL  ...                    1      F  2087-07-14   \n",
       "2  Medicare      NaN  ...                    1      M  2047-04-04   \n",
       "3  Medicare      NaN  ...                    1      M  2047-04-04   \n",
       "4  Medicare      NaN  ...                    1      M  2082-07-17   \n",
       "\n",
       "                   DOD             DOD_HOSP              DOD_SSN  EXPIRE_FLAG  \\\n",
       "0                  NaN                  NaN                  NaN            0   \n",
       "1                  NaN                  NaN                  NaN            0   \n",
       "2  2135-02-08 00:00:00  2135-02-08 00:00:00  2135-02-08 00:00:00            1   \n",
       "3  2135-02-08 00:00:00  2135-02-08 00:00:00  2135-02-08 00:00:00            1   \n",
       "4                  NaN                  NaN                  NaN            0   \n",
       "\n",
       "   AGE ADMIT_TIMES LENGTH_STAY  \n",
       "0   47           2           4  \n",
       "1   47           2           4  \n",
       "2   87           2          13  \n",
       "3   87           2           9  \n",
       "4   71           2           5  \n",
       "\n",
       "[5 rows x 27 columns]"
      ]
     },
     "execution_count": 244,
     "metadata": {},
     "output_type": "execute_result"
    }
   ],
   "source": [
    "readmit.head()"
   ]
  },
  {
   "cell_type": "code",
   "execution_count": 245,
   "id": "dc2c574e-fb38-4411-b7ee-550e535bcdd0",
   "metadata": {},
   "outputs": [],
   "source": [
    "# Count Readmit Days For Each Subject\n",
    "\n",
    "def count_days(df):\n",
    "    ID = df.loc[0, 'SUBJECT_ID']\n",
    "    count = 0\n",
    "    day = df.loc[0, 'ADMITTIME']\n",
    "    \n",
    "    for i in range(len(df)):\n",
    "        if df.loc[i, 'SUBJECT_ID'] == ID:\n",
    "            count += 1\n",
    "        else:\n",
    "            ID = df.loc[i, 'SUBJECT_ID']\n",
    "            count = 1\n",
    "            \n",
    "        if count > 1:\n",
    "            df.loc[i, 'READMIT_DAY'] = (df.loc[i,'ADMITTIME'] - day).days\n",
    "            day = df.loc[i, 'DISCHTIME']\n",
    "        else:\n",
    "            df.loc[i, 'READMIT_DAY'] = 0\n",
    "            day = df.loc[i, 'DISCHTIME']\n",
    "            \n",
    "            \n",
    "    return df"
   ]
  },
  {
   "cell_type": "code",
   "execution_count": 246,
   "id": "d70ce26a-5745-476f-9c91-c9448807dc09",
   "metadata": {},
   "outputs": [],
   "source": [
    "readmit = count_days(readmit)"
   ]
  },
  {
   "cell_type": "code",
   "execution_count": 247,
   "id": "9b68f656-6173-43e6-9dd5-8e1affd3116b",
   "metadata": {},
   "outputs": [],
   "source": [
    "readmit['READMIT_DAY'] = readmit['READMIT_DAY'].astype(int)"
   ]
  },
  {
   "cell_type": "code",
   "execution_count": 248,
   "id": "b4a759f4-8a4a-480f-add4-67387b2020e1",
   "metadata": {},
   "outputs": [],
   "source": [
    "readmit = readmit[(readmit['READMIT_DAY'] >= 0) & (readmit['READMIT_DAY'] < 30)]"
   ]
  },
  {
   "cell_type": "code",
   "execution_count": 254,
   "id": "4fc1ef39-2ed6-4140-9f36-8341792c1e30",
   "metadata": {},
   "outputs": [],
   "source": [
    "readmit=readmit.reset_index(drop=True)"
   ]
  },
  {
   "cell_type": "code",
   "execution_count": 261,
   "id": "0e189b26-aa76-489f-a0c0-e5e4dc4a3ef8",
   "metadata": {},
   "outputs": [],
   "source": [
    "# All Aptients who admit within 30 days include their first day\n",
    "readmit = readmit.groupby(['SUBJECT_ID'], axis=0, as_index=False).filter(lambda x: (x['SUBJECT_ID'].value_counts()) > 1)"
   ]
  },
  {
   "cell_type": "code",
   "execution_count": 321,
   "id": "5a5cd253-5f24-4312-bdfd-c156811c1802",
   "metadata": {},
   "outputs": [
    {
     "data": {
      "text/plain": [
       "(6003, 28)"
      ]
     },
     "execution_count": 321,
     "metadata": {},
     "output_type": "execute_result"
    }
   ],
   "source": [
    "readmit.shape"
   ]
  },
  {
   "cell_type": "markdown",
   "id": "836bd40b-be32-481a-9c6f-cb92dd942e90",
   "metadata": {
    "jp-MarkdownHeadingCollapsed": true,
    "tags": []
   },
   "source": [
    "#### Test Function"
   ]
  },
  {
   "cell_type": "code",
   "execution_count": 78,
   "id": "dc6034c4-ad6b-4112-b6c0-0535d44c6c1a",
   "metadata": {},
   "outputs": [],
   "source": [
    "# test\n",
    "data = {'SUBJECT_ID': [23, 23,\n",
    "                 24, 24, 25, 25, 25],\n",
    "        'ADMITTIME': ['2153-09-03 07:15:00', '2157-10-18 19:34:00', '2186-07-18 16:46:00', '2191-02-23 05:23:00', '2186-01-16 10:30:00', '2186-02-08 12:30:00', '2189-07-10 18:08:00'],\n",
    "        'DISCHTIME': ['2153-09-08 19:10:00', '2157-10-25 14:00:00', '2186-07-20 16:00:00', '2191-02-25 20:20:00', '2186-01-16 16:30:00', '2186-02-08 20:21:00', '2189-07-17 14:57:00']}\n",
    "\n",
    "df_test = pd.DataFrame(data, columns=['SUBJECT_ID', 'ADMITTIME',\n",
    "                                 'DISCHTIME'])"
   ]
  },
  {
   "cell_type": "code",
   "execution_count": 79,
   "id": "75a3e73f-f263-4b04-af2b-de543a549367",
   "metadata": {},
   "outputs": [],
   "source": [
    "df_test['ADMITTIME'] = pd.to_datetime(df_test['ADMITTIME']).dt.date\n",
    "df_test['DISCHTIME'] = pd.to_datetime(df_test['DISCHTIME']).dt.date\n",
    "\n",
    "df_new = count_days(df_test)\n",
    "df_new['READMIT_DAY'] = df_new['READMIT_DAY'].astype(int)"
   ]
  },
  {
   "cell_type": "code",
   "execution_count": 80,
   "id": "0bd26e85-5926-4754-81ae-7d49ab756149",
   "metadata": {},
   "outputs": [
    {
     "data": {
      "text/html": [
       "<div>\n",
       "<style scoped>\n",
       "    .dataframe tbody tr th:only-of-type {\n",
       "        vertical-align: middle;\n",
       "    }\n",
       "\n",
       "    .dataframe tbody tr th {\n",
       "        vertical-align: top;\n",
       "    }\n",
       "\n",
       "    .dataframe thead th {\n",
       "        text-align: right;\n",
       "    }\n",
       "</style>\n",
       "<table border=\"1\" class=\"dataframe\">\n",
       "  <thead>\n",
       "    <tr style=\"text-align: right;\">\n",
       "      <th></th>\n",
       "      <th>SUBJECT_ID</th>\n",
       "      <th>ADMITTIME</th>\n",
       "      <th>DISCHTIME</th>\n",
       "      <th>READMIT_DAY</th>\n",
       "    </tr>\n",
       "  </thead>\n",
       "  <tbody>\n",
       "    <tr>\n",
       "      <th>0</th>\n",
       "      <td>23</td>\n",
       "      <td>2153-09-03</td>\n",
       "      <td>2153-09-08</td>\n",
       "      <td>0</td>\n",
       "    </tr>\n",
       "    <tr>\n",
       "      <th>1</th>\n",
       "      <td>23</td>\n",
       "      <td>2157-10-18</td>\n",
       "      <td>2157-10-25</td>\n",
       "      <td>1501</td>\n",
       "    </tr>\n",
       "    <tr>\n",
       "      <th>2</th>\n",
       "      <td>24</td>\n",
       "      <td>2186-07-18</td>\n",
       "      <td>2186-07-20</td>\n",
       "      <td>0</td>\n",
       "    </tr>\n",
       "    <tr>\n",
       "      <th>3</th>\n",
       "      <td>24</td>\n",
       "      <td>2191-02-23</td>\n",
       "      <td>2191-02-25</td>\n",
       "      <td>1679</td>\n",
       "    </tr>\n",
       "    <tr>\n",
       "      <th>4</th>\n",
       "      <td>25</td>\n",
       "      <td>2186-01-16</td>\n",
       "      <td>2186-01-16</td>\n",
       "      <td>0</td>\n",
       "    </tr>\n",
       "    <tr>\n",
       "      <th>5</th>\n",
       "      <td>25</td>\n",
       "      <td>2186-02-08</td>\n",
       "      <td>2186-02-08</td>\n",
       "      <td>23</td>\n",
       "    </tr>\n",
       "    <tr>\n",
       "      <th>6</th>\n",
       "      <td>25</td>\n",
       "      <td>2189-07-10</td>\n",
       "      <td>2189-07-17</td>\n",
       "      <td>1248</td>\n",
       "    </tr>\n",
       "  </tbody>\n",
       "</table>\n",
       "</div>"
      ],
      "text/plain": [
       "   SUBJECT_ID   ADMITTIME   DISCHTIME  READMIT_DAY\n",
       "0          23  2153-09-03  2153-09-08            0\n",
       "1          23  2157-10-18  2157-10-25         1501\n",
       "2          24  2186-07-18  2186-07-20            0\n",
       "3          24  2191-02-23  2191-02-25         1679\n",
       "4          25  2186-01-16  2186-01-16            0\n",
       "5          25  2186-02-08  2186-02-08           23\n",
       "6          25  2189-07-10  2189-07-17         1248"
      ]
     },
     "execution_count": 80,
     "metadata": {},
     "output_type": "execute_result"
    }
   ],
   "source": [
    "df_new"
   ]
  },
  {
   "cell_type": "markdown",
   "id": "afc873e1-d10e-4d64-b5ee-36aa3ba3c577",
   "metadata": {},
   "source": [
    "# Patient With VTE Readmit Within 30 days"
   ]
  },
  {
   "cell_type": "code",
   "execution_count": 276,
   "id": "6743ebc6-db57-45f1-8ba8-071aa10887f7",
   "metadata": {},
   "outputs": [],
   "source": [
    "readmit_subset = readmit[['SUBJECT_ID', 'HADM_ID', 'READMIT_DAY']]\n",
    "vte_readmit = pd.merge(vte_adm, readmit_subset, how='inner', on=['SUBJECT_ID', 'HADM_ID'])\n",
    "vte_readmit = vte_readmit.drop('ROW_ID', axis=1)"
   ]
  },
  {
   "cell_type": "code",
   "execution_count": 333,
   "id": "720d43c2-49e8-4182-a0b0-b8727932997e",
   "metadata": {},
   "outputs": [],
   "source": [
    "vte_id = vte_readmit[['SUBJECT_ID','HADM_ID']]\n",
    "vte_id = vte_id[['SUBJECT_ID','HADM_ID']].apply(tuple, axis=1)"
   ]
  },
  {
   "cell_type": "code",
   "execution_count": 344,
   "id": "00831b72-a38e-4f61-8ef7-b92ec714dd6f",
   "metadata": {},
   "outputs": [],
   "source": [
    "# unique vte SID & HID\n",
    "vte_uid = vte_readmit[['SUBJECT_ID','HADM_ID','ETHNICITY', 'GENDER', 'AGE', 'ADMIT_TIMES', 'LENGTH_STAY', 'READMIT_DAY']].drop_duplicates(subset = ['SUBJECT_ID', 'HADM_ID','ETHNICITY', 'GENDER', 'AGE', 'ADMIT_TIMES', 'LENGTH_STAY', 'READMIT_DAY'],\n",
    "  keep = 'last').reset_index(drop = True)"
   ]
  },
  {
   "cell_type": "code",
   "execution_count": 349,
   "id": "a7da3dac-13e6-4193-a3dd-b03709f879c0",
   "metadata": {},
   "outputs": [
    {
     "data": {
      "text/plain": [
       "(197, 8)"
      ]
     },
     "execution_count": 349,
     "metadata": {},
     "output_type": "execute_result"
    }
   ],
   "source": [
    "# VTE readmit patients' total number\n",
    "vte_uid.shape"
   ]
  },
  {
   "cell_type": "markdown",
   "id": "db97a4c4-5b5d-42ec-8d0e-429a9669c419",
   "metadata": {
    "jp-MarkdownHeadingCollapsed": true,
    "tags": []
   },
   "source": [
    "#### Gender"
   ]
  },
  {
   "cell_type": "code",
   "execution_count": 414,
   "id": "cb0f73fd-0487-45bf-8f18-3369f7114692",
   "metadata": {},
   "outputs": [
    {
     "data": {
      "text/plain": [
       "M    113\n",
       "F     84\n",
       "Name: GENDER, dtype: int64"
      ]
     },
     "execution_count": 414,
     "metadata": {},
     "output_type": "execute_result"
    }
   ],
   "source": [
    "vte_uid.GENDER.value_counts()"
   ]
  },
  {
   "cell_type": "markdown",
   "id": "763e723c-04e6-48f3-8bd3-985791bbcd0f",
   "metadata": {
    "jp-MarkdownHeadingCollapsed": true,
    "tags": []
   },
   "source": [
    "#### Race"
   ]
  },
  {
   "cell_type": "code",
   "execution_count": 415,
   "id": "be295d32-7dd0-4f4e-85ce-f657e01b0d29",
   "metadata": {},
   "outputs": [],
   "source": [
    "# total\n",
    "race2 = vte_uid.groupby('ETHNICITY').size()\n",
    "race2_prop = race2.div(len(vte_uid))*100"
   ]
  },
  {
   "cell_type": "code",
   "execution_count": 416,
   "id": "aa078cf7-13ac-4edd-8d69-fa28fc221668",
   "metadata": {},
   "outputs": [
    {
     "data": {
      "text/plain": [
       "ETHNICITY\n",
       "WHITE                    76.142132\n",
       "BLACK                    13.197970\n",
       "HISPANIC OR LATINO        5.076142\n",
       "OTHER                     2.030457\n",
       "ASIAN                     1.522843\n",
       "UNKNOWN/NOT SPECIFIED     1.522843\n",
       "UNABLE TO OBTAIN          0.507614\n",
       "dtype: float64"
      ]
     },
     "execution_count": 416,
     "metadata": {},
     "output_type": "execute_result"
    }
   ],
   "source": [
    "race2_prop.sort_values(ascending=False)"
   ]
  },
  {
   "cell_type": "code",
   "execution_count": 417,
   "id": "bf5b75b8-651a-416e-8ca8-861448cff735",
   "metadata": {},
   "outputs": [
    {
     "data": {
      "text/plain": [
       "ETHNICITY\n",
       "WHITE                    150\n",
       "BLACK                     26\n",
       "HISPANIC OR LATINO        10\n",
       "OTHER                      4\n",
       "ASIAN                      3\n",
       "UNKNOWN/NOT SPECIFIED      3\n",
       "UNABLE TO OBTAIN           1\n",
       "dtype: int64"
      ]
     },
     "execution_count": 417,
     "metadata": {},
     "output_type": "execute_result"
    }
   ],
   "source": [
    "race2.sort_values(ascending=False)"
   ]
  },
  {
   "cell_type": "code",
   "execution_count": 418,
   "id": "6bdc9b56-6d45-4247-b303-85f519552f53",
   "metadata": {},
   "outputs": [],
   "source": [
    "# female\n",
    "race2_f = vte_uid[vte_uid['GENDER'] == 'F'].groupby('ETHNICITY').size()\n",
    "race2_f_prop = race2_f.div(len(vte_uid))*100"
   ]
  },
  {
   "cell_type": "code",
   "execution_count": 419,
   "id": "aab20a14-cb3f-4fcf-8a36-18e5772c55fe",
   "metadata": {},
   "outputs": [
    {
     "data": {
      "text/plain": [
       "ETHNICITY\n",
       "WHITE                 28.934010\n",
       "BLACK                  7.614213\n",
       "HISPANIC OR LATINO     3.045685\n",
       "OTHER                  2.030457\n",
       "ASIAN                  1.015228\n",
       "dtype: float64"
      ]
     },
     "execution_count": 419,
     "metadata": {},
     "output_type": "execute_result"
    }
   ],
   "source": [
    "race2_f_prop.sort_values(ascending=False)"
   ]
  },
  {
   "cell_type": "code",
   "execution_count": 420,
   "id": "4eb6e9ff-13d3-43eb-930e-67dcba9b109c",
   "metadata": {},
   "outputs": [
    {
     "data": {
      "text/plain": [
       "ETHNICITY\n",
       "WHITE                 57\n",
       "BLACK                 15\n",
       "HISPANIC OR LATINO     6\n",
       "OTHER                  4\n",
       "ASIAN                  2\n",
       "dtype: int64"
      ]
     },
     "execution_count": 420,
     "metadata": {},
     "output_type": "execute_result"
    }
   ],
   "source": [
    "race2_f.sort_values(ascending=False)"
   ]
  },
  {
   "cell_type": "code",
   "execution_count": 421,
   "id": "1123163f-fd4b-4267-ade7-6924fbceb6a4",
   "metadata": {},
   "outputs": [],
   "source": [
    "# male\n",
    "race2_m = vte_uid[vte_uid['GENDER'] == 'M'].groupby('ETHNICITY').size()\n",
    "race2_m_prop = race2_m.div(len(vte_uid))*100"
   ]
  },
  {
   "cell_type": "code",
   "execution_count": 422,
   "id": "620bfd7f-9aa3-402d-893e-1c6ea8d8fb57",
   "metadata": {},
   "outputs": [
    {
     "data": {
      "text/plain": [
       "ETHNICITY\n",
       "WHITE                    47.208122\n",
       "BLACK                     5.583756\n",
       "HISPANIC OR LATINO        2.030457\n",
       "UNKNOWN/NOT SPECIFIED     1.522843\n",
       "ASIAN                     0.507614\n",
       "UNABLE TO OBTAIN          0.507614\n",
       "dtype: float64"
      ]
     },
     "execution_count": 422,
     "metadata": {},
     "output_type": "execute_result"
    }
   ],
   "source": [
    "race2_m_prop.sort_values(ascending=False)"
   ]
  },
  {
   "cell_type": "code",
   "execution_count": 423,
   "id": "36a5fa64-cc32-4158-a924-bf9f6853f88a",
   "metadata": {},
   "outputs": [
    {
     "data": {
      "text/plain": [
       "ETHNICITY\n",
       "WHITE                    93\n",
       "BLACK                    11\n",
       "HISPANIC OR LATINO        4\n",
       "UNKNOWN/NOT SPECIFIED     3\n",
       "ASIAN                     1\n",
       "UNABLE TO OBTAIN          1\n",
       "dtype: int64"
      ]
     },
     "execution_count": 423,
     "metadata": {},
     "output_type": "execute_result"
    }
   ],
   "source": [
    "race2_m.sort_values(ascending=False)"
   ]
  },
  {
   "cell_type": "markdown",
   "id": "49b66539-a3d3-43ec-bd22-f422f37f0625",
   "metadata": {
    "jp-MarkdownHeadingCollapsed": true,
    "tags": []
   },
   "source": [
    "#### Age"
   ]
  },
  {
   "cell_type": "code",
   "execution_count": 424,
   "id": "1cf903f1-f64d-4a5d-ad17-9d65bfb23041",
   "metadata": {},
   "outputs": [
    {
     "data": {
      "text/plain": [
       "count    197.000000\n",
       "mean      68.045685\n",
       "std       36.689443\n",
       "min       22.000000\n",
       "25%       54.000000\n",
       "50%       66.000000\n",
       "75%       76.000000\n",
       "max      300.000000\n",
       "Name: AGE, dtype: float64"
      ]
     },
     "execution_count": 424,
     "metadata": {},
     "output_type": "execute_result"
    }
   ],
   "source": [
    "vte_uid['AGE'].describe()"
   ]
  },
  {
   "cell_type": "code",
   "execution_count": 425,
   "id": "abcf1303-f139-47a5-a58f-06e879466698",
   "metadata": {},
   "outputs": [
    {
     "data": {
      "text/plain": [
       "count     84.000000\n",
       "mean      69.107143\n",
       "std       39.575463\n",
       "min       24.000000\n",
       "25%       54.000000\n",
       "50%       66.000000\n",
       "75%       76.000000\n",
       "max      300.000000\n",
       "Name: AGE, dtype: float64"
      ]
     },
     "execution_count": 425,
     "metadata": {},
     "output_type": "execute_result"
    }
   ],
   "source": [
    "# female\n",
    "vte_uid['AGE'][vte_uid['GENDER'] == 'F'].describe()"
   ]
  },
  {
   "cell_type": "code",
   "execution_count": 426,
   "id": "77a82f11-0752-461e-a927-fcdab718cac3",
   "metadata": {},
   "outputs": [
    {
     "data": {
      "text/plain": [
       "count    113.000000\n",
       "mean      67.256637\n",
       "std       34.547787\n",
       "min       22.000000\n",
       "25%       55.000000\n",
       "50%       65.000000\n",
       "75%       76.000000\n",
       "max      300.000000\n",
       "Name: AGE, dtype: float64"
      ]
     },
     "execution_count": 426,
     "metadata": {},
     "output_type": "execute_result"
    }
   ],
   "source": [
    "# male\n",
    "vte_uid['AGE'][vte_uid['GENDER'] == 'M'].describe()"
   ]
  },
  {
   "cell_type": "markdown",
   "id": "a4def701-0421-4ccd-b4f9-f860a877944c",
   "metadata": {
    "jp-MarkdownHeadingCollapsed": true,
    "tags": []
   },
   "source": [
    "#### Length Stay"
   ]
  },
  {
   "cell_type": "code",
   "execution_count": 427,
   "id": "0bbab9d8-77f9-43b1-9e40-6e75c7a4b419",
   "metadata": {},
   "outputs": [
    {
     "data": {
      "text/plain": [
       "count    197.000000\n",
       "mean      17.725888\n",
       "std       18.009521\n",
       "min        2.000000\n",
       "25%        8.000000\n",
       "50%       14.000000\n",
       "75%       21.000000\n",
       "max      169.000000\n",
       "Name: LENGTH_STAY, dtype: float64"
      ]
     },
     "execution_count": 427,
     "metadata": {},
     "output_type": "execute_result"
    }
   ],
   "source": [
    "vte_uid['LENGTH_STAY'].describe()"
   ]
  },
  {
   "cell_type": "code",
   "execution_count": 428,
   "id": "b5d65912-d832-4ebb-8dfd-11c3829a8fa9",
   "metadata": {},
   "outputs": [
    {
     "data": {
      "text/plain": [
       "count     84.000000\n",
       "mean      18.190476\n",
       "std       16.826167\n",
       "min        2.000000\n",
       "25%        7.750000\n",
       "50%       14.000000\n",
       "75%       21.000000\n",
       "max      100.000000\n",
       "Name: LENGTH_STAY, dtype: float64"
      ]
     },
     "execution_count": 428,
     "metadata": {},
     "output_type": "execute_result"
    }
   ],
   "source": [
    "# female\n",
    "vte_uid['LENGTH_STAY'][vte_uid['GENDER'] == 'F'].describe()"
   ]
  },
  {
   "cell_type": "code",
   "execution_count": 429,
   "id": "bdab2441-5f07-405a-940c-6d3912b1ddc1",
   "metadata": {},
   "outputs": [
    {
     "data": {
      "text/plain": [
       "count    113.000000\n",
       "mean      17.380531\n",
       "std       18.907821\n",
       "min        2.000000\n",
       "25%        8.000000\n",
       "50%       14.000000\n",
       "75%       20.000000\n",
       "max      169.000000\n",
       "Name: LENGTH_STAY, dtype: float64"
      ]
     },
     "execution_count": 429,
     "metadata": {},
     "output_type": "execute_result"
    }
   ],
   "source": [
    "# male\n",
    "vte_uid['LENGTH_STAY'][vte_uid['GENDER'] == 'M'].describe()"
   ]
  },
  {
   "cell_type": "markdown",
   "id": "3ac3d561-2289-4141-bb66-10c2c8757d30",
   "metadata": {
    "jp-MarkdownHeadingCollapsed": true,
    "tags": []
   },
   "source": [
    "#### Admit Times"
   ]
  },
  {
   "cell_type": "code",
   "execution_count": 430,
   "id": "946ae322-fe0d-4eaf-b6f3-7122d833b295",
   "metadata": {},
   "outputs": [
    {
     "data": {
      "text/plain": [
       "count    206.000000\n",
       "mean       3.975728\n",
       "std        3.929177\n",
       "min        2.000000\n",
       "25%        2.000000\n",
       "50%        3.000000\n",
       "75%        4.000000\n",
       "max       34.000000\n",
       "Name: ADMIT_TIMES, dtype: float64"
      ]
     },
     "execution_count": 430,
     "metadata": {},
     "output_type": "execute_result"
    }
   ],
   "source": [
    "vte_readmit['ADMIT_TIMES'].describe()"
   ]
  },
  {
   "cell_type": "code",
   "execution_count": 431,
   "id": "f79d10eb-0c21-49a0-b9be-0ddf1bcada6e",
   "metadata": {},
   "outputs": [
    {
     "data": {
      "text/plain": [
       "count    89.000000\n",
       "mean      4.449438\n",
       "std       5.276473\n",
       "min       2.000000\n",
       "25%       2.000000\n",
       "50%       3.000000\n",
       "75%       4.000000\n",
       "max      34.000000\n",
       "Name: ADMIT_TIMES, dtype: float64"
      ]
     },
     "execution_count": 431,
     "metadata": {},
     "output_type": "execute_result"
    }
   ],
   "source": [
    "# female\n",
    "vte_readmit['ADMIT_TIMES'][vte_readmit['GENDER'] == 'F'].describe()"
   ]
  },
  {
   "cell_type": "code",
   "execution_count": 432,
   "id": "1e43d1e2-61b6-4cf9-a7e7-664402b3275a",
   "metadata": {},
   "outputs": [
    {
     "data": {
      "text/plain": [
       "count    117.000000\n",
       "mean       3.615385\n",
       "std        2.420623\n",
       "min        2.000000\n",
       "25%        2.000000\n",
       "50%        3.000000\n",
       "75%        4.000000\n",
       "max       12.000000\n",
       "Name: ADMIT_TIMES, dtype: float64"
      ]
     },
     "execution_count": 432,
     "metadata": {},
     "output_type": "execute_result"
    }
   ],
   "source": [
    "# male\n",
    "vte_readmit['ADMIT_TIMES'][vte_readmit['GENDER'] == 'M'].describe()"
   ]
  },
  {
   "cell_type": "markdown",
   "id": "c350970f-181d-4cd8-b8cf-5cc487bf632c",
   "metadata": {
    "tags": []
   },
   "source": [
    "#### Readmit Days"
   ]
  },
  {
   "cell_type": "code",
   "execution_count": 433,
   "id": "3a682286-2ec6-4279-8694-77ddd23aab64",
   "metadata": {},
   "outputs": [
    {
     "data": {
      "text/plain": [
       "count    130.000000\n",
       "mean      10.723077\n",
       "std        7.865158\n",
       "min        1.000000\n",
       "25%        5.000000\n",
       "50%        9.000000\n",
       "75%       15.000000\n",
       "max       29.000000\n",
       "Name: READMIT_DAY, dtype: float64"
      ]
     },
     "execution_count": 433,
     "metadata": {},
     "output_type": "execute_result"
    }
   ],
   "source": [
    "vte_uid[vte_uid['READMIT_DAY'] > 0].READMIT_DAY.describe()"
   ]
  },
  {
   "cell_type": "code",
   "execution_count": 434,
   "id": "808123b3-2a61-4665-8fc1-2a9a593649a1",
   "metadata": {},
   "outputs": [
    {
     "data": {
      "text/plain": [
       "count    51.000000\n",
       "mean     10.529412\n",
       "std       7.669036\n",
       "min       1.000000\n",
       "25%       5.000000\n",
       "50%       9.000000\n",
       "75%      15.500000\n",
       "max      29.000000\n",
       "Name: READMIT_DAY, dtype: float64"
      ]
     },
     "execution_count": 434,
     "metadata": {},
     "output_type": "execute_result"
    }
   ],
   "source": [
    "# female\n",
    "vte_uid[(vte_uid['READMIT_DAY'] > 0) & (vte_uid['GENDER'] == 'F')].READMIT_DAY.describe()"
   ]
  },
  {
   "cell_type": "code",
   "execution_count": 435,
   "id": "4a520b2e-3bd1-4487-9db2-c76d901ef956",
   "metadata": {},
   "outputs": [
    {
     "data": {
      "text/plain": [
       "count    79.000000\n",
       "mean     10.848101\n",
       "std       8.035320\n",
       "min       1.000000\n",
       "25%       5.000000\n",
       "50%       9.000000\n",
       "75%      15.000000\n",
       "max      29.000000\n",
       "Name: READMIT_DAY, dtype: float64"
      ]
     },
     "execution_count": 435,
     "metadata": {},
     "output_type": "execute_result"
    }
   ],
   "source": [
    "# male\n",
    "vte_uid[(vte_uid['READMIT_DAY'] > 0) & (vte_uid['GENDER'] == 'M')].READMIT_DAY.describe()"
   ]
  },
  {
   "cell_type": "markdown",
   "id": "cd1f45df-e0a9-445c-bd8a-ca4006885822",
   "metadata": {},
   "source": [
    "# Patient Without VTE Readmit Within 30 Days"
   ]
  },
  {
   "cell_type": "code",
   "execution_count": 406,
   "id": "265cf44b-660b-42b2-9c65-758aaa64eeb6",
   "metadata": {},
   "outputs": [],
   "source": [
    "nvte_readmit = readmit[~readmit[['SUBJECT_ID', 'HADM_ID']].apply(tuple, axis=1).isin(vte_id)]"
   ]
  },
  {
   "cell_type": "code",
   "execution_count": 407,
   "id": "96faf4a4-0102-4d54-b953-d97e1be6d90b",
   "metadata": {},
   "outputs": [],
   "source": [
    "# nvte unique SID & HID\n",
    "nvte_uid = nvte_readmit[['SUBJECT_ID','HADM_ID','ETHNICITY', 'GENDER', 'AGE', 'ADMIT_TIMES', 'LENGTH_STAY', 'READMIT_DAY']].reset_index(drop = True)"
   ]
  },
  {
   "cell_type": "code",
   "execution_count": 408,
   "id": "101e9574-8eab-4adf-a7e8-f44b4aca0100",
   "metadata": {},
   "outputs": [
    {
     "data": {
      "text/plain": [
       "(5806, 8)"
      ]
     },
     "execution_count": 408,
     "metadata": {},
     "output_type": "execute_result"
    }
   ],
   "source": [
    "# nvte nvte patients' total number\n",
    "nvte_uid.shape"
   ]
  },
  {
   "cell_type": "markdown",
   "id": "dcecf8c8-4a19-40d7-879e-ad70bcb34c58",
   "metadata": {
    "jp-MarkdownHeadingCollapsed": true,
    "tags": []
   },
   "source": [
    "#### Gender"
   ]
  },
  {
   "cell_type": "code",
   "execution_count": 436,
   "id": "94c0d99a-138b-41bd-a256-fd46ba3d3890",
   "metadata": {},
   "outputs": [
    {
     "data": {
      "text/plain": [
       "M    3335\n",
       "F    2471\n",
       "Name: GENDER, dtype: int64"
      ]
     },
     "execution_count": 436,
     "metadata": {},
     "output_type": "execute_result"
    }
   ],
   "source": [
    "nvte_uid.GENDER.value_counts()"
   ]
  },
  {
   "cell_type": "markdown",
   "id": "8b39a738-3d09-4104-b0c3-d1e184cd0c73",
   "metadata": {
    "jp-MarkdownHeadingCollapsed": true,
    "tags": []
   },
   "source": [
    "#### Race"
   ]
  },
  {
   "cell_type": "code",
   "execution_count": 437,
   "id": "5a56e08c-2824-4afe-9fe8-21b4cfc993a2",
   "metadata": {},
   "outputs": [],
   "source": [
    "# total\n",
    "race3 = nvte_uid.groupby('ETHNICITY').size()\n",
    "race3_prop = race3.div(len(nvte_uid))*100"
   ]
  },
  {
   "cell_type": "code",
   "execution_count": 438,
   "id": "820d8fa5-c752-446c-b6fd-864bb5f375c9",
   "metadata": {},
   "outputs": [
    {
     "data": {
      "text/plain": [
       "ETHNICITY\n",
       "WHITE                                        71.133310\n",
       "BLACK                                        13.606614\n",
       "UNKNOWN/NOT SPECIFIED                         4.099208\n",
       "ASIAN                                         3.530830\n",
       "HISPANIC OR LATINO                            3.496383\n",
       "OTHER                                         2.325181\n",
       "PATIENT DECLINED TO ANSWER                    0.706166\n",
       "UNABLE TO OBTAIN                              0.361695\n",
       "MIDDLE EASTERN                                0.241130\n",
       "PORTUGUESE                                    0.206683\n",
       "AMERICAN INDIAN/ALASKA NATIVE                 0.137788\n",
       "MULTI RACE ETHNICITY                          0.120565\n",
       "NATIVE HAWAIIAN OR OTHER PACIFIC ISLANDER     0.034447\n",
       "dtype: float64"
      ]
     },
     "execution_count": 438,
     "metadata": {},
     "output_type": "execute_result"
    }
   ],
   "source": [
    "race3_prop.sort_values(ascending=False)"
   ]
  },
  {
   "cell_type": "code",
   "execution_count": 439,
   "id": "f04e8cf1-2bf9-427f-b450-cc72c3d335a0",
   "metadata": {},
   "outputs": [
    {
     "data": {
      "text/plain": [
       "ETHNICITY\n",
       "WHITE                                        4130\n",
       "BLACK                                         790\n",
       "UNKNOWN/NOT SPECIFIED                         238\n",
       "ASIAN                                         205\n",
       "HISPANIC OR LATINO                            203\n",
       "OTHER                                         135\n",
       "PATIENT DECLINED TO ANSWER                     41\n",
       "UNABLE TO OBTAIN                               21\n",
       "MIDDLE EASTERN                                 14\n",
       "PORTUGUESE                                     12\n",
       "AMERICAN INDIAN/ALASKA NATIVE                   8\n",
       "MULTI RACE ETHNICITY                            7\n",
       "NATIVE HAWAIIAN OR OTHER PACIFIC ISLANDER       2\n",
       "dtype: int64"
      ]
     },
     "execution_count": 439,
     "metadata": {},
     "output_type": "execute_result"
    }
   ],
   "source": [
    "race3.sort_values(ascending=False)"
   ]
  },
  {
   "cell_type": "code",
   "execution_count": 440,
   "id": "2ccfa0a7-ff5c-4b75-bff7-8ed17768093e",
   "metadata": {},
   "outputs": [],
   "source": [
    "# female\n",
    "race3_f = nvte_uid[nvte_uid['GENDER'] == 'F'].groupby('ETHNICITY').size()\n",
    "race3_f_prop = race3_f.div(len(nvte_uid))*100"
   ]
  },
  {
   "cell_type": "code",
   "execution_count": 441,
   "id": "f04e67a7-00b4-4ab5-93e0-6a5f7244a941",
   "metadata": {},
   "outputs": [
    {
     "data": {
      "text/plain": [
       "ETHNICITY\n",
       "WHITE                                        29.314502\n",
       "BLACK                                         7.543920\n",
       "ASIAN                                         1.619015\n",
       "UNKNOWN/NOT SPECIFIED                         1.377885\n",
       "HISPANIC OR LATINO                            1.188426\n",
       "OTHER                                         0.998967\n",
       "PATIENT DECLINED TO ANSWER                    0.241130\n",
       "UNABLE TO OBTAIN                              0.137788\n",
       "AMERICAN INDIAN/ALASKA NATIVE                 0.068894\n",
       "MULTI RACE ETHNICITY                          0.034447\n",
       "NATIVE HAWAIIAN OR OTHER PACIFIC ISLANDER     0.034447\n",
       "dtype: float64"
      ]
     },
     "execution_count": 441,
     "metadata": {},
     "output_type": "execute_result"
    }
   ],
   "source": [
    "race3_f_prop.sort_values(ascending=False)"
   ]
  },
  {
   "cell_type": "code",
   "execution_count": 442,
   "id": "5318c8b1-dab9-4ee0-b3d8-463ba23f8a23",
   "metadata": {},
   "outputs": [
    {
     "data": {
      "text/plain": [
       "ETHNICITY\n",
       "WHITE                                        1702\n",
       "BLACK                                         438\n",
       "ASIAN                                          94\n",
       "UNKNOWN/NOT SPECIFIED                          80\n",
       "HISPANIC OR LATINO                             69\n",
       "OTHER                                          58\n",
       "PATIENT DECLINED TO ANSWER                     14\n",
       "UNABLE TO OBTAIN                                8\n",
       "AMERICAN INDIAN/ALASKA NATIVE                   4\n",
       "MULTI RACE ETHNICITY                            2\n",
       "NATIVE HAWAIIAN OR OTHER PACIFIC ISLANDER       2\n",
       "dtype: int64"
      ]
     },
     "execution_count": 442,
     "metadata": {},
     "output_type": "execute_result"
    }
   ],
   "source": [
    "race3_f.sort_values(ascending=False)"
   ]
  },
  {
   "cell_type": "code",
   "execution_count": 443,
   "id": "48def21d-90cd-4292-bafa-98700778a300",
   "metadata": {},
   "outputs": [],
   "source": [
    "# male\n",
    "race3_m = nvte_uid[nvte_uid['GENDER'] == 'M'].groupby('ETHNICITY').size()\n",
    "race3_m_prop = race3_f.div(len(nvte_uid))*100"
   ]
  },
  {
   "cell_type": "code",
   "execution_count": 444,
   "id": "ecc5b8be-0301-499d-ac3b-998c206a28da",
   "metadata": {},
   "outputs": [
    {
     "data": {
      "text/plain": [
       "ETHNICITY\n",
       "WHITE                                        29.314502\n",
       "BLACK                                         7.543920\n",
       "ASIAN                                         1.619015\n",
       "UNKNOWN/NOT SPECIFIED                         1.377885\n",
       "HISPANIC OR LATINO                            1.188426\n",
       "OTHER                                         0.998967\n",
       "PATIENT DECLINED TO ANSWER                    0.241130\n",
       "UNABLE TO OBTAIN                              0.137788\n",
       "AMERICAN INDIAN/ALASKA NATIVE                 0.068894\n",
       "MULTI RACE ETHNICITY                          0.034447\n",
       "NATIVE HAWAIIAN OR OTHER PACIFIC ISLANDER     0.034447\n",
       "dtype: float64"
      ]
     },
     "execution_count": 444,
     "metadata": {},
     "output_type": "execute_result"
    }
   ],
   "source": [
    "race3_m_prop.sort_values(ascending=False)"
   ]
  },
  {
   "cell_type": "code",
   "execution_count": 445,
   "id": "07214df7-ec15-4a8f-bd1d-aa6a3b4b6ae5",
   "metadata": {},
   "outputs": [
    {
     "data": {
      "text/plain": [
       "ETHNICITY\n",
       "WHITE                            2428\n",
       "BLACK                             352\n",
       "UNKNOWN/NOT SPECIFIED             158\n",
       "HISPANIC OR LATINO                134\n",
       "ASIAN                             111\n",
       "OTHER                              77\n",
       "PATIENT DECLINED TO ANSWER         27\n",
       "MIDDLE EASTERN                     14\n",
       "UNABLE TO OBTAIN                   13\n",
       "PORTUGUESE                         12\n",
       "MULTI RACE ETHNICITY                5\n",
       "AMERICAN INDIAN/ALASKA NATIVE       4\n",
       "dtype: int64"
      ]
     },
     "execution_count": 445,
     "metadata": {},
     "output_type": "execute_result"
    }
   ],
   "source": [
    "race3_m.sort_values(ascending=False)"
   ]
  },
  {
   "cell_type": "markdown",
   "id": "2ca4a1dd-40fe-41d2-9293-144d139f15a0",
   "metadata": {
    "jp-MarkdownHeadingCollapsed": true,
    "tags": []
   },
   "source": [
    "#### Age"
   ]
  },
  {
   "cell_type": "code",
   "execution_count": 446,
   "id": "f718547b-4482-431c-a786-a65ca7eb5f69",
   "metadata": {},
   "outputs": [
    {
     "data": {
      "text/plain": [
       "count    5806.000000\n",
       "mean       68.568722\n",
       "std        55.332197\n",
       "min         0.000000\n",
       "25%        49.000000\n",
       "50%        64.000000\n",
       "75%        77.000000\n",
       "max       310.000000\n",
       "Name: AGE, dtype: float64"
      ]
     },
     "execution_count": 446,
     "metadata": {},
     "output_type": "execute_result"
    }
   ],
   "source": [
    "nvte_uid['AGE'].describe()"
   ]
  },
  {
   "cell_type": "code",
   "execution_count": 447,
   "id": "fcf10a45-eaf6-4368-b653-99179f0121e7",
   "metadata": {},
   "outputs": [
    {
     "data": {
      "text/plain": [
       "count    2471.000000\n",
       "mean       70.396601\n",
       "std        60.712721\n",
       "min         0.000000\n",
       "25%        47.000000\n",
       "50%        64.000000\n",
       "75%        77.000000\n",
       "max       310.000000\n",
       "Name: AGE, dtype: float64"
      ]
     },
     "execution_count": 447,
     "metadata": {},
     "output_type": "execute_result"
    }
   ],
   "source": [
    "# female\n",
    "nvte_uid['AGE'][nvte_uid['GENDER'] == 'F'].describe()"
   ]
  },
  {
   "cell_type": "code",
   "execution_count": 448,
   "id": "23d17d81-aa5e-4471-bdb1-6ea216a5699d",
   "metadata": {},
   "outputs": [
    {
     "data": {
      "text/plain": [
       "count    3335.000000\n",
       "mean       67.214393\n",
       "std        50.947859\n",
       "min         0.000000\n",
       "25%        50.000000\n",
       "50%        63.000000\n",
       "75%        76.000000\n",
       "max       308.000000\n",
       "Name: AGE, dtype: float64"
      ]
     },
     "execution_count": 448,
     "metadata": {},
     "output_type": "execute_result"
    }
   ],
   "source": [
    "nvte_uid['AGE'][nvte_uid['GENDER'] == 'M'].describe()"
   ]
  },
  {
   "cell_type": "markdown",
   "id": "f5145fd1-a266-47da-9c66-9ad8ab394a16",
   "metadata": {
    "jp-MarkdownHeadingCollapsed": true,
    "tags": []
   },
   "source": [
    "#### Length Stay"
   ]
  },
  {
   "cell_type": "code",
   "execution_count": 449,
   "id": "6c5367f0-ca26-45f9-973f-8624091fcaf2",
   "metadata": {},
   "outputs": [
    {
     "data": {
      "text/plain": [
       "count    5806.000000\n",
       "mean       11.493111\n",
       "std        13.441392\n",
       "min         0.000000\n",
       "25%         4.000000\n",
       "50%         7.000000\n",
       "75%        14.000000\n",
       "max       140.000000\n",
       "Name: LENGTH_STAY, dtype: float64"
      ]
     },
     "execution_count": 449,
     "metadata": {},
     "output_type": "execute_result"
    }
   ],
   "source": [
    "nvte_uid['LENGTH_STAY'].describe()"
   ]
  },
  {
   "cell_type": "code",
   "execution_count": 450,
   "id": "92dd617d-a614-433d-ab80-d0ac3a964fcf",
   "metadata": {},
   "outputs": [
    {
     "data": {
      "text/plain": [
       "count    2471.000000\n",
       "mean       11.302711\n",
       "std        13.751608\n",
       "min         0.000000\n",
       "25%         4.000000\n",
       "50%         7.000000\n",
       "75%        13.000000\n",
       "max       140.000000\n",
       "Name: LENGTH_STAY, dtype: float64"
      ]
     },
     "execution_count": 450,
     "metadata": {},
     "output_type": "execute_result"
    }
   ],
   "source": [
    "# female\n",
    "nvte_uid['LENGTH_STAY'][nvte_uid['GENDER'] == 'F'].describe()"
   ]
  },
  {
   "cell_type": "code",
   "execution_count": 451,
   "id": "aca584f1-e92f-483a-8d26-62f149604ebb",
   "metadata": {},
   "outputs": [
    {
     "data": {
      "text/plain": [
       "count    3335.000000\n",
       "mean       11.634183\n",
       "std        13.207151\n",
       "min         0.000000\n",
       "25%         4.000000\n",
       "50%         7.000000\n",
       "75%        14.000000\n",
       "max       138.000000\n",
       "Name: LENGTH_STAY, dtype: float64"
      ]
     },
     "execution_count": 451,
     "metadata": {},
     "output_type": "execute_result"
    }
   ],
   "source": [
    "# male\n",
    "nvte_uid['LENGTH_STAY'][nvte_uid['GENDER'] == 'M'].describe()"
   ]
  },
  {
   "cell_type": "markdown",
   "id": "5e2ccade-c276-4371-b9cc-02d9318f2970",
   "metadata": {
    "jp-MarkdownHeadingCollapsed": true,
    "tags": []
   },
   "source": [
    "#### Admit Times"
   ]
  },
  {
   "cell_type": "code",
   "execution_count": 452,
   "id": "c66908bf-2aa3-42d4-ab29-75f14f5c0cfe",
   "metadata": {},
   "outputs": [
    {
     "data": {
      "text/plain": [
       "count    5806.000000\n",
       "mean        3.951085\n",
       "std         4.511715\n",
       "min         2.000000\n",
       "25%         2.000000\n",
       "50%         3.000000\n",
       "75%         4.000000\n",
       "max        42.000000\n",
       "Name: ADMIT_TIMES, dtype: float64"
      ]
     },
     "execution_count": 452,
     "metadata": {},
     "output_type": "execute_result"
    }
   ],
   "source": [
    "nvte_uid['ADMIT_TIMES'].describe()"
   ]
  },
  {
   "cell_type": "code",
   "execution_count": 453,
   "id": "202918b5-6aa3-4d30-8d67-2cdef527f11a",
   "metadata": {},
   "outputs": [
    {
     "data": {
      "text/plain": [
       "count    2471.000000\n",
       "mean        4.093889\n",
       "std         4.575601\n",
       "min         2.000000\n",
       "25%         2.000000\n",
       "50%         3.000000\n",
       "75%         4.000000\n",
       "max        34.000000\n",
       "Name: ADMIT_TIMES, dtype: float64"
      ]
     },
     "execution_count": 453,
     "metadata": {},
     "output_type": "execute_result"
    }
   ],
   "source": [
    "# female\n",
    "nvte_uid['ADMIT_TIMES'][nvte_uid['GENDER'] == 'F'].describe()"
   ]
  },
  {
   "cell_type": "code",
   "execution_count": 454,
   "id": "d3eaa71e-2e0f-4285-a4cf-70b107a05d83",
   "metadata": {},
   "outputs": [
    {
     "data": {
      "text/plain": [
       "count    3335.000000\n",
       "mean        3.845277\n",
       "std         4.461532\n",
       "min         2.000000\n",
       "25%         2.000000\n",
       "50%         3.000000\n",
       "75%         4.000000\n",
       "max        42.000000\n",
       "Name: ADMIT_TIMES, dtype: float64"
      ]
     },
     "execution_count": 454,
     "metadata": {},
     "output_type": "execute_result"
    }
   ],
   "source": [
    "# male\n",
    "nvte_uid['ADMIT_TIMES'][nvte_uid['GENDER'] == 'M'].describe()"
   ]
  },
  {
   "cell_type": "markdown",
   "id": "0857e25e-b1eb-4a56-b8cf-c993989ea079",
   "metadata": {
    "jp-MarkdownHeadingCollapsed": true,
    "tags": []
   },
   "source": [
    "#### Readmit Days"
   ]
  },
  {
   "cell_type": "code",
   "execution_count": 455,
   "id": "512c1472-b916-4509-86b9-1fdbeb1a6d03",
   "metadata": {},
   "outputs": [
    {
     "data": {
      "text/plain": [
       "count    3164.000000\n",
       "mean       11.559418\n",
       "std         8.391952\n",
       "min         1.000000\n",
       "25%         4.000000\n",
       "50%        10.000000\n",
       "75%        18.000000\n",
       "max        29.000000\n",
       "Name: READMIT_DAY, dtype: float64"
      ]
     },
     "execution_count": 455,
     "metadata": {},
     "output_type": "execute_result"
    }
   ],
   "source": [
    "nvte_uid[nvte_uid['READMIT_DAY'] > 0].READMIT_DAY.describe()"
   ]
  },
  {
   "cell_type": "code",
   "execution_count": 456,
   "id": "8537bde2-6ecf-412c-9bd0-3930e6299b51",
   "metadata": {},
   "outputs": [
    {
     "data": {
      "text/plain": [
       "count    1361.000000\n",
       "mean       11.508450\n",
       "std         8.234618\n",
       "min         1.000000\n",
       "25%         4.000000\n",
       "50%        10.000000\n",
       "75%        18.000000\n",
       "max        29.000000\n",
       "Name: READMIT_DAY, dtype: float64"
      ]
     },
     "execution_count": 456,
     "metadata": {},
     "output_type": "execute_result"
    }
   ],
   "source": [
    "# female\n",
    "nvte_uid[(nvte_uid['READMIT_DAY'] > 0) & (nvte_uid['GENDER'] == 'F')].READMIT_DAY.describe()"
   ]
  },
  {
   "cell_type": "code",
   "execution_count": 458,
   "id": "ae1dd15b-73e2-4a09-92e3-b33952806428",
   "metadata": {},
   "outputs": [
    {
     "data": {
      "text/plain": [
       "count    1803.000000\n",
       "mean       11.597892\n",
       "std         8.510862\n",
       "min         1.000000\n",
       "25%         4.000000\n",
       "50%        10.000000\n",
       "75%        18.000000\n",
       "max        29.000000\n",
       "Name: READMIT_DAY, dtype: float64"
      ]
     },
     "execution_count": 458,
     "metadata": {},
     "output_type": "execute_result"
    }
   ],
   "source": [
    "# male\n",
    "nvte_uid[(nvte_uid['READMIT_DAY'] > 0) & (nvte_uid['GENDER'] == 'M')].READMIT_DAY.describe()"
   ]
  },
  {
   "cell_type": "code",
   "execution_count": null,
   "id": "63941a2f-450e-4508-b793-e91500c0da7f",
   "metadata": {},
   "outputs": [],
   "source": []
  },
  {
   "cell_type": "markdown",
   "id": "849237c9-489d-48f3-aa85-7114f87f3b07",
   "metadata": {},
   "source": [
    "# Comorbidities for VTE patients readmit within 30 days"
   ]
  },
  {
   "cell_type": "code",
   "execution_count": 463,
   "id": "7b8e03c5-79d8-4976-8458-f0f94c3bab60",
   "metadata": {},
   "outputs": [],
   "source": [
    "other_code = df_dia_icd[~df_dia_icd.ICD9_CODE.isin(lista)][['SUBJECT_ID', 'HADM_ID', 'ICD9_CODE']]"
   ]
  },
  {
   "cell_type": "code",
   "execution_count": 465,
   "id": "937810a5-24cf-4ee7-9c25-e0b9d51b5154",
   "metadata": {},
   "outputs": [],
   "source": [
    "vte_com = pd.merge(vte_uid, other_code, how='inner', on = ['SUBJECT_ID', 'HADM_ID'])"
   ]
  },
  {
   "cell_type": "code",
   "execution_count": 469,
   "id": "88f90911-183e-4854-a104-a2614fd790fb",
   "metadata": {},
   "outputs": [],
   "source": [
    "vte_top5_com = vte_com['ICD9_CODE'].value_counts()[:5].sort_values(ascending=False).index.tolist()[:5]"
   ]
  },
  {
   "cell_type": "code",
   "execution_count": 470,
   "id": "37fe1360-2944-44fb-941f-78b89a6103f2",
   "metadata": {},
   "outputs": [
    {
     "data": {
      "text/plain": [
       "['4280', '4019', '42731', '51881', '5849']"
      ]
     },
     "execution_count": 470,
     "metadata": {},
     "output_type": "execute_result"
    }
   ],
   "source": [
    "vte_top5_com"
   ]
  },
  {
   "cell_type": "markdown",
   "id": "83f7af1e-3e98-4b6c-b604-871336395bbe",
   "metadata": {},
   "source": [
    "['Congestive heart failure, unspecified', 'Unspecified essential hypertension', 'Atrial fibrillation', 'Acute respiratory failure', 'Acute kidney failure, unspecified']"
   ]
  },
  {
   "cell_type": "code",
   "execution_count": 468,
   "id": "b49a085f-e2c7-4307-b346-d532a2c84c35",
   "metadata": {},
   "outputs": [
    {
     "data": {
      "text/html": [
       "<div>\n",
       "<style scoped>\n",
       "    .dataframe tbody tr th:only-of-type {\n",
       "        vertical-align: middle;\n",
       "    }\n",
       "\n",
       "    .dataframe tbody tr th {\n",
       "        vertical-align: top;\n",
       "    }\n",
       "\n",
       "    .dataframe thead th {\n",
       "        text-align: right;\n",
       "    }\n",
       "</style>\n",
       "<table border=\"1\" class=\"dataframe\">\n",
       "  <thead>\n",
       "    <tr style=\"text-align: right;\">\n",
       "      <th></th>\n",
       "      <th>SUBJECT_ID</th>\n",
       "      <th>HADM_ID</th>\n",
       "      <th>ETHNICITY</th>\n",
       "      <th>GENDER</th>\n",
       "      <th>AGE</th>\n",
       "      <th>ADMIT_TIMES</th>\n",
       "      <th>LENGTH_STAY</th>\n",
       "      <th>READMIT_DAY</th>\n",
       "      <th>ICD9_CODE</th>\n",
       "    </tr>\n",
       "  </thead>\n",
       "  <tbody>\n",
       "    <tr>\n",
       "      <th>0</th>\n",
       "      <td>32810</td>\n",
       "      <td>168208</td>\n",
       "      <td>WHITE</td>\n",
       "      <td>M</td>\n",
       "      <td>22</td>\n",
       "      <td>2</td>\n",
       "      <td>7</td>\n",
       "      <td>3</td>\n",
       "      <td>9999</td>\n",
       "    </tr>\n",
       "    <tr>\n",
       "      <th>1</th>\n",
       "      <td>32810</td>\n",
       "      <td>168208</td>\n",
       "      <td>WHITE</td>\n",
       "      <td>M</td>\n",
       "      <td>22</td>\n",
       "      <td>2</td>\n",
       "      <td>7</td>\n",
       "      <td>3</td>\n",
       "      <td>48281</td>\n",
       "    </tr>\n",
       "    <tr>\n",
       "      <th>2</th>\n",
       "      <td>32810</td>\n",
       "      <td>168208</td>\n",
       "      <td>WHITE</td>\n",
       "      <td>M</td>\n",
       "      <td>22</td>\n",
       "      <td>2</td>\n",
       "      <td>7</td>\n",
       "      <td>3</td>\n",
       "      <td>5070</td>\n",
       "    </tr>\n",
       "    <tr>\n",
       "      <th>3</th>\n",
       "      <td>32810</td>\n",
       "      <td>168208</td>\n",
       "      <td>WHITE</td>\n",
       "      <td>M</td>\n",
       "      <td>22</td>\n",
       "      <td>2</td>\n",
       "      <td>7</td>\n",
       "      <td>3</td>\n",
       "      <td>3481</td>\n",
       "    </tr>\n",
       "    <tr>\n",
       "      <th>4</th>\n",
       "      <td>32810</td>\n",
       "      <td>168208</td>\n",
       "      <td>WHITE</td>\n",
       "      <td>M</td>\n",
       "      <td>22</td>\n",
       "      <td>2</td>\n",
       "      <td>7</td>\n",
       "      <td>3</td>\n",
       "      <td>2763</td>\n",
       "    </tr>\n",
       "  </tbody>\n",
       "</table>\n",
       "</div>"
      ],
      "text/plain": [
       "   SUBJECT_ID  HADM_ID ETHNICITY GENDER  AGE  ADMIT_TIMES  LENGTH_STAY  \\\n",
       "0       32810   168208     WHITE      M   22            2            7   \n",
       "1       32810   168208     WHITE      M   22            2            7   \n",
       "2       32810   168208     WHITE      M   22            2            7   \n",
       "3       32810   168208     WHITE      M   22            2            7   \n",
       "4       32810   168208     WHITE      M   22            2            7   \n",
       "\n",
       "   READMIT_DAY ICD9_CODE  \n",
       "0            3      9999  \n",
       "1            3     48281  \n",
       "2            3      5070  \n",
       "3            3      3481  \n",
       "4            3      2763  "
      ]
     },
     "execution_count": 468,
     "metadata": {},
     "output_type": "execute_result"
    }
   ],
   "source": [
    "vte_com.head()"
   ]
  },
  {
   "cell_type": "markdown",
   "id": "affcb2d8-deea-4556-a8e4-6fe31e4f4bc3",
   "metadata": {},
   "source": [
    "# Comorbidities for Non VTE patients readmit within 30 days"
   ]
  },
  {
   "cell_type": "code",
   "execution_count": 471,
   "id": "98b539a6-81a7-4158-8e8c-82ba0b4f340a",
   "metadata": {},
   "outputs": [],
   "source": [
    "nvte_com = pd.merge(nvte_uid, other_code, how='inner', on = ['SUBJECT_ID', 'HADM_ID'])\n",
    "nvte_top5_com = nvte_com['ICD9_CODE'].value_counts()[:5].sort_values(ascending=False).index.tolist()[:5]"
   ]
  },
  {
   "cell_type": "code",
   "execution_count": 472,
   "id": "029e5d12-619b-41ec-9df4-50fb7a89bba2",
   "metadata": {},
   "outputs": [
    {
     "data": {
      "text/plain": [
       "['4019', '4280', '42731', '5849', '41401']"
      ]
     },
     "execution_count": 472,
     "metadata": {},
     "output_type": "execute_result"
    }
   ],
   "source": [
    "nvte_top5_com"
   ]
  },
  {
   "cell_type": "markdown",
   "id": "da0a837f-af1d-4a3f-a896-a34eb29d5eba",
   "metadata": {},
   "source": [
    "['Unspecified essential hypertension', 'Congestive heart failure, unspecified', 'Atrial fibrillation', 'Acute kidney failure, unspecified', 'Coronary atherosclerosis of native coronary artery']"
   ]
  },
  {
   "cell_type": "code",
   "execution_count": null,
   "id": "8fc6844c-69b4-4950-870c-ebe35c26fbf0",
   "metadata": {},
   "outputs": [],
   "source": []
  }
 ],
 "metadata": {
  "kernelspec": {
   "display_name": "Python 3 (ipykernel)",
   "language": "python",
   "name": "python3"
  },
  "language_info": {
   "codemirror_mode": {
    "name": "ipython",
    "version": 3
   },
   "file_extension": ".py",
   "mimetype": "text/x-python",
   "name": "python",
   "nbconvert_exporter": "python",
   "pygments_lexer": "ipython3",
   "version": "3.9.7"
  }
 },
 "nbformat": 4,
 "nbformat_minor": 5
}
