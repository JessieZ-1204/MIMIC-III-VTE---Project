{
 "cells": [
  {
   "cell_type": "markdown",
   "id": "7d3931e7",
   "metadata": {},
   "source": [
    "# Load Dataset"
   ]
  },
  {
   "cell_type": "code",
   "execution_count": 91,
   "id": "1dc265b1",
   "metadata": {},
   "outputs": [],
   "source": [
    "# set up notebook\n",
    "import os\n",
    "import pandas as pd\n",
    "import numpy as np\n",
    "import matplotlib.pyplot as plt\n",
    "import sqlalchemy"
   ]
  },
  {
   "cell_type": "code",
   "execution_count": 178,
   "id": "01b630ad",
   "metadata": {},
   "outputs": [],
   "source": [
    "# read the admissions table\n",
    "df_adm = pd.read_csv('ADMISSIONS.csv')\n",
    "df_pat = pd.read_csv('PATIENTS.csv')\n",
    "df_icu = pd.read_csv('ICUSTAYS.csv')"
   ]
  },
  {
   "cell_type": "code",
   "execution_count": 3,
   "id": "38a0c230",
   "metadata": {},
   "outputs": [
    {
     "name": "stderr",
     "output_type": "stream",
     "text": [
      "/Users/kexinzhang/opt/anaconda3/lib/python3.9/site-packages/IPython/core/interactiveshell.py:3444: DtypeWarning: Columns (7,9,17,20,21) have mixed types.Specify dtype option on import or set low_memory=False.\n",
      "  exec(code_obj, self.user_global_ns, self.user_ns)\n"
     ]
    }
   ],
   "source": [
    "df_ineven = pd.read_csv('INPUTEVENTS_CV.csv')"
   ]
  },
  {
   "cell_type": "code",
   "execution_count": 4,
   "id": "90cd78bc-87de-48ed-92b4-0f9cb0e0b645",
   "metadata": {},
   "outputs": [],
   "source": [
    "df_dicd_dia = pd.read_csv('D_ICD_DIAGNOSES.csv')"
   ]
  },
  {
   "cell_type": "code",
   "execution_count": 5,
   "id": "433f4356-fe2f-4636-bbc0-3206c58da258",
   "metadata": {},
   "outputs": [],
   "source": [
    "df_proce = pd.read_csv('PROCEDUREEVENTS_MV.csv')"
   ]
  },
  {
   "cell_type": "code",
   "execution_count": 61,
   "id": "8942ad24-d3ad-4833-9dd8-4038358883c8",
   "metadata": {},
   "outputs": [],
   "source": [
    "df_dia_icd = pd.read_csv('DIAGNOSES_ICD.csv.gz', compression='gzip', header=0, sep=',', quotechar='\"')"
   ]
  },
  {
   "cell_type": "markdown",
   "id": "5bf67667-cfd0-4c99-8449-c64e612a78c6",
   "metadata": {},
   "source": [
    "# Count Number of Total People"
   ]
  },
  {
   "cell_type": "code",
   "execution_count": 7,
   "id": "d14f2ea9-a655-41b5-af9a-8e33e5636047",
   "metadata": {},
   "outputs": [
    {
     "data": {
      "text/html": [
       "<div>\n",
       "<style scoped>\n",
       "    .dataframe tbody tr th:only-of-type {\n",
       "        vertical-align: middle;\n",
       "    }\n",
       "\n",
       "    .dataframe tbody tr th {\n",
       "        vertical-align: top;\n",
       "    }\n",
       "\n",
       "    .dataframe thead th {\n",
       "        text-align: right;\n",
       "    }\n",
       "</style>\n",
       "<table border=\"1\" class=\"dataframe\">\n",
       "  <thead>\n",
       "    <tr style=\"text-align: right;\">\n",
       "      <th></th>\n",
       "      <th>ROW_ID</th>\n",
       "      <th>SUBJECT_ID</th>\n",
       "      <th>GENDER</th>\n",
       "      <th>DOB</th>\n",
       "      <th>DOD</th>\n",
       "      <th>DOD_HOSP</th>\n",
       "      <th>DOD_SSN</th>\n",
       "      <th>EXPIRE_FLAG</th>\n",
       "    </tr>\n",
       "  </thead>\n",
       "  <tbody>\n",
       "    <tr>\n",
       "      <th>0</th>\n",
       "      <td>234</td>\n",
       "      <td>249</td>\n",
       "      <td>F</td>\n",
       "      <td>2075-03-13 00:00:00</td>\n",
       "      <td>NaN</td>\n",
       "      <td>NaN</td>\n",
       "      <td>NaN</td>\n",
       "      <td>0</td>\n",
       "    </tr>\n",
       "    <tr>\n",
       "      <th>1</th>\n",
       "      <td>235</td>\n",
       "      <td>250</td>\n",
       "      <td>F</td>\n",
       "      <td>2164-12-27 00:00:00</td>\n",
       "      <td>2188-11-22 00:00:00</td>\n",
       "      <td>2188-11-22 00:00:00</td>\n",
       "      <td>NaN</td>\n",
       "      <td>1</td>\n",
       "    </tr>\n",
       "    <tr>\n",
       "      <th>2</th>\n",
       "      <td>236</td>\n",
       "      <td>251</td>\n",
       "      <td>M</td>\n",
       "      <td>2090-03-15 00:00:00</td>\n",
       "      <td>NaN</td>\n",
       "      <td>NaN</td>\n",
       "      <td>NaN</td>\n",
       "      <td>0</td>\n",
       "    </tr>\n",
       "    <tr>\n",
       "      <th>3</th>\n",
       "      <td>237</td>\n",
       "      <td>252</td>\n",
       "      <td>M</td>\n",
       "      <td>2078-03-06 00:00:00</td>\n",
       "      <td>NaN</td>\n",
       "      <td>NaN</td>\n",
       "      <td>NaN</td>\n",
       "      <td>0</td>\n",
       "    </tr>\n",
       "    <tr>\n",
       "      <th>4</th>\n",
       "      <td>238</td>\n",
       "      <td>253</td>\n",
       "      <td>F</td>\n",
       "      <td>2089-11-26 00:00:00</td>\n",
       "      <td>NaN</td>\n",
       "      <td>NaN</td>\n",
       "      <td>NaN</td>\n",
       "      <td>0</td>\n",
       "    </tr>\n",
       "  </tbody>\n",
       "</table>\n",
       "</div>"
      ],
      "text/plain": [
       "   ROW_ID  SUBJECT_ID GENDER                  DOB                  DOD  \\\n",
       "0     234         249      F  2075-03-13 00:00:00                  NaN   \n",
       "1     235         250      F  2164-12-27 00:00:00  2188-11-22 00:00:00   \n",
       "2     236         251      M  2090-03-15 00:00:00                  NaN   \n",
       "3     237         252      M  2078-03-06 00:00:00                  NaN   \n",
       "4     238         253      F  2089-11-26 00:00:00                  NaN   \n",
       "\n",
       "              DOD_HOSP DOD_SSN  EXPIRE_FLAG  \n",
       "0                  NaN     NaN            0  \n",
       "1  2188-11-22 00:00:00     NaN            1  \n",
       "2                  NaN     NaN            0  \n",
       "3                  NaN     NaN            0  \n",
       "4                  NaN     NaN            0  "
      ]
     },
     "execution_count": 7,
     "metadata": {},
     "output_type": "execute_result"
    }
   ],
   "source": [
    "df_pat.head()"
   ]
  },
  {
   "cell_type": "code",
   "execution_count": 8,
   "id": "e4081f94-dc1d-44fc-9129-594e9c8788c6",
   "metadata": {},
   "outputs": [
    {
     "data": {
      "text/plain": [
       "M    26121\n",
       "F    20399\n",
       "Name: GENDER, dtype: int64"
      ]
     },
     "execution_count": 8,
     "metadata": {},
     "output_type": "execute_result"
    }
   ],
   "source": [
    "df_pat.GENDER.value_counts()"
   ]
  },
  {
   "cell_type": "code",
   "execution_count": 9,
   "id": "5ed5289d-c929-430c-8fc4-096c11ff9b6b",
   "metadata": {},
   "outputs": [
    {
     "name": "stdout",
     "output_type": "stream",
     "text": [
      "Total number of patient is : 46520\n"
     ]
    }
   ],
   "source": [
    "gender_total = df_pat.SUBJECT_ID.nunique()\n",
    "print(\"Total number of patient is :\", gender_total )"
   ]
  },
  {
   "cell_type": "markdown",
   "id": "99ff5d8e-87a2-44f9-a61d-ba04bc71d46b",
   "metadata": {},
   "source": [
    "#### Convert dates"
   ]
  },
  {
   "cell_type": "code",
   "execution_count": 177,
   "id": "3504f349-78fd-401f-bbba-6aa1ed4530c5",
   "metadata": {},
   "outputs": [],
   "source": [
    "#df_pat.DOB = pd.to_datetime(df_pat.DOB, format = '%Y-%m-%d %H:%M:%S', errors = 'coerce')\n",
    "#df_pat.DOD = pd.to_datetime(df_pat.DOD, format = '%Y-%m-%d %H:%M:%S', errors = 'coerce')\n",
    "#df_adm.ADMITTIME = pd.to_datetime(df_adm.ADMITTIME, format = '%Y-%m-%d %H:%M:%S', errors = 'coerce')\n",
    "\n",
    "#df_pat.DOB = pd.to_datetime(df_pat.DOB).dt.date\n",
    "#df_adm.ADMITTIME = pd.to_datetime(df_adm.ADMITTIME).dt.date\n",
    "\n",
    "#type(df_pat.DOB[1])"
   ]
  },
  {
   "cell_type": "code",
   "execution_count": 11,
   "id": "d5a499da-5c58-4503-a15e-824a45326791",
   "metadata": {},
   "outputs": [
    {
     "data": {
      "text/html": [
       "<div>\n",
       "<style scoped>\n",
       "    .dataframe tbody tr th:only-of-type {\n",
       "        vertical-align: middle;\n",
       "    }\n",
       "\n",
       "    .dataframe tbody tr th {\n",
       "        vertical-align: top;\n",
       "    }\n",
       "\n",
       "    .dataframe thead th {\n",
       "        text-align: right;\n",
       "    }\n",
       "</style>\n",
       "<table border=\"1\" class=\"dataframe\">\n",
       "  <thead>\n",
       "    <tr style=\"text-align: right;\">\n",
       "      <th></th>\n",
       "      <th>ROW_ID</th>\n",
       "      <th>SUBJECT_ID</th>\n",
       "      <th>GENDER</th>\n",
       "      <th>DOB</th>\n",
       "      <th>DOD</th>\n",
       "      <th>DOD_HOSP</th>\n",
       "      <th>DOD_SSN</th>\n",
       "      <th>EXPIRE_FLAG</th>\n",
       "    </tr>\n",
       "  </thead>\n",
       "  <tbody>\n",
       "    <tr>\n",
       "      <th>222</th>\n",
       "      <td>1</td>\n",
       "      <td>2</td>\n",
       "      <td>M</td>\n",
       "      <td>2138-07-17</td>\n",
       "      <td>NaT</td>\n",
       "      <td>NaN</td>\n",
       "      <td>NaN</td>\n",
       "      <td>0</td>\n",
       "    </tr>\n",
       "    <tr>\n",
       "      <th>223</th>\n",
       "      <td>2</td>\n",
       "      <td>3</td>\n",
       "      <td>M</td>\n",
       "      <td>2025-04-11</td>\n",
       "      <td>2102-06-14</td>\n",
       "      <td>NaN</td>\n",
       "      <td>2102-06-14 00:00:00</td>\n",
       "      <td>1</td>\n",
       "    </tr>\n",
       "    <tr>\n",
       "      <th>224</th>\n",
       "      <td>3</td>\n",
       "      <td>4</td>\n",
       "      <td>F</td>\n",
       "      <td>2143-05-12</td>\n",
       "      <td>NaT</td>\n",
       "      <td>NaN</td>\n",
       "      <td>NaN</td>\n",
       "      <td>0</td>\n",
       "    </tr>\n",
       "    <tr>\n",
       "      <th>225</th>\n",
       "      <td>4</td>\n",
       "      <td>5</td>\n",
       "      <td>M</td>\n",
       "      <td>2103-02-02</td>\n",
       "      <td>NaT</td>\n",
       "      <td>NaN</td>\n",
       "      <td>NaN</td>\n",
       "      <td>0</td>\n",
       "    </tr>\n",
       "    <tr>\n",
       "      <th>226</th>\n",
       "      <td>5</td>\n",
       "      <td>6</td>\n",
       "      <td>F</td>\n",
       "      <td>2109-06-21</td>\n",
       "      <td>NaT</td>\n",
       "      <td>NaN</td>\n",
       "      <td>NaN</td>\n",
       "      <td>0</td>\n",
       "    </tr>\n",
       "    <tr>\n",
       "      <th>...</th>\n",
       "      <td>...</td>\n",
       "      <td>...</td>\n",
       "      <td>...</td>\n",
       "      <td>...</td>\n",
       "      <td>...</td>\n",
       "      <td>...</td>\n",
       "      <td>...</td>\n",
       "      <td>...</td>\n",
       "    </tr>\n",
       "    <tr>\n",
       "      <th>41091</th>\n",
       "      <td>46516</td>\n",
       "      <td>99985</td>\n",
       "      <td>M</td>\n",
       "      <td>2127-04-08</td>\n",
       "      <td>NaT</td>\n",
       "      <td>NaN</td>\n",
       "      <td>NaN</td>\n",
       "      <td>0</td>\n",
       "    </tr>\n",
       "    <tr>\n",
       "      <th>41092</th>\n",
       "      <td>46517</td>\n",
       "      <td>99991</td>\n",
       "      <td>M</td>\n",
       "      <td>2137-04-07</td>\n",
       "      <td>NaT</td>\n",
       "      <td>NaN</td>\n",
       "      <td>NaN</td>\n",
       "      <td>0</td>\n",
       "    </tr>\n",
       "    <tr>\n",
       "      <th>41093</th>\n",
       "      <td>46518</td>\n",
       "      <td>99992</td>\n",
       "      <td>F</td>\n",
       "      <td>2078-10-17</td>\n",
       "      <td>NaT</td>\n",
       "      <td>NaN</td>\n",
       "      <td>NaN</td>\n",
       "      <td>0</td>\n",
       "    </tr>\n",
       "    <tr>\n",
       "      <th>41094</th>\n",
       "      <td>46519</td>\n",
       "      <td>99995</td>\n",
       "      <td>F</td>\n",
       "      <td>2058-05-29</td>\n",
       "      <td>2147-09-29</td>\n",
       "      <td>NaN</td>\n",
       "      <td>2147-09-29 00:00:00</td>\n",
       "      <td>1</td>\n",
       "    </tr>\n",
       "    <tr>\n",
       "      <th>41095</th>\n",
       "      <td>46520</td>\n",
       "      <td>99999</td>\n",
       "      <td>F</td>\n",
       "      <td>2054-01-06</td>\n",
       "      <td>NaT</td>\n",
       "      <td>NaN</td>\n",
       "      <td>NaN</td>\n",
       "      <td>0</td>\n",
       "    </tr>\n",
       "  </tbody>\n",
       "</table>\n",
       "<p>46520 rows × 8 columns</p>\n",
       "</div>"
      ],
      "text/plain": [
       "       ROW_ID  SUBJECT_ID GENDER        DOB        DOD DOD_HOSP  \\\n",
       "222         1           2      M 2138-07-17        NaT      NaN   \n",
       "223         2           3      M 2025-04-11 2102-06-14      NaN   \n",
       "224         3           4      F 2143-05-12        NaT      NaN   \n",
       "225         4           5      M 2103-02-02        NaT      NaN   \n",
       "226         5           6      F 2109-06-21        NaT      NaN   \n",
       "...       ...         ...    ...        ...        ...      ...   \n",
       "41091   46516       99985      M 2127-04-08        NaT      NaN   \n",
       "41092   46517       99991      M 2137-04-07        NaT      NaN   \n",
       "41093   46518       99992      F 2078-10-17        NaT      NaN   \n",
       "41094   46519       99995      F 2058-05-29 2147-09-29      NaN   \n",
       "41095   46520       99999      F 2054-01-06        NaT      NaN   \n",
       "\n",
       "                   DOD_SSN  EXPIRE_FLAG  \n",
       "222                    NaN            0  \n",
       "223    2102-06-14 00:00:00            1  \n",
       "224                    NaN            0  \n",
       "225                    NaN            0  \n",
       "226                    NaN            0  \n",
       "...                    ...          ...  \n",
       "41091                  NaN            0  \n",
       "41092                  NaN            0  \n",
       "41093                  NaN            0  \n",
       "41094  2147-09-29 00:00:00            1  \n",
       "41095                  NaN            0  \n",
       "\n",
       "[46520 rows x 8 columns]"
      ]
     },
     "execution_count": 11,
     "metadata": {},
     "output_type": "execute_result"
    }
   ],
   "source": [
    "df_pat.sort_values(by=['SUBJECT_ID'])"
   ]
  },
  {
   "cell_type": "markdown",
   "id": "e1f7cdb9-2a81-46f9-8e9e-399932aeef9c",
   "metadata": {},
   "source": [
    "# Count Ethnicity, Marital status, and Admission type"
   ]
  },
  {
   "cell_type": "code",
   "execution_count": 12,
   "id": "5d43be0a-e984-462f-b12f-b02a271688e8",
   "metadata": {},
   "outputs": [
    {
     "name": "stderr",
     "output_type": "stream",
     "text": [
      "/var/folders/73/37k4t3k50d7gry5vs9_z5yth0000gn/T/ipykernel_36421/2112481919.py:3: FutureWarning: The default value of regex will change from True to False in a future version.\n",
      "  df_adm['ETHNICITY'] = df_adm['ETHNICITY'].str.replace(regex_black, 'BLACK')\n",
      "/var/folders/73/37k4t3k50d7gry5vs9_z5yth0000gn/T/ipykernel_36421/2112481919.py:6: FutureWarning: The default value of regex will change from True to False in a future version.\n",
      "  df_adm['ETHNICITY'] = df_adm['ETHNICITY'].str.replace(regx_white, 'WHITE')\n",
      "/var/folders/73/37k4t3k50d7gry5vs9_z5yth0000gn/T/ipykernel_36421/2112481919.py:9: FutureWarning: The default value of regex will change from True to False in a future version.\n",
      "  df_adm['ETHNICITY'] = df_adm['ETHNICITY'].str.replace(regx_asian, 'ASIAN')\n",
      "/var/folders/73/37k4t3k50d7gry5vs9_z5yth0000gn/T/ipykernel_36421/2112481919.py:12: FutureWarning: The default value of regex will change from True to False in a future version.\n",
      "  df_adm['ETHNICITY'] = df_adm['ETHNICITY'].str.replace(regx_hispanic, 'HISPANIC OR LATINO')\n"
     ]
    }
   ],
   "source": [
    "# Summarize Ethnicity\n",
    "regex_black = '(BLACK(/| )([A-Z]| )*)'\n",
    "df_adm['ETHNICITY'] = df_adm['ETHNICITY'].str.replace(regex_black, 'BLACK')\n",
    "\n",
    "regx_white = '(WHITE - [A-Z ]*)'\n",
    "df_adm['ETHNICITY'] = df_adm['ETHNICITY'].str.replace(regx_white, 'WHITE')\n",
    "\n",
    "regx_asian = '(ASIAN (- )?[A-Z ]*)'\n",
    "df_adm['ETHNICITY'] = df_adm['ETHNICITY'].str.replace(regx_asian, 'ASIAN')\n",
    "\n",
    "regx_hispanic = '(HISPANIC/LATINO - [A-Z \\(\\)]*)|(HISPANIC OR LATINO([A-Z \\(\\)]*))'\n",
    "df_adm['ETHNICITY'] = df_adm['ETHNICITY'].str.replace(regx_hispanic, 'HISPANIC OR LATINO')"
   ]
  },
  {
   "cell_type": "markdown",
   "id": "3db0e91f-99cf-4e41-9b21-2c2c1665f545",
   "metadata": {},
   "source": [
    "#### Dropping Duplicate Subject_id"
   ]
  },
  {
   "cell_type": "code",
   "execution_count": 13,
   "id": "16fc3cf4-5ef5-4b63-92b4-77c9143c20f2",
   "metadata": {},
   "outputs": [],
   "source": [
    "df_uniadm = df_adm.drop_duplicates(subset=[\"SUBJECT_ID\"], keep='last')"
   ]
  },
  {
   "cell_type": "code",
   "execution_count": 14,
   "id": "17e0d1e5-0816-4158-9249-94ca351834ee",
   "metadata": {},
   "outputs": [
    {
     "data": {
      "text/html": [
       "<div>\n",
       "<style scoped>\n",
       "    .dataframe tbody tr th:only-of-type {\n",
       "        vertical-align: middle;\n",
       "    }\n",
       "\n",
       "    .dataframe tbody tr th {\n",
       "        vertical-align: top;\n",
       "    }\n",
       "\n",
       "    .dataframe thead th {\n",
       "        text-align: right;\n",
       "    }\n",
       "</style>\n",
       "<table border=\"1\" class=\"dataframe\">\n",
       "  <thead>\n",
       "    <tr style=\"text-align: right;\">\n",
       "      <th></th>\n",
       "      <th>ROW_ID</th>\n",
       "      <th>SUBJECT_ID</th>\n",
       "      <th>HADM_ID</th>\n",
       "      <th>ADMITTIME</th>\n",
       "      <th>DISCHTIME</th>\n",
       "      <th>DEATHTIME</th>\n",
       "      <th>ADMISSION_TYPE</th>\n",
       "      <th>ADMISSION_LOCATION</th>\n",
       "      <th>DISCHARGE_LOCATION</th>\n",
       "      <th>INSURANCE</th>\n",
       "      <th>LANGUAGE</th>\n",
       "      <th>RELIGION</th>\n",
       "      <th>MARITAL_STATUS</th>\n",
       "      <th>ETHNICITY</th>\n",
       "      <th>EDREGTIME</th>\n",
       "      <th>EDOUTTIME</th>\n",
       "      <th>DIAGNOSIS</th>\n",
       "      <th>HOSPITAL_EXPIRE_FLAG</th>\n",
       "      <th>HAS_CHARTEVENTS_DATA</th>\n",
       "    </tr>\n",
       "  </thead>\n",
       "  <tbody>\n",
       "    <tr>\n",
       "      <th>211</th>\n",
       "      <td>1</td>\n",
       "      <td>2</td>\n",
       "      <td>163353</td>\n",
       "      <td>2138-07-17 19:04:00</td>\n",
       "      <td>2138-07-21 15:48:00</td>\n",
       "      <td>NaN</td>\n",
       "      <td>NEWBORN</td>\n",
       "      <td>PHYS REFERRAL/NORMAL DELI</td>\n",
       "      <td>HOME</td>\n",
       "      <td>Private</td>\n",
       "      <td>NaN</td>\n",
       "      <td>NOT SPECIFIED</td>\n",
       "      <td>NaN</td>\n",
       "      <td>ASIAN</td>\n",
       "      <td>NaN</td>\n",
       "      <td>NaN</td>\n",
       "      <td>NEWBORN</td>\n",
       "      <td>0</td>\n",
       "      <td>1</td>\n",
       "    </tr>\n",
       "    <tr>\n",
       "      <th>212</th>\n",
       "      <td>2</td>\n",
       "      <td>3</td>\n",
       "      <td>145834</td>\n",
       "      <td>2101-10-20 19:08:00</td>\n",
       "      <td>2101-10-31 13:58:00</td>\n",
       "      <td>NaN</td>\n",
       "      <td>EMERGENCY</td>\n",
       "      <td>EMERGENCY ROOM ADMIT</td>\n",
       "      <td>SNF</td>\n",
       "      <td>Medicare</td>\n",
       "      <td>NaN</td>\n",
       "      <td>CATHOLIC</td>\n",
       "      <td>MARRIED</td>\n",
       "      <td>WHITE</td>\n",
       "      <td>2101-10-20 17:09:00</td>\n",
       "      <td>2101-10-20 19:24:00</td>\n",
       "      <td>HYPOTENSION</td>\n",
       "      <td>0</td>\n",
       "      <td>1</td>\n",
       "    </tr>\n",
       "    <tr>\n",
       "      <th>213</th>\n",
       "      <td>3</td>\n",
       "      <td>4</td>\n",
       "      <td>185777</td>\n",
       "      <td>2191-03-16 00:28:00</td>\n",
       "      <td>2191-03-23 18:41:00</td>\n",
       "      <td>NaN</td>\n",
       "      <td>EMERGENCY</td>\n",
       "      <td>EMERGENCY ROOM ADMIT</td>\n",
       "      <td>HOME WITH HOME IV PROVIDR</td>\n",
       "      <td>Private</td>\n",
       "      <td>NaN</td>\n",
       "      <td>PROTESTANT QUAKER</td>\n",
       "      <td>SINGLE</td>\n",
       "      <td>WHITE</td>\n",
       "      <td>2191-03-15 13:10:00</td>\n",
       "      <td>2191-03-16 01:10:00</td>\n",
       "      <td>FEVER,DEHYDRATION,FAILURE TO THRIVE</td>\n",
       "      <td>0</td>\n",
       "      <td>1</td>\n",
       "    </tr>\n",
       "    <tr>\n",
       "      <th>214</th>\n",
       "      <td>4</td>\n",
       "      <td>5</td>\n",
       "      <td>178980</td>\n",
       "      <td>2103-02-02 04:31:00</td>\n",
       "      <td>2103-02-04 12:15:00</td>\n",
       "      <td>NaN</td>\n",
       "      <td>NEWBORN</td>\n",
       "      <td>PHYS REFERRAL/NORMAL DELI</td>\n",
       "      <td>HOME</td>\n",
       "      <td>Private</td>\n",
       "      <td>NaN</td>\n",
       "      <td>BUDDHIST</td>\n",
       "      <td>NaN</td>\n",
       "      <td>ASIAN</td>\n",
       "      <td>NaN</td>\n",
       "      <td>NaN</td>\n",
       "      <td>NEWBORN</td>\n",
       "      <td>0</td>\n",
       "      <td>1</td>\n",
       "    </tr>\n",
       "    <tr>\n",
       "      <th>215</th>\n",
       "      <td>5</td>\n",
       "      <td>6</td>\n",
       "      <td>107064</td>\n",
       "      <td>2175-05-30 07:15:00</td>\n",
       "      <td>2175-06-15 16:00:00</td>\n",
       "      <td>NaN</td>\n",
       "      <td>ELECTIVE</td>\n",
       "      <td>PHYS REFERRAL/NORMAL DELI</td>\n",
       "      <td>HOME HEALTH CARE</td>\n",
       "      <td>Medicare</td>\n",
       "      <td>ENGL</td>\n",
       "      <td>NOT SPECIFIED</td>\n",
       "      <td>MARRIED</td>\n",
       "      <td>WHITE</td>\n",
       "      <td>NaN</td>\n",
       "      <td>NaN</td>\n",
       "      <td>CHRONIC RENAL FAILURE/SDA</td>\n",
       "      <td>0</td>\n",
       "      <td>1</td>\n",
       "    </tr>\n",
       "    <tr>\n",
       "      <th>...</th>\n",
       "      <td>...</td>\n",
       "      <td>...</td>\n",
       "      <td>...</td>\n",
       "      <td>...</td>\n",
       "      <td>...</td>\n",
       "      <td>...</td>\n",
       "      <td>...</td>\n",
       "      <td>...</td>\n",
       "      <td>...</td>\n",
       "      <td>...</td>\n",
       "      <td>...</td>\n",
       "      <td>...</td>\n",
       "      <td>...</td>\n",
       "      <td>...</td>\n",
       "      <td>...</td>\n",
       "      <td>...</td>\n",
       "      <td>...</td>\n",
       "      <td>...</td>\n",
       "      <td>...</td>\n",
       "    </tr>\n",
       "    <tr>\n",
       "      <th>56435</th>\n",
       "      <td>58972</td>\n",
       "      <td>99985</td>\n",
       "      <td>176670</td>\n",
       "      <td>2181-01-27 02:47:00</td>\n",
       "      <td>2181-02-12 17:05:00</td>\n",
       "      <td>NaN</td>\n",
       "      <td>EMERGENCY</td>\n",
       "      <td>EMERGENCY ROOM ADMIT</td>\n",
       "      <td>HOME HEALTH CARE</td>\n",
       "      <td>Private</td>\n",
       "      <td>ENGL</td>\n",
       "      <td>JEWISH</td>\n",
       "      <td>MARRIED</td>\n",
       "      <td>WHITE</td>\n",
       "      <td>2181-01-26 23:35:00</td>\n",
       "      <td>2181-01-27 04:18:00</td>\n",
       "      <td>FEVER</td>\n",
       "      <td>0</td>\n",
       "      <td>1</td>\n",
       "    </tr>\n",
       "    <tr>\n",
       "      <th>56436</th>\n",
       "      <td>58973</td>\n",
       "      <td>99991</td>\n",
       "      <td>151118</td>\n",
       "      <td>2184-12-24 08:30:00</td>\n",
       "      <td>2185-01-05 12:15:00</td>\n",
       "      <td>NaN</td>\n",
       "      <td>ELECTIVE</td>\n",
       "      <td>PHYS REFERRAL/NORMAL DELI</td>\n",
       "      <td>HOME</td>\n",
       "      <td>Private</td>\n",
       "      <td>ENGL</td>\n",
       "      <td>NOT SPECIFIED</td>\n",
       "      <td>MARRIED</td>\n",
       "      <td>WHITE</td>\n",
       "      <td>NaN</td>\n",
       "      <td>NaN</td>\n",
       "      <td>DIVERTICULITIS/SDA</td>\n",
       "      <td>0</td>\n",
       "      <td>1</td>\n",
       "    </tr>\n",
       "    <tr>\n",
       "      <th>56437</th>\n",
       "      <td>58974</td>\n",
       "      <td>99992</td>\n",
       "      <td>197084</td>\n",
       "      <td>2144-07-25 18:03:00</td>\n",
       "      <td>2144-07-28 17:56:00</td>\n",
       "      <td>NaN</td>\n",
       "      <td>EMERGENCY</td>\n",
       "      <td>CLINIC REFERRAL/PREMATURE</td>\n",
       "      <td>SNF</td>\n",
       "      <td>Medicare</td>\n",
       "      <td>ENGL</td>\n",
       "      <td>CATHOLIC</td>\n",
       "      <td>WIDOWED</td>\n",
       "      <td>WHITE</td>\n",
       "      <td>2144-07-25 13:40:00</td>\n",
       "      <td>2144-07-25 18:50:00</td>\n",
       "      <td>RETROPERITONEAL HEMORRHAGE</td>\n",
       "      <td>0</td>\n",
       "      <td>1</td>\n",
       "    </tr>\n",
       "    <tr>\n",
       "      <th>56565</th>\n",
       "      <td>58975</td>\n",
       "      <td>99995</td>\n",
       "      <td>137810</td>\n",
       "      <td>2147-02-08 08:00:00</td>\n",
       "      <td>2147-02-11 13:15:00</td>\n",
       "      <td>NaN</td>\n",
       "      <td>ELECTIVE</td>\n",
       "      <td>PHYS REFERRAL/NORMAL DELI</td>\n",
       "      <td>HOME</td>\n",
       "      <td>Medicare</td>\n",
       "      <td>ENGL</td>\n",
       "      <td>NOT SPECIFIED</td>\n",
       "      <td>MARRIED</td>\n",
       "      <td>WHITE</td>\n",
       "      <td>NaN</td>\n",
       "      <td>NaN</td>\n",
       "      <td>ABDOMINAL AORTIC ANEURYSM/SDA</td>\n",
       "      <td>0</td>\n",
       "      <td>1</td>\n",
       "    </tr>\n",
       "    <tr>\n",
       "      <th>56566</th>\n",
       "      <td>58976</td>\n",
       "      <td>99999</td>\n",
       "      <td>113369</td>\n",
       "      <td>2117-12-30 07:15:00</td>\n",
       "      <td>2118-01-04 16:30:00</td>\n",
       "      <td>NaN</td>\n",
       "      <td>ELECTIVE</td>\n",
       "      <td>PHYS REFERRAL/NORMAL DELI</td>\n",
       "      <td>SNF</td>\n",
       "      <td>Medicare</td>\n",
       "      <td>SPAN</td>\n",
       "      <td>JEHOVAH'S WITNESS</td>\n",
       "      <td>SEPARATED</td>\n",
       "      <td>HISPANIC OR LATINO</td>\n",
       "      <td>NaN</td>\n",
       "      <td>NaN</td>\n",
       "      <td>SPONDYLOLISTHESIS/SDA</td>\n",
       "      <td>0</td>\n",
       "      <td>1</td>\n",
       "    </tr>\n",
       "  </tbody>\n",
       "</table>\n",
       "<p>46520 rows × 19 columns</p>\n",
       "</div>"
      ],
      "text/plain": [
       "       ROW_ID  SUBJECT_ID  HADM_ID            ADMITTIME            DISCHTIME  \\\n",
       "211         1           2   163353  2138-07-17 19:04:00  2138-07-21 15:48:00   \n",
       "212         2           3   145834  2101-10-20 19:08:00  2101-10-31 13:58:00   \n",
       "213         3           4   185777  2191-03-16 00:28:00  2191-03-23 18:41:00   \n",
       "214         4           5   178980  2103-02-02 04:31:00  2103-02-04 12:15:00   \n",
       "215         5           6   107064  2175-05-30 07:15:00  2175-06-15 16:00:00   \n",
       "...       ...         ...      ...                  ...                  ...   \n",
       "56435   58972       99985   176670  2181-01-27 02:47:00  2181-02-12 17:05:00   \n",
       "56436   58973       99991   151118  2184-12-24 08:30:00  2185-01-05 12:15:00   \n",
       "56437   58974       99992   197084  2144-07-25 18:03:00  2144-07-28 17:56:00   \n",
       "56565   58975       99995   137810  2147-02-08 08:00:00  2147-02-11 13:15:00   \n",
       "56566   58976       99999   113369  2117-12-30 07:15:00  2118-01-04 16:30:00   \n",
       "\n",
       "      DEATHTIME ADMISSION_TYPE         ADMISSION_LOCATION  \\\n",
       "211         NaN        NEWBORN  PHYS REFERRAL/NORMAL DELI   \n",
       "212         NaN      EMERGENCY       EMERGENCY ROOM ADMIT   \n",
       "213         NaN      EMERGENCY       EMERGENCY ROOM ADMIT   \n",
       "214         NaN        NEWBORN  PHYS REFERRAL/NORMAL DELI   \n",
       "215         NaN       ELECTIVE  PHYS REFERRAL/NORMAL DELI   \n",
       "...         ...            ...                        ...   \n",
       "56435       NaN      EMERGENCY       EMERGENCY ROOM ADMIT   \n",
       "56436       NaN       ELECTIVE  PHYS REFERRAL/NORMAL DELI   \n",
       "56437       NaN      EMERGENCY  CLINIC REFERRAL/PREMATURE   \n",
       "56565       NaN       ELECTIVE  PHYS REFERRAL/NORMAL DELI   \n",
       "56566       NaN       ELECTIVE  PHYS REFERRAL/NORMAL DELI   \n",
       "\n",
       "              DISCHARGE_LOCATION INSURANCE LANGUAGE           RELIGION  \\\n",
       "211                         HOME   Private      NaN      NOT SPECIFIED   \n",
       "212                          SNF  Medicare      NaN           CATHOLIC   \n",
       "213    HOME WITH HOME IV PROVIDR   Private      NaN  PROTESTANT QUAKER   \n",
       "214                         HOME   Private      NaN           BUDDHIST   \n",
       "215             HOME HEALTH CARE  Medicare     ENGL      NOT SPECIFIED   \n",
       "...                          ...       ...      ...                ...   \n",
       "56435           HOME HEALTH CARE   Private     ENGL             JEWISH   \n",
       "56436                       HOME   Private     ENGL      NOT SPECIFIED   \n",
       "56437                        SNF  Medicare     ENGL           CATHOLIC   \n",
       "56565                       HOME  Medicare     ENGL      NOT SPECIFIED   \n",
       "56566                        SNF  Medicare     SPAN  JEHOVAH'S WITNESS   \n",
       "\n",
       "      MARITAL_STATUS           ETHNICITY            EDREGTIME  \\\n",
       "211              NaN               ASIAN                  NaN   \n",
       "212          MARRIED               WHITE  2101-10-20 17:09:00   \n",
       "213           SINGLE               WHITE  2191-03-15 13:10:00   \n",
       "214              NaN               ASIAN                  NaN   \n",
       "215          MARRIED               WHITE                  NaN   \n",
       "...              ...                 ...                  ...   \n",
       "56435        MARRIED               WHITE  2181-01-26 23:35:00   \n",
       "56436        MARRIED               WHITE                  NaN   \n",
       "56437        WIDOWED               WHITE  2144-07-25 13:40:00   \n",
       "56565        MARRIED               WHITE                  NaN   \n",
       "56566      SEPARATED  HISPANIC OR LATINO                  NaN   \n",
       "\n",
       "                 EDOUTTIME                            DIAGNOSIS  \\\n",
       "211                    NaN                              NEWBORN   \n",
       "212    2101-10-20 19:24:00                          HYPOTENSION   \n",
       "213    2191-03-16 01:10:00  FEVER,DEHYDRATION,FAILURE TO THRIVE   \n",
       "214                    NaN                              NEWBORN   \n",
       "215                    NaN            CHRONIC RENAL FAILURE/SDA   \n",
       "...                    ...                                  ...   \n",
       "56435  2181-01-27 04:18:00                                FEVER   \n",
       "56436                  NaN                   DIVERTICULITIS/SDA   \n",
       "56437  2144-07-25 18:50:00           RETROPERITONEAL HEMORRHAGE   \n",
       "56565                  NaN        ABDOMINAL AORTIC ANEURYSM/SDA   \n",
       "56566                  NaN                SPONDYLOLISTHESIS/SDA   \n",
       "\n",
       "       HOSPITAL_EXPIRE_FLAG  HAS_CHARTEVENTS_DATA  \n",
       "211                       0                     1  \n",
       "212                       0                     1  \n",
       "213                       0                     1  \n",
       "214                       0                     1  \n",
       "215                       0                     1  \n",
       "...                     ...                   ...  \n",
       "56435                     0                     1  \n",
       "56436                     0                     1  \n",
       "56437                     0                     1  \n",
       "56565                     0                     1  \n",
       "56566                     0                     1  \n",
       "\n",
       "[46520 rows x 19 columns]"
      ]
     },
     "execution_count": 14,
     "metadata": {},
     "output_type": "execute_result"
    }
   ],
   "source": [
    "df_uniadm.sort_values(by=['SUBJECT_ID'])"
   ]
  },
  {
   "cell_type": "markdown",
   "id": "6a6239e8-04c6-4215-a952-113aa10611d1",
   "metadata": {},
   "source": [
    "#### Combine patient and admission df"
   ]
  },
  {
   "cell_type": "code",
   "execution_count": 15,
   "id": "4e093a67-74a0-4da5-9b72-3a32447a28a0",
   "metadata": {},
   "outputs": [],
   "source": [
    "df_merge=pd.merge(df_pat, df_uniadm, how='outer', on='SUBJECT_ID')"
   ]
  },
  {
   "cell_type": "code",
   "execution_count": 16,
   "id": "16536122-0930-4a6f-842d-fdcb19c79bd4",
   "metadata": {},
   "outputs": [
    {
     "data": {
      "text/html": [
       "<div>\n",
       "<style scoped>\n",
       "    .dataframe tbody tr th:only-of-type {\n",
       "        vertical-align: middle;\n",
       "    }\n",
       "\n",
       "    .dataframe tbody tr th {\n",
       "        vertical-align: top;\n",
       "    }\n",
       "\n",
       "    .dataframe thead th {\n",
       "        text-align: right;\n",
       "    }\n",
       "</style>\n",
       "<table border=\"1\" class=\"dataframe\">\n",
       "  <thead>\n",
       "    <tr style=\"text-align: right;\">\n",
       "      <th></th>\n",
       "      <th>ROW_ID_x</th>\n",
       "      <th>SUBJECT_ID</th>\n",
       "      <th>GENDER</th>\n",
       "      <th>DOB</th>\n",
       "      <th>DOD</th>\n",
       "      <th>DOD_HOSP</th>\n",
       "      <th>DOD_SSN</th>\n",
       "      <th>EXPIRE_FLAG</th>\n",
       "      <th>ROW_ID_y</th>\n",
       "      <th>HADM_ID</th>\n",
       "      <th>...</th>\n",
       "      <th>INSURANCE</th>\n",
       "      <th>LANGUAGE</th>\n",
       "      <th>RELIGION</th>\n",
       "      <th>MARITAL_STATUS</th>\n",
       "      <th>ETHNICITY</th>\n",
       "      <th>EDREGTIME</th>\n",
       "      <th>EDOUTTIME</th>\n",
       "      <th>DIAGNOSIS</th>\n",
       "      <th>HOSPITAL_EXPIRE_FLAG</th>\n",
       "      <th>HAS_CHARTEVENTS_DATA</th>\n",
       "    </tr>\n",
       "  </thead>\n",
       "  <tbody>\n",
       "    <tr>\n",
       "      <th>0</th>\n",
       "      <td>234</td>\n",
       "      <td>249</td>\n",
       "      <td>F</td>\n",
       "      <td>2075-03-13</td>\n",
       "      <td>NaT</td>\n",
       "      <td>NaN</td>\n",
       "      <td>NaN</td>\n",
       "      <td>0</td>\n",
       "      <td>323</td>\n",
       "      <td>158975</td>\n",
       "      <td>...</td>\n",
       "      <td>Medicare</td>\n",
       "      <td>ENGL</td>\n",
       "      <td>CATHOLIC</td>\n",
       "      <td>DIVORCED</td>\n",
       "      <td>WHITE</td>\n",
       "      <td>NaN</td>\n",
       "      <td>NaN</td>\n",
       "      <td>GI BLEEDING\\COLONOSCOPY</td>\n",
       "      <td>0</td>\n",
       "      <td>1</td>\n",
       "    </tr>\n",
       "    <tr>\n",
       "      <th>1</th>\n",
       "      <td>235</td>\n",
       "      <td>250</td>\n",
       "      <td>F</td>\n",
       "      <td>2164-12-27</td>\n",
       "      <td>2188-11-22</td>\n",
       "      <td>2188-11-22 00:00:00</td>\n",
       "      <td>NaN</td>\n",
       "      <td>1</td>\n",
       "      <td>324</td>\n",
       "      <td>124271</td>\n",
       "      <td>...</td>\n",
       "      <td>Self Pay</td>\n",
       "      <td>HAIT</td>\n",
       "      <td>NOT SPECIFIED</td>\n",
       "      <td>SINGLE</td>\n",
       "      <td>BLACK</td>\n",
       "      <td>2188-11-12 06:56:00</td>\n",
       "      <td>2188-11-12 10:10:00</td>\n",
       "      <td>PNEUMONIA;R/O TB</td>\n",
       "      <td>1</td>\n",
       "      <td>1</td>\n",
       "    </tr>\n",
       "    <tr>\n",
       "      <th>2</th>\n",
       "      <td>236</td>\n",
       "      <td>251</td>\n",
       "      <td>M</td>\n",
       "      <td>2090-03-15</td>\n",
       "      <td>NaT</td>\n",
       "      <td>NaN</td>\n",
       "      <td>NaN</td>\n",
       "      <td>0</td>\n",
       "      <td>325</td>\n",
       "      <td>117937</td>\n",
       "      <td>...</td>\n",
       "      <td>Private</td>\n",
       "      <td>NaN</td>\n",
       "      <td>OTHER</td>\n",
       "      <td>NaN</td>\n",
       "      <td>UNKNOWN/NOT SPECIFIED</td>\n",
       "      <td>2110-07-27 05:00:00</td>\n",
       "      <td>2110-07-27 07:15:00</td>\n",
       "      <td>INTRACRANIAL HEAD BLEED</td>\n",
       "      <td>0</td>\n",
       "      <td>1</td>\n",
       "    </tr>\n",
       "    <tr>\n",
       "      <th>3</th>\n",
       "      <td>237</td>\n",
       "      <td>252</td>\n",
       "      <td>M</td>\n",
       "      <td>2078-03-06</td>\n",
       "      <td>NaT</td>\n",
       "      <td>NaN</td>\n",
       "      <td>NaN</td>\n",
       "      <td>0</td>\n",
       "      <td>327</td>\n",
       "      <td>193470</td>\n",
       "      <td>...</td>\n",
       "      <td>Private</td>\n",
       "      <td>NaN</td>\n",
       "      <td>UNOBTAINABLE</td>\n",
       "      <td>SINGLE</td>\n",
       "      <td>WHITE</td>\n",
       "      <td>2133-08-15 01:42:00</td>\n",
       "      <td>2133-08-15 04:45:00</td>\n",
       "      <td>GASTROINTESINAL BLEED</td>\n",
       "      <td>0</td>\n",
       "      <td>1</td>\n",
       "    </tr>\n",
       "    <tr>\n",
       "      <th>4</th>\n",
       "      <td>238</td>\n",
       "      <td>253</td>\n",
       "      <td>F</td>\n",
       "      <td>2089-11-26</td>\n",
       "      <td>NaT</td>\n",
       "      <td>NaN</td>\n",
       "      <td>NaN</td>\n",
       "      <td>0</td>\n",
       "      <td>328</td>\n",
       "      <td>176189</td>\n",
       "      <td>...</td>\n",
       "      <td>Medicare</td>\n",
       "      <td>NaN</td>\n",
       "      <td>CATHOLIC</td>\n",
       "      <td>WIDOWED</td>\n",
       "      <td>WHITE</td>\n",
       "      <td>NaN</td>\n",
       "      <td>NaN</td>\n",
       "      <td>COMPLETE HEART BLOCK\\PACEMAKER IMPLANT</td>\n",
       "      <td>0</td>\n",
       "      <td>1</td>\n",
       "    </tr>\n",
       "  </tbody>\n",
       "</table>\n",
       "<p>5 rows × 26 columns</p>\n",
       "</div>"
      ],
      "text/plain": [
       "   ROW_ID_x  SUBJECT_ID GENDER        DOB        DOD             DOD_HOSP  \\\n",
       "0       234         249      F 2075-03-13        NaT                  NaN   \n",
       "1       235         250      F 2164-12-27 2188-11-22  2188-11-22 00:00:00   \n",
       "2       236         251      M 2090-03-15        NaT                  NaN   \n",
       "3       237         252      M 2078-03-06        NaT                  NaN   \n",
       "4       238         253      F 2089-11-26        NaT                  NaN   \n",
       "\n",
       "  DOD_SSN  EXPIRE_FLAG  ROW_ID_y  HADM_ID  ... INSURANCE LANGUAGE  \\\n",
       "0     NaN            0       323   158975  ...  Medicare     ENGL   \n",
       "1     NaN            1       324   124271  ...  Self Pay     HAIT   \n",
       "2     NaN            0       325   117937  ...   Private      NaN   \n",
       "3     NaN            0       327   193470  ...   Private      NaN   \n",
       "4     NaN            0       328   176189  ...  Medicare      NaN   \n",
       "\n",
       "        RELIGION MARITAL_STATUS              ETHNICITY            EDREGTIME  \\\n",
       "0       CATHOLIC       DIVORCED                  WHITE                  NaN   \n",
       "1  NOT SPECIFIED         SINGLE                  BLACK  2188-11-12 06:56:00   \n",
       "2          OTHER            NaN  UNKNOWN/NOT SPECIFIED  2110-07-27 05:00:00   \n",
       "3   UNOBTAINABLE         SINGLE                  WHITE  2133-08-15 01:42:00   \n",
       "4       CATHOLIC        WIDOWED                  WHITE                  NaN   \n",
       "\n",
       "             EDOUTTIME                               DIAGNOSIS  \\\n",
       "0                  NaN                 GI BLEEDING\\COLONOSCOPY   \n",
       "1  2188-11-12 10:10:00                        PNEUMONIA;R/O TB   \n",
       "2  2110-07-27 07:15:00                 INTRACRANIAL HEAD BLEED   \n",
       "3  2133-08-15 04:45:00                   GASTROINTESINAL BLEED   \n",
       "4                  NaN  COMPLETE HEART BLOCK\\PACEMAKER IMPLANT   \n",
       "\n",
       "  HOSPITAL_EXPIRE_FLAG HAS_CHARTEVENTS_DATA  \n",
       "0                    0                    1  \n",
       "1                    1                    1  \n",
       "2                    0                    1  \n",
       "3                    0                    1  \n",
       "4                    0                    1  \n",
       "\n",
       "[5 rows x 26 columns]"
      ]
     },
     "execution_count": 16,
     "metadata": {},
     "output_type": "execute_result"
    }
   ],
   "source": [
    "df_merge.head()"
   ]
  },
  {
   "cell_type": "code",
   "execution_count": 17,
   "id": "dbfde729-4bad-4bd7-9320-a035cc627253",
   "metadata": {},
   "outputs": [],
   "source": [
    "df_merge_female = df_merge[df_merge.GENDER == 'F']\n",
    "df_merge_male = df_merge[df_merge.GENDER == 'M']"
   ]
  },
  {
   "cell_type": "markdown",
   "id": "80cd351f-068b-4841-969b-563ea94dd7f1",
   "metadata": {},
   "source": [
    "## Count Ethnicity"
   ]
  },
  {
   "cell_type": "code",
   "execution_count": 18,
   "id": "e13df3c9-0d91-42c1-b474-cf4520a10ef7",
   "metadata": {},
   "outputs": [],
   "source": [
    "# total count & prob for each ethnicity\n",
    "num_rac = df_uniadm.ETHNICITY.value_counts()\n",
    "rac_prob = df_merge.groupby('ETHNICITY').size().div(len(df_merge))*100"
   ]
  },
  {
   "cell_type": "code",
   "execution_count": 19,
   "id": "52fe2267-435b-4d74-bc56-92d94825b19a",
   "metadata": {},
   "outputs": [
    {
     "data": {
      "text/plain": [
       "ETHNICITY\n",
       "WHITE                                                       69.587274\n",
       "UNKNOWN/NOT SPECIFIED                                        8.886500\n",
       "BLACK                                                        8.303955\n",
       "ASIAN                                                        3.632846\n",
       "HISPANIC OR LATINO                                           3.529665\n",
       "OTHER                                                        2.770851\n",
       "UNABLE TO OBTAIN                                             1.691745\n",
       "PATIENT DECLINED TO ANSWER                                   1.051161\n",
       "MULTI RACE ETHNICITY                                         0.234308\n",
       "AMERICAN INDIAN/ALASKA NATIVE                                0.094583\n",
       "PORTUGUESE                                                   0.085985\n",
       "MIDDLE EASTERN                                               0.060189\n",
       "NATIVE HAWAIIAN OR OTHER PACIFIC ISLANDER                    0.032244\n",
       "CARIBBEAN ISLAND                                             0.017197\n",
       "SOUTH AMERICAN                                               0.017197\n",
       "AMERICAN INDIAN/ALASKA NATIVE FEDERALLY RECOGNIZED TRIBE     0.004299\n",
       "dtype: float64"
      ]
     },
     "execution_count": 19,
     "metadata": {},
     "output_type": "execute_result"
    }
   ],
   "source": [
    "rac_prob.sort_values(ascending=False)"
   ]
  },
  {
   "cell_type": "code",
   "execution_count": 20,
   "id": "7a2cba5e-c5ab-44e3-b206-f20e6136814d",
   "metadata": {},
   "outputs": [
    {
     "data": {
      "text/plain": [
       "WHITE                                                       32372\n",
       "UNKNOWN/NOT SPECIFIED                                        4134\n",
       "BLACK                                                        3863\n",
       "ASIAN                                                        1690\n",
       "HISPANIC OR LATINO                                           1642\n",
       "OTHER                                                        1289\n",
       "UNABLE TO OBTAIN                                              787\n",
       "PATIENT DECLINED TO ANSWER                                    489\n",
       "MULTI RACE ETHNICITY                                          109\n",
       "AMERICAN INDIAN/ALASKA NATIVE                                  44\n",
       "PORTUGUESE                                                     40\n",
       "MIDDLE EASTERN                                                 28\n",
       "NATIVE HAWAIIAN OR OTHER PACIFIC ISLANDER                      15\n",
       "SOUTH AMERICAN                                                  8\n",
       "CARIBBEAN ISLAND                                                8\n",
       "AMERICAN INDIAN/ALASKA NATIVE FEDERALLY RECOGNIZED TRIBE        2\n",
       "Name: ETHNICITY, dtype: int64"
      ]
     },
     "execution_count": 20,
     "metadata": {},
     "output_type": "execute_result"
    }
   ],
   "source": [
    "num_rac"
   ]
  },
  {
   "cell_type": "code",
   "execution_count": 21,
   "id": "adb86b5d-7d2c-4866-b86e-a23d0f5fdb71",
   "metadata": {},
   "outputs": [],
   "source": [
    "# total count for ethnicity in female\n",
    "num_rac_F = df_merge_female.ETHNICITY.value_counts()\n",
    "rac_female_prob = df_merge_female.groupby('ETHNICITY').size().div(len(df_merge_female))*100"
   ]
  },
  {
   "cell_type": "code",
   "execution_count": 22,
   "id": "52e1716a-a6a4-4897-b9dd-517cdc73d892",
   "metadata": {},
   "outputs": [
    {
     "data": {
      "text/plain": [
       "ETHNICITY\n",
       "WHITE                                                       69.106329\n",
       "BLACK                                                       10.054414\n",
       "UNKNOWN/NOT SPECIFIED                                        8.343546\n",
       "ASIAN                                                        3.647238\n",
       "HISPANIC OR LATINO                                           3.235453\n",
       "OTHER                                                        2.480514\n",
       "UNABLE TO OBTAIN                                             1.583411\n",
       "PATIENT DECLINED TO ANSWER                                   1.004951\n",
       "MULTI RACE ETHNICITY                                         0.245110\n",
       "AMERICAN INDIAN/ALASKA NATIVE                                0.093142\n",
       "PORTUGUESE                                                   0.093142\n",
       "MIDDLE EASTERN                                               0.044120\n",
       "NATIVE HAWAIIAN OR OTHER PACIFIC ISLANDER                    0.034315\n",
       "SOUTH AMERICAN                                               0.019609\n",
       "CARIBBEAN ISLAND                                             0.009804\n",
       "AMERICAN INDIAN/ALASKA NATIVE FEDERALLY RECOGNIZED TRIBE     0.004902\n",
       "dtype: float64"
      ]
     },
     "execution_count": 22,
     "metadata": {},
     "output_type": "execute_result"
    }
   ],
   "source": [
    "rac_female_prob.sort_values(ascending=False)"
   ]
  },
  {
   "cell_type": "code",
   "execution_count": 23,
   "id": "0de8f39a-d5c3-4197-a863-e50160d4b2ef",
   "metadata": {},
   "outputs": [
    {
     "data": {
      "text/plain": [
       "WHITE                                                       14097\n",
       "BLACK                                                        2051\n",
       "UNKNOWN/NOT SPECIFIED                                        1702\n",
       "ASIAN                                                         744\n",
       "HISPANIC OR LATINO                                            660\n",
       "OTHER                                                         506\n",
       "UNABLE TO OBTAIN                                              323\n",
       "PATIENT DECLINED TO ANSWER                                    205\n",
       "MULTI RACE ETHNICITY                                           50\n",
       "AMERICAN INDIAN/ALASKA NATIVE                                  19\n",
       "PORTUGUESE                                                     19\n",
       "MIDDLE EASTERN                                                  9\n",
       "NATIVE HAWAIIAN OR OTHER PACIFIC ISLANDER                       7\n",
       "SOUTH AMERICAN                                                  4\n",
       "CARIBBEAN ISLAND                                                2\n",
       "AMERICAN INDIAN/ALASKA NATIVE FEDERALLY RECOGNIZED TRIBE        1\n",
       "Name: ETHNICITY, dtype: int64"
      ]
     },
     "execution_count": 23,
     "metadata": {},
     "output_type": "execute_result"
    }
   ],
   "source": [
    "num_rac_F"
   ]
  },
  {
   "cell_type": "code",
   "execution_count": 24,
   "id": "02e83dd8-7490-4c10-898e-32dbac226a4c",
   "metadata": {},
   "outputs": [],
   "source": [
    "# total count for ethnicity in male\n",
    "num_rac_M = df_merge_male.ETHNICITY.value_counts()\n",
    "rac_male_prob = df_merge_male.groupby('ETHNICITY').size().div(len(df_merge_male))*100"
   ]
  },
  {
   "cell_type": "code",
   "execution_count": 25,
   "id": "5f236614-d857-43e6-bd15-562c233b5722",
   "metadata": {},
   "outputs": [
    {
     "data": {
      "text/plain": [
       "ETHNICITY\n",
       "WHITE                                                       69.962865\n",
       "UNKNOWN/NOT SPECIFIED                                        9.310516\n",
       "BLACK                                                        6.936947\n",
       "HISPANIC OR LATINO                                           3.759427\n",
       "ASIAN                                                        3.621607\n",
       "OTHER                                                        2.997588\n",
       "UNABLE TO OBTAIN                                             1.776349\n",
       "PATIENT DECLINED TO ANSWER                                   1.087248\n",
       "MULTI RACE ETHNICITY                                         0.225872\n",
       "AMERICAN INDIAN/ALASKA NATIVE                                0.095708\n",
       "PORTUGUESE                                                   0.080395\n",
       "MIDDLE EASTERN                                               0.072738\n",
       "NATIVE HAWAIIAN OR OTHER PACIFIC ISLANDER                    0.030627\n",
       "CARIBBEAN ISLAND                                             0.022970\n",
       "SOUTH AMERICAN                                               0.015313\n",
       "AMERICAN INDIAN/ALASKA NATIVE FEDERALLY RECOGNIZED TRIBE     0.003828\n",
       "dtype: float64"
      ]
     },
     "execution_count": 25,
     "metadata": {},
     "output_type": "execute_result"
    }
   ],
   "source": [
    "rac_male_prob.sort_values(ascending=False)"
   ]
  },
  {
   "cell_type": "code",
   "execution_count": 26,
   "id": "29f25f58-19bb-4288-80ff-77a4f3787a14",
   "metadata": {},
   "outputs": [
    {
     "data": {
      "text/plain": [
       "WHITE                                                       18275\n",
       "UNKNOWN/NOT SPECIFIED                                        2432\n",
       "BLACK                                                        1812\n",
       "HISPANIC OR LATINO                                            982\n",
       "ASIAN                                                         946\n",
       "OTHER                                                         783\n",
       "UNABLE TO OBTAIN                                              464\n",
       "PATIENT DECLINED TO ANSWER                                    284\n",
       "MULTI RACE ETHNICITY                                           59\n",
       "AMERICAN INDIAN/ALASKA NATIVE                                  25\n",
       "PORTUGUESE                                                     21\n",
       "MIDDLE EASTERN                                                 19\n",
       "NATIVE HAWAIIAN OR OTHER PACIFIC ISLANDER                       8\n",
       "CARIBBEAN ISLAND                                                6\n",
       "SOUTH AMERICAN                                                  4\n",
       "AMERICAN INDIAN/ALASKA NATIVE FEDERALLY RECOGNIZED TRIBE        1\n",
       "Name: ETHNICITY, dtype: int64"
      ]
     },
     "execution_count": 26,
     "metadata": {},
     "output_type": "execute_result"
    }
   ],
   "source": [
    "num_rac_M"
   ]
  },
  {
   "cell_type": "markdown",
   "id": "0ce3bad4-fc4f-4285-acca-0e7035baafd2",
   "metadata": {},
   "source": [
    "## Count Admission Type"
   ]
  },
  {
   "cell_type": "code",
   "execution_count": 27,
   "id": "b1b41d1f-11b8-4a94-862e-e84119daac78",
   "metadata": {},
   "outputs": [],
   "source": [
    "# total number of admission\n",
    "num_adm = df_uniadm.ADMISSION_TYPE.value_counts()\n",
    "adm_prob = df_merge.groupby('ADMISSION_TYPE').size().div(len(df_merge))*100"
   ]
  },
  {
   "cell_type": "code",
   "execution_count": 28,
   "id": "7a633e86-4a64-4a8b-8962-2258c339befc",
   "metadata": {},
   "outputs": [
    {
     "data": {
      "text/plain": [
       "ADMISSION_TYPE\n",
       "ELECTIVE     12.996561\n",
       "EMERGENCY    68.372743\n",
       "NEWBORN      16.407997\n",
       "URGENT        2.222700\n",
       "dtype: float64"
      ]
     },
     "execution_count": 28,
     "metadata": {},
     "output_type": "execute_result"
    }
   ],
   "source": [
    "adm_prob"
   ]
  },
  {
   "cell_type": "code",
   "execution_count": 29,
   "id": "1829b3ba-0ecd-473b-a387-85b946152ef8",
   "metadata": {},
   "outputs": [
    {
     "data": {
      "text/plain": [
       "EMERGENCY    13983\n",
       "NEWBORN       3510\n",
       "ELECTIVE      2436\n",
       "URGENT         470\n",
       "Name: ADMISSION_TYPE, dtype: int64"
      ]
     },
     "execution_count": 29,
     "metadata": {},
     "output_type": "execute_result"
    }
   ],
   "source": [
    "# total number of admission in female\n",
    "num_adm_F = df_merge_female.ADMISSION_TYPE.value_counts()\n",
    "adm_female_prob = df_merge_female.groupby('ADMISSION_TYPE').size().div(len(df_merge_female))*100\n",
    "num_adm_F"
   ]
  },
  {
   "cell_type": "code",
   "execution_count": 30,
   "id": "f994b58e-542e-4c2a-86d0-1ba4e7b316f4",
   "metadata": {},
   "outputs": [
    {
     "data": {
      "text/plain": [
       "ADMISSION_TYPE\n",
       "ELECTIVE     11.941762\n",
       "EMERGENCY    68.547478\n",
       "NEWBORN      17.206726\n",
       "URGENT        2.304035\n",
       "dtype: float64"
      ]
     },
     "execution_count": 30,
     "metadata": {},
     "output_type": "execute_result"
    }
   ],
   "source": [
    "adm_female_prob"
   ]
  },
  {
   "cell_type": "code",
   "execution_count": 31,
   "id": "ecd44681-3f4f-40e2-8839-862248de1bde",
   "metadata": {},
   "outputs": [
    {
     "data": {
      "text/plain": [
       "EMERGENCY    17824\n",
       "NEWBORN       4123\n",
       "ELECTIVE      3610\n",
       "URGENT         564\n",
       "Name: ADMISSION_TYPE, dtype: int64"
      ]
     },
     "execution_count": 31,
     "metadata": {},
     "output_type": "execute_result"
    }
   ],
   "source": [
    "# total number of admission in male\n",
    "num_adm_M = df_merge_male.ADMISSION_TYPE.value_counts()\n",
    "adm_male_prob = df_merge_male.groupby('ADMISSION_TYPE').size().div(len(df_merge_male))*100\n",
    "num_adm_M"
   ]
  },
  {
   "cell_type": "code",
   "execution_count": 32,
   "id": "ee562110-d0fa-4cec-9a42-cc50d88a1664",
   "metadata": {},
   "outputs": [
    {
     "data": {
      "text/plain": [
       "ADMISSION_TYPE\n",
       "ELECTIVE     13.820298\n",
       "EMERGENCY    68.236285\n",
       "NEWBORN      15.784235\n",
       "URGENT        2.159182\n",
       "dtype: float64"
      ]
     },
     "execution_count": 32,
     "metadata": {},
     "output_type": "execute_result"
    }
   ],
   "source": [
    "adm_male_prob"
   ]
  },
  {
   "cell_type": "markdown",
   "id": "220b31cf-0018-4ca1-9090-f45d3bf8e128",
   "metadata": {},
   "source": [
    "## Count Marital status"
   ]
  },
  {
   "cell_type": "code",
   "execution_count": 33,
   "id": "c01517e3-0ac0-451d-852e-65d2a761dee0",
   "metadata": {},
   "outputs": [
    {
     "data": {
      "text/plain": [
       "MARRIED              18492\n",
       "SINGLE                9767\n",
       "WIDOWED               5462\n",
       "DIVORCED              2331\n",
       "SEPARATED              384\n",
       "UNKNOWN (DEFAULT)      307\n",
       "LIFE PARTNER            13\n",
       "Name: MARITAL_STATUS, dtype: int64"
      ]
     },
     "execution_count": 33,
     "metadata": {},
     "output_type": "execute_result"
    }
   ],
   "source": [
    "# total number of marital status\n",
    "num_mar = df_uniadm.MARITAL_STATUS.value_counts()\n",
    "mar_prob = df_uniadm.groupby('MARITAL_STATUS').size().div(len(df_uniadm))*100\n",
    "num_mar"
   ]
  },
  {
   "cell_type": "code",
   "execution_count": 34,
   "id": "f902e3da-89e9-467a-aab0-085d452e37ce",
   "metadata": {},
   "outputs": [
    {
     "data": {
      "text/plain": [
       "MARITAL_STATUS\n",
       "MARRIED              39.750645\n",
       "SINGLE               20.995271\n",
       "WIDOWED              11.741187\n",
       "DIVORCED              5.010748\n",
       "SEPARATED             0.825451\n",
       "UNKNOWN (DEFAULT)     0.659931\n",
       "LIFE PARTNER          0.027945\n",
       "dtype: float64"
      ]
     },
     "execution_count": 34,
     "metadata": {},
     "output_type": "execute_result"
    }
   ],
   "source": [
    "mar_prob.sort_values(ascending=False)"
   ]
  },
  {
   "cell_type": "code",
   "execution_count": 35,
   "id": "789aa02e-d0d5-46c7-8842-2a45cd7fd721",
   "metadata": {},
   "outputs": [],
   "source": [
    "# total number of marital status in female"
   ]
  },
  {
   "cell_type": "code",
   "execution_count": 36,
   "id": "995435bb-7611-4478-a1e7-4c06197b353f",
   "metadata": {},
   "outputs": [
    {
     "data": {
      "text/plain": [
       "MARRIED              6192\n",
       "SINGLE               4154\n",
       "WIDOWED              4065\n",
       "DIVORCED             1219\n",
       "SEPARATED             212\n",
       "UNKNOWN (DEFAULT)     154\n",
       "LIFE PARTNER            5\n",
       "Name: MARITAL_STATUS, dtype: int64"
      ]
     },
     "execution_count": 36,
     "metadata": {},
     "output_type": "execute_result"
    }
   ],
   "source": [
    "num_mar_F = df_merge_female.MARITAL_STATUS.value_counts()\n",
    "mar_female_prob = df_merge_female.groupby('MARITAL_STATUS').size().div(len(df_merge_female))*100\n",
    "num_mar_F"
   ]
  },
  {
   "cell_type": "code",
   "execution_count": 37,
   "id": "67f2d45f-2689-4e8a-9e54-b03a853641b8",
   "metadata": {},
   "outputs": [
    {
     "data": {
      "text/plain": [
       "MARITAL_STATUS\n",
       "MARRIED              30.354429\n",
       "SINGLE               20.363743\n",
       "WIDOWED              19.927447\n",
       "DIVORCED              5.975783\n",
       "SEPARATED             1.039267\n",
       "UNKNOWN (DEFAULT)     0.754939\n",
       "LIFE PARTNER          0.024511\n",
       "dtype: float64"
      ]
     },
     "execution_count": 37,
     "metadata": {},
     "output_type": "execute_result"
    }
   ],
   "source": [
    "mar_female_prob.sort_values(ascending=False)"
   ]
  },
  {
   "cell_type": "code",
   "execution_count": 38,
   "id": "61a2f77e-72cc-4560-95f4-a0c07f042281",
   "metadata": {},
   "outputs": [
    {
     "data": {
      "text/plain": [
       "MARRIED              12300\n",
       "SINGLE                5613\n",
       "WIDOWED               1397\n",
       "DIVORCED              1112\n",
       "SEPARATED              172\n",
       "UNKNOWN (DEFAULT)      153\n",
       "LIFE PARTNER             8\n",
       "Name: MARITAL_STATUS, dtype: int64"
      ]
     },
     "execution_count": 38,
     "metadata": {},
     "output_type": "execute_result"
    }
   ],
   "source": [
    "# total number of marital status in male\n",
    "num_mar_M = df_merge_male.MARITAL_STATUS.value_counts()\n",
    "mar_male_prob = df_merge_male.groupby('MARITAL_STATUS').size().div(len(df_merge_male))*100\n",
    "num_mar_M"
   ]
  },
  {
   "cell_type": "code",
   "execution_count": 39,
   "id": "6c2618d6-41a1-4efb-b13a-2b2c65bcd9f9",
   "metadata": {},
   "outputs": [
    {
     "data": {
      "text/plain": [
       "MARITAL_STATUS\n",
       "MARRIED              47.088549\n",
       "SINGLE               21.488458\n",
       "WIDOWED               5.348187\n",
       "DIVORCED              4.257111\n",
       "SEPARATED             0.658474\n",
       "UNKNOWN (DEFAULT)     0.585736\n",
       "LIFE PARTNER          0.030627\n",
       "dtype: float64"
      ]
     },
     "execution_count": 39,
     "metadata": {},
     "output_type": "execute_result"
    }
   ],
   "source": [
    "mar_male_prob.sort_values(ascending=False)"
   ]
  },
  {
   "cell_type": "markdown",
   "id": "36f8ac80-7f4a-4dbb-9904-fd288d24ac15",
   "metadata": {},
   "source": [
    "# Filter Out Breast Cancer"
   ]
  },
  {
   "cell_type": "code",
   "execution_count": 69,
   "id": "10397fb2-68f3-4841-a29c-25156c6fb38a",
   "metadata": {},
   "outputs": [],
   "source": [
    "lista = ['4511', '4512', '45181', '4534', '4535', '45183', '45184', '45189', '45372', '45373', '45374', '45375', '45376', '45377', '45382', '45383', '45384', '45385', '45386', '45387', '4510', '4519', '4520', '4530', '4530', '4531', '4532', '4533', '45379', '4538', '45389', '4539']\n",
    "df_vte = df_dia_icd.loc[df_dia_icd['ICD9_CODE'].isin(lista)]"
   ]
  },
  {
   "cell_type": "code",
   "execution_count": 70,
   "id": "11ebcbed-d94d-4f76-8238-d2bc2d636ad3",
   "metadata": {},
   "outputs": [
    {
     "data": {
      "text/plain": [
       "(1153, 5)"
      ]
     },
     "execution_count": 70,
     "metadata": {},
     "output_type": "execute_result"
    }
   ],
   "source": [
    "df_vte.shape"
   ]
  },
  {
   "cell_type": "markdown",
   "id": "1db40d92-6e66-4cbe-b6aa-7c59f84c7948",
   "metadata": {},
   "source": [
    "## Merge admission_df and vte_df"
   ]
  },
  {
   "cell_type": "code",
   "execution_count": 71,
   "id": "7c52053e-f3e3-4f73-9ca4-1331e1f648a9",
   "metadata": {},
   "outputs": [],
   "source": [
    "bc_adm = pd.merge(df_vte, df_adm, how='inner', on=['SUBJECT_ID', 'HADM_ID'])\n",
    "\n",
    "df_sub_gender = df_merge[['SUBJECT_ID', 'GENDER']]\n",
    "bc_adm_2 = pd.merge(bc_adm, df_sub_gender, how='left', on='SUBJECT_ID')"
   ]
  },
  {
   "cell_type": "code",
   "execution_count": 72,
   "id": "2cda8a97-25f2-4b79-bfef-ecd3b05d2424",
   "metadata": {},
   "outputs": [
    {
     "data": {
      "text/plain": [
       "M    652\n",
       "F    501\n",
       "Name: GENDER, dtype: int64"
      ]
     },
     "execution_count": 72,
     "metadata": {},
     "output_type": "execute_result"
    }
   ],
   "source": [
    "bc_adm_2.GENDER.value_counts()"
   ]
  },
  {
   "cell_type": "code",
   "execution_count": 73,
   "id": "03668762-8c83-4eff-bb9c-27b761de15c7",
   "metadata": {},
   "outputs": [],
   "source": [
    "bc_adm_black = bc_adm[bc_adm.ETHNICITY==\"BLACK\"]"
   ]
  },
  {
   "cell_type": "code",
   "execution_count": 74,
   "id": "43c57124-5019-4c21-a3d6-2dae253e88f4",
   "metadata": {},
   "outputs": [
    {
     "data": {
      "text/plain": [
       "(149, 22)"
      ]
     },
     "execution_count": 74,
     "metadata": {},
     "output_type": "execute_result"
    }
   ],
   "source": [
    "bc_adm_black.shape"
   ]
  },
  {
   "cell_type": "markdown",
   "id": "b1d0d484-b3e8-4ff7-aac3-fafe5e304837",
   "metadata": {},
   "source": [
    "There are 6 black people got breast cancer"
   ]
  },
  {
   "cell_type": "code",
   "execution_count": 75,
   "id": "4f3a23ad-76e2-4339-94c2-c8153cfaf3bd",
   "metadata": {},
   "outputs": [],
   "source": [
    "bc_adm_white = bc_adm[bc_adm.ETHNICITY==\"WHITE\"]"
   ]
  },
  {
   "cell_type": "code",
   "execution_count": 76,
   "id": "fe054bd8-5dca-488c-936c-9e5ff07bb963",
   "metadata": {},
   "outputs": [
    {
     "data": {
      "text/plain": [
       "(813, 22)"
      ]
     },
     "execution_count": 76,
     "metadata": {},
     "output_type": "execute_result"
    }
   ],
   "source": [
    "bc_adm_white.shape"
   ]
  },
  {
   "cell_type": "markdown",
   "id": "dc4fde4b-e10a-4b6a-a745-3641206a62f7",
   "metadata": {},
   "source": [
    "There are 46 white people got breast cancer"
   ]
  },
  {
   "cell_type": "code",
   "execution_count": 77,
   "id": "e28e431c-0248-450c-9c98-4deef7201371",
   "metadata": {},
   "outputs": [],
   "source": [
    "a = bc_adm_2.groupby('ETHNICITY').size().div(len(bc_adm_2))*100"
   ]
  },
  {
   "cell_type": "code",
   "execution_count": 78,
   "id": "73215987-11c1-41d8-8267-d0ed7d135e02",
   "metadata": {},
   "outputs": [
    {
     "data": {
      "text/plain": [
       "ETHNICITY\n",
       "WHITE                         70.511709\n",
       "BLACK                         12.922810\n",
       "UNKNOWN/NOT SPECIFIED          6.851691\n",
       "HISPANIC OR LATINO             3.209020\n",
       "ASIAN                          2.601908\n",
       "OTHER                          1.994796\n",
       "UNABLE TO OBTAIN               0.867303\n",
       "PATIENT DECLINED TO ANSWER     0.607112\n",
       "MULTI RACE ETHNICITY           0.346921\n",
       "MIDDLE EASTERN                 0.086730\n",
       "dtype: float64"
      ]
     },
     "execution_count": 78,
     "metadata": {},
     "output_type": "execute_result"
    }
   ],
   "source": [
    "a.sort_values(ascending=False)"
   ]
  },
  {
   "cell_type": "code",
   "execution_count": null,
   "id": "e8a0d7b1-94d4-4fcd-a368-65fad715dfe1",
   "metadata": {},
   "outputs": [],
   "source": []
  },
  {
   "cell_type": "code",
   "execution_count": null,
   "id": "a739fdf6-ed6c-42a8-9298-6f2c057be472",
   "metadata": {},
   "outputs": [],
   "source": []
  },
  {
   "cell_type": "markdown",
   "id": "aff77061-0ede-481a-a8b6-4dd3123034e8",
   "metadata": {},
   "source": [
    "# Calculate Age"
   ]
  },
  {
   "cell_type": "code",
   "execution_count": 232,
   "id": "027de167-25ea-4383-9d2b-61c52dc5a455",
   "metadata": {},
   "outputs": [
    {
     "data": {
      "text/html": [
       "<div>\n",
       "<style scoped>\n",
       "    .dataframe tbody tr th:only-of-type {\n",
       "        vertical-align: middle;\n",
       "    }\n",
       "\n",
       "    .dataframe tbody tr th {\n",
       "        vertical-align: top;\n",
       "    }\n",
       "\n",
       "    .dataframe thead th {\n",
       "        text-align: right;\n",
       "    }\n",
       "</style>\n",
       "<table border=\"1\" class=\"dataframe\">\n",
       "  <thead>\n",
       "    <tr style=\"text-align: right;\">\n",
       "      <th></th>\n",
       "      <th>ROW_ID_x</th>\n",
       "      <th>SUBJECT_ID</th>\n",
       "      <th>HADM_ID</th>\n",
       "      <th>ADMITTIME</th>\n",
       "      <th>DISCHTIME</th>\n",
       "      <th>DEATHTIME</th>\n",
       "      <th>ADMISSION_TYPE</th>\n",
       "      <th>ADMISSION_LOCATION</th>\n",
       "      <th>DISCHARGE_LOCATION</th>\n",
       "      <th>INSURANCE</th>\n",
       "      <th>...</th>\n",
       "      <th>DIAGNOSIS</th>\n",
       "      <th>HOSPITAL_EXPIRE_FLAG</th>\n",
       "      <th>HAS_CHARTEVENTS_DATA</th>\n",
       "      <th>ROW_ID_y</th>\n",
       "      <th>GENDER</th>\n",
       "      <th>DOB</th>\n",
       "      <th>DOD</th>\n",
       "      <th>DOD_HOSP</th>\n",
       "      <th>DOD_SSN</th>\n",
       "      <th>EXPIRE_FLAG</th>\n",
       "    </tr>\n",
       "  </thead>\n",
       "  <tbody>\n",
       "    <tr>\n",
       "      <th>0</th>\n",
       "      <td>21</td>\n",
       "      <td>22</td>\n",
       "      <td>165315</td>\n",
       "      <td>2196-04-09 12:26:00</td>\n",
       "      <td>2196-04-10 15:54:00</td>\n",
       "      <td>NaN</td>\n",
       "      <td>EMERGENCY</td>\n",
       "      <td>EMERGENCY ROOM ADMIT</td>\n",
       "      <td>DISC-TRAN CANCER/CHLDRN H</td>\n",
       "      <td>Private</td>\n",
       "      <td>...</td>\n",
       "      <td>BENZODIAZEPINE OVERDOSE</td>\n",
       "      <td>0</td>\n",
       "      <td>1</td>\n",
       "      <td>19</td>\n",
       "      <td>F</td>\n",
       "      <td>2131-05-07 00:00:00</td>\n",
       "      <td>NaN</td>\n",
       "      <td>NaN</td>\n",
       "      <td>NaN</td>\n",
       "      <td>0</td>\n",
       "    </tr>\n",
       "    <tr>\n",
       "      <th>1</th>\n",
       "      <td>22</td>\n",
       "      <td>23</td>\n",
       "      <td>152223</td>\n",
       "      <td>2153-09-03 07:15:00</td>\n",
       "      <td>2153-09-08 19:10:00</td>\n",
       "      <td>NaN</td>\n",
       "      <td>ELECTIVE</td>\n",
       "      <td>PHYS REFERRAL/NORMAL DELI</td>\n",
       "      <td>HOME HEALTH CARE</td>\n",
       "      <td>Medicare</td>\n",
       "      <td>...</td>\n",
       "      <td>CORONARY ARTERY DISEASE\\CORONARY ARTERY BYPASS...</td>\n",
       "      <td>0</td>\n",
       "      <td>1</td>\n",
       "      <td>20</td>\n",
       "      <td>M</td>\n",
       "      <td>2082-07-17 00:00:00</td>\n",
       "      <td>NaN</td>\n",
       "      <td>NaN</td>\n",
       "      <td>NaN</td>\n",
       "      <td>0</td>\n",
       "    </tr>\n",
       "    <tr>\n",
       "      <th>2</th>\n",
       "      <td>23</td>\n",
       "      <td>23</td>\n",
       "      <td>124321</td>\n",
       "      <td>2157-10-18 19:34:00</td>\n",
       "      <td>2157-10-25 14:00:00</td>\n",
       "      <td>NaN</td>\n",
       "      <td>EMERGENCY</td>\n",
       "      <td>TRANSFER FROM HOSP/EXTRAM</td>\n",
       "      <td>HOME HEALTH CARE</td>\n",
       "      <td>Medicare</td>\n",
       "      <td>...</td>\n",
       "      <td>BRAIN MASS</td>\n",
       "      <td>0</td>\n",
       "      <td>1</td>\n",
       "      <td>20</td>\n",
       "      <td>M</td>\n",
       "      <td>2082-07-17 00:00:00</td>\n",
       "      <td>NaN</td>\n",
       "      <td>NaN</td>\n",
       "      <td>NaN</td>\n",
       "      <td>0</td>\n",
       "    </tr>\n",
       "    <tr>\n",
       "      <th>3</th>\n",
       "      <td>24</td>\n",
       "      <td>24</td>\n",
       "      <td>161859</td>\n",
       "      <td>2139-06-06 16:14:00</td>\n",
       "      <td>2139-06-09 12:48:00</td>\n",
       "      <td>NaN</td>\n",
       "      <td>EMERGENCY</td>\n",
       "      <td>TRANSFER FROM HOSP/EXTRAM</td>\n",
       "      <td>HOME</td>\n",
       "      <td>Private</td>\n",
       "      <td>...</td>\n",
       "      <td>INTERIOR MYOCARDIAL INFARCTION</td>\n",
       "      <td>0</td>\n",
       "      <td>1</td>\n",
       "      <td>21</td>\n",
       "      <td>M</td>\n",
       "      <td>2100-05-31 00:00:00</td>\n",
       "      <td>NaN</td>\n",
       "      <td>NaN</td>\n",
       "      <td>NaN</td>\n",
       "      <td>0</td>\n",
       "    </tr>\n",
       "    <tr>\n",
       "      <th>4</th>\n",
       "      <td>25</td>\n",
       "      <td>25</td>\n",
       "      <td>129635</td>\n",
       "      <td>2160-11-02 02:06:00</td>\n",
       "      <td>2160-11-05 14:55:00</td>\n",
       "      <td>NaN</td>\n",
       "      <td>EMERGENCY</td>\n",
       "      <td>EMERGENCY ROOM ADMIT</td>\n",
       "      <td>HOME</td>\n",
       "      <td>Private</td>\n",
       "      <td>...</td>\n",
       "      <td>ACUTE CORONARY SYNDROME</td>\n",
       "      <td>0</td>\n",
       "      <td>1</td>\n",
       "      <td>22</td>\n",
       "      <td>M</td>\n",
       "      <td>2101-11-21 00:00:00</td>\n",
       "      <td>NaN</td>\n",
       "      <td>NaN</td>\n",
       "      <td>NaN</td>\n",
       "      <td>0</td>\n",
       "    </tr>\n",
       "  </tbody>\n",
       "</table>\n",
       "<p>5 rows × 26 columns</p>\n",
       "</div>"
      ],
      "text/plain": [
       "   ROW_ID_x  SUBJECT_ID  HADM_ID            ADMITTIME            DISCHTIME  \\\n",
       "0        21          22   165315  2196-04-09 12:26:00  2196-04-10 15:54:00   \n",
       "1        22          23   152223  2153-09-03 07:15:00  2153-09-08 19:10:00   \n",
       "2        23          23   124321  2157-10-18 19:34:00  2157-10-25 14:00:00   \n",
       "3        24          24   161859  2139-06-06 16:14:00  2139-06-09 12:48:00   \n",
       "4        25          25   129635  2160-11-02 02:06:00  2160-11-05 14:55:00   \n",
       "\n",
       "  DEATHTIME ADMISSION_TYPE         ADMISSION_LOCATION  \\\n",
       "0       NaN      EMERGENCY       EMERGENCY ROOM ADMIT   \n",
       "1       NaN       ELECTIVE  PHYS REFERRAL/NORMAL DELI   \n",
       "2       NaN      EMERGENCY  TRANSFER FROM HOSP/EXTRAM   \n",
       "3       NaN      EMERGENCY  TRANSFER FROM HOSP/EXTRAM   \n",
       "4       NaN      EMERGENCY       EMERGENCY ROOM ADMIT   \n",
       "\n",
       "          DISCHARGE_LOCATION INSURANCE  ...  \\\n",
       "0  DISC-TRAN CANCER/CHLDRN H   Private  ...   \n",
       "1           HOME HEALTH CARE  Medicare  ...   \n",
       "2           HOME HEALTH CARE  Medicare  ...   \n",
       "3                       HOME   Private  ...   \n",
       "4                       HOME   Private  ...   \n",
       "\n",
       "                                           DIAGNOSIS HOSPITAL_EXPIRE_FLAG  \\\n",
       "0                            BENZODIAZEPINE OVERDOSE                    0   \n",
       "1  CORONARY ARTERY DISEASE\\CORONARY ARTERY BYPASS...                    0   \n",
       "2                                         BRAIN MASS                    0   \n",
       "3                     INTERIOR MYOCARDIAL INFARCTION                    0   \n",
       "4                            ACUTE CORONARY SYNDROME                    0   \n",
       "\n",
       "  HAS_CHARTEVENTS_DATA ROW_ID_y GENDER                  DOB  DOD  DOD_HOSP  \\\n",
       "0                    1       19      F  2131-05-07 00:00:00  NaN       NaN   \n",
       "1                    1       20      M  2082-07-17 00:00:00  NaN       NaN   \n",
       "2                    1       20      M  2082-07-17 00:00:00  NaN       NaN   \n",
       "3                    1       21      M  2100-05-31 00:00:00  NaN       NaN   \n",
       "4                    1       22      M  2101-11-21 00:00:00  NaN       NaN   \n",
       "\n",
       "   DOD_SSN  EXPIRE_FLAG  \n",
       "0      NaN            0  \n",
       "1      NaN            0  \n",
       "2      NaN            0  \n",
       "3      NaN            0  \n",
       "4      NaN            0  \n",
       "\n",
       "[5 rows x 26 columns]"
      ]
     },
     "execution_count": 232,
     "metadata": {},
     "output_type": "execute_result"
    }
   ],
   "source": [
    "df_age = pd.merge( df_adm , df_pat, how='inner', on='SUBJECT_ID')\n",
    "df_age.head(5)"
   ]
  },
  {
   "cell_type": "code",
   "execution_count": 93,
   "id": "5d28f4ef-0a26-4a58-8a82-3d756b5f707a",
   "metadata": {},
   "outputs": [],
   "source": [
    "from pandasql import sqldf"
   ]
  },
  {
   "cell_type": "code",
   "execution_count": 132,
   "id": "8d5aebcf-1056-4787-adb9-2c3bf573b080",
   "metadata": {},
   "outputs": [],
   "source": [
    "q = \"CAST((EXTRACT(EPOCH FROM (df_adm.ADMITTIME - df_pat.DOB))/(60*60*24*365.242)) AS numeric)\""
   ]
  },
  {
   "cell_type": "code",
   "execution_count": 133,
   "id": "85422485-22fa-495b-9bf5-19d47f82b96a",
   "metadata": {},
   "outputs": [
    {
     "ename": "PandaSQLException",
     "evalue": "(sqlite3.OperationalError) near \"CAST\": syntax error\n[SQL: CAST((EXTRACT(EPOCH FROM (df_adm.ADMITTIME - df_pat.DOB))/(60*60*24*365.242)) AS numeric)]\n(Background on this error at: https://sqlalche.me/e/14/e3q8)",
     "output_type": "error",
     "traceback": [
      "\u001b[0;31m---------------------------------------------------------------------------\u001b[0m",
      "\u001b[0;31mOperationalError\u001b[0m                          Traceback (most recent call last)",
      "\u001b[0;32m~/opt/anaconda3/lib/python3.9/site-packages/sqlalchemy/engine/base.py\u001b[0m in \u001b[0;36m_execute_context\u001b[0;34m(self, dialect, constructor, statement, parameters, execution_options, *args, **kw)\u001b[0m\n\u001b[1;32m   1770\u001b[0m                 \u001b[0;32mif\u001b[0m \u001b[0;32mnot\u001b[0m \u001b[0mevt_handled\u001b[0m\u001b[0;34m:\u001b[0m\u001b[0;34m\u001b[0m\u001b[0;34m\u001b[0m\u001b[0m\n\u001b[0;32m-> 1771\u001b[0;31m                     self.dialect.do_execute(\n\u001b[0m\u001b[1;32m   1772\u001b[0m                         \u001b[0mcursor\u001b[0m\u001b[0;34m,\u001b[0m \u001b[0mstatement\u001b[0m\u001b[0;34m,\u001b[0m \u001b[0mparameters\u001b[0m\u001b[0;34m,\u001b[0m \u001b[0mcontext\u001b[0m\u001b[0;34m\u001b[0m\u001b[0;34m\u001b[0m\u001b[0m\n",
      "\u001b[0;32m~/opt/anaconda3/lib/python3.9/site-packages/sqlalchemy/engine/default.py\u001b[0m in \u001b[0;36mdo_execute\u001b[0;34m(self, cursor, statement, parameters, context)\u001b[0m\n\u001b[1;32m    716\u001b[0m     \u001b[0;32mdef\u001b[0m \u001b[0mdo_execute\u001b[0m\u001b[0;34m(\u001b[0m\u001b[0mself\u001b[0m\u001b[0;34m,\u001b[0m \u001b[0mcursor\u001b[0m\u001b[0;34m,\u001b[0m \u001b[0mstatement\u001b[0m\u001b[0;34m,\u001b[0m \u001b[0mparameters\u001b[0m\u001b[0;34m,\u001b[0m \u001b[0mcontext\u001b[0m\u001b[0;34m=\u001b[0m\u001b[0;32mNone\u001b[0m\u001b[0;34m)\u001b[0m\u001b[0;34m:\u001b[0m\u001b[0;34m\u001b[0m\u001b[0;34m\u001b[0m\u001b[0m\n\u001b[0;32m--> 717\u001b[0;31m         \u001b[0mcursor\u001b[0m\u001b[0;34m.\u001b[0m\u001b[0mexecute\u001b[0m\u001b[0;34m(\u001b[0m\u001b[0mstatement\u001b[0m\u001b[0;34m,\u001b[0m \u001b[0mparameters\u001b[0m\u001b[0;34m)\u001b[0m\u001b[0;34m\u001b[0m\u001b[0;34m\u001b[0m\u001b[0m\n\u001b[0m\u001b[1;32m    718\u001b[0m \u001b[0;34m\u001b[0m\u001b[0m\n",
      "\u001b[0;31mOperationalError\u001b[0m: near \"CAST\": syntax error",
      "\nThe above exception was the direct cause of the following exception:\n",
      "\u001b[0;31mOperationalError\u001b[0m                          Traceback (most recent call last)",
      "\u001b[0;32m~/opt/anaconda3/lib/python3.9/site-packages/pandasql/sqldf.py\u001b[0m in \u001b[0;36m__call__\u001b[0;34m(self, query, env)\u001b[0m\n\u001b[1;32m     60\u001b[0m             \u001b[0;32mtry\u001b[0m\u001b[0;34m:\u001b[0m\u001b[0;34m\u001b[0m\u001b[0;34m\u001b[0m\u001b[0m\n\u001b[0;32m---> 61\u001b[0;31m                 \u001b[0mresult\u001b[0m \u001b[0;34m=\u001b[0m \u001b[0mread_sql\u001b[0m\u001b[0;34m(\u001b[0m\u001b[0mquery\u001b[0m\u001b[0;34m,\u001b[0m \u001b[0mconn\u001b[0m\u001b[0;34m)\u001b[0m\u001b[0;34m\u001b[0m\u001b[0;34m\u001b[0m\u001b[0m\n\u001b[0m\u001b[1;32m     62\u001b[0m             \u001b[0;32mexcept\u001b[0m \u001b[0mDatabaseError\u001b[0m \u001b[0;32mas\u001b[0m \u001b[0mex\u001b[0m\u001b[0;34m:\u001b[0m\u001b[0;34m\u001b[0m\u001b[0;34m\u001b[0m\u001b[0m\n",
      "\u001b[0;32m~/opt/anaconda3/lib/python3.9/site-packages/pandas/io/sql.py\u001b[0m in \u001b[0;36mread_sql\u001b[0;34m(sql, con, index_col, coerce_float, params, parse_dates, columns, chunksize)\u001b[0m\n\u001b[1;32m    627\u001b[0m     \u001b[0;32melse\u001b[0m\u001b[0;34m:\u001b[0m\u001b[0;34m\u001b[0m\u001b[0;34m\u001b[0m\u001b[0m\n\u001b[0;32m--> 628\u001b[0;31m         return pandas_sql.read_query(\n\u001b[0m\u001b[1;32m    629\u001b[0m             \u001b[0msql\u001b[0m\u001b[0;34m,\u001b[0m\u001b[0;34m\u001b[0m\u001b[0;34m\u001b[0m\u001b[0m\n",
      "\u001b[0;32m~/opt/anaconda3/lib/python3.9/site-packages/pandas/io/sql.py\u001b[0m in \u001b[0;36mread_query\u001b[0;34m(self, sql, index_col, coerce_float, parse_dates, params, chunksize, dtype)\u001b[0m\n\u001b[1;32m   1578\u001b[0m \u001b[0;34m\u001b[0m\u001b[0m\n\u001b[0;32m-> 1579\u001b[0;31m         \u001b[0mresult\u001b[0m \u001b[0;34m=\u001b[0m \u001b[0mself\u001b[0m\u001b[0;34m.\u001b[0m\u001b[0mexecute\u001b[0m\u001b[0;34m(\u001b[0m\u001b[0;34m*\u001b[0m\u001b[0margs\u001b[0m\u001b[0;34m)\u001b[0m\u001b[0;34m\u001b[0m\u001b[0;34m\u001b[0m\u001b[0m\n\u001b[0m\u001b[1;32m   1580\u001b[0m         \u001b[0mcolumns\u001b[0m \u001b[0;34m=\u001b[0m \u001b[0mresult\u001b[0m\u001b[0;34m.\u001b[0m\u001b[0mkeys\u001b[0m\u001b[0;34m(\u001b[0m\u001b[0;34m)\u001b[0m\u001b[0;34m\u001b[0m\u001b[0;34m\u001b[0m\u001b[0m\n",
      "\u001b[0;32m~/opt/anaconda3/lib/python3.9/site-packages/pandas/io/sql.py\u001b[0m in \u001b[0;36mexecute\u001b[0;34m(self, *args, **kwargs)\u001b[0m\n\u001b[1;32m   1423\u001b[0m         \u001b[0;34m\"\"\"Simple passthrough to SQLAlchemy connectable\"\"\"\u001b[0m\u001b[0;34m\u001b[0m\u001b[0;34m\u001b[0m\u001b[0m\n\u001b[0;32m-> 1424\u001b[0;31m         \u001b[0;32mreturn\u001b[0m \u001b[0mself\u001b[0m\u001b[0;34m.\u001b[0m\u001b[0mconnectable\u001b[0m\u001b[0;34m.\u001b[0m\u001b[0mexecution_options\u001b[0m\u001b[0;34m(\u001b[0m\u001b[0;34m)\u001b[0m\u001b[0;34m.\u001b[0m\u001b[0mexecute\u001b[0m\u001b[0;34m(\u001b[0m\u001b[0;34m*\u001b[0m\u001b[0margs\u001b[0m\u001b[0;34m,\u001b[0m \u001b[0;34m**\u001b[0m\u001b[0mkwargs\u001b[0m\u001b[0;34m)\u001b[0m\u001b[0;34m\u001b[0m\u001b[0;34m\u001b[0m\u001b[0m\n\u001b[0m\u001b[1;32m   1425\u001b[0m \u001b[0;34m\u001b[0m\u001b[0m\n",
      "\u001b[0;32m~/opt/anaconda3/lib/python3.9/site-packages/sqlalchemy/engine/base.py\u001b[0m in \u001b[0;36mexecute\u001b[0;34m(self, statement, *multiparams, **params)\u001b[0m\n\u001b[1;32m   1247\u001b[0m \u001b[0;34m\u001b[0m\u001b[0m\n\u001b[0;32m-> 1248\u001b[0;31m             return self._exec_driver_sql(\n\u001b[0m\u001b[1;32m   1249\u001b[0m                 \u001b[0mstatement\u001b[0m\u001b[0;34m,\u001b[0m\u001b[0;34m\u001b[0m\u001b[0;34m\u001b[0m\u001b[0m\n",
      "\u001b[0;32m~/opt/anaconda3/lib/python3.9/site-packages/sqlalchemy/engine/base.py\u001b[0m in \u001b[0;36m_exec_driver_sql\u001b[0;34m(self, statement, multiparams, params, execution_options, future)\u001b[0m\n\u001b[1;32m   1546\u001b[0m         \u001b[0mdialect\u001b[0m \u001b[0;34m=\u001b[0m \u001b[0mself\u001b[0m\u001b[0;34m.\u001b[0m\u001b[0mdialect\u001b[0m\u001b[0;34m\u001b[0m\u001b[0;34m\u001b[0m\u001b[0m\n\u001b[0;32m-> 1547\u001b[0;31m         ret = self._execute_context(\n\u001b[0m\u001b[1;32m   1548\u001b[0m             \u001b[0mdialect\u001b[0m\u001b[0;34m,\u001b[0m\u001b[0;34m\u001b[0m\u001b[0;34m\u001b[0m\u001b[0m\n",
      "\u001b[0;32m~/opt/anaconda3/lib/python3.9/site-packages/sqlalchemy/engine/base.py\u001b[0m in \u001b[0;36m_execute_context\u001b[0;34m(self, dialect, constructor, statement, parameters, execution_options, *args, **kw)\u001b[0m\n\u001b[1;32m   1813\u001b[0m         \u001b[0;32mexcept\u001b[0m \u001b[0mBaseException\u001b[0m \u001b[0;32mas\u001b[0m \u001b[0me\u001b[0m\u001b[0;34m:\u001b[0m\u001b[0;34m\u001b[0m\u001b[0;34m\u001b[0m\u001b[0m\n\u001b[0;32m-> 1814\u001b[0;31m             self._handle_dbapi_exception(\n\u001b[0m\u001b[1;32m   1815\u001b[0m                 \u001b[0me\u001b[0m\u001b[0;34m,\u001b[0m \u001b[0mstatement\u001b[0m\u001b[0;34m,\u001b[0m \u001b[0mparameters\u001b[0m\u001b[0;34m,\u001b[0m \u001b[0mcursor\u001b[0m\u001b[0;34m,\u001b[0m \u001b[0mcontext\u001b[0m\u001b[0;34m\u001b[0m\u001b[0;34m\u001b[0m\u001b[0m\n",
      "\u001b[0;32m~/opt/anaconda3/lib/python3.9/site-packages/sqlalchemy/engine/base.py\u001b[0m in \u001b[0;36m_handle_dbapi_exception\u001b[0;34m(self, e, statement, parameters, cursor, context)\u001b[0m\n\u001b[1;32m   1994\u001b[0m             \u001b[0;32melif\u001b[0m \u001b[0mshould_wrap\u001b[0m\u001b[0;34m:\u001b[0m\u001b[0;34m\u001b[0m\u001b[0;34m\u001b[0m\u001b[0m\n\u001b[0;32m-> 1995\u001b[0;31m                 util.raise_(\n\u001b[0m\u001b[1;32m   1996\u001b[0m                     \u001b[0msqlalchemy_exception\u001b[0m\u001b[0;34m,\u001b[0m \u001b[0mwith_traceback\u001b[0m\u001b[0;34m=\u001b[0m\u001b[0mexc_info\u001b[0m\u001b[0;34m[\u001b[0m\u001b[0;36m2\u001b[0m\u001b[0;34m]\u001b[0m\u001b[0;34m,\u001b[0m \u001b[0mfrom_\u001b[0m\u001b[0;34m=\u001b[0m\u001b[0me\u001b[0m\u001b[0;34m\u001b[0m\u001b[0;34m\u001b[0m\u001b[0m\n",
      "\u001b[0;32m~/opt/anaconda3/lib/python3.9/site-packages/sqlalchemy/util/compat.py\u001b[0m in \u001b[0;36mraise_\u001b[0;34m(***failed resolving arguments***)\u001b[0m\n\u001b[1;32m    206\u001b[0m         \u001b[0;32mtry\u001b[0m\u001b[0;34m:\u001b[0m\u001b[0;34m\u001b[0m\u001b[0;34m\u001b[0m\u001b[0m\n\u001b[0;32m--> 207\u001b[0;31m             \u001b[0;32mraise\u001b[0m \u001b[0mexception\u001b[0m\u001b[0;34m\u001b[0m\u001b[0;34m\u001b[0m\u001b[0m\n\u001b[0m\u001b[1;32m    208\u001b[0m         \u001b[0;32mfinally\u001b[0m\u001b[0;34m:\u001b[0m\u001b[0;34m\u001b[0m\u001b[0;34m\u001b[0m\u001b[0m\n",
      "\u001b[0;32m~/opt/anaconda3/lib/python3.9/site-packages/sqlalchemy/engine/base.py\u001b[0m in \u001b[0;36m_execute_context\u001b[0;34m(self, dialect, constructor, statement, parameters, execution_options, *args, **kw)\u001b[0m\n\u001b[1;32m   1770\u001b[0m                 \u001b[0;32mif\u001b[0m \u001b[0;32mnot\u001b[0m \u001b[0mevt_handled\u001b[0m\u001b[0;34m:\u001b[0m\u001b[0;34m\u001b[0m\u001b[0;34m\u001b[0m\u001b[0m\n\u001b[0;32m-> 1771\u001b[0;31m                     self.dialect.do_execute(\n\u001b[0m\u001b[1;32m   1772\u001b[0m                         \u001b[0mcursor\u001b[0m\u001b[0;34m,\u001b[0m \u001b[0mstatement\u001b[0m\u001b[0;34m,\u001b[0m \u001b[0mparameters\u001b[0m\u001b[0;34m,\u001b[0m \u001b[0mcontext\u001b[0m\u001b[0;34m\u001b[0m\u001b[0;34m\u001b[0m\u001b[0m\n",
      "\u001b[0;32m~/opt/anaconda3/lib/python3.9/site-packages/sqlalchemy/engine/default.py\u001b[0m in \u001b[0;36mdo_execute\u001b[0;34m(self, cursor, statement, parameters, context)\u001b[0m\n\u001b[1;32m    716\u001b[0m     \u001b[0;32mdef\u001b[0m \u001b[0mdo_execute\u001b[0m\u001b[0;34m(\u001b[0m\u001b[0mself\u001b[0m\u001b[0;34m,\u001b[0m \u001b[0mcursor\u001b[0m\u001b[0;34m,\u001b[0m \u001b[0mstatement\u001b[0m\u001b[0;34m,\u001b[0m \u001b[0mparameters\u001b[0m\u001b[0;34m,\u001b[0m \u001b[0mcontext\u001b[0m\u001b[0;34m=\u001b[0m\u001b[0;32mNone\u001b[0m\u001b[0;34m)\u001b[0m\u001b[0;34m:\u001b[0m\u001b[0;34m\u001b[0m\u001b[0;34m\u001b[0m\u001b[0m\n\u001b[0;32m--> 717\u001b[0;31m         \u001b[0mcursor\u001b[0m\u001b[0;34m.\u001b[0m\u001b[0mexecute\u001b[0m\u001b[0;34m(\u001b[0m\u001b[0mstatement\u001b[0m\u001b[0;34m,\u001b[0m \u001b[0mparameters\u001b[0m\u001b[0;34m)\u001b[0m\u001b[0;34m\u001b[0m\u001b[0;34m\u001b[0m\u001b[0m\n\u001b[0m\u001b[1;32m    718\u001b[0m \u001b[0;34m\u001b[0m\u001b[0m\n",
      "\u001b[0;31mOperationalError\u001b[0m: (sqlite3.OperationalError) near \"CAST\": syntax error\n[SQL: CAST((EXTRACT(EPOCH FROM (df_adm.ADMITTIME - df_pat.DOB))/(60*60*24*365.242)) AS numeric)]\n(Background on this error at: https://sqlalche.me/e/14/e3q8)",
      "\nDuring handling of the above exception, another exception occurred:\n",
      "\u001b[0;31mPandaSQLException\u001b[0m                         Traceback (most recent call last)",
      "\u001b[0;32m/var/folders/73/37k4t3k50d7gry5vs9_z5yth0000gn/T/ipykernel_36421/3806578761.py\u001b[0m in \u001b[0;36m<module>\u001b[0;34m\u001b[0m\n\u001b[0;32m----> 1\u001b[0;31m \u001b[0msqldf\u001b[0m\u001b[0;34m(\u001b[0m\u001b[0mq\u001b[0m\u001b[0;34m,\u001b[0m \u001b[0mglobals\u001b[0m\u001b[0;34m(\u001b[0m\u001b[0;34m)\u001b[0m\u001b[0;34m)\u001b[0m\u001b[0;34m\u001b[0m\u001b[0;34m\u001b[0m\u001b[0m\n\u001b[0m",
      "\u001b[0;32m~/opt/anaconda3/lib/python3.9/site-packages/pandasql/sqldf.py\u001b[0m in \u001b[0;36msqldf\u001b[0;34m(query, env, db_uri)\u001b[0m\n\u001b[1;32m    154\u001b[0m     \u001b[0;34m>>\u001b[0m\u001b[0;34m>\u001b[0m \u001b[0msqldf\u001b[0m\u001b[0;34m(\u001b[0m\u001b[0;34m\"select avg(x) from df;\"\u001b[0m\u001b[0;34m,\u001b[0m \u001b[0mlocals\u001b[0m\u001b[0;34m(\u001b[0m\u001b[0;34m)\u001b[0m\u001b[0;34m)\u001b[0m\u001b[0;34m\u001b[0m\u001b[0;34m\u001b[0m\u001b[0m\n\u001b[1;32m    155\u001b[0m     \"\"\"\n\u001b[0;32m--> 156\u001b[0;31m     \u001b[0;32mreturn\u001b[0m \u001b[0mPandaSQL\u001b[0m\u001b[0;34m(\u001b[0m\u001b[0mdb_uri\u001b[0m\u001b[0;34m)\u001b[0m\u001b[0;34m(\u001b[0m\u001b[0mquery\u001b[0m\u001b[0;34m,\u001b[0m \u001b[0menv\u001b[0m\u001b[0;34m)\u001b[0m\u001b[0;34m\u001b[0m\u001b[0;34m\u001b[0m\u001b[0m\n\u001b[0m",
      "\u001b[0;32m~/opt/anaconda3/lib/python3.9/site-packages/pandasql/sqldf.py\u001b[0m in \u001b[0;36m__call__\u001b[0;34m(self, query, env)\u001b[0m\n\u001b[1;32m     61\u001b[0m                 \u001b[0mresult\u001b[0m \u001b[0;34m=\u001b[0m \u001b[0mread_sql\u001b[0m\u001b[0;34m(\u001b[0m\u001b[0mquery\u001b[0m\u001b[0;34m,\u001b[0m \u001b[0mconn\u001b[0m\u001b[0;34m)\u001b[0m\u001b[0;34m\u001b[0m\u001b[0;34m\u001b[0m\u001b[0m\n\u001b[1;32m     62\u001b[0m             \u001b[0;32mexcept\u001b[0m \u001b[0mDatabaseError\u001b[0m \u001b[0;32mas\u001b[0m \u001b[0mex\u001b[0m\u001b[0;34m:\u001b[0m\u001b[0;34m\u001b[0m\u001b[0;34m\u001b[0m\u001b[0m\n\u001b[0;32m---> 63\u001b[0;31m                 \u001b[0;32mraise\u001b[0m \u001b[0mPandaSQLException\u001b[0m\u001b[0;34m(\u001b[0m\u001b[0mex\u001b[0m\u001b[0;34m)\u001b[0m\u001b[0;34m\u001b[0m\u001b[0;34m\u001b[0m\u001b[0m\n\u001b[0m\u001b[1;32m     64\u001b[0m             \u001b[0;32mexcept\u001b[0m \u001b[0mResourceClosedError\u001b[0m\u001b[0;34m:\u001b[0m\u001b[0;34m\u001b[0m\u001b[0;34m\u001b[0m\u001b[0m\n\u001b[1;32m     65\u001b[0m                 \u001b[0;31m# query returns nothing\u001b[0m\u001b[0;34m\u001b[0m\u001b[0;34m\u001b[0m\u001b[0m\n",
      "\u001b[0;31mPandaSQLException\u001b[0m: (sqlite3.OperationalError) near \"CAST\": syntax error\n[SQL: CAST((EXTRACT(EPOCH FROM (df_adm.ADMITTIME - df_pat.DOB))/(60*60*24*365.242)) AS numeric)]\n(Background on this error at: https://sqlalche.me/e/14/e3q8)"
     ]
    }
   ],
   "source": [
    "sqldf(q, globals())"
   ]
  },
  {
   "cell_type": "code",
   "execution_count": 148,
   "id": "3e2d17d5-7574-420d-a991-dd3066ff6407",
   "metadata": {},
   "outputs": [],
   "source": [
    "#df_AGE = (df_adm.ADMITTIME - df_pat.DOB)/(60*60*24*365.242)"
   ]
  },
  {
   "cell_type": "code",
   "execution_count": 150,
   "id": "7233df66-a3ee-4145-a28c-92fcb86a0136",
   "metadata": {},
   "outputs": [],
   "source": [
    "#df_AGE"
   ]
  },
  {
   "cell_type": "code",
   "execution_count": 179,
   "id": "a8bf9243-36c2-43c9-a74e-ab251779a4ce",
   "metadata": {},
   "outputs": [],
   "source": [
    "#1\n",
    "#df = pd.DataFrame(columns=['DOB', 'ADMITTIME', 'AGE'])\n",
    "#df_pat.DOB = pd.to_datetime(df_pat.DOB, format = '%Y-%m-%d %H:%M:%S')\n",
    "#df_adm.ADMITTIME = pd.to_datetime(df_adm.ADMITTIME, format = '%Y-%m-%d %H:%M:%S')\n",
    "\n",
    "#df_pat.DOB=df_pat.DOB.dt.strftime('%Y-%m-%d')\n",
    "#df_adm.ADMITTIME=df_adm.ADMITTIME.strftime('%Y-%m-%d')"
   ]
  },
  {
   "cell_type": "code",
   "execution_count": 227,
   "id": "03032599-3b3f-4e9f-ad16-241a01b6a202",
   "metadata": {},
   "outputs": [
    {
     "data": {
      "text/plain": [
       "0       2131-05-07\n",
       "1       2082-07-17\n",
       "2       2082-07-17\n",
       "3       2100-05-31\n",
       "4       2101-11-21\n",
       "           ...    \n",
       "58971   2049-07-29\n",
       "58972   2044-12-27\n",
       "58973   2111-11-05\n",
       "58974   2067-09-21\n",
       "58975   2158-03-02\n",
       "Name: DOB, Length: 58976, dtype: datetime64[ns]"
      ]
     },
     "execution_count": 227,
     "metadata": {},
     "output_type": "execute_result"
    }
   ],
   "source": [
    "df_age['DOB']"
   ]
  },
  {
   "cell_type": "code",
   "execution_count": 228,
   "id": "6ead02ea-7506-4617-b6d9-fe1132e3f63c",
   "metadata": {},
   "outputs": [
    {
     "data": {
      "text/plain": [
       "0       2196-04-09\n",
       "1       2153-09-03\n",
       "2       2157-10-18\n",
       "3       2139-06-06\n",
       "4       2160-11-02\n",
       "           ...    \n",
       "58971   2127-11-07\n",
       "58972   2132-12-24\n",
       "58973   2131-03-30\n",
       "58974   2151-03-05\n",
       "58975   2200-09-12\n",
       "Name: ADMITTIME, Length: 58976, dtype: datetime64[ns]"
      ]
     },
     "execution_count": 228,
     "metadata": {},
     "output_type": "execute_result"
    }
   ],
   "source": [
    "df_age['ADMITTIME']"
   ]
  },
  {
   "cell_type": "code",
   "execution_count": 234,
   "id": "41c222f0-371a-4c7b-a61b-0fe8213c9382",
   "metadata": {},
   "outputs": [
    {
     "ename": "OverflowError",
     "evalue": "Overflow in int64 addition",
     "output_type": "error",
     "traceback": [
      "\u001b[0;31m---------------------------------------------------------------------------\u001b[0m",
      "\u001b[0;31mOverflowError\u001b[0m                             Traceback (most recent call last)",
      "\u001b[0;32m/var/folders/73/37k4t3k50d7gry5vs9_z5yth0000gn/T/ipykernel_36421/1106781998.py\u001b[0m in \u001b[0;36m<module>\u001b[0;34m\u001b[0m\n\u001b[1;32m      2\u001b[0m \u001b[0mdf_age\u001b[0m\u001b[0;34m[\u001b[0m\u001b[0;34m'DOB_Con'\u001b[0m\u001b[0;34m]\u001b[0m \u001b[0;34m=\u001b[0m \u001b[0mpd\u001b[0m\u001b[0;34m.\u001b[0m\u001b[0mto_datetime\u001b[0m\u001b[0;34m(\u001b[0m\u001b[0mdf_age\u001b[0m\u001b[0;34m.\u001b[0m\u001b[0mDOB\u001b[0m\u001b[0;34m,\u001b[0m \u001b[0merrors\u001b[0m\u001b[0;34m=\u001b[0m\u001b[0;34m'coerce'\u001b[0m\u001b[0;34m)\u001b[0m\u001b[0;34m\u001b[0m\u001b[0;34m\u001b[0m\u001b[0m\n\u001b[1;32m      3\u001b[0m \u001b[0mdf_age\u001b[0m\u001b[0;34m[\u001b[0m\u001b[0;34m'ADMITTIME_Con'\u001b[0m\u001b[0;34m]\u001b[0m \u001b[0;34m=\u001b[0m \u001b[0mpd\u001b[0m\u001b[0;34m.\u001b[0m\u001b[0mto_datetime\u001b[0m\u001b[0;34m(\u001b[0m\u001b[0mdf_age\u001b[0m\u001b[0;34m.\u001b[0m\u001b[0mADMITTIME\u001b[0m\u001b[0;34m,\u001b[0m \u001b[0merrors\u001b[0m\u001b[0;34m=\u001b[0m\u001b[0;34m'coerce'\u001b[0m\u001b[0;34m)\u001b[0m\u001b[0;34m\u001b[0m\u001b[0;34m\u001b[0m\u001b[0m\n\u001b[0;32m----> 4\u001b[0;31m \u001b[0mdf_age\u001b[0m\u001b[0;34m[\u001b[0m\u001b[0;34m'AGE'\u001b[0m\u001b[0;34m]\u001b[0m\u001b[0;34m=\u001b[0m\u001b[0mdf_age\u001b[0m\u001b[0;34m[\u001b[0m\u001b[0;34m'ADMITTIME_Con'\u001b[0m\u001b[0;34m]\u001b[0m\u001b[0;34m-\u001b[0m\u001b[0mdf_age\u001b[0m\u001b[0;34m[\u001b[0m\u001b[0;34m'DOB_Con'\u001b[0m\u001b[0;34m]\u001b[0m\u001b[0;34m\u001b[0m\u001b[0;34m\u001b[0m\u001b[0m\n\u001b[0m\u001b[1;32m      5\u001b[0m \u001b[0;31m#df_age['AGE'] = (df_age['ADMITTIME']-df_age['DOB']) / np.timedelta64(1, 'Y')\u001b[0m\u001b[0;34m\u001b[0m\u001b[0;34m\u001b[0m\u001b[0m\n\u001b[1;32m      6\u001b[0m \u001b[0;34m\u001b[0m\u001b[0m\n",
      "\u001b[0;32m~/opt/anaconda3/lib/python3.9/site-packages/pandas/core/ops/common.py\u001b[0m in \u001b[0;36mnew_method\u001b[0;34m(self, other)\u001b[0m\n\u001b[1;32m     67\u001b[0m         \u001b[0mother\u001b[0m \u001b[0;34m=\u001b[0m \u001b[0mitem_from_zerodim\u001b[0m\u001b[0;34m(\u001b[0m\u001b[0mother\u001b[0m\u001b[0;34m)\u001b[0m\u001b[0;34m\u001b[0m\u001b[0;34m\u001b[0m\u001b[0m\n\u001b[1;32m     68\u001b[0m \u001b[0;34m\u001b[0m\u001b[0m\n\u001b[0;32m---> 69\u001b[0;31m         \u001b[0;32mreturn\u001b[0m \u001b[0mmethod\u001b[0m\u001b[0;34m(\u001b[0m\u001b[0mself\u001b[0m\u001b[0;34m,\u001b[0m \u001b[0mother\u001b[0m\u001b[0;34m)\u001b[0m\u001b[0;34m\u001b[0m\u001b[0;34m\u001b[0m\u001b[0m\n\u001b[0m\u001b[1;32m     70\u001b[0m \u001b[0;34m\u001b[0m\u001b[0m\n\u001b[1;32m     71\u001b[0m     \u001b[0;32mreturn\u001b[0m \u001b[0mnew_method\u001b[0m\u001b[0;34m\u001b[0m\u001b[0;34m\u001b[0m\u001b[0m\n",
      "\u001b[0;32m~/opt/anaconda3/lib/python3.9/site-packages/pandas/core/arraylike.py\u001b[0m in \u001b[0;36m__sub__\u001b[0;34m(self, other)\u001b[0m\n\u001b[1;32m     98\u001b[0m     \u001b[0;34m@\u001b[0m\u001b[0munpack_zerodim_and_defer\u001b[0m\u001b[0;34m(\u001b[0m\u001b[0;34m\"__sub__\"\u001b[0m\u001b[0;34m)\u001b[0m\u001b[0;34m\u001b[0m\u001b[0;34m\u001b[0m\u001b[0m\n\u001b[1;32m     99\u001b[0m     \u001b[0;32mdef\u001b[0m \u001b[0m__sub__\u001b[0m\u001b[0;34m(\u001b[0m\u001b[0mself\u001b[0m\u001b[0;34m,\u001b[0m \u001b[0mother\u001b[0m\u001b[0;34m)\u001b[0m\u001b[0;34m:\u001b[0m\u001b[0;34m\u001b[0m\u001b[0;34m\u001b[0m\u001b[0m\n\u001b[0;32m--> 100\u001b[0;31m         \u001b[0;32mreturn\u001b[0m \u001b[0mself\u001b[0m\u001b[0;34m.\u001b[0m\u001b[0m_arith_method\u001b[0m\u001b[0;34m(\u001b[0m\u001b[0mother\u001b[0m\u001b[0;34m,\u001b[0m \u001b[0moperator\u001b[0m\u001b[0;34m.\u001b[0m\u001b[0msub\u001b[0m\u001b[0;34m)\u001b[0m\u001b[0;34m\u001b[0m\u001b[0;34m\u001b[0m\u001b[0m\n\u001b[0m\u001b[1;32m    101\u001b[0m \u001b[0;34m\u001b[0m\u001b[0m\n\u001b[1;32m    102\u001b[0m     \u001b[0;34m@\u001b[0m\u001b[0munpack_zerodim_and_defer\u001b[0m\u001b[0;34m(\u001b[0m\u001b[0;34m\"__rsub__\"\u001b[0m\u001b[0;34m)\u001b[0m\u001b[0;34m\u001b[0m\u001b[0;34m\u001b[0m\u001b[0m\n",
      "\u001b[0;32m~/opt/anaconda3/lib/python3.9/site-packages/pandas/core/series.py\u001b[0m in \u001b[0;36m_arith_method\u001b[0;34m(self, other, op)\u001b[0m\n\u001b[1;32m   5524\u001b[0m \u001b[0;34m\u001b[0m\u001b[0m\n\u001b[1;32m   5525\u001b[0m         \u001b[0;32mwith\u001b[0m \u001b[0mnp\u001b[0m\u001b[0;34m.\u001b[0m\u001b[0merrstate\u001b[0m\u001b[0;34m(\u001b[0m\u001b[0mall\u001b[0m\u001b[0;34m=\u001b[0m\u001b[0;34m\"ignore\"\u001b[0m\u001b[0;34m)\u001b[0m\u001b[0;34m:\u001b[0m\u001b[0;34m\u001b[0m\u001b[0;34m\u001b[0m\u001b[0m\n\u001b[0;32m-> 5526\u001b[0;31m             \u001b[0mresult\u001b[0m \u001b[0;34m=\u001b[0m \u001b[0mops\u001b[0m\u001b[0;34m.\u001b[0m\u001b[0marithmetic_op\u001b[0m\u001b[0;34m(\u001b[0m\u001b[0mlvalues\u001b[0m\u001b[0;34m,\u001b[0m \u001b[0mrvalues\u001b[0m\u001b[0;34m,\u001b[0m \u001b[0mop\u001b[0m\u001b[0;34m)\u001b[0m\u001b[0;34m\u001b[0m\u001b[0;34m\u001b[0m\u001b[0m\n\u001b[0m\u001b[1;32m   5527\u001b[0m \u001b[0;34m\u001b[0m\u001b[0m\n\u001b[1;32m   5528\u001b[0m         \u001b[0;32mreturn\u001b[0m \u001b[0mself\u001b[0m\u001b[0;34m.\u001b[0m\u001b[0m_construct_result\u001b[0m\u001b[0;34m(\u001b[0m\u001b[0mresult\u001b[0m\u001b[0;34m,\u001b[0m \u001b[0mname\u001b[0m\u001b[0;34m=\u001b[0m\u001b[0mres_name\u001b[0m\u001b[0;34m)\u001b[0m\u001b[0;34m\u001b[0m\u001b[0;34m\u001b[0m\u001b[0m\n",
      "\u001b[0;32m~/opt/anaconda3/lib/python3.9/site-packages/pandas/core/ops/array_ops.py\u001b[0m in \u001b[0;36marithmetic_op\u001b[0;34m(left, right, op)\u001b[0m\n\u001b[1;32m    216\u001b[0m         \u001b[0;31m# Timedelta/Timestamp and other custom scalars are included in the check\u001b[0m\u001b[0;34m\u001b[0m\u001b[0;34m\u001b[0m\u001b[0m\n\u001b[1;32m    217\u001b[0m         \u001b[0;31m# because numexpr will fail on it, see GH#31457\u001b[0m\u001b[0;34m\u001b[0m\u001b[0;34m\u001b[0m\u001b[0m\n\u001b[0;32m--> 218\u001b[0;31m         \u001b[0mres_values\u001b[0m \u001b[0;34m=\u001b[0m \u001b[0mop\u001b[0m\u001b[0;34m(\u001b[0m\u001b[0mleft\u001b[0m\u001b[0;34m,\u001b[0m \u001b[0mright\u001b[0m\u001b[0;34m)\u001b[0m\u001b[0;34m\u001b[0m\u001b[0;34m\u001b[0m\u001b[0m\n\u001b[0m\u001b[1;32m    219\u001b[0m     \u001b[0;32melse\u001b[0m\u001b[0;34m:\u001b[0m\u001b[0;34m\u001b[0m\u001b[0;34m\u001b[0m\u001b[0m\n\u001b[1;32m    220\u001b[0m         \u001b[0;31m# TODO we should handle EAs consistently and move this check before the if/else\u001b[0m\u001b[0;34m\u001b[0m\u001b[0;34m\u001b[0m\u001b[0m\n",
      "\u001b[0;32m~/opt/anaconda3/lib/python3.9/site-packages/pandas/core/ops/common.py\u001b[0m in \u001b[0;36mnew_method\u001b[0;34m(self, other)\u001b[0m\n\u001b[1;32m     67\u001b[0m         \u001b[0mother\u001b[0m \u001b[0;34m=\u001b[0m \u001b[0mitem_from_zerodim\u001b[0m\u001b[0;34m(\u001b[0m\u001b[0mother\u001b[0m\u001b[0;34m)\u001b[0m\u001b[0;34m\u001b[0m\u001b[0;34m\u001b[0m\u001b[0m\n\u001b[1;32m     68\u001b[0m \u001b[0;34m\u001b[0m\u001b[0m\n\u001b[0;32m---> 69\u001b[0;31m         \u001b[0;32mreturn\u001b[0m \u001b[0mmethod\u001b[0m\u001b[0;34m(\u001b[0m\u001b[0mself\u001b[0m\u001b[0;34m,\u001b[0m \u001b[0mother\u001b[0m\u001b[0;34m)\u001b[0m\u001b[0;34m\u001b[0m\u001b[0;34m\u001b[0m\u001b[0m\n\u001b[0m\u001b[1;32m     70\u001b[0m \u001b[0;34m\u001b[0m\u001b[0m\n\u001b[1;32m     71\u001b[0m     \u001b[0;32mreturn\u001b[0m \u001b[0mnew_method\u001b[0m\u001b[0;34m\u001b[0m\u001b[0;34m\u001b[0m\u001b[0m\n",
      "\u001b[0;32m~/opt/anaconda3/lib/python3.9/site-packages/pandas/core/arrays/datetimelike.py\u001b[0m in \u001b[0;36m__sub__\u001b[0;34m(self, other)\u001b[0m\n\u001b[1;32m   1334\u001b[0m         \u001b[0;32melif\u001b[0m \u001b[0mis_datetime64_dtype\u001b[0m\u001b[0;34m(\u001b[0m\u001b[0mother_dtype\u001b[0m\u001b[0;34m)\u001b[0m \u001b[0;32mor\u001b[0m \u001b[0mis_datetime64tz_dtype\u001b[0m\u001b[0;34m(\u001b[0m\u001b[0mother_dtype\u001b[0m\u001b[0;34m)\u001b[0m\u001b[0;34m:\u001b[0m\u001b[0;34m\u001b[0m\u001b[0;34m\u001b[0m\u001b[0m\n\u001b[1;32m   1335\u001b[0m             \u001b[0;31m# DatetimeIndex, ndarray[datetime64]\u001b[0m\u001b[0;34m\u001b[0m\u001b[0;34m\u001b[0m\u001b[0m\n\u001b[0;32m-> 1336\u001b[0;31m             \u001b[0mresult\u001b[0m \u001b[0;34m=\u001b[0m \u001b[0mself\u001b[0m\u001b[0;34m.\u001b[0m\u001b[0m_sub_datetime_arraylike\u001b[0m\u001b[0;34m(\u001b[0m\u001b[0mother\u001b[0m\u001b[0;34m)\u001b[0m\u001b[0;34m\u001b[0m\u001b[0;34m\u001b[0m\u001b[0m\n\u001b[0m\u001b[1;32m   1337\u001b[0m         \u001b[0;32melif\u001b[0m \u001b[0mis_period_dtype\u001b[0m\u001b[0;34m(\u001b[0m\u001b[0mother_dtype\u001b[0m\u001b[0;34m)\u001b[0m\u001b[0;34m:\u001b[0m\u001b[0;34m\u001b[0m\u001b[0;34m\u001b[0m\u001b[0m\n\u001b[1;32m   1338\u001b[0m             \u001b[0;31m# PeriodIndex\u001b[0m\u001b[0;34m\u001b[0m\u001b[0;34m\u001b[0m\u001b[0m\n",
      "\u001b[0;32m~/opt/anaconda3/lib/python3.9/site-packages/pandas/core/arrays/datetimes.py\u001b[0m in \u001b[0;36m_sub_datetime_arraylike\u001b[0;34m(self, other)\u001b[0m\n\u001b[1;32m    719\u001b[0m         \u001b[0mother_i8\u001b[0m \u001b[0;34m=\u001b[0m \u001b[0mother\u001b[0m\u001b[0;34m.\u001b[0m\u001b[0masi8\u001b[0m\u001b[0;34m\u001b[0m\u001b[0;34m\u001b[0m\u001b[0m\n\u001b[1;32m    720\u001b[0m         \u001b[0marr_mask\u001b[0m \u001b[0;34m=\u001b[0m \u001b[0mself\u001b[0m\u001b[0;34m.\u001b[0m\u001b[0m_isnan\u001b[0m \u001b[0;34m|\u001b[0m \u001b[0mother\u001b[0m\u001b[0;34m.\u001b[0m\u001b[0m_isnan\u001b[0m\u001b[0;34m\u001b[0m\u001b[0;34m\u001b[0m\u001b[0m\n\u001b[0;32m--> 721\u001b[0;31m         \u001b[0mnew_values\u001b[0m \u001b[0;34m=\u001b[0m \u001b[0mchecked_add_with_arr\u001b[0m\u001b[0;34m(\u001b[0m\u001b[0mself_i8\u001b[0m\u001b[0;34m,\u001b[0m \u001b[0;34m-\u001b[0m\u001b[0mother_i8\u001b[0m\u001b[0;34m,\u001b[0m \u001b[0marr_mask\u001b[0m\u001b[0;34m=\u001b[0m\u001b[0marr_mask\u001b[0m\u001b[0;34m)\u001b[0m\u001b[0;34m\u001b[0m\u001b[0;34m\u001b[0m\u001b[0m\n\u001b[0m\u001b[1;32m    722\u001b[0m         \u001b[0;32mif\u001b[0m \u001b[0mself\u001b[0m\u001b[0;34m.\u001b[0m\u001b[0m_hasnans\u001b[0m \u001b[0;32mor\u001b[0m \u001b[0mother\u001b[0m\u001b[0;34m.\u001b[0m\u001b[0m_hasnans\u001b[0m\u001b[0;34m:\u001b[0m\u001b[0;34m\u001b[0m\u001b[0;34m\u001b[0m\u001b[0m\n\u001b[1;32m    723\u001b[0m             \u001b[0mnp\u001b[0m\u001b[0;34m.\u001b[0m\u001b[0mputmask\u001b[0m\u001b[0;34m(\u001b[0m\u001b[0mnew_values\u001b[0m\u001b[0;34m,\u001b[0m \u001b[0marr_mask\u001b[0m\u001b[0;34m,\u001b[0m \u001b[0miNaT\u001b[0m\u001b[0;34m)\u001b[0m\u001b[0;34m\u001b[0m\u001b[0;34m\u001b[0m\u001b[0m\n",
      "\u001b[0;32m~/opt/anaconda3/lib/python3.9/site-packages/pandas/core/algorithms.py\u001b[0m in \u001b[0;36mchecked_add_with_arr\u001b[0;34m(arr, b, arr_mask, b_mask)\u001b[0m\n\u001b[1;32m   1110\u001b[0m \u001b[0;34m\u001b[0m\u001b[0m\n\u001b[1;32m   1111\u001b[0m     \u001b[0;32mif\u001b[0m \u001b[0mto_raise\u001b[0m\u001b[0;34m:\u001b[0m\u001b[0;34m\u001b[0m\u001b[0;34m\u001b[0m\u001b[0m\n\u001b[0;32m-> 1112\u001b[0;31m         \u001b[0;32mraise\u001b[0m \u001b[0mOverflowError\u001b[0m\u001b[0;34m(\u001b[0m\u001b[0;34m\"Overflow in int64 addition\"\u001b[0m\u001b[0;34m)\u001b[0m\u001b[0;34m\u001b[0m\u001b[0;34m\u001b[0m\u001b[0m\n\u001b[0m\u001b[1;32m   1113\u001b[0m     \u001b[0;32mreturn\u001b[0m \u001b[0marr\u001b[0m \u001b[0;34m+\u001b[0m \u001b[0mb\u001b[0m\u001b[0;34m\u001b[0m\u001b[0;34m\u001b[0m\u001b[0m\n\u001b[1;32m   1114\u001b[0m \u001b[0;34m\u001b[0m\u001b[0m\n",
      "\u001b[0;31mOverflowError\u001b[0m: Overflow in int64 addition"
     ]
    }
   ],
   "source": [
    "#2\n",
    "df_age['DOB_Con'] = pd.to_datetime(df_age.DOB, errors='coerce')\n",
    "df_age['ADMITTIME_Con'] = pd.to_datetime(df_age.ADMITTIME, errors='coerce')\n",
    "df_age['AGE']=df_age['ADMITTIME_Con']-df_age['DOB_Con']\n",
    "#df_age['AGE'] = (df_age['ADMITTIME']-df_age['DOB']) / np.timedelta64(1, 'Y')"
   ]
  },
  {
   "cell_type": "code",
   "execution_count": 217,
   "id": "06e130d0-6ccc-432f-8790-a33084278dc8",
   "metadata": {},
   "outputs": [],
   "source": [
    "#df['age']  = ((df['ADMITTIME'].values  - df['DOB'].values).astype(np.int)/8.64e13//365).astype(np.int)"
   ]
  },
  {
   "cell_type": "code",
   "execution_count": 188,
   "id": "b3c74b16-6677-420c-abe4-6c390cbd83f0",
   "metadata": {},
   "outputs": [
    {
     "data": {
      "text/plain": [
       "datetime.date"
      ]
     },
     "execution_count": 188,
     "metadata": {},
     "output_type": "execute_result"
    }
   ],
   "source": [
    "type(df['DOB'].iloc[9])"
   ]
  },
  {
   "cell_type": "code",
   "execution_count": 219,
   "id": "a3323c0f-e965-4920-9f91-0b0436b79dbb",
   "metadata": {},
   "outputs": [
    {
     "data": {
      "text/html": [
       "<div>\n",
       "<style scoped>\n",
       "    .dataframe tbody tr th:only-of-type {\n",
       "        vertical-align: middle;\n",
       "    }\n",
       "\n",
       "    .dataframe tbody tr th {\n",
       "        vertical-align: top;\n",
       "    }\n",
       "\n",
       "    .dataframe thead th {\n",
       "        text-align: right;\n",
       "    }\n",
       "</style>\n",
       "<table border=\"1\" class=\"dataframe\">\n",
       "  <thead>\n",
       "    <tr style=\"text-align: right;\">\n",
       "      <th></th>\n",
       "      <th>ROW_ID_x</th>\n",
       "      <th>SUBJECT_ID</th>\n",
       "      <th>HADM_ID</th>\n",
       "      <th>ADMITTIME</th>\n",
       "      <th>DISCHTIME</th>\n",
       "      <th>DEATHTIME</th>\n",
       "      <th>ADMISSION_TYPE</th>\n",
       "      <th>ADMISSION_LOCATION</th>\n",
       "      <th>DISCHARGE_LOCATION</th>\n",
       "      <th>INSURANCE</th>\n",
       "      <th>...</th>\n",
       "      <th>HOSPITAL_EXPIRE_FLAG</th>\n",
       "      <th>HAS_CHARTEVENTS_DATA</th>\n",
       "      <th>ROW_ID_y</th>\n",
       "      <th>GENDER</th>\n",
       "      <th>DOB</th>\n",
       "      <th>DOD</th>\n",
       "      <th>DOD_HOSP</th>\n",
       "      <th>DOD_SSN</th>\n",
       "      <th>EXPIRE_FLAG</th>\n",
       "      <th>AGE</th>\n",
       "    </tr>\n",
       "  </thead>\n",
       "  <tbody>\n",
       "    <tr>\n",
       "      <th>0</th>\n",
       "      <td>21</td>\n",
       "      <td>22</td>\n",
       "      <td>165315</td>\n",
       "      <td>2196-04-09</td>\n",
       "      <td>2196-04-10 15:54:00</td>\n",
       "      <td>NaN</td>\n",
       "      <td>EMERGENCY</td>\n",
       "      <td>EMERGENCY ROOM ADMIT</td>\n",
       "      <td>DISC-TRAN CANCER/CHLDRN H</td>\n",
       "      <td>Private</td>\n",
       "      <td>...</td>\n",
       "      <td>0</td>\n",
       "      <td>1</td>\n",
       "      <td>19</td>\n",
       "      <td>F</td>\n",
       "      <td>2131-05-07</td>\n",
       "      <td>NaN</td>\n",
       "      <td>NaN</td>\n",
       "      <td>NaN</td>\n",
       "      <td>0</td>\n",
       "      <td>64 days 23:16:36.164383</td>\n",
       "    </tr>\n",
       "    <tr>\n",
       "      <th>1</th>\n",
       "      <td>22</td>\n",
       "      <td>23</td>\n",
       "      <td>152223</td>\n",
       "      <td>2153-09-03</td>\n",
       "      <td>2153-09-08 19:10:00</td>\n",
       "      <td>NaN</td>\n",
       "      <td>ELECTIVE</td>\n",
       "      <td>PHYS REFERRAL/NORMAL DELI</td>\n",
       "      <td>HOME HEALTH CARE</td>\n",
       "      <td>Medicare</td>\n",
       "      <td>...</td>\n",
       "      <td>0</td>\n",
       "      <td>1</td>\n",
       "      <td>20</td>\n",
       "      <td>M</td>\n",
       "      <td>2082-07-17</td>\n",
       "      <td>NaN</td>\n",
       "      <td>NaN</td>\n",
       "      <td>NaN</td>\n",
       "      <td>0</td>\n",
       "      <td>71 days 04:16:26.301369</td>\n",
       "    </tr>\n",
       "    <tr>\n",
       "      <th>2</th>\n",
       "      <td>23</td>\n",
       "      <td>23</td>\n",
       "      <td>124321</td>\n",
       "      <td>2157-10-18</td>\n",
       "      <td>2157-10-25 14:00:00</td>\n",
       "      <td>NaN</td>\n",
       "      <td>EMERGENCY</td>\n",
       "      <td>TRANSFER FROM HOSP/EXTRAM</td>\n",
       "      <td>HOME HEALTH CARE</td>\n",
       "      <td>Medicare</td>\n",
       "      <td>...</td>\n",
       "      <td>0</td>\n",
       "      <td>1</td>\n",
       "      <td>20</td>\n",
       "      <td>M</td>\n",
       "      <td>2082-07-17</td>\n",
       "      <td>NaN</td>\n",
       "      <td>NaN</td>\n",
       "      <td>NaN</td>\n",
       "      <td>0</td>\n",
       "      <td>75 days 07:17:55.068493</td>\n",
       "    </tr>\n",
       "    <tr>\n",
       "      <th>3</th>\n",
       "      <td>24</td>\n",
       "      <td>24</td>\n",
       "      <td>161859</td>\n",
       "      <td>2139-06-06</td>\n",
       "      <td>2139-06-09 12:48:00</td>\n",
       "      <td>NaN</td>\n",
       "      <td>EMERGENCY</td>\n",
       "      <td>TRANSFER FROM HOSP/EXTRAM</td>\n",
       "      <td>HOME</td>\n",
       "      <td>Private</td>\n",
       "      <td>...</td>\n",
       "      <td>0</td>\n",
       "      <td>1</td>\n",
       "      <td>21</td>\n",
       "      <td>M</td>\n",
       "      <td>2100-05-31</td>\n",
       "      <td>NaN</td>\n",
       "      <td>NaN</td>\n",
       "      <td>NaN</td>\n",
       "      <td>0</td>\n",
       "      <td>39 days 00:59:10.684931</td>\n",
       "    </tr>\n",
       "    <tr>\n",
       "      <th>4</th>\n",
       "      <td>25</td>\n",
       "      <td>25</td>\n",
       "      <td>129635</td>\n",
       "      <td>2160-11-02</td>\n",
       "      <td>2160-11-05 14:55:00</td>\n",
       "      <td>NaN</td>\n",
       "      <td>EMERGENCY</td>\n",
       "      <td>EMERGENCY ROOM ADMIT</td>\n",
       "      <td>HOME</td>\n",
       "      <td>Private</td>\n",
       "      <td>...</td>\n",
       "      <td>0</td>\n",
       "      <td>1</td>\n",
       "      <td>22</td>\n",
       "      <td>M</td>\n",
       "      <td>2101-11-21</td>\n",
       "      <td>NaN</td>\n",
       "      <td>NaN</td>\n",
       "      <td>NaN</td>\n",
       "      <td>0</td>\n",
       "      <td>58 days 23:44:13.150684</td>\n",
       "    </tr>\n",
       "  </tbody>\n",
       "</table>\n",
       "<p>5 rows × 27 columns</p>\n",
       "</div>"
      ],
      "text/plain": [
       "   ROW_ID_x  SUBJECT_ID  HADM_ID   ADMITTIME            DISCHTIME DEATHTIME  \\\n",
       "0        21          22   165315  2196-04-09  2196-04-10 15:54:00       NaN   \n",
       "1        22          23   152223  2153-09-03  2153-09-08 19:10:00       NaN   \n",
       "2        23          23   124321  2157-10-18  2157-10-25 14:00:00       NaN   \n",
       "3        24          24   161859  2139-06-06  2139-06-09 12:48:00       NaN   \n",
       "4        25          25   129635  2160-11-02  2160-11-05 14:55:00       NaN   \n",
       "\n",
       "  ADMISSION_TYPE         ADMISSION_LOCATION         DISCHARGE_LOCATION  \\\n",
       "0      EMERGENCY       EMERGENCY ROOM ADMIT  DISC-TRAN CANCER/CHLDRN H   \n",
       "1       ELECTIVE  PHYS REFERRAL/NORMAL DELI           HOME HEALTH CARE   \n",
       "2      EMERGENCY  TRANSFER FROM HOSP/EXTRAM           HOME HEALTH CARE   \n",
       "3      EMERGENCY  TRANSFER FROM HOSP/EXTRAM                       HOME   \n",
       "4      EMERGENCY       EMERGENCY ROOM ADMIT                       HOME   \n",
       "\n",
       "  INSURANCE  ... HOSPITAL_EXPIRE_FLAG HAS_CHARTEVENTS_DATA ROW_ID_y GENDER  \\\n",
       "0   Private  ...                    0                    1       19      F   \n",
       "1  Medicare  ...                    0                    1       20      M   \n",
       "2  Medicare  ...                    0                    1       20      M   \n",
       "3   Private  ...                    0                    1       21      M   \n",
       "4   Private  ...                    0                    1       22      M   \n",
       "\n",
       "          DOB  DOD DOD_HOSP  DOD_SSN  EXPIRE_FLAG                     AGE  \n",
       "0  2131-05-07  NaN      NaN      NaN            0 64 days 23:16:36.164383  \n",
       "1  2082-07-17  NaN      NaN      NaN            0 71 days 04:16:26.301369  \n",
       "2  2082-07-17  NaN      NaN      NaN            0 75 days 07:17:55.068493  \n",
       "3  2100-05-31  NaN      NaN      NaN            0 39 days 00:59:10.684931  \n",
       "4  2101-11-21  NaN      NaN      NaN            0 58 days 23:44:13.150684  \n",
       "\n",
       "[5 rows x 27 columns]"
      ]
     },
     "execution_count": 219,
     "metadata": {},
     "output_type": "execute_result"
    }
   ],
   "source": [
    "df_age.head(5)"
   ]
  },
  {
   "cell_type": "code",
   "execution_count": null,
   "id": "79d52421-dc96-48ac-9d22-2201a15dfd61",
   "metadata": {},
   "outputs": [],
   "source": []
  }
 ],
 "metadata": {
  "kernelspec": {
   "display_name": "Python 3 (ipykernel)",
   "language": "python",
   "name": "python3"
  },
  "language_info": {
   "codemirror_mode": {
    "name": "ipython",
    "version": 3
   },
   "file_extension": ".py",
   "mimetype": "text/x-python",
   "name": "python",
   "nbconvert_exporter": "python",
   "pygments_lexer": "ipython3",
   "version": "3.9.7"
  }
 },
 "nbformat": 4,
 "nbformat_minor": 5
}
