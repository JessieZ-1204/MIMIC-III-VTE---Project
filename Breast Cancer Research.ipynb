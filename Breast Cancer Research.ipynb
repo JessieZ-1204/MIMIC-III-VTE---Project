{
 "cells": [
  {
   "cell_type": "markdown",
   "id": "7d3931e7",
   "metadata": {
    "tags": []
   },
   "source": [
    "# Load Dataset"
   ]
  },
  {
   "cell_type": "code",
   "execution_count": 1,
   "id": "1dc265b1",
   "metadata": {},
   "outputs": [],
   "source": [
    "# set up notebook\n",
    "import os\n",
    "import pandas as pd\n",
    "import numpy as np\n",
    "import matplotlib.pyplot as plt\n",
    "import sqlalchemy"
   ]
  },
  {
   "cell_type": "code",
   "execution_count": 2,
   "id": "01b630ad",
   "metadata": {},
   "outputs": [],
   "source": [
    "# read the admissions table\n",
    "df_adm = pd.read_csv('ADMISSIONS.csv')\n",
    "df_pat = pd.read_csv('PATIENTS.csv')\n",
    "df_icu = pd.read_csv('ICUSTAYS.csv')"
   ]
  },
  {
   "cell_type": "code",
   "execution_count": 3,
   "id": "38a0c230",
   "metadata": {},
   "outputs": [
    {
     "name": "stderr",
     "output_type": "stream",
     "text": [
      "/Users/kexinzhang/opt/anaconda3/lib/python3.9/site-packages/IPython/core/interactiveshell.py:3444: DtypeWarning: Columns (7,9,17,20,21) have mixed types.Specify dtype option on import or set low_memory=False.\n",
      "  exec(code_obj, self.user_global_ns, self.user_ns)\n"
     ]
    }
   ],
   "source": [
    "df_ineven = pd.read_csv('INPUTEVENTS_CV.csv')"
   ]
  },
  {
   "cell_type": "code",
   "execution_count": 5,
   "id": "90cd78bc-87de-48ed-92b4-0f9cb0e0b645",
   "metadata": {},
   "outputs": [],
   "source": [
    "#df_dicd_dia = pd.read_csv('D_ICD_DIAGNOSES.csv')"
   ]
  },
  {
   "cell_type": "code",
   "execution_count": 4,
   "id": "433f4356-fe2f-4636-bbc0-3206c58da258",
   "metadata": {},
   "outputs": [],
   "source": [
    "#df_proce = pd.read_csv('PROCEDUREEVENTS_MV.csv')"
   ]
  },
  {
   "cell_type": "code",
   "execution_count": 5,
   "id": "8942ad24-d3ad-4833-9dd8-4038358883c8",
   "metadata": {},
   "outputs": [],
   "source": [
    "df_dia_icd = pd.read_csv('DIAGNOSES_ICD.csv.gz', compression='gzip', header=0, sep=',', quotechar='\"')"
   ]
  },
  {
   "cell_type": "markdown",
   "id": "5bf67667-cfd0-4c99-8449-c64e612a78c6",
   "metadata": {
    "jp-MarkdownHeadingCollapsed": true,
    "tags": []
   },
   "source": [
    "# Count Number of Total People (Whole Data)"
   ]
  },
  {
   "cell_type": "code",
   "execution_count": 6,
   "id": "d14f2ea9-a655-41b5-af9a-8e33e5636047",
   "metadata": {},
   "outputs": [
    {
     "data": {
      "text/html": [
       "<div>\n",
       "<style scoped>\n",
       "    .dataframe tbody tr th:only-of-type {\n",
       "        vertical-align: middle;\n",
       "    }\n",
       "\n",
       "    .dataframe tbody tr th {\n",
       "        vertical-align: top;\n",
       "    }\n",
       "\n",
       "    .dataframe thead th {\n",
       "        text-align: right;\n",
       "    }\n",
       "</style>\n",
       "<table border=\"1\" class=\"dataframe\">\n",
       "  <thead>\n",
       "    <tr style=\"text-align: right;\">\n",
       "      <th></th>\n",
       "      <th>ROW_ID</th>\n",
       "      <th>SUBJECT_ID</th>\n",
       "      <th>GENDER</th>\n",
       "      <th>DOB</th>\n",
       "      <th>DOD</th>\n",
       "      <th>DOD_HOSP</th>\n",
       "      <th>DOD_SSN</th>\n",
       "      <th>EXPIRE_FLAG</th>\n",
       "    </tr>\n",
       "  </thead>\n",
       "  <tbody>\n",
       "    <tr>\n",
       "      <th>0</th>\n",
       "      <td>234</td>\n",
       "      <td>249</td>\n",
       "      <td>F</td>\n",
       "      <td>2075-03-13 00:00:00</td>\n",
       "      <td>NaN</td>\n",
       "      <td>NaN</td>\n",
       "      <td>NaN</td>\n",
       "      <td>0</td>\n",
       "    </tr>\n",
       "    <tr>\n",
       "      <th>1</th>\n",
       "      <td>235</td>\n",
       "      <td>250</td>\n",
       "      <td>F</td>\n",
       "      <td>2164-12-27 00:00:00</td>\n",
       "      <td>2188-11-22 00:00:00</td>\n",
       "      <td>2188-11-22 00:00:00</td>\n",
       "      <td>NaN</td>\n",
       "      <td>1</td>\n",
       "    </tr>\n",
       "    <tr>\n",
       "      <th>2</th>\n",
       "      <td>236</td>\n",
       "      <td>251</td>\n",
       "      <td>M</td>\n",
       "      <td>2090-03-15 00:00:00</td>\n",
       "      <td>NaN</td>\n",
       "      <td>NaN</td>\n",
       "      <td>NaN</td>\n",
       "      <td>0</td>\n",
       "    </tr>\n",
       "    <tr>\n",
       "      <th>3</th>\n",
       "      <td>237</td>\n",
       "      <td>252</td>\n",
       "      <td>M</td>\n",
       "      <td>2078-03-06 00:00:00</td>\n",
       "      <td>NaN</td>\n",
       "      <td>NaN</td>\n",
       "      <td>NaN</td>\n",
       "      <td>0</td>\n",
       "    </tr>\n",
       "    <tr>\n",
       "      <th>4</th>\n",
       "      <td>238</td>\n",
       "      <td>253</td>\n",
       "      <td>F</td>\n",
       "      <td>2089-11-26 00:00:00</td>\n",
       "      <td>NaN</td>\n",
       "      <td>NaN</td>\n",
       "      <td>NaN</td>\n",
       "      <td>0</td>\n",
       "    </tr>\n",
       "  </tbody>\n",
       "</table>\n",
       "</div>"
      ],
      "text/plain": [
       "   ROW_ID  SUBJECT_ID GENDER                  DOB                  DOD  \\\n",
       "0     234         249      F  2075-03-13 00:00:00                  NaN   \n",
       "1     235         250      F  2164-12-27 00:00:00  2188-11-22 00:00:00   \n",
       "2     236         251      M  2090-03-15 00:00:00                  NaN   \n",
       "3     237         252      M  2078-03-06 00:00:00                  NaN   \n",
       "4     238         253      F  2089-11-26 00:00:00                  NaN   \n",
       "\n",
       "              DOD_HOSP DOD_SSN  EXPIRE_FLAG  \n",
       "0                  NaN     NaN            0  \n",
       "1  2188-11-22 00:00:00     NaN            1  \n",
       "2                  NaN     NaN            0  \n",
       "3                  NaN     NaN            0  \n",
       "4                  NaN     NaN            0  "
      ]
     },
     "execution_count": 6,
     "metadata": {},
     "output_type": "execute_result"
    }
   ],
   "source": [
    "df_pat.head()"
   ]
  },
  {
   "cell_type": "code",
   "execution_count": 7,
   "id": "e4081f94-dc1d-44fc-9129-594e9c8788c6",
   "metadata": {},
   "outputs": [
    {
     "data": {
      "text/plain": [
       "M    26121\n",
       "F    20399\n",
       "Name: GENDER, dtype: int64"
      ]
     },
     "execution_count": 7,
     "metadata": {},
     "output_type": "execute_result"
    }
   ],
   "source": [
    "df_pat.GENDER.value_counts()"
   ]
  },
  {
   "cell_type": "code",
   "execution_count": 8,
   "id": "5ed5289d-c929-430c-8fc4-096c11ff9b6b",
   "metadata": {},
   "outputs": [
    {
     "name": "stdout",
     "output_type": "stream",
     "text": [
      "Total number of patient is : 46520\n"
     ]
    }
   ],
   "source": [
    "gender_total = df_pat.SUBJECT_ID.nunique()\n",
    "print(\"Total number of patient is :\", gender_total )"
   ]
  },
  {
   "cell_type": "markdown",
   "id": "99ff5d8e-87a2-44f9-a61d-ba04bc71d46b",
   "metadata": {},
   "source": [
    "#### Convert dates"
   ]
  },
  {
   "cell_type": "code",
   "execution_count": 9,
   "id": "3504f349-78fd-401f-bbba-6aa1ed4530c5",
   "metadata": {},
   "outputs": [],
   "source": [
    "#df_pat.DOB = pd.to_datetime(df_pat.DOB, format = '%Y-%m-%d %H:%M:%S', errors = 'coerce')\n",
    "#df_pat.DOD = pd.to_datetime(df_pat.DOD, format = '%Y-%m-%d %H:%M:%S', errors = 'coerce')\n",
    "#df_adm.ADMITTIME = pd.to_datetime(df_adm.ADMITTIME, format = '%Y-%m-%d %H:%M:%S', errors = 'coerce')\n",
    "\n",
    "#df_pat.DOB = pd.to_datetime(df_pat.DOB).dt.date\n",
    "#df_adm.ADMITTIME = pd.to_datetime(df_adm.ADMITTIME).dt.date\n",
    "\n",
    "#type(df_pat.DOB[1])"
   ]
  },
  {
   "cell_type": "code",
   "execution_count": 10,
   "id": "d5a499da-5c58-4503-a15e-824a45326791",
   "metadata": {},
   "outputs": [
    {
     "data": {
      "text/html": [
       "<div>\n",
       "<style scoped>\n",
       "    .dataframe tbody tr th:only-of-type {\n",
       "        vertical-align: middle;\n",
       "    }\n",
       "\n",
       "    .dataframe tbody tr th {\n",
       "        vertical-align: top;\n",
       "    }\n",
       "\n",
       "    .dataframe thead th {\n",
       "        text-align: right;\n",
       "    }\n",
       "</style>\n",
       "<table border=\"1\" class=\"dataframe\">\n",
       "  <thead>\n",
       "    <tr style=\"text-align: right;\">\n",
       "      <th></th>\n",
       "      <th>ROW_ID</th>\n",
       "      <th>SUBJECT_ID</th>\n",
       "      <th>GENDER</th>\n",
       "      <th>DOB</th>\n",
       "      <th>DOD</th>\n",
       "      <th>DOD_HOSP</th>\n",
       "      <th>DOD_SSN</th>\n",
       "      <th>EXPIRE_FLAG</th>\n",
       "    </tr>\n",
       "  </thead>\n",
       "  <tbody>\n",
       "    <tr>\n",
       "      <th>222</th>\n",
       "      <td>1</td>\n",
       "      <td>2</td>\n",
       "      <td>M</td>\n",
       "      <td>2138-07-17 00:00:00</td>\n",
       "      <td>NaN</td>\n",
       "      <td>NaN</td>\n",
       "      <td>NaN</td>\n",
       "      <td>0</td>\n",
       "    </tr>\n",
       "    <tr>\n",
       "      <th>223</th>\n",
       "      <td>2</td>\n",
       "      <td>3</td>\n",
       "      <td>M</td>\n",
       "      <td>2025-04-11 00:00:00</td>\n",
       "      <td>2102-06-14 00:00:00</td>\n",
       "      <td>NaN</td>\n",
       "      <td>2102-06-14 00:00:00</td>\n",
       "      <td>1</td>\n",
       "    </tr>\n",
       "    <tr>\n",
       "      <th>224</th>\n",
       "      <td>3</td>\n",
       "      <td>4</td>\n",
       "      <td>F</td>\n",
       "      <td>2143-05-12 00:00:00</td>\n",
       "      <td>NaN</td>\n",
       "      <td>NaN</td>\n",
       "      <td>NaN</td>\n",
       "      <td>0</td>\n",
       "    </tr>\n",
       "    <tr>\n",
       "      <th>225</th>\n",
       "      <td>4</td>\n",
       "      <td>5</td>\n",
       "      <td>M</td>\n",
       "      <td>2103-02-02 00:00:00</td>\n",
       "      <td>NaN</td>\n",
       "      <td>NaN</td>\n",
       "      <td>NaN</td>\n",
       "      <td>0</td>\n",
       "    </tr>\n",
       "    <tr>\n",
       "      <th>226</th>\n",
       "      <td>5</td>\n",
       "      <td>6</td>\n",
       "      <td>F</td>\n",
       "      <td>2109-06-21 00:00:00</td>\n",
       "      <td>NaN</td>\n",
       "      <td>NaN</td>\n",
       "      <td>NaN</td>\n",
       "      <td>0</td>\n",
       "    </tr>\n",
       "    <tr>\n",
       "      <th>...</th>\n",
       "      <td>...</td>\n",
       "      <td>...</td>\n",
       "      <td>...</td>\n",
       "      <td>...</td>\n",
       "      <td>...</td>\n",
       "      <td>...</td>\n",
       "      <td>...</td>\n",
       "      <td>...</td>\n",
       "    </tr>\n",
       "    <tr>\n",
       "      <th>41091</th>\n",
       "      <td>46516</td>\n",
       "      <td>99985</td>\n",
       "      <td>M</td>\n",
       "      <td>2127-04-08 00:00:00</td>\n",
       "      <td>NaN</td>\n",
       "      <td>NaN</td>\n",
       "      <td>NaN</td>\n",
       "      <td>0</td>\n",
       "    </tr>\n",
       "    <tr>\n",
       "      <th>41092</th>\n",
       "      <td>46517</td>\n",
       "      <td>99991</td>\n",
       "      <td>M</td>\n",
       "      <td>2137-04-07 00:00:00</td>\n",
       "      <td>NaN</td>\n",
       "      <td>NaN</td>\n",
       "      <td>NaN</td>\n",
       "      <td>0</td>\n",
       "    </tr>\n",
       "    <tr>\n",
       "      <th>41093</th>\n",
       "      <td>46518</td>\n",
       "      <td>99992</td>\n",
       "      <td>F</td>\n",
       "      <td>2078-10-17 00:00:00</td>\n",
       "      <td>NaN</td>\n",
       "      <td>NaN</td>\n",
       "      <td>NaN</td>\n",
       "      <td>0</td>\n",
       "    </tr>\n",
       "    <tr>\n",
       "      <th>41094</th>\n",
       "      <td>46519</td>\n",
       "      <td>99995</td>\n",
       "      <td>F</td>\n",
       "      <td>2058-05-29 00:00:00</td>\n",
       "      <td>2147-09-29 00:00:00</td>\n",
       "      <td>NaN</td>\n",
       "      <td>2147-09-29 00:00:00</td>\n",
       "      <td>1</td>\n",
       "    </tr>\n",
       "    <tr>\n",
       "      <th>41095</th>\n",
       "      <td>46520</td>\n",
       "      <td>99999</td>\n",
       "      <td>F</td>\n",
       "      <td>2054-01-06 00:00:00</td>\n",
       "      <td>NaN</td>\n",
       "      <td>NaN</td>\n",
       "      <td>NaN</td>\n",
       "      <td>0</td>\n",
       "    </tr>\n",
       "  </tbody>\n",
       "</table>\n",
       "<p>46520 rows × 8 columns</p>\n",
       "</div>"
      ],
      "text/plain": [
       "       ROW_ID  SUBJECT_ID GENDER                  DOB                  DOD  \\\n",
       "222         1           2      M  2138-07-17 00:00:00                  NaN   \n",
       "223         2           3      M  2025-04-11 00:00:00  2102-06-14 00:00:00   \n",
       "224         3           4      F  2143-05-12 00:00:00                  NaN   \n",
       "225         4           5      M  2103-02-02 00:00:00                  NaN   \n",
       "226         5           6      F  2109-06-21 00:00:00                  NaN   \n",
       "...       ...         ...    ...                  ...                  ...   \n",
       "41091   46516       99985      M  2127-04-08 00:00:00                  NaN   \n",
       "41092   46517       99991      M  2137-04-07 00:00:00                  NaN   \n",
       "41093   46518       99992      F  2078-10-17 00:00:00                  NaN   \n",
       "41094   46519       99995      F  2058-05-29 00:00:00  2147-09-29 00:00:00   \n",
       "41095   46520       99999      F  2054-01-06 00:00:00                  NaN   \n",
       "\n",
       "      DOD_HOSP              DOD_SSN  EXPIRE_FLAG  \n",
       "222        NaN                  NaN            0  \n",
       "223        NaN  2102-06-14 00:00:00            1  \n",
       "224        NaN                  NaN            0  \n",
       "225        NaN                  NaN            0  \n",
       "226        NaN                  NaN            0  \n",
       "...        ...                  ...          ...  \n",
       "41091      NaN                  NaN            0  \n",
       "41092      NaN                  NaN            0  \n",
       "41093      NaN                  NaN            0  \n",
       "41094      NaN  2147-09-29 00:00:00            1  \n",
       "41095      NaN                  NaN            0  \n",
       "\n",
       "[46520 rows x 8 columns]"
      ]
     },
     "execution_count": 10,
     "metadata": {},
     "output_type": "execute_result"
    }
   ],
   "source": [
    "df_pat.sort_values(by=['SUBJECT_ID'])"
   ]
  },
  {
   "cell_type": "markdown",
   "id": "e1f7cdb9-2a81-46f9-8e9e-399932aeef9c",
   "metadata": {
    "jp-MarkdownHeadingCollapsed": true,
    "tags": []
   },
   "source": [
    "# Count Ethnicity, Marital status, and Admission type (Whole Data)"
   ]
  },
  {
   "cell_type": "code",
   "execution_count": 11,
   "id": "5d43be0a-e984-462f-b12f-b02a271688e8",
   "metadata": {},
   "outputs": [
    {
     "name": "stderr",
     "output_type": "stream",
     "text": [
      "/var/folders/73/37k4t3k50d7gry5vs9_z5yth0000gn/T/ipykernel_66635/2112481919.py:3: FutureWarning: The default value of regex will change from True to False in a future version.\n",
      "  df_adm['ETHNICITY'] = df_adm['ETHNICITY'].str.replace(regex_black, 'BLACK')\n",
      "/var/folders/73/37k4t3k50d7gry5vs9_z5yth0000gn/T/ipykernel_66635/2112481919.py:6: FutureWarning: The default value of regex will change from True to False in a future version.\n",
      "  df_adm['ETHNICITY'] = df_adm['ETHNICITY'].str.replace(regx_white, 'WHITE')\n",
      "/var/folders/73/37k4t3k50d7gry5vs9_z5yth0000gn/T/ipykernel_66635/2112481919.py:9: FutureWarning: The default value of regex will change from True to False in a future version.\n",
      "  df_adm['ETHNICITY'] = df_adm['ETHNICITY'].str.replace(regx_asian, 'ASIAN')\n",
      "/var/folders/73/37k4t3k50d7gry5vs9_z5yth0000gn/T/ipykernel_66635/2112481919.py:12: FutureWarning: The default value of regex will change from True to False in a future version.\n",
      "  df_adm['ETHNICITY'] = df_adm['ETHNICITY'].str.replace(regx_hispanic, 'HISPANIC OR LATINO')\n"
     ]
    }
   ],
   "source": [
    "# Summarize Ethnicity\n",
    "regex_black = '(BLACK(/| )([A-Z]| )*)'\n",
    "df_adm['ETHNICITY'] = df_adm['ETHNICITY'].str.replace(regex_black, 'BLACK')\n",
    "\n",
    "regx_white = '(WHITE - [A-Z ]*)'\n",
    "df_adm['ETHNICITY'] = df_adm['ETHNICITY'].str.replace(regx_white, 'WHITE')\n",
    "\n",
    "regx_asian = '(ASIAN (- )?[A-Z ]*)'\n",
    "df_adm['ETHNICITY'] = df_adm['ETHNICITY'].str.replace(regx_asian, 'ASIAN')\n",
    "\n",
    "regx_hispanic = '(HISPANIC/LATINO - [A-Z \\(\\)]*)|(HISPANIC OR LATINO([A-Z \\(\\)]*))'\n",
    "df_adm['ETHNICITY'] = df_adm['ETHNICITY'].str.replace(regx_hispanic, 'HISPANIC OR LATINO')"
   ]
  },
  {
   "cell_type": "markdown",
   "id": "3db0e91f-99cf-4e41-9b21-2c2c1665f545",
   "metadata": {},
   "source": [
    "#### Dropping Duplicate Subject_id"
   ]
  },
  {
   "cell_type": "code",
   "execution_count": 12,
   "id": "16fc3cf4-5ef5-4b63-92b4-77c9143c20f2",
   "metadata": {},
   "outputs": [],
   "source": [
    "df_uniadm = df_adm.drop_duplicates(subset=[\"SUBJECT_ID\"], keep='last')"
   ]
  },
  {
   "cell_type": "code",
   "execution_count": 13,
   "id": "17e0d1e5-0816-4158-9249-94ca351834ee",
   "metadata": {},
   "outputs": [
    {
     "data": {
      "text/html": [
       "<div>\n",
       "<style scoped>\n",
       "    .dataframe tbody tr th:only-of-type {\n",
       "        vertical-align: middle;\n",
       "    }\n",
       "\n",
       "    .dataframe tbody tr th {\n",
       "        vertical-align: top;\n",
       "    }\n",
       "\n",
       "    .dataframe thead th {\n",
       "        text-align: right;\n",
       "    }\n",
       "</style>\n",
       "<table border=\"1\" class=\"dataframe\">\n",
       "  <thead>\n",
       "    <tr style=\"text-align: right;\">\n",
       "      <th></th>\n",
       "      <th>ROW_ID</th>\n",
       "      <th>SUBJECT_ID</th>\n",
       "      <th>HADM_ID</th>\n",
       "      <th>ADMITTIME</th>\n",
       "      <th>DISCHTIME</th>\n",
       "      <th>DEATHTIME</th>\n",
       "      <th>ADMISSION_TYPE</th>\n",
       "      <th>ADMISSION_LOCATION</th>\n",
       "      <th>DISCHARGE_LOCATION</th>\n",
       "      <th>INSURANCE</th>\n",
       "      <th>LANGUAGE</th>\n",
       "      <th>RELIGION</th>\n",
       "      <th>MARITAL_STATUS</th>\n",
       "      <th>ETHNICITY</th>\n",
       "      <th>EDREGTIME</th>\n",
       "      <th>EDOUTTIME</th>\n",
       "      <th>DIAGNOSIS</th>\n",
       "      <th>HOSPITAL_EXPIRE_FLAG</th>\n",
       "      <th>HAS_CHARTEVENTS_DATA</th>\n",
       "    </tr>\n",
       "  </thead>\n",
       "  <tbody>\n",
       "    <tr>\n",
       "      <th>211</th>\n",
       "      <td>1</td>\n",
       "      <td>2</td>\n",
       "      <td>163353</td>\n",
       "      <td>2138-07-17 19:04:00</td>\n",
       "      <td>2138-07-21 15:48:00</td>\n",
       "      <td>NaN</td>\n",
       "      <td>NEWBORN</td>\n",
       "      <td>PHYS REFERRAL/NORMAL DELI</td>\n",
       "      <td>HOME</td>\n",
       "      <td>Private</td>\n",
       "      <td>NaN</td>\n",
       "      <td>NOT SPECIFIED</td>\n",
       "      <td>NaN</td>\n",
       "      <td>ASIAN</td>\n",
       "      <td>NaN</td>\n",
       "      <td>NaN</td>\n",
       "      <td>NEWBORN</td>\n",
       "      <td>0</td>\n",
       "      <td>1</td>\n",
       "    </tr>\n",
       "    <tr>\n",
       "      <th>212</th>\n",
       "      <td>2</td>\n",
       "      <td>3</td>\n",
       "      <td>145834</td>\n",
       "      <td>2101-10-20 19:08:00</td>\n",
       "      <td>2101-10-31 13:58:00</td>\n",
       "      <td>NaN</td>\n",
       "      <td>EMERGENCY</td>\n",
       "      <td>EMERGENCY ROOM ADMIT</td>\n",
       "      <td>SNF</td>\n",
       "      <td>Medicare</td>\n",
       "      <td>NaN</td>\n",
       "      <td>CATHOLIC</td>\n",
       "      <td>MARRIED</td>\n",
       "      <td>WHITE</td>\n",
       "      <td>2101-10-20 17:09:00</td>\n",
       "      <td>2101-10-20 19:24:00</td>\n",
       "      <td>HYPOTENSION</td>\n",
       "      <td>0</td>\n",
       "      <td>1</td>\n",
       "    </tr>\n",
       "    <tr>\n",
       "      <th>213</th>\n",
       "      <td>3</td>\n",
       "      <td>4</td>\n",
       "      <td>185777</td>\n",
       "      <td>2191-03-16 00:28:00</td>\n",
       "      <td>2191-03-23 18:41:00</td>\n",
       "      <td>NaN</td>\n",
       "      <td>EMERGENCY</td>\n",
       "      <td>EMERGENCY ROOM ADMIT</td>\n",
       "      <td>HOME WITH HOME IV PROVIDR</td>\n",
       "      <td>Private</td>\n",
       "      <td>NaN</td>\n",
       "      <td>PROTESTANT QUAKER</td>\n",
       "      <td>SINGLE</td>\n",
       "      <td>WHITE</td>\n",
       "      <td>2191-03-15 13:10:00</td>\n",
       "      <td>2191-03-16 01:10:00</td>\n",
       "      <td>FEVER,DEHYDRATION,FAILURE TO THRIVE</td>\n",
       "      <td>0</td>\n",
       "      <td>1</td>\n",
       "    </tr>\n",
       "    <tr>\n",
       "      <th>214</th>\n",
       "      <td>4</td>\n",
       "      <td>5</td>\n",
       "      <td>178980</td>\n",
       "      <td>2103-02-02 04:31:00</td>\n",
       "      <td>2103-02-04 12:15:00</td>\n",
       "      <td>NaN</td>\n",
       "      <td>NEWBORN</td>\n",
       "      <td>PHYS REFERRAL/NORMAL DELI</td>\n",
       "      <td>HOME</td>\n",
       "      <td>Private</td>\n",
       "      <td>NaN</td>\n",
       "      <td>BUDDHIST</td>\n",
       "      <td>NaN</td>\n",
       "      <td>ASIAN</td>\n",
       "      <td>NaN</td>\n",
       "      <td>NaN</td>\n",
       "      <td>NEWBORN</td>\n",
       "      <td>0</td>\n",
       "      <td>1</td>\n",
       "    </tr>\n",
       "    <tr>\n",
       "      <th>215</th>\n",
       "      <td>5</td>\n",
       "      <td>6</td>\n",
       "      <td>107064</td>\n",
       "      <td>2175-05-30 07:15:00</td>\n",
       "      <td>2175-06-15 16:00:00</td>\n",
       "      <td>NaN</td>\n",
       "      <td>ELECTIVE</td>\n",
       "      <td>PHYS REFERRAL/NORMAL DELI</td>\n",
       "      <td>HOME HEALTH CARE</td>\n",
       "      <td>Medicare</td>\n",
       "      <td>ENGL</td>\n",
       "      <td>NOT SPECIFIED</td>\n",
       "      <td>MARRIED</td>\n",
       "      <td>WHITE</td>\n",
       "      <td>NaN</td>\n",
       "      <td>NaN</td>\n",
       "      <td>CHRONIC RENAL FAILURE/SDA</td>\n",
       "      <td>0</td>\n",
       "      <td>1</td>\n",
       "    </tr>\n",
       "    <tr>\n",
       "      <th>...</th>\n",
       "      <td>...</td>\n",
       "      <td>...</td>\n",
       "      <td>...</td>\n",
       "      <td>...</td>\n",
       "      <td>...</td>\n",
       "      <td>...</td>\n",
       "      <td>...</td>\n",
       "      <td>...</td>\n",
       "      <td>...</td>\n",
       "      <td>...</td>\n",
       "      <td>...</td>\n",
       "      <td>...</td>\n",
       "      <td>...</td>\n",
       "      <td>...</td>\n",
       "      <td>...</td>\n",
       "      <td>...</td>\n",
       "      <td>...</td>\n",
       "      <td>...</td>\n",
       "      <td>...</td>\n",
       "    </tr>\n",
       "    <tr>\n",
       "      <th>56435</th>\n",
       "      <td>58972</td>\n",
       "      <td>99985</td>\n",
       "      <td>176670</td>\n",
       "      <td>2181-01-27 02:47:00</td>\n",
       "      <td>2181-02-12 17:05:00</td>\n",
       "      <td>NaN</td>\n",
       "      <td>EMERGENCY</td>\n",
       "      <td>EMERGENCY ROOM ADMIT</td>\n",
       "      <td>HOME HEALTH CARE</td>\n",
       "      <td>Private</td>\n",
       "      <td>ENGL</td>\n",
       "      <td>JEWISH</td>\n",
       "      <td>MARRIED</td>\n",
       "      <td>WHITE</td>\n",
       "      <td>2181-01-26 23:35:00</td>\n",
       "      <td>2181-01-27 04:18:00</td>\n",
       "      <td>FEVER</td>\n",
       "      <td>0</td>\n",
       "      <td>1</td>\n",
       "    </tr>\n",
       "    <tr>\n",
       "      <th>56436</th>\n",
       "      <td>58973</td>\n",
       "      <td>99991</td>\n",
       "      <td>151118</td>\n",
       "      <td>2184-12-24 08:30:00</td>\n",
       "      <td>2185-01-05 12:15:00</td>\n",
       "      <td>NaN</td>\n",
       "      <td>ELECTIVE</td>\n",
       "      <td>PHYS REFERRAL/NORMAL DELI</td>\n",
       "      <td>HOME</td>\n",
       "      <td>Private</td>\n",
       "      <td>ENGL</td>\n",
       "      <td>NOT SPECIFIED</td>\n",
       "      <td>MARRIED</td>\n",
       "      <td>WHITE</td>\n",
       "      <td>NaN</td>\n",
       "      <td>NaN</td>\n",
       "      <td>DIVERTICULITIS/SDA</td>\n",
       "      <td>0</td>\n",
       "      <td>1</td>\n",
       "    </tr>\n",
       "    <tr>\n",
       "      <th>56437</th>\n",
       "      <td>58974</td>\n",
       "      <td>99992</td>\n",
       "      <td>197084</td>\n",
       "      <td>2144-07-25 18:03:00</td>\n",
       "      <td>2144-07-28 17:56:00</td>\n",
       "      <td>NaN</td>\n",
       "      <td>EMERGENCY</td>\n",
       "      <td>CLINIC REFERRAL/PREMATURE</td>\n",
       "      <td>SNF</td>\n",
       "      <td>Medicare</td>\n",
       "      <td>ENGL</td>\n",
       "      <td>CATHOLIC</td>\n",
       "      <td>WIDOWED</td>\n",
       "      <td>WHITE</td>\n",
       "      <td>2144-07-25 13:40:00</td>\n",
       "      <td>2144-07-25 18:50:00</td>\n",
       "      <td>RETROPERITONEAL HEMORRHAGE</td>\n",
       "      <td>0</td>\n",
       "      <td>1</td>\n",
       "    </tr>\n",
       "    <tr>\n",
       "      <th>56565</th>\n",
       "      <td>58975</td>\n",
       "      <td>99995</td>\n",
       "      <td>137810</td>\n",
       "      <td>2147-02-08 08:00:00</td>\n",
       "      <td>2147-02-11 13:15:00</td>\n",
       "      <td>NaN</td>\n",
       "      <td>ELECTIVE</td>\n",
       "      <td>PHYS REFERRAL/NORMAL DELI</td>\n",
       "      <td>HOME</td>\n",
       "      <td>Medicare</td>\n",
       "      <td>ENGL</td>\n",
       "      <td>NOT SPECIFIED</td>\n",
       "      <td>MARRIED</td>\n",
       "      <td>WHITE</td>\n",
       "      <td>NaN</td>\n",
       "      <td>NaN</td>\n",
       "      <td>ABDOMINAL AORTIC ANEURYSM/SDA</td>\n",
       "      <td>0</td>\n",
       "      <td>1</td>\n",
       "    </tr>\n",
       "    <tr>\n",
       "      <th>56566</th>\n",
       "      <td>58976</td>\n",
       "      <td>99999</td>\n",
       "      <td>113369</td>\n",
       "      <td>2117-12-30 07:15:00</td>\n",
       "      <td>2118-01-04 16:30:00</td>\n",
       "      <td>NaN</td>\n",
       "      <td>ELECTIVE</td>\n",
       "      <td>PHYS REFERRAL/NORMAL DELI</td>\n",
       "      <td>SNF</td>\n",
       "      <td>Medicare</td>\n",
       "      <td>SPAN</td>\n",
       "      <td>JEHOVAH'S WITNESS</td>\n",
       "      <td>SEPARATED</td>\n",
       "      <td>HISPANIC OR LATINO</td>\n",
       "      <td>NaN</td>\n",
       "      <td>NaN</td>\n",
       "      <td>SPONDYLOLISTHESIS/SDA</td>\n",
       "      <td>0</td>\n",
       "      <td>1</td>\n",
       "    </tr>\n",
       "  </tbody>\n",
       "</table>\n",
       "<p>46520 rows × 19 columns</p>\n",
       "</div>"
      ],
      "text/plain": [
       "       ROW_ID  SUBJECT_ID  HADM_ID            ADMITTIME            DISCHTIME  \\\n",
       "211         1           2   163353  2138-07-17 19:04:00  2138-07-21 15:48:00   \n",
       "212         2           3   145834  2101-10-20 19:08:00  2101-10-31 13:58:00   \n",
       "213         3           4   185777  2191-03-16 00:28:00  2191-03-23 18:41:00   \n",
       "214         4           5   178980  2103-02-02 04:31:00  2103-02-04 12:15:00   \n",
       "215         5           6   107064  2175-05-30 07:15:00  2175-06-15 16:00:00   \n",
       "...       ...         ...      ...                  ...                  ...   \n",
       "56435   58972       99985   176670  2181-01-27 02:47:00  2181-02-12 17:05:00   \n",
       "56436   58973       99991   151118  2184-12-24 08:30:00  2185-01-05 12:15:00   \n",
       "56437   58974       99992   197084  2144-07-25 18:03:00  2144-07-28 17:56:00   \n",
       "56565   58975       99995   137810  2147-02-08 08:00:00  2147-02-11 13:15:00   \n",
       "56566   58976       99999   113369  2117-12-30 07:15:00  2118-01-04 16:30:00   \n",
       "\n",
       "      DEATHTIME ADMISSION_TYPE         ADMISSION_LOCATION  \\\n",
       "211         NaN        NEWBORN  PHYS REFERRAL/NORMAL DELI   \n",
       "212         NaN      EMERGENCY       EMERGENCY ROOM ADMIT   \n",
       "213         NaN      EMERGENCY       EMERGENCY ROOM ADMIT   \n",
       "214         NaN        NEWBORN  PHYS REFERRAL/NORMAL DELI   \n",
       "215         NaN       ELECTIVE  PHYS REFERRAL/NORMAL DELI   \n",
       "...         ...            ...                        ...   \n",
       "56435       NaN      EMERGENCY       EMERGENCY ROOM ADMIT   \n",
       "56436       NaN       ELECTIVE  PHYS REFERRAL/NORMAL DELI   \n",
       "56437       NaN      EMERGENCY  CLINIC REFERRAL/PREMATURE   \n",
       "56565       NaN       ELECTIVE  PHYS REFERRAL/NORMAL DELI   \n",
       "56566       NaN       ELECTIVE  PHYS REFERRAL/NORMAL DELI   \n",
       "\n",
       "              DISCHARGE_LOCATION INSURANCE LANGUAGE           RELIGION  \\\n",
       "211                         HOME   Private      NaN      NOT SPECIFIED   \n",
       "212                          SNF  Medicare      NaN           CATHOLIC   \n",
       "213    HOME WITH HOME IV PROVIDR   Private      NaN  PROTESTANT QUAKER   \n",
       "214                         HOME   Private      NaN           BUDDHIST   \n",
       "215             HOME HEALTH CARE  Medicare     ENGL      NOT SPECIFIED   \n",
       "...                          ...       ...      ...                ...   \n",
       "56435           HOME HEALTH CARE   Private     ENGL             JEWISH   \n",
       "56436                       HOME   Private     ENGL      NOT SPECIFIED   \n",
       "56437                        SNF  Medicare     ENGL           CATHOLIC   \n",
       "56565                       HOME  Medicare     ENGL      NOT SPECIFIED   \n",
       "56566                        SNF  Medicare     SPAN  JEHOVAH'S WITNESS   \n",
       "\n",
       "      MARITAL_STATUS           ETHNICITY            EDREGTIME  \\\n",
       "211              NaN               ASIAN                  NaN   \n",
       "212          MARRIED               WHITE  2101-10-20 17:09:00   \n",
       "213           SINGLE               WHITE  2191-03-15 13:10:00   \n",
       "214              NaN               ASIAN                  NaN   \n",
       "215          MARRIED               WHITE                  NaN   \n",
       "...              ...                 ...                  ...   \n",
       "56435        MARRIED               WHITE  2181-01-26 23:35:00   \n",
       "56436        MARRIED               WHITE                  NaN   \n",
       "56437        WIDOWED               WHITE  2144-07-25 13:40:00   \n",
       "56565        MARRIED               WHITE                  NaN   \n",
       "56566      SEPARATED  HISPANIC OR LATINO                  NaN   \n",
       "\n",
       "                 EDOUTTIME                            DIAGNOSIS  \\\n",
       "211                    NaN                              NEWBORN   \n",
       "212    2101-10-20 19:24:00                          HYPOTENSION   \n",
       "213    2191-03-16 01:10:00  FEVER,DEHYDRATION,FAILURE TO THRIVE   \n",
       "214                    NaN                              NEWBORN   \n",
       "215                    NaN            CHRONIC RENAL FAILURE/SDA   \n",
       "...                    ...                                  ...   \n",
       "56435  2181-01-27 04:18:00                                FEVER   \n",
       "56436                  NaN                   DIVERTICULITIS/SDA   \n",
       "56437  2144-07-25 18:50:00           RETROPERITONEAL HEMORRHAGE   \n",
       "56565                  NaN        ABDOMINAL AORTIC ANEURYSM/SDA   \n",
       "56566                  NaN                SPONDYLOLISTHESIS/SDA   \n",
       "\n",
       "       HOSPITAL_EXPIRE_FLAG  HAS_CHARTEVENTS_DATA  \n",
       "211                       0                     1  \n",
       "212                       0                     1  \n",
       "213                       0                     1  \n",
       "214                       0                     1  \n",
       "215                       0                     1  \n",
       "...                     ...                   ...  \n",
       "56435                     0                     1  \n",
       "56436                     0                     1  \n",
       "56437                     0                     1  \n",
       "56565                     0                     1  \n",
       "56566                     0                     1  \n",
       "\n",
       "[46520 rows x 19 columns]"
      ]
     },
     "execution_count": 13,
     "metadata": {},
     "output_type": "execute_result"
    }
   ],
   "source": [
    "df_uniadm.sort_values(by=['SUBJECT_ID'])"
   ]
  },
  {
   "cell_type": "markdown",
   "id": "6a6239e8-04c6-4215-a952-113aa10611d1",
   "metadata": {},
   "source": [
    "#### Combine patient and admission df"
   ]
  },
  {
   "cell_type": "code",
   "execution_count": 14,
   "id": "4e093a67-74a0-4da5-9b72-3a32447a28a0",
   "metadata": {},
   "outputs": [],
   "source": [
    "df_merge=pd.merge(df_pat, df_uniadm, how='outer', on='SUBJECT_ID')"
   ]
  },
  {
   "cell_type": "code",
   "execution_count": 15,
   "id": "16536122-0930-4a6f-842d-fdcb19c79bd4",
   "metadata": {},
   "outputs": [
    {
     "data": {
      "text/html": [
       "<div>\n",
       "<style scoped>\n",
       "    .dataframe tbody tr th:only-of-type {\n",
       "        vertical-align: middle;\n",
       "    }\n",
       "\n",
       "    .dataframe tbody tr th {\n",
       "        vertical-align: top;\n",
       "    }\n",
       "\n",
       "    .dataframe thead th {\n",
       "        text-align: right;\n",
       "    }\n",
       "</style>\n",
       "<table border=\"1\" class=\"dataframe\">\n",
       "  <thead>\n",
       "    <tr style=\"text-align: right;\">\n",
       "      <th></th>\n",
       "      <th>ROW_ID_x</th>\n",
       "      <th>SUBJECT_ID</th>\n",
       "      <th>GENDER</th>\n",
       "      <th>DOB</th>\n",
       "      <th>DOD</th>\n",
       "      <th>DOD_HOSP</th>\n",
       "      <th>DOD_SSN</th>\n",
       "      <th>EXPIRE_FLAG</th>\n",
       "      <th>ROW_ID_y</th>\n",
       "      <th>HADM_ID</th>\n",
       "      <th>...</th>\n",
       "      <th>INSURANCE</th>\n",
       "      <th>LANGUAGE</th>\n",
       "      <th>RELIGION</th>\n",
       "      <th>MARITAL_STATUS</th>\n",
       "      <th>ETHNICITY</th>\n",
       "      <th>EDREGTIME</th>\n",
       "      <th>EDOUTTIME</th>\n",
       "      <th>DIAGNOSIS</th>\n",
       "      <th>HOSPITAL_EXPIRE_FLAG</th>\n",
       "      <th>HAS_CHARTEVENTS_DATA</th>\n",
       "    </tr>\n",
       "  </thead>\n",
       "  <tbody>\n",
       "    <tr>\n",
       "      <th>0</th>\n",
       "      <td>234</td>\n",
       "      <td>249</td>\n",
       "      <td>F</td>\n",
       "      <td>2075-03-13 00:00:00</td>\n",
       "      <td>NaN</td>\n",
       "      <td>NaN</td>\n",
       "      <td>NaN</td>\n",
       "      <td>0</td>\n",
       "      <td>323</td>\n",
       "      <td>158975</td>\n",
       "      <td>...</td>\n",
       "      <td>Medicare</td>\n",
       "      <td>ENGL</td>\n",
       "      <td>CATHOLIC</td>\n",
       "      <td>DIVORCED</td>\n",
       "      <td>WHITE</td>\n",
       "      <td>NaN</td>\n",
       "      <td>NaN</td>\n",
       "      <td>GI BLEEDING\\COLONOSCOPY</td>\n",
       "      <td>0</td>\n",
       "      <td>1</td>\n",
       "    </tr>\n",
       "    <tr>\n",
       "      <th>1</th>\n",
       "      <td>235</td>\n",
       "      <td>250</td>\n",
       "      <td>F</td>\n",
       "      <td>2164-12-27 00:00:00</td>\n",
       "      <td>2188-11-22 00:00:00</td>\n",
       "      <td>2188-11-22 00:00:00</td>\n",
       "      <td>NaN</td>\n",
       "      <td>1</td>\n",
       "      <td>324</td>\n",
       "      <td>124271</td>\n",
       "      <td>...</td>\n",
       "      <td>Self Pay</td>\n",
       "      <td>HAIT</td>\n",
       "      <td>NOT SPECIFIED</td>\n",
       "      <td>SINGLE</td>\n",
       "      <td>BLACK</td>\n",
       "      <td>2188-11-12 06:56:00</td>\n",
       "      <td>2188-11-12 10:10:00</td>\n",
       "      <td>PNEUMONIA;R/O TB</td>\n",
       "      <td>1</td>\n",
       "      <td>1</td>\n",
       "    </tr>\n",
       "    <tr>\n",
       "      <th>2</th>\n",
       "      <td>236</td>\n",
       "      <td>251</td>\n",
       "      <td>M</td>\n",
       "      <td>2090-03-15 00:00:00</td>\n",
       "      <td>NaN</td>\n",
       "      <td>NaN</td>\n",
       "      <td>NaN</td>\n",
       "      <td>0</td>\n",
       "      <td>325</td>\n",
       "      <td>117937</td>\n",
       "      <td>...</td>\n",
       "      <td>Private</td>\n",
       "      <td>NaN</td>\n",
       "      <td>OTHER</td>\n",
       "      <td>NaN</td>\n",
       "      <td>UNKNOWN/NOT SPECIFIED</td>\n",
       "      <td>2110-07-27 05:00:00</td>\n",
       "      <td>2110-07-27 07:15:00</td>\n",
       "      <td>INTRACRANIAL HEAD BLEED</td>\n",
       "      <td>0</td>\n",
       "      <td>1</td>\n",
       "    </tr>\n",
       "    <tr>\n",
       "      <th>3</th>\n",
       "      <td>237</td>\n",
       "      <td>252</td>\n",
       "      <td>M</td>\n",
       "      <td>2078-03-06 00:00:00</td>\n",
       "      <td>NaN</td>\n",
       "      <td>NaN</td>\n",
       "      <td>NaN</td>\n",
       "      <td>0</td>\n",
       "      <td>327</td>\n",
       "      <td>193470</td>\n",
       "      <td>...</td>\n",
       "      <td>Private</td>\n",
       "      <td>NaN</td>\n",
       "      <td>UNOBTAINABLE</td>\n",
       "      <td>SINGLE</td>\n",
       "      <td>WHITE</td>\n",
       "      <td>2133-08-15 01:42:00</td>\n",
       "      <td>2133-08-15 04:45:00</td>\n",
       "      <td>GASTROINTESINAL BLEED</td>\n",
       "      <td>0</td>\n",
       "      <td>1</td>\n",
       "    </tr>\n",
       "    <tr>\n",
       "      <th>4</th>\n",
       "      <td>238</td>\n",
       "      <td>253</td>\n",
       "      <td>F</td>\n",
       "      <td>2089-11-26 00:00:00</td>\n",
       "      <td>NaN</td>\n",
       "      <td>NaN</td>\n",
       "      <td>NaN</td>\n",
       "      <td>0</td>\n",
       "      <td>328</td>\n",
       "      <td>176189</td>\n",
       "      <td>...</td>\n",
       "      <td>Medicare</td>\n",
       "      <td>NaN</td>\n",
       "      <td>CATHOLIC</td>\n",
       "      <td>WIDOWED</td>\n",
       "      <td>WHITE</td>\n",
       "      <td>NaN</td>\n",
       "      <td>NaN</td>\n",
       "      <td>COMPLETE HEART BLOCK\\PACEMAKER IMPLANT</td>\n",
       "      <td>0</td>\n",
       "      <td>1</td>\n",
       "    </tr>\n",
       "  </tbody>\n",
       "</table>\n",
       "<p>5 rows × 26 columns</p>\n",
       "</div>"
      ],
      "text/plain": [
       "   ROW_ID_x  SUBJECT_ID GENDER                  DOB                  DOD  \\\n",
       "0       234         249      F  2075-03-13 00:00:00                  NaN   \n",
       "1       235         250      F  2164-12-27 00:00:00  2188-11-22 00:00:00   \n",
       "2       236         251      M  2090-03-15 00:00:00                  NaN   \n",
       "3       237         252      M  2078-03-06 00:00:00                  NaN   \n",
       "4       238         253      F  2089-11-26 00:00:00                  NaN   \n",
       "\n",
       "              DOD_HOSP DOD_SSN  EXPIRE_FLAG  ROW_ID_y  HADM_ID  ... INSURANCE  \\\n",
       "0                  NaN     NaN            0       323   158975  ...  Medicare   \n",
       "1  2188-11-22 00:00:00     NaN            1       324   124271  ...  Self Pay   \n",
       "2                  NaN     NaN            0       325   117937  ...   Private   \n",
       "3                  NaN     NaN            0       327   193470  ...   Private   \n",
       "4                  NaN     NaN            0       328   176189  ...  Medicare   \n",
       "\n",
       "  LANGUAGE       RELIGION MARITAL_STATUS              ETHNICITY  \\\n",
       "0     ENGL       CATHOLIC       DIVORCED                  WHITE   \n",
       "1     HAIT  NOT SPECIFIED         SINGLE                  BLACK   \n",
       "2      NaN          OTHER            NaN  UNKNOWN/NOT SPECIFIED   \n",
       "3      NaN   UNOBTAINABLE         SINGLE                  WHITE   \n",
       "4      NaN       CATHOLIC        WIDOWED                  WHITE   \n",
       "\n",
       "             EDREGTIME            EDOUTTIME  \\\n",
       "0                  NaN                  NaN   \n",
       "1  2188-11-12 06:56:00  2188-11-12 10:10:00   \n",
       "2  2110-07-27 05:00:00  2110-07-27 07:15:00   \n",
       "3  2133-08-15 01:42:00  2133-08-15 04:45:00   \n",
       "4                  NaN                  NaN   \n",
       "\n",
       "                                DIAGNOSIS HOSPITAL_EXPIRE_FLAG  \\\n",
       "0                 GI BLEEDING\\COLONOSCOPY                    0   \n",
       "1                        PNEUMONIA;R/O TB                    1   \n",
       "2                 INTRACRANIAL HEAD BLEED                    0   \n",
       "3                   GASTROINTESINAL BLEED                    0   \n",
       "4  COMPLETE HEART BLOCK\\PACEMAKER IMPLANT                    0   \n",
       "\n",
       "  HAS_CHARTEVENTS_DATA  \n",
       "0                    1  \n",
       "1                    1  \n",
       "2                    1  \n",
       "3                    1  \n",
       "4                    1  \n",
       "\n",
       "[5 rows x 26 columns]"
      ]
     },
     "execution_count": 15,
     "metadata": {},
     "output_type": "execute_result"
    }
   ],
   "source": [
    "df_merge.head()"
   ]
  },
  {
   "cell_type": "code",
   "execution_count": 16,
   "id": "dbfde729-4bad-4bd7-9320-a035cc627253",
   "metadata": {},
   "outputs": [],
   "source": [
    "df_merge_female = df_merge[df_merge.GENDER == 'F']\n",
    "df_merge_male = df_merge[df_merge.GENDER == 'M']"
   ]
  },
  {
   "cell_type": "markdown",
   "id": "80cd351f-068b-4841-969b-563ea94dd7f1",
   "metadata": {
    "jp-MarkdownHeadingCollapsed": true,
    "tags": []
   },
   "source": [
    "## Count Ethnicity"
   ]
  },
  {
   "cell_type": "code",
   "execution_count": 17,
   "id": "e13df3c9-0d91-42c1-b474-cf4520a10ef7",
   "metadata": {},
   "outputs": [],
   "source": [
    "# total count & prob for each ethnicity\n",
    "num_rac = df_uniadm.ETHNICITY.value_counts()\n",
    "rac_prob = df_merge.groupby('ETHNICITY').size().div(len(df_merge))*100"
   ]
  },
  {
   "cell_type": "code",
   "execution_count": 18,
   "id": "52fe2267-435b-4d74-bc56-92d94825b19a",
   "metadata": {},
   "outputs": [
    {
     "data": {
      "text/plain": [
       "ETHNICITY\n",
       "WHITE                                                       69.587274\n",
       "UNKNOWN/NOT SPECIFIED                                        8.886500\n",
       "BLACK                                                        8.303955\n",
       "ASIAN                                                        3.632846\n",
       "HISPANIC OR LATINO                                           3.529665\n",
       "OTHER                                                        2.770851\n",
       "UNABLE TO OBTAIN                                             1.691745\n",
       "PATIENT DECLINED TO ANSWER                                   1.051161\n",
       "MULTI RACE ETHNICITY                                         0.234308\n",
       "AMERICAN INDIAN/ALASKA NATIVE                                0.094583\n",
       "PORTUGUESE                                                   0.085985\n",
       "MIDDLE EASTERN                                               0.060189\n",
       "NATIVE HAWAIIAN OR OTHER PACIFIC ISLANDER                    0.032244\n",
       "CARIBBEAN ISLAND                                             0.017197\n",
       "SOUTH AMERICAN                                               0.017197\n",
       "AMERICAN INDIAN/ALASKA NATIVE FEDERALLY RECOGNIZED TRIBE     0.004299\n",
       "dtype: float64"
      ]
     },
     "execution_count": 18,
     "metadata": {},
     "output_type": "execute_result"
    }
   ],
   "source": [
    "rac_prob.sort_values(ascending=False)"
   ]
  },
  {
   "cell_type": "code",
   "execution_count": 19,
   "id": "7a2cba5e-c5ab-44e3-b206-f20e6136814d",
   "metadata": {},
   "outputs": [
    {
     "data": {
      "text/plain": [
       "WHITE                                                       32372\n",
       "UNKNOWN/NOT SPECIFIED                                        4134\n",
       "BLACK                                                        3863\n",
       "ASIAN                                                        1690\n",
       "HISPANIC OR LATINO                                           1642\n",
       "OTHER                                                        1289\n",
       "UNABLE TO OBTAIN                                              787\n",
       "PATIENT DECLINED TO ANSWER                                    489\n",
       "MULTI RACE ETHNICITY                                          109\n",
       "AMERICAN INDIAN/ALASKA NATIVE                                  44\n",
       "PORTUGUESE                                                     40\n",
       "MIDDLE EASTERN                                                 28\n",
       "NATIVE HAWAIIAN OR OTHER PACIFIC ISLANDER                      15\n",
       "SOUTH AMERICAN                                                  8\n",
       "CARIBBEAN ISLAND                                                8\n",
       "AMERICAN INDIAN/ALASKA NATIVE FEDERALLY RECOGNIZED TRIBE        2\n",
       "Name: ETHNICITY, dtype: int64"
      ]
     },
     "execution_count": 19,
     "metadata": {},
     "output_type": "execute_result"
    }
   ],
   "source": [
    "num_rac"
   ]
  },
  {
   "cell_type": "code",
   "execution_count": 20,
   "id": "adb86b5d-7d2c-4866-b86e-a23d0f5fdb71",
   "metadata": {},
   "outputs": [],
   "source": [
    "# total count for ethnicity in female\n",
    "num_rac_F = df_merge_female.ETHNICITY.value_counts()\n",
    "rac_female_prob = df_merge_female.groupby('ETHNICITY').size().div(len(df_merge_female))*100"
   ]
  },
  {
   "cell_type": "code",
   "execution_count": 21,
   "id": "52e1716a-a6a4-4897-b9dd-517cdc73d892",
   "metadata": {},
   "outputs": [
    {
     "data": {
      "text/plain": [
       "ETHNICITY\n",
       "WHITE                                                       69.106329\n",
       "BLACK                                                       10.054414\n",
       "UNKNOWN/NOT SPECIFIED                                        8.343546\n",
       "ASIAN                                                        3.647238\n",
       "HISPANIC OR LATINO                                           3.235453\n",
       "OTHER                                                        2.480514\n",
       "UNABLE TO OBTAIN                                             1.583411\n",
       "PATIENT DECLINED TO ANSWER                                   1.004951\n",
       "MULTI RACE ETHNICITY                                         0.245110\n",
       "AMERICAN INDIAN/ALASKA NATIVE                                0.093142\n",
       "PORTUGUESE                                                   0.093142\n",
       "MIDDLE EASTERN                                               0.044120\n",
       "NATIVE HAWAIIAN OR OTHER PACIFIC ISLANDER                    0.034315\n",
       "SOUTH AMERICAN                                               0.019609\n",
       "CARIBBEAN ISLAND                                             0.009804\n",
       "AMERICAN INDIAN/ALASKA NATIVE FEDERALLY RECOGNIZED TRIBE     0.004902\n",
       "dtype: float64"
      ]
     },
     "execution_count": 21,
     "metadata": {},
     "output_type": "execute_result"
    }
   ],
   "source": [
    "rac_female_prob.sort_values(ascending=False)"
   ]
  },
  {
   "cell_type": "code",
   "execution_count": 22,
   "id": "0de8f39a-d5c3-4197-a863-e50160d4b2ef",
   "metadata": {},
   "outputs": [
    {
     "data": {
      "text/plain": [
       "WHITE                                                       14097\n",
       "BLACK                                                        2051\n",
       "UNKNOWN/NOT SPECIFIED                                        1702\n",
       "ASIAN                                                         744\n",
       "HISPANIC OR LATINO                                            660\n",
       "OTHER                                                         506\n",
       "UNABLE TO OBTAIN                                              323\n",
       "PATIENT DECLINED TO ANSWER                                    205\n",
       "MULTI RACE ETHNICITY                                           50\n",
       "AMERICAN INDIAN/ALASKA NATIVE                                  19\n",
       "PORTUGUESE                                                     19\n",
       "MIDDLE EASTERN                                                  9\n",
       "NATIVE HAWAIIAN OR OTHER PACIFIC ISLANDER                       7\n",
       "SOUTH AMERICAN                                                  4\n",
       "CARIBBEAN ISLAND                                                2\n",
       "AMERICAN INDIAN/ALASKA NATIVE FEDERALLY RECOGNIZED TRIBE        1\n",
       "Name: ETHNICITY, dtype: int64"
      ]
     },
     "execution_count": 22,
     "metadata": {},
     "output_type": "execute_result"
    }
   ],
   "source": [
    "num_rac_F"
   ]
  },
  {
   "cell_type": "code",
   "execution_count": 23,
   "id": "02e83dd8-7490-4c10-898e-32dbac226a4c",
   "metadata": {},
   "outputs": [],
   "source": [
    "# total count for ethnicity in male\n",
    "num_rac_M = df_merge_male.ETHNICITY.value_counts()\n",
    "rac_male_prob = df_merge_male.groupby('ETHNICITY').size().div(len(df_merge_male))*100"
   ]
  },
  {
   "cell_type": "code",
   "execution_count": 24,
   "id": "5f236614-d857-43e6-bd15-562c233b5722",
   "metadata": {},
   "outputs": [
    {
     "data": {
      "text/plain": [
       "ETHNICITY\n",
       "WHITE                                                       69.962865\n",
       "UNKNOWN/NOT SPECIFIED                                        9.310516\n",
       "BLACK                                                        6.936947\n",
       "HISPANIC OR LATINO                                           3.759427\n",
       "ASIAN                                                        3.621607\n",
       "OTHER                                                        2.997588\n",
       "UNABLE TO OBTAIN                                             1.776349\n",
       "PATIENT DECLINED TO ANSWER                                   1.087248\n",
       "MULTI RACE ETHNICITY                                         0.225872\n",
       "AMERICAN INDIAN/ALASKA NATIVE                                0.095708\n",
       "PORTUGUESE                                                   0.080395\n",
       "MIDDLE EASTERN                                               0.072738\n",
       "NATIVE HAWAIIAN OR OTHER PACIFIC ISLANDER                    0.030627\n",
       "CARIBBEAN ISLAND                                             0.022970\n",
       "SOUTH AMERICAN                                               0.015313\n",
       "AMERICAN INDIAN/ALASKA NATIVE FEDERALLY RECOGNIZED TRIBE     0.003828\n",
       "dtype: float64"
      ]
     },
     "execution_count": 24,
     "metadata": {},
     "output_type": "execute_result"
    }
   ],
   "source": [
    "rac_male_prob.sort_values(ascending=False)"
   ]
  },
  {
   "cell_type": "code",
   "execution_count": 25,
   "id": "29f25f58-19bb-4288-80ff-77a4f3787a14",
   "metadata": {},
   "outputs": [
    {
     "data": {
      "text/plain": [
       "WHITE                                                       18275\n",
       "UNKNOWN/NOT SPECIFIED                                        2432\n",
       "BLACK                                                        1812\n",
       "HISPANIC OR LATINO                                            982\n",
       "ASIAN                                                         946\n",
       "OTHER                                                         783\n",
       "UNABLE TO OBTAIN                                              464\n",
       "PATIENT DECLINED TO ANSWER                                    284\n",
       "MULTI RACE ETHNICITY                                           59\n",
       "AMERICAN INDIAN/ALASKA NATIVE                                  25\n",
       "PORTUGUESE                                                     21\n",
       "MIDDLE EASTERN                                                 19\n",
       "NATIVE HAWAIIAN OR OTHER PACIFIC ISLANDER                       8\n",
       "CARIBBEAN ISLAND                                                6\n",
       "SOUTH AMERICAN                                                  4\n",
       "AMERICAN INDIAN/ALASKA NATIVE FEDERALLY RECOGNIZED TRIBE        1\n",
       "Name: ETHNICITY, dtype: int64"
      ]
     },
     "execution_count": 25,
     "metadata": {},
     "output_type": "execute_result"
    }
   ],
   "source": [
    "num_rac_M"
   ]
  },
  {
   "cell_type": "markdown",
   "id": "0ce3bad4-fc4f-4285-acca-0e7035baafd2",
   "metadata": {
    "jp-MarkdownHeadingCollapsed": true,
    "tags": []
   },
   "source": [
    "## Count Admission Type"
   ]
  },
  {
   "cell_type": "code",
   "execution_count": 26,
   "id": "b1b41d1f-11b8-4a94-862e-e84119daac78",
   "metadata": {},
   "outputs": [],
   "source": [
    "# total number of admission\n",
    "num_adm = df_uniadm.ADMISSION_TYPE.value_counts()\n",
    "adm_prob = df_merge.groupby('ADMISSION_TYPE').size().div(len(df_merge))*100"
   ]
  },
  {
   "cell_type": "code",
   "execution_count": 27,
   "id": "7a633e86-4a64-4a8b-8962-2258c339befc",
   "metadata": {},
   "outputs": [
    {
     "data": {
      "text/plain": [
       "ADMISSION_TYPE\n",
       "ELECTIVE     12.996561\n",
       "EMERGENCY    68.372743\n",
       "NEWBORN      16.407997\n",
       "URGENT        2.222700\n",
       "dtype: float64"
      ]
     },
     "execution_count": 27,
     "metadata": {},
     "output_type": "execute_result"
    }
   ],
   "source": [
    "adm_prob"
   ]
  },
  {
   "cell_type": "code",
   "execution_count": 28,
   "id": "1829b3ba-0ecd-473b-a387-85b946152ef8",
   "metadata": {},
   "outputs": [
    {
     "data": {
      "text/plain": [
       "EMERGENCY    13983\n",
       "NEWBORN       3510\n",
       "ELECTIVE      2436\n",
       "URGENT         470\n",
       "Name: ADMISSION_TYPE, dtype: int64"
      ]
     },
     "execution_count": 28,
     "metadata": {},
     "output_type": "execute_result"
    }
   ],
   "source": [
    "# total number of admission in female\n",
    "num_adm_F = df_merge_female.ADMISSION_TYPE.value_counts()\n",
    "adm_female_prob = df_merge_female.groupby('ADMISSION_TYPE').size().div(len(df_merge_female))*100\n",
    "num_adm_F"
   ]
  },
  {
   "cell_type": "code",
   "execution_count": 29,
   "id": "f994b58e-542e-4c2a-86d0-1ba4e7b316f4",
   "metadata": {},
   "outputs": [
    {
     "data": {
      "text/plain": [
       "ADMISSION_TYPE\n",
       "ELECTIVE     11.941762\n",
       "EMERGENCY    68.547478\n",
       "NEWBORN      17.206726\n",
       "URGENT        2.304035\n",
       "dtype: float64"
      ]
     },
     "execution_count": 29,
     "metadata": {},
     "output_type": "execute_result"
    }
   ],
   "source": [
    "adm_female_prob"
   ]
  },
  {
   "cell_type": "code",
   "execution_count": 30,
   "id": "ecd44681-3f4f-40e2-8839-862248de1bde",
   "metadata": {},
   "outputs": [
    {
     "data": {
      "text/plain": [
       "EMERGENCY    17824\n",
       "NEWBORN       4123\n",
       "ELECTIVE      3610\n",
       "URGENT         564\n",
       "Name: ADMISSION_TYPE, dtype: int64"
      ]
     },
     "execution_count": 30,
     "metadata": {},
     "output_type": "execute_result"
    }
   ],
   "source": [
    "# total number of admission in male\n",
    "num_adm_M = df_merge_male.ADMISSION_TYPE.value_counts()\n",
    "adm_male_prob = df_merge_male.groupby('ADMISSION_TYPE').size().div(len(df_merge_male))*100\n",
    "num_adm_M"
   ]
  },
  {
   "cell_type": "code",
   "execution_count": 31,
   "id": "ee562110-d0fa-4cec-9a42-cc50d88a1664",
   "metadata": {},
   "outputs": [
    {
     "data": {
      "text/plain": [
       "ADMISSION_TYPE\n",
       "ELECTIVE     13.820298\n",
       "EMERGENCY    68.236285\n",
       "NEWBORN      15.784235\n",
       "URGENT        2.159182\n",
       "dtype: float64"
      ]
     },
     "execution_count": 31,
     "metadata": {},
     "output_type": "execute_result"
    }
   ],
   "source": [
    "adm_male_prob"
   ]
  },
  {
   "cell_type": "markdown",
   "id": "220b31cf-0018-4ca1-9090-f45d3bf8e128",
   "metadata": {
    "jp-MarkdownHeadingCollapsed": true,
    "tags": []
   },
   "source": [
    "## Count Marital status"
   ]
  },
  {
   "cell_type": "code",
   "execution_count": 32,
   "id": "c01517e3-0ac0-451d-852e-65d2a761dee0",
   "metadata": {},
   "outputs": [
    {
     "data": {
      "text/plain": [
       "MARRIED              18492\n",
       "SINGLE                9767\n",
       "WIDOWED               5462\n",
       "DIVORCED              2331\n",
       "SEPARATED              384\n",
       "UNKNOWN (DEFAULT)      307\n",
       "LIFE PARTNER            13\n",
       "Name: MARITAL_STATUS, dtype: int64"
      ]
     },
     "execution_count": 32,
     "metadata": {},
     "output_type": "execute_result"
    }
   ],
   "source": [
    "# total number of marital status\n",
    "num_mar = df_uniadm.MARITAL_STATUS.value_counts()\n",
    "mar_prob = df_uniadm.groupby('MARITAL_STATUS').size().div(len(df_uniadm))*100\n",
    "num_mar"
   ]
  },
  {
   "cell_type": "code",
   "execution_count": 33,
   "id": "f902e3da-89e9-467a-aab0-085d452e37ce",
   "metadata": {},
   "outputs": [
    {
     "data": {
      "text/plain": [
       "MARITAL_STATUS\n",
       "MARRIED              39.750645\n",
       "SINGLE               20.995271\n",
       "WIDOWED              11.741187\n",
       "DIVORCED              5.010748\n",
       "SEPARATED             0.825451\n",
       "UNKNOWN (DEFAULT)     0.659931\n",
       "LIFE PARTNER          0.027945\n",
       "dtype: float64"
      ]
     },
     "execution_count": 33,
     "metadata": {},
     "output_type": "execute_result"
    }
   ],
   "source": [
    "mar_prob.sort_values(ascending=False)"
   ]
  },
  {
   "cell_type": "code",
   "execution_count": 34,
   "id": "789aa02e-d0d5-46c7-8842-2a45cd7fd721",
   "metadata": {},
   "outputs": [],
   "source": [
    "# total number of marital status in female"
   ]
  },
  {
   "cell_type": "code",
   "execution_count": 35,
   "id": "995435bb-7611-4478-a1e7-4c06197b353f",
   "metadata": {},
   "outputs": [
    {
     "data": {
      "text/plain": [
       "MARRIED              6192\n",
       "SINGLE               4154\n",
       "WIDOWED              4065\n",
       "DIVORCED             1219\n",
       "SEPARATED             212\n",
       "UNKNOWN (DEFAULT)     154\n",
       "LIFE PARTNER            5\n",
       "Name: MARITAL_STATUS, dtype: int64"
      ]
     },
     "execution_count": 35,
     "metadata": {},
     "output_type": "execute_result"
    }
   ],
   "source": [
    "num_mar_F = df_merge_female.MARITAL_STATUS.value_counts()\n",
    "mar_female_prob = df_merge_female.groupby('MARITAL_STATUS').size().div(len(df_merge_female))*100\n",
    "num_mar_F"
   ]
  },
  {
   "cell_type": "code",
   "execution_count": 36,
   "id": "67f2d45f-2689-4e8a-9e54-b03a853641b8",
   "metadata": {},
   "outputs": [
    {
     "data": {
      "text/plain": [
       "MARITAL_STATUS\n",
       "MARRIED              30.354429\n",
       "SINGLE               20.363743\n",
       "WIDOWED              19.927447\n",
       "DIVORCED              5.975783\n",
       "SEPARATED             1.039267\n",
       "UNKNOWN (DEFAULT)     0.754939\n",
       "LIFE PARTNER          0.024511\n",
       "dtype: float64"
      ]
     },
     "execution_count": 36,
     "metadata": {},
     "output_type": "execute_result"
    }
   ],
   "source": [
    "mar_female_prob.sort_values(ascending=False)"
   ]
  },
  {
   "cell_type": "code",
   "execution_count": 37,
   "id": "61a2f77e-72cc-4560-95f4-a0c07f042281",
   "metadata": {},
   "outputs": [
    {
     "data": {
      "text/plain": [
       "MARRIED              12300\n",
       "SINGLE                5613\n",
       "WIDOWED               1397\n",
       "DIVORCED              1112\n",
       "SEPARATED              172\n",
       "UNKNOWN (DEFAULT)      153\n",
       "LIFE PARTNER             8\n",
       "Name: MARITAL_STATUS, dtype: int64"
      ]
     },
     "execution_count": 37,
     "metadata": {},
     "output_type": "execute_result"
    }
   ],
   "source": [
    "# total number of marital status in male\n",
    "num_mar_M = df_merge_male.MARITAL_STATUS.value_counts()\n",
    "mar_male_prob = df_merge_male.groupby('MARITAL_STATUS').size().div(len(df_merge_male))*100\n",
    "num_mar_M"
   ]
  },
  {
   "cell_type": "code",
   "execution_count": 38,
   "id": "6c2618d6-41a1-4efb-b13a-2b2c65bcd9f9",
   "metadata": {},
   "outputs": [
    {
     "data": {
      "text/plain": [
       "MARITAL_STATUS\n",
       "MARRIED              47.088549\n",
       "SINGLE               21.488458\n",
       "WIDOWED               5.348187\n",
       "DIVORCED              4.257111\n",
       "SEPARATED             0.658474\n",
       "UNKNOWN (DEFAULT)     0.585736\n",
       "LIFE PARTNER          0.030627\n",
       "dtype: float64"
      ]
     },
     "execution_count": 38,
     "metadata": {},
     "output_type": "execute_result"
    }
   ],
   "source": [
    "mar_male_prob.sort_values(ascending=False)"
   ]
  },
  {
   "cell_type": "markdown",
   "id": "aff77061-0ede-481a-a8b6-4dd3123034e8",
   "metadata": {
    "jp-MarkdownHeadingCollapsed": true,
    "tags": []
   },
   "source": [
    "# Calculate Age "
   ]
  },
  {
   "cell_type": "code",
   "execution_count": 39,
   "id": "027de167-25ea-4383-9d2b-61c52dc5a455",
   "metadata": {},
   "outputs": [
    {
     "data": {
      "text/html": [
       "<div>\n",
       "<style scoped>\n",
       "    .dataframe tbody tr th:only-of-type {\n",
       "        vertical-align: middle;\n",
       "    }\n",
       "\n",
       "    .dataframe tbody tr th {\n",
       "        vertical-align: top;\n",
       "    }\n",
       "\n",
       "    .dataframe thead th {\n",
       "        text-align: right;\n",
       "    }\n",
       "</style>\n",
       "<table border=\"1\" class=\"dataframe\">\n",
       "  <thead>\n",
       "    <tr style=\"text-align: right;\">\n",
       "      <th></th>\n",
       "      <th>ROW_ID_x</th>\n",
       "      <th>SUBJECT_ID</th>\n",
       "      <th>HADM_ID</th>\n",
       "      <th>ADMITTIME</th>\n",
       "      <th>DISCHTIME</th>\n",
       "      <th>DEATHTIME</th>\n",
       "      <th>ADMISSION_TYPE</th>\n",
       "      <th>ADMISSION_LOCATION</th>\n",
       "      <th>DISCHARGE_LOCATION</th>\n",
       "      <th>INSURANCE</th>\n",
       "      <th>...</th>\n",
       "      <th>DIAGNOSIS</th>\n",
       "      <th>HOSPITAL_EXPIRE_FLAG</th>\n",
       "      <th>HAS_CHARTEVENTS_DATA</th>\n",
       "      <th>ROW_ID_y</th>\n",
       "      <th>GENDER</th>\n",
       "      <th>DOB</th>\n",
       "      <th>DOD</th>\n",
       "      <th>DOD_HOSP</th>\n",
       "      <th>DOD_SSN</th>\n",
       "      <th>EXPIRE_FLAG</th>\n",
       "    </tr>\n",
       "  </thead>\n",
       "  <tbody>\n",
       "    <tr>\n",
       "      <th>58971</th>\n",
       "      <td>58592</td>\n",
       "      <td>98794</td>\n",
       "      <td>190603</td>\n",
       "      <td>2127-11-07 11:00:00</td>\n",
       "      <td>2127-11-11 14:30:00</td>\n",
       "      <td>NaN</td>\n",
       "      <td>ELECTIVE</td>\n",
       "      <td>PHYS REFERRAL/NORMAL DELI</td>\n",
       "      <td>HOME HEALTH CARE</td>\n",
       "      <td>Medicare</td>\n",
       "      <td>...</td>\n",
       "      <td>AORTIC STENOSIS\\AORTIC VALVE REPLACEMENT /SDA</td>\n",
       "      <td>0</td>\n",
       "      <td>1</td>\n",
       "      <td>46211</td>\n",
       "      <td>M</td>\n",
       "      <td>2049-07-29 00:00:00</td>\n",
       "      <td>NaN</td>\n",
       "      <td>NaN</td>\n",
       "      <td>NaN</td>\n",
       "      <td>0</td>\n",
       "    </tr>\n",
       "    <tr>\n",
       "      <th>58972</th>\n",
       "      <td>58593</td>\n",
       "      <td>98797</td>\n",
       "      <td>105447</td>\n",
       "      <td>2132-12-24 20:06:00</td>\n",
       "      <td>2132-12-25 12:00:00</td>\n",
       "      <td>2132-12-25 12:00:00</td>\n",
       "      <td>EMERGENCY</td>\n",
       "      <td>EMERGENCY ROOM ADMIT</td>\n",
       "      <td>DEAD/EXPIRED</td>\n",
       "      <td>Medicare</td>\n",
       "      <td>...</td>\n",
       "      <td>ALTERED MENTAL STATUS</td>\n",
       "      <td>1</td>\n",
       "      <td>1</td>\n",
       "      <td>46212</td>\n",
       "      <td>M</td>\n",
       "      <td>2044-12-27 00:00:00</td>\n",
       "      <td>2132-12-25 00:00:00</td>\n",
       "      <td>2132-12-25 00:00:00</td>\n",
       "      <td>NaN</td>\n",
       "      <td>1</td>\n",
       "    </tr>\n",
       "    <tr>\n",
       "      <th>58973</th>\n",
       "      <td>58594</td>\n",
       "      <td>98800</td>\n",
       "      <td>191113</td>\n",
       "      <td>2131-03-30 21:13:00</td>\n",
       "      <td>2131-04-02 15:02:00</td>\n",
       "      <td>NaN</td>\n",
       "      <td>EMERGENCY</td>\n",
       "      <td>CLINIC REFERRAL/PREMATURE</td>\n",
       "      <td>HOME</td>\n",
       "      <td>Private</td>\n",
       "      <td>...</td>\n",
       "      <td>TRAUMA</td>\n",
       "      <td>0</td>\n",
       "      <td>1</td>\n",
       "      <td>46213</td>\n",
       "      <td>F</td>\n",
       "      <td>2111-11-05 00:00:00</td>\n",
       "      <td>NaN</td>\n",
       "      <td>NaN</td>\n",
       "      <td>NaN</td>\n",
       "      <td>0</td>\n",
       "    </tr>\n",
       "    <tr>\n",
       "      <th>58974</th>\n",
       "      <td>58595</td>\n",
       "      <td>98802</td>\n",
       "      <td>101071</td>\n",
       "      <td>2151-03-05 20:00:00</td>\n",
       "      <td>2151-03-06 09:10:00</td>\n",
       "      <td>2151-03-06 09:10:00</td>\n",
       "      <td>EMERGENCY</td>\n",
       "      <td>CLINIC REFERRAL/PREMATURE</td>\n",
       "      <td>DEAD/EXPIRED</td>\n",
       "      <td>Medicare</td>\n",
       "      <td>...</td>\n",
       "      <td>SAH</td>\n",
       "      <td>1</td>\n",
       "      <td>1</td>\n",
       "      <td>46214</td>\n",
       "      <td>F</td>\n",
       "      <td>2067-09-21 00:00:00</td>\n",
       "      <td>2151-03-06 00:00:00</td>\n",
       "      <td>2151-03-06 00:00:00</td>\n",
       "      <td>NaN</td>\n",
       "      <td>1</td>\n",
       "    </tr>\n",
       "    <tr>\n",
       "      <th>58975</th>\n",
       "      <td>58596</td>\n",
       "      <td>98805</td>\n",
       "      <td>122631</td>\n",
       "      <td>2200-09-12 07:15:00</td>\n",
       "      <td>2200-09-20 12:08:00</td>\n",
       "      <td>NaN</td>\n",
       "      <td>ELECTIVE</td>\n",
       "      <td>PHYS REFERRAL/NORMAL DELI</td>\n",
       "      <td>HOME HEALTH CARE</td>\n",
       "      <td>Private</td>\n",
       "      <td>...</td>\n",
       "      <td>RENAL CANCER/SDA</td>\n",
       "      <td>0</td>\n",
       "      <td>1</td>\n",
       "      <td>46215</td>\n",
       "      <td>M</td>\n",
       "      <td>2158-03-02 00:00:00</td>\n",
       "      <td>NaN</td>\n",
       "      <td>NaN</td>\n",
       "      <td>NaN</td>\n",
       "      <td>0</td>\n",
       "    </tr>\n",
       "  </tbody>\n",
       "</table>\n",
       "<p>5 rows × 26 columns</p>\n",
       "</div>"
      ],
      "text/plain": [
       "       ROW_ID_x  SUBJECT_ID  HADM_ID            ADMITTIME  \\\n",
       "58971     58592       98794   190603  2127-11-07 11:00:00   \n",
       "58972     58593       98797   105447  2132-12-24 20:06:00   \n",
       "58973     58594       98800   191113  2131-03-30 21:13:00   \n",
       "58974     58595       98802   101071  2151-03-05 20:00:00   \n",
       "58975     58596       98805   122631  2200-09-12 07:15:00   \n",
       "\n",
       "                 DISCHTIME            DEATHTIME ADMISSION_TYPE  \\\n",
       "58971  2127-11-11 14:30:00                  NaN       ELECTIVE   \n",
       "58972  2132-12-25 12:00:00  2132-12-25 12:00:00      EMERGENCY   \n",
       "58973  2131-04-02 15:02:00                  NaN      EMERGENCY   \n",
       "58974  2151-03-06 09:10:00  2151-03-06 09:10:00      EMERGENCY   \n",
       "58975  2200-09-20 12:08:00                  NaN       ELECTIVE   \n",
       "\n",
       "              ADMISSION_LOCATION DISCHARGE_LOCATION INSURANCE  ...  \\\n",
       "58971  PHYS REFERRAL/NORMAL DELI   HOME HEALTH CARE  Medicare  ...   \n",
       "58972       EMERGENCY ROOM ADMIT       DEAD/EXPIRED  Medicare  ...   \n",
       "58973  CLINIC REFERRAL/PREMATURE               HOME   Private  ...   \n",
       "58974  CLINIC REFERRAL/PREMATURE       DEAD/EXPIRED  Medicare  ...   \n",
       "58975  PHYS REFERRAL/NORMAL DELI   HOME HEALTH CARE   Private  ...   \n",
       "\n",
       "                                           DIAGNOSIS HOSPITAL_EXPIRE_FLAG  \\\n",
       "58971  AORTIC STENOSIS\\AORTIC VALVE REPLACEMENT /SDA                    0   \n",
       "58972                          ALTERED MENTAL STATUS                    1   \n",
       "58973                                         TRAUMA                    0   \n",
       "58974                                            SAH                    1   \n",
       "58975                               RENAL CANCER/SDA                    0   \n",
       "\n",
       "      HAS_CHARTEVENTS_DATA ROW_ID_y GENDER                  DOB  \\\n",
       "58971                    1    46211      M  2049-07-29 00:00:00   \n",
       "58972                    1    46212      M  2044-12-27 00:00:00   \n",
       "58973                    1    46213      F  2111-11-05 00:00:00   \n",
       "58974                    1    46214      F  2067-09-21 00:00:00   \n",
       "58975                    1    46215      M  2158-03-02 00:00:00   \n",
       "\n",
       "                       DOD             DOD_HOSP  DOD_SSN  EXPIRE_FLAG  \n",
       "58971                  NaN                  NaN      NaN            0  \n",
       "58972  2132-12-25 00:00:00  2132-12-25 00:00:00      NaN            1  \n",
       "58973                  NaN                  NaN      NaN            0  \n",
       "58974  2151-03-06 00:00:00  2151-03-06 00:00:00      NaN            1  \n",
       "58975                  NaN                  NaN      NaN            0  \n",
       "\n",
       "[5 rows x 26 columns]"
      ]
     },
     "execution_count": 39,
     "metadata": {},
     "output_type": "execute_result"
    }
   ],
   "source": [
    "adm_age = pd.merge( df_adm , df_pat, how='inner', on='SUBJECT_ID')\n",
    "adm_age.tail(5)"
   ]
  },
  {
   "cell_type": "code",
   "execution_count": 40,
   "id": "03032599-3b3f-4e9f-ad16-241a01b6a202",
   "metadata": {},
   "outputs": [
    {
     "data": {
      "text/plain": [
       "(58976, 26)"
      ]
     },
     "execution_count": 40,
     "metadata": {},
     "output_type": "execute_result"
    }
   ],
   "source": [
    "adm_age.shape"
   ]
  },
  {
   "cell_type": "code",
   "execution_count": 41,
   "id": "41c222f0-371a-4c7b-a61b-0fe8213c9382",
   "metadata": {},
   "outputs": [],
   "source": [
    "adm_age['ADMITTIME'] = pd.to_datetime(adm_age['ADMITTIME']).dt.date\n",
    "adm_age['DISCHTIME'] = pd.to_datetime(adm_age['DISCHTIME']).dt.date\n",
    "\n",
    "adm_age['DOB'] = pd.to_datetime(adm_age['DOB']).dt.date\n",
    "\n",
    "adm_age['AGE'] = (adm_age['ADMITTIME']-adm_age['DOB']).apply(lambda x: int(x.days/365))"
   ]
  },
  {
   "cell_type": "code",
   "execution_count": 135,
   "id": "b432da16-f2b5-442d-8ded-50f18fc3e679",
   "metadata": {},
   "outputs": [],
   "source": [
    "adm_age = adm_age.drop(['ROW_ID_x', 'ROW_ID_y'], axis=1)"
   ]
  },
  {
   "cell_type": "code",
   "execution_count": 200,
   "id": "06e130d0-6ccc-432f-8790-a33084278dc8",
   "metadata": {},
   "outputs": [],
   "source": [
    "# Add admit times\n",
    "adm_age['ADMIT_TIMES'] = adm_age.groupby('SUBJECT_ID').SUBJECT_ID.transform('count')\n",
    "# Add length stay\n",
    "adm_age['LENGTH_STAY'] = (adm_age['DISCHTIME'] - adm_age['ADMITTIME']).apply(lambda x: int(x.days))"
   ]
  },
  {
   "cell_type": "markdown",
   "id": "36f8ac80-7f4a-4dbb-9904-fd288d24ac15",
   "metadata": {
    "tags": []
   },
   "source": [
    "# Filter Out VTE"
   ]
  },
  {
   "cell_type": "code",
   "execution_count": 183,
   "id": "10397fb2-68f3-4841-a29c-25156c6fb38a",
   "metadata": {},
   "outputs": [],
   "source": [
    "lista = ['4511', '4512', '45181', '4534', '4535', '45183', '45184', '45189', '45372', '45373', '45374', '45375', '45376', '45377', '45382', '45383', '45384', '45385', '45386', '45387', '4510', '4519', '4520', '4530', '4530', '4531', '4532', '4533', '45379', '4538', '45389', '4539']\n",
    "df_vte = df_dia_icd.loc[df_dia_icd['ICD9_CODE'].isin(lista)]"
   ]
  },
  {
   "cell_type": "markdown",
   "id": "ff8e684b-4cd1-4a44-ab69-e3276b8df67a",
   "metadata": {},
   "source": [
    "# df_vte.shape"
   ]
  },
  {
   "cell_type": "markdown",
   "id": "1db40d92-6e66-4cbe-b6aa-7c59f84c7948",
   "metadata": {
    "tags": []
   },
   "source": [
    "## Merge admission_age df and vte df"
   ]
  },
  {
   "cell_type": "code",
   "execution_count": 201,
   "id": "7c52053e-f3e3-4f73-9ca4-1331e1f648a9",
   "metadata": {},
   "outputs": [],
   "source": [
    "vte_adm = pd.merge(df_vte, adm_age, how='inner', on=['SUBJECT_ID', 'HADM_ID'])"
   ]
  },
  {
   "cell_type": "markdown",
   "id": "ffb2a11c-e60c-46fc-9705-e067529c104c",
   "metadata": {
    "jp-MarkdownHeadingCollapsed": true,
    "tags": []
   },
   "source": [
    "#### Gender Count in total"
   ]
  },
  {
   "cell_type": "code",
   "execution_count": 292,
   "id": "2cda8a97-25f2-4b79-bfef-ecd3b05d2424",
   "metadata": {},
   "outputs": [
    {
     "data": {
      "text/plain": [
       "M    652\n",
       "F    501\n",
       "Name: GENDER, dtype: int64"
      ]
     },
     "execution_count": 292,
     "metadata": {},
     "output_type": "execute_result"
    }
   ],
   "source": [
    "vte_adm.GENDER.value_counts()"
   ]
  },
  {
   "cell_type": "markdown",
   "id": "01ff49be-d340-446a-b3f9-ab53d103f999",
   "metadata": {
    "jp-MarkdownHeadingCollapsed": true,
    "tags": []
   },
   "source": [
    "#### Percentile of Ethnicity in total"
   ]
  },
  {
   "cell_type": "code",
   "execution_count": 307,
   "id": "e28e431c-0248-450c-9c98-4deef7201371",
   "metadata": {},
   "outputs": [],
   "source": [
    "race = vte_adm.groupby('ETHNICITY').size()\n",
    "race_prop = race.div(len(vte_adm))*100"
   ]
  },
  {
   "cell_type": "code",
   "execution_count": 308,
   "id": "73215987-11c1-41d8-8267-d0ed7d135e02",
   "metadata": {},
   "outputs": [
    {
     "data": {
      "text/plain": [
       "ETHNICITY\n",
       "WHITE                         70.511709\n",
       "BLACK                         12.922810\n",
       "UNKNOWN/NOT SPECIFIED          6.851691\n",
       "HISPANIC OR LATINO             3.209020\n",
       "ASIAN                          2.601908\n",
       "OTHER                          1.994796\n",
       "UNABLE TO OBTAIN               0.867303\n",
       "PATIENT DECLINED TO ANSWER     0.607112\n",
       "MULTI RACE ETHNICITY           0.346921\n",
       "MIDDLE EASTERN                 0.086730\n",
       "dtype: float64"
      ]
     },
     "execution_count": 308,
     "metadata": {},
     "output_type": "execute_result"
    }
   ],
   "source": [
    "race_prop.sort_values(ascending=False)"
   ]
  },
  {
   "cell_type": "code",
   "execution_count": 309,
   "id": "f4fef006-868c-4e20-a1e5-306e1c3ab54e",
   "metadata": {},
   "outputs": [
    {
     "data": {
      "text/plain": [
       "ETHNICITY\n",
       "WHITE                         813\n",
       "BLACK                         149\n",
       "UNKNOWN/NOT SPECIFIED          79\n",
       "HISPANIC OR LATINO             37\n",
       "ASIAN                          30\n",
       "OTHER                          23\n",
       "UNABLE TO OBTAIN               10\n",
       "PATIENT DECLINED TO ANSWER      7\n",
       "MULTI RACE ETHNICITY            4\n",
       "MIDDLE EASTERN                  1\n",
       "dtype: int64"
      ]
     },
     "execution_count": 309,
     "metadata": {},
     "output_type": "execute_result"
    }
   ],
   "source": [
    "race.sort_values(ascending=False)"
   ]
  },
  {
   "cell_type": "code",
   "execution_count": 314,
   "id": "85a448d8-1386-4275-b89a-f8b5c614092c",
   "metadata": {},
   "outputs": [],
   "source": [
    "# female\n",
    "race_f = vte_adm[vte_adm['GENDER'] == 'F'].groupby('ETHNICITY').size()\n",
    "race_f_prop = race_f.div(len(vte_adm))*100"
   ]
  },
  {
   "cell_type": "code",
   "execution_count": 315,
   "id": "95fc9f99-5383-4efa-b91e-591ba7f800f1",
   "metadata": {},
   "outputs": [
    {
     "data": {
      "text/plain": [
       "ETHNICITY\n",
       "WHITE                         28.534258\n",
       "BLACK                          7.632264\n",
       "UNKNOWN/NOT SPECIFIED          2.948829\n",
       "ASIAN                          1.214224\n",
       "OTHER                          1.214224\n",
       "HISPANIC OR LATINO             1.040763\n",
       "UNABLE TO OBTAIN               0.433651\n",
       "PATIENT DECLINED TO ANSWER     0.260191\n",
       "MIDDLE EASTERN                 0.086730\n",
       "MULTI RACE ETHNICITY           0.086730\n",
       "dtype: float64"
      ]
     },
     "execution_count": 315,
     "metadata": {},
     "output_type": "execute_result"
    }
   ],
   "source": [
    "race_f_prop.sort_values(ascending=False)"
   ]
  },
  {
   "cell_type": "code",
   "execution_count": 316,
   "id": "697e0b5e-b10a-49de-9a3a-69582f47c00d",
   "metadata": {},
   "outputs": [
    {
     "data": {
      "text/plain": [
       "ETHNICITY\n",
       "WHITE                         329\n",
       "BLACK                          88\n",
       "UNKNOWN/NOT SPECIFIED          34\n",
       "ASIAN                          14\n",
       "OTHER                          14\n",
       "HISPANIC OR LATINO             12\n",
       "UNABLE TO OBTAIN                5\n",
       "PATIENT DECLINED TO ANSWER      3\n",
       "MIDDLE EASTERN                  1\n",
       "MULTI RACE ETHNICITY            1\n",
       "dtype: int64"
      ]
     },
     "execution_count": 316,
     "metadata": {},
     "output_type": "execute_result"
    }
   ],
   "source": [
    "race_f.sort_values(ascending=False)"
   ]
  },
  {
   "cell_type": "code",
   "execution_count": 317,
   "id": "86bd28ba-fc51-4ec3-98ae-03f244103c15",
   "metadata": {},
   "outputs": [],
   "source": [
    "# male\n",
    "race_m = vte_adm[vte_adm['GENDER'] == 'M'].groupby('ETHNICITY').size()\n",
    "race_m_prop = race_m.div(len(vte_adm))*100"
   ]
  },
  {
   "cell_type": "code",
   "execution_count": 318,
   "id": "249175cc-6459-499f-b3f3-952ed24ff149",
   "metadata": {},
   "outputs": [
    {
     "data": {
      "text/plain": [
       "ETHNICITY\n",
       "WHITE                         41.977450\n",
       "BLACK                          5.290546\n",
       "UNKNOWN/NOT SPECIFIED          3.902862\n",
       "HISPANIC OR LATINO             2.168257\n",
       "ASIAN                          1.387684\n",
       "OTHER                          0.780572\n",
       "UNABLE TO OBTAIN               0.433651\n",
       "PATIENT DECLINED TO ANSWER     0.346921\n",
       "MULTI RACE ETHNICITY           0.260191\n",
       "dtype: float64"
      ]
     },
     "execution_count": 318,
     "metadata": {},
     "output_type": "execute_result"
    }
   ],
   "source": [
    "race_m_prop.sort_values(ascending=False)"
   ]
  },
  {
   "cell_type": "code",
   "execution_count": 319,
   "id": "99a356b7-abff-4c2e-a49e-7b27c6300f93",
   "metadata": {},
   "outputs": [
    {
     "data": {
      "text/plain": [
       "ETHNICITY\n",
       "WHITE                         484\n",
       "BLACK                          61\n",
       "UNKNOWN/NOT SPECIFIED          45\n",
       "HISPANIC OR LATINO             25\n",
       "ASIAN                          16\n",
       "OTHER                           9\n",
       "UNABLE TO OBTAIN                5\n",
       "PATIENT DECLINED TO ANSWER      4\n",
       "MULTI RACE ETHNICITY            3\n",
       "dtype: int64"
      ]
     },
     "execution_count": 319,
     "metadata": {},
     "output_type": "execute_result"
    }
   ],
   "source": [
    "race_m.sort_values(ascending=False)"
   ]
  },
  {
   "cell_type": "markdown",
   "id": "976c9266-eefa-4fcc-b08d-2bb980ae16ae",
   "metadata": {
    "jp-MarkdownHeadingCollapsed": true,
    "tags": []
   },
   "source": [
    "##### Sort age"
   ]
  },
  {
   "cell_type": "code",
   "execution_count": 222,
   "id": "5db167eb-21ba-4618-9f2a-c709930ac633",
   "metadata": {},
   "outputs": [],
   "source": [
    "vte_adm = vte_adm.sort_values(by='AGE')"
   ]
  },
  {
   "cell_type": "code",
   "execution_count": 234,
   "id": "cf675cad-cfe0-4d75-beb0-81a02b2f338b",
   "metadata": {},
   "outputs": [
    {
     "data": {
      "text/html": [
       "<div>\n",
       "<style scoped>\n",
       "    .dataframe tbody tr th:only-of-type {\n",
       "        vertical-align: middle;\n",
       "    }\n",
       "\n",
       "    .dataframe tbody tr th {\n",
       "        vertical-align: top;\n",
       "    }\n",
       "\n",
       "    .dataframe thead th {\n",
       "        text-align: right;\n",
       "    }\n",
       "</style>\n",
       "<table border=\"1\" class=\"dataframe\">\n",
       "  <thead>\n",
       "    <tr style=\"text-align: right;\">\n",
       "      <th></th>\n",
       "      <th>ROW_ID</th>\n",
       "      <th>SUBJECT_ID</th>\n",
       "      <th>HADM_ID</th>\n",
       "      <th>SEQ_NUM</th>\n",
       "      <th>ICD9_CODE</th>\n",
       "      <th>ADMITTIME</th>\n",
       "      <th>DISCHTIME</th>\n",
       "      <th>DEATHTIME</th>\n",
       "      <th>ADMISSION_TYPE</th>\n",
       "      <th>ADMISSION_LOCATION</th>\n",
       "      <th>...</th>\n",
       "      <th>HAS_CHARTEVENTS_DATA</th>\n",
       "      <th>GENDER</th>\n",
       "      <th>DOB</th>\n",
       "      <th>DOD</th>\n",
       "      <th>DOD_HOSP</th>\n",
       "      <th>DOD_SSN</th>\n",
       "      <th>EXPIRE_FLAG</th>\n",
       "      <th>AGE</th>\n",
       "      <th>ADMIT_TIMES</th>\n",
       "      <th>LENGTH_STAY</th>\n",
       "    </tr>\n",
       "  </thead>\n",
       "  <tbody>\n",
       "    <tr>\n",
       "      <th>27</th>\n",
       "      <td>10124</td>\n",
       "      <td>873</td>\n",
       "      <td>162837</td>\n",
       "      <td>5.0</td>\n",
       "      <td>4532</td>\n",
       "      <td>2134-02-24</td>\n",
       "      <td>2134-03-26</td>\n",
       "      <td>NaN</td>\n",
       "      <td>NEWBORN</td>\n",
       "      <td>CLINIC REFERRAL/PREMATURE</td>\n",
       "      <td>...</td>\n",
       "      <td>1</td>\n",
       "      <td>M</td>\n",
       "      <td>2134-02-24</td>\n",
       "      <td>NaN</td>\n",
       "      <td>NaN</td>\n",
       "      <td>NaN</td>\n",
       "      <td>0</td>\n",
       "      <td>0</td>\n",
       "      <td>1</td>\n",
       "      <td>30</td>\n",
       "    </tr>\n",
       "    <tr>\n",
       "      <th>28</th>\n",
       "      <td>10126</td>\n",
       "      <td>873</td>\n",
       "      <td>162837</td>\n",
       "      <td>7.0</td>\n",
       "      <td>4533</td>\n",
       "      <td>2134-02-24</td>\n",
       "      <td>2134-03-26</td>\n",
       "      <td>NaN</td>\n",
       "      <td>NEWBORN</td>\n",
       "      <td>CLINIC REFERRAL/PREMATURE</td>\n",
       "      <td>...</td>\n",
       "      <td>1</td>\n",
       "      <td>M</td>\n",
       "      <td>2134-02-24</td>\n",
       "      <td>NaN</td>\n",
       "      <td>NaN</td>\n",
       "      <td>NaN</td>\n",
       "      <td>0</td>\n",
       "      <td>0</td>\n",
       "      <td>1</td>\n",
       "      <td>30</td>\n",
       "    </tr>\n",
       "    <tr>\n",
       "      <th>718</th>\n",
       "      <td>363667</td>\n",
       "      <td>31597</td>\n",
       "      <td>131426</td>\n",
       "      <td>11.0</td>\n",
       "      <td>4519</td>\n",
       "      <td>2199-05-27</td>\n",
       "      <td>2199-09-02</td>\n",
       "      <td>NaN</td>\n",
       "      <td>NEWBORN</td>\n",
       "      <td>CLINIC REFERRAL/PREMATURE</td>\n",
       "      <td>...</td>\n",
       "      <td>1</td>\n",
       "      <td>M</td>\n",
       "      <td>2199-05-27</td>\n",
       "      <td>NaN</td>\n",
       "      <td>NaN</td>\n",
       "      <td>NaN</td>\n",
       "      <td>0</td>\n",
       "      <td>0</td>\n",
       "      <td>1</td>\n",
       "      <td>98</td>\n",
       "    </tr>\n",
       "    <tr>\n",
       "      <th>135</th>\n",
       "      <td>75190</td>\n",
       "      <td>6732</td>\n",
       "      <td>152060</td>\n",
       "      <td>2.0</td>\n",
       "      <td>4538</td>\n",
       "      <td>2197-11-02</td>\n",
       "      <td>2197-11-09</td>\n",
       "      <td>NaN</td>\n",
       "      <td>ELECTIVE</td>\n",
       "      <td>PHYS REFERRAL/NORMAL DELI</td>\n",
       "      <td>...</td>\n",
       "      <td>1</td>\n",
       "      <td>F</td>\n",
       "      <td>2180-06-01</td>\n",
       "      <td>2198-04-02 00:00:00</td>\n",
       "      <td>NaN</td>\n",
       "      <td>2198-04-02 00:00:00</td>\n",
       "      <td>1</td>\n",
       "      <td>17</td>\n",
       "      <td>1</td>\n",
       "      <td>7</td>\n",
       "    </tr>\n",
       "    <tr>\n",
       "      <th>134</th>\n",
       "      <td>75189</td>\n",
       "      <td>6732</td>\n",
       "      <td>152060</td>\n",
       "      <td>1.0</td>\n",
       "      <td>4532</td>\n",
       "      <td>2197-11-02</td>\n",
       "      <td>2197-11-09</td>\n",
       "      <td>NaN</td>\n",
       "      <td>ELECTIVE</td>\n",
       "      <td>PHYS REFERRAL/NORMAL DELI</td>\n",
       "      <td>...</td>\n",
       "      <td>1</td>\n",
       "      <td>F</td>\n",
       "      <td>2180-06-01</td>\n",
       "      <td>2198-04-02 00:00:00</td>\n",
       "      <td>NaN</td>\n",
       "      <td>2198-04-02 00:00:00</td>\n",
       "      <td>1</td>\n",
       "      <td>17</td>\n",
       "      <td>1</td>\n",
       "      <td>7</td>\n",
       "    </tr>\n",
       "  </tbody>\n",
       "</table>\n",
       "<p>5 rows × 30 columns</p>\n",
       "</div>"
      ],
      "text/plain": [
       "     ROW_ID  SUBJECT_ID  HADM_ID  SEQ_NUM ICD9_CODE   ADMITTIME   DISCHTIME  \\\n",
       "27    10124         873   162837      5.0      4532  2134-02-24  2134-03-26   \n",
       "28    10126         873   162837      7.0      4533  2134-02-24  2134-03-26   \n",
       "718  363667       31597   131426     11.0      4519  2199-05-27  2199-09-02   \n",
       "135   75190        6732   152060      2.0      4538  2197-11-02  2197-11-09   \n",
       "134   75189        6732   152060      1.0      4532  2197-11-02  2197-11-09   \n",
       "\n",
       "    DEATHTIME ADMISSION_TYPE         ADMISSION_LOCATION  ...  \\\n",
       "27        NaN        NEWBORN  CLINIC REFERRAL/PREMATURE  ...   \n",
       "28        NaN        NEWBORN  CLINIC REFERRAL/PREMATURE  ...   \n",
       "718       NaN        NEWBORN  CLINIC REFERRAL/PREMATURE  ...   \n",
       "135       NaN       ELECTIVE  PHYS REFERRAL/NORMAL DELI  ...   \n",
       "134       NaN       ELECTIVE  PHYS REFERRAL/NORMAL DELI  ...   \n",
       "\n",
       "    HAS_CHARTEVENTS_DATA GENDER         DOB                  DOD DOD_HOSP  \\\n",
       "27                     1      M  2134-02-24                  NaN      NaN   \n",
       "28                     1      M  2134-02-24                  NaN      NaN   \n",
       "718                    1      M  2199-05-27                  NaN      NaN   \n",
       "135                    1      F  2180-06-01  2198-04-02 00:00:00      NaN   \n",
       "134                    1      F  2180-06-01  2198-04-02 00:00:00      NaN   \n",
       "\n",
       "                 DOD_SSN EXPIRE_FLAG AGE ADMIT_TIMES  LENGTH_STAY  \n",
       "27                   NaN           0   0           1           30  \n",
       "28                   NaN           0   0           1           30  \n",
       "718                  NaN           0   0           1           98  \n",
       "135  2198-04-02 00:00:00           1  17           1            7  \n",
       "134  2198-04-02 00:00:00           1  17           1            7  \n",
       "\n",
       "[5 rows x 30 columns]"
      ]
     },
     "execution_count": 234,
     "metadata": {},
     "output_type": "execute_result"
    }
   ],
   "source": [
    "vte_adm.head()"
   ]
  },
  {
   "cell_type": "markdown",
   "id": "e8f1b94d-4b08-43e8-9111-40180c86d280",
   "metadata": {
    "jp-MarkdownHeadingCollapsed": true,
    "tags": []
   },
   "source": [
    "#### Age Range"
   ]
  },
  {
   "cell_type": "code",
   "execution_count": 243,
   "id": "c8e29f7d-c804-4d51-9239-682a2288632d",
   "metadata": {},
   "outputs": [],
   "source": [
    "condition = [((vte_adm['AGE']>=0) & (vte_adm['AGE']<=9)),\n",
    "            ((vte_adm['AGE']>=10) & (vte_adm['AGE']<=19)),\n",
    "            ((vte_adm['AGE']>=20) & (vte_adm['AGE']<=29)),\n",
    "            ((vte_adm['AGE']>=30) & (vte_adm['AGE']<=39)),\n",
    "            ((vte_adm['AGE']>=40) & (vte_adm['AGE']<=49)),\n",
    "            ((vte_adm['AGE']>=50) & (vte_adm['AGE']<=59)),\n",
    "            ((vte_adm['AGE']>=60) & (vte_adm['AGE']<=69)),\n",
    "            ((vte_adm['AGE']>=70) & (vte_adm['AGE']<=79)),\n",
    "            ((vte_adm['AGE']>=80) & (vte_adm['AGE']<=89)),\n",
    "            (vte_adm['AGE'] > 89)]\n",
    "\n",
    "age_range = ['[0-9]', '[10-19]', '[20-29]', '[30-39]', '[40-49]', '[50-59]', '[60-69]', '[70-79]', '[80-89]', '[89+]']\n",
    "\n",
    "vte_adm['AGE_RANGE'] = np.select(condition, age_range)"
   ]
  },
  {
   "cell_type": "code",
   "execution_count": 244,
   "id": "939d9066-b424-4fb6-9eca-c955daca249a",
   "metadata": {},
   "outputs": [
    {
     "data": {
      "text/plain": [
       "AGE_RANGE\n",
       "[0-9]        3\n",
       "[10-19]      8\n",
       "[20-29]     33\n",
       "[30-39]     72\n",
       "[40-49]    132\n",
       "[50-59]    224\n",
       "[60-69]    249\n",
       "[70-79]    243\n",
       "[80-89]    153\n",
       "[89+]       36\n",
       "dtype: int64"
      ]
     },
     "execution_count": 244,
     "metadata": {},
     "output_type": "execute_result"
    }
   ],
   "source": [
    "vte_adm.groupby('AGE_RANGE').size()"
   ]
  },
  {
   "cell_type": "code",
   "execution_count": 248,
   "id": "10bd81af-0a87-4f83-a6e7-eb2bab516f28",
   "metadata": {},
   "outputs": [
    {
     "data": {
      "text/plain": [
       "count    1153.000000\n",
       "mean       68.940156\n",
       "std        44.486586\n",
       "min         0.000000\n",
       "25%        51.000000\n",
       "50%        64.000000\n",
       "75%        76.000000\n",
       "max       307.000000\n",
       "Name: AGE, dtype: float64"
      ]
     },
     "execution_count": 248,
     "metadata": {},
     "output_type": "execute_result"
    }
   ],
   "source": [
    "vte_adm['AGE'].describe()"
   ]
  },
  {
   "cell_type": "code",
   "execution_count": 269,
   "id": "29261f43-d88c-4d40-b521-8a8b331e4e9f",
   "metadata": {},
   "outputs": [
    {
     "data": {
      "text/plain": [
       "count    501.000000\n",
       "mean      71.315369\n",
       "std       49.533750\n",
       "min       17.000000\n",
       "25%       51.000000\n",
       "50%       66.000000\n",
       "75%       76.000000\n",
       "max      307.000000\n",
       "Name: AGE, dtype: float64"
      ]
     },
     "execution_count": 269,
     "metadata": {},
     "output_type": "execute_result"
    }
   ],
   "source": [
    "#Female\n",
    "vte_adm['AGE'][vte_adm['GENDER'] == 'F'].describe()"
   ]
  },
  {
   "cell_type": "code",
   "execution_count": 270,
   "id": "6d0c8abc-9b45-483e-8e01-20ed33ecb9ab",
   "metadata": {},
   "outputs": [
    {
     "data": {
      "text/plain": [
       "count    652.000000\n",
       "mean      67.115031\n",
       "std       40.124200\n",
       "min        0.000000\n",
       "25%       51.750000\n",
       "50%       63.000000\n",
       "75%       75.000000\n",
       "max      302.000000\n",
       "Name: AGE, dtype: float64"
      ]
     },
     "execution_count": 270,
     "metadata": {},
     "output_type": "execute_result"
    }
   ],
   "source": [
    "# Male\n",
    "vte_adm['AGE'][vte_adm['GENDER'] == 'M'].describe()"
   ]
  },
  {
   "cell_type": "markdown",
   "id": "3dc773a8-cc01-4706-ab1e-91d2c066ad42",
   "metadata": {
    "jp-MarkdownHeadingCollapsed": true,
    "tags": []
   },
   "source": [
    "#### Admit times"
   ]
  },
  {
   "cell_type": "code",
   "execution_count": 271,
   "id": "a201b8f4-8a2e-4032-8a61-30c56bf5d01a",
   "metadata": {},
   "outputs": [
    {
     "data": {
      "text/plain": [
       "count    1153.000000\n",
       "mean        2.267997\n",
       "std         2.630977\n",
       "min         1.000000\n",
       "25%         1.000000\n",
       "50%         1.000000\n",
       "75%         2.000000\n",
       "max        34.000000\n",
       "Name: ADMIT_TIMES, dtype: float64"
      ]
     },
     "execution_count": 271,
     "metadata": {},
     "output_type": "execute_result"
    }
   ],
   "source": [
    "vte_adm['ADMIT_TIMES'].describe()"
   ]
  },
  {
   "cell_type": "code",
   "execution_count": 272,
   "id": "fda3a1f7-4948-497f-8403-790e43c8a440",
   "metadata": {},
   "outputs": [
    {
     "data": {
      "text/plain": [
       "count    501.000000\n",
       "mean       2.357285\n",
       "std        3.172710\n",
       "min        1.000000\n",
       "25%        1.000000\n",
       "50%        1.000000\n",
       "75%        2.000000\n",
       "max       34.000000\n",
       "Name: ADMIT_TIMES, dtype: float64"
      ]
     },
     "execution_count": 272,
     "metadata": {},
     "output_type": "execute_result"
    }
   ],
   "source": [
    "#Female\n",
    "vte_adm['ADMIT_TIMES'][vte_adm['GENDER'] == 'F'].describe()"
   ]
  },
  {
   "cell_type": "code",
   "execution_count": 273,
   "id": "be443c69-54c1-4360-bb83-75b3c7ae62d9",
   "metadata": {},
   "outputs": [
    {
     "data": {
      "text/plain": [
       "count    652.000000\n",
       "mean       2.199387\n",
       "std        2.122978\n",
       "min        1.000000\n",
       "25%        1.000000\n",
       "50%        1.000000\n",
       "75%        2.000000\n",
       "max       16.000000\n",
       "Name: ADMIT_TIMES, dtype: float64"
      ]
     },
     "execution_count": 273,
     "metadata": {},
     "output_type": "execute_result"
    }
   ],
   "source": [
    "# Male\n",
    "vte_adm['ADMIT_TIMES'][vte_adm['GENDER'] == 'M'].describe()"
   ]
  },
  {
   "cell_type": "markdown",
   "id": "df8d766f-3fef-4a0e-a6b3-84573635c257",
   "metadata": {
    "jp-MarkdownHeadingCollapsed": true,
    "tags": []
   },
   "source": [
    "#### Length Stay"
   ]
  },
  {
   "cell_type": "code",
   "execution_count": 250,
   "id": "354a915d-f2fd-4770-b85d-e8a9829907eb",
   "metadata": {},
   "outputs": [
    {
     "data": {
      "text/plain": [
       "count    1153.000000\n",
       "mean       18.501301\n",
       "std        18.526263\n",
       "min         0.000000\n",
       "25%         8.000000\n",
       "50%        14.000000\n",
       "75%        22.000000\n",
       "max       182.000000\n",
       "Name: LENGTH_STAY, dtype: float64"
      ]
     },
     "execution_count": 250,
     "metadata": {},
     "output_type": "execute_result"
    }
   ],
   "source": [
    "vte_adm['LENGTH_STAY'].describe()"
   ]
  },
  {
   "cell_type": "code",
   "execution_count": 274,
   "id": "27891e3b-672d-48d7-bf1b-647c51044e99",
   "metadata": {},
   "outputs": [
    {
     "data": {
      "text/plain": [
       "count    501.000000\n",
       "mean      17.720559\n",
       "std       15.829143\n",
       "min        0.000000\n",
       "25%        8.000000\n",
       "50%       14.000000\n",
       "75%       21.000000\n",
       "max      182.000000\n",
       "Name: LENGTH_STAY, dtype: float64"
      ]
     },
     "execution_count": 274,
     "metadata": {},
     "output_type": "execute_result"
    }
   ],
   "source": [
    "#Female\n",
    "vte_adm['LENGTH_STAY'][vte_adm['GENDER'] == 'F'].describe()"
   ]
  },
  {
   "cell_type": "code",
   "execution_count": 275,
   "id": "5b8ad41a-445a-401b-8626-3eec689f0534",
   "metadata": {},
   "outputs": [
    {
     "data": {
      "text/plain": [
       "count    652.000000\n",
       "mean      19.101227\n",
       "std       20.349153\n",
       "min        0.000000\n",
       "25%        8.000000\n",
       "50%       14.000000\n",
       "75%       22.250000\n",
       "max      174.000000\n",
       "Name: LENGTH_STAY, dtype: float64"
      ]
     },
     "execution_count": 275,
     "metadata": {},
     "output_type": "execute_result"
    }
   ],
   "source": [
    "# Male\n",
    "vte_adm['LENGTH_STAY'][vte_adm['GENDER'] == 'M'].describe()"
   ]
  },
  {
   "cell_type": "markdown",
   "id": "2f9ffa65-98e3-4999-9553-ac5f47b63417",
   "metadata": {
    "jp-MarkdownHeadingCollapsed": true,
    "tags": []
   },
   "source": [
    "# All Patients Who Was Readmitted Within 30 days"
   ]
  },
  {
   "cell_type": "code",
   "execution_count": 252,
   "id": "c541bbe4-c38c-4d02-9866-d0f118356ca5",
   "metadata": {},
   "outputs": [
    {
     "data": {
      "text/html": [
       "<div>\n",
       "<style scoped>\n",
       "    .dataframe tbody tr th:only-of-type {\n",
       "        vertical-align: middle;\n",
       "    }\n",
       "\n",
       "    .dataframe tbody tr th {\n",
       "        vertical-align: top;\n",
       "    }\n",
       "\n",
       "    .dataframe thead th {\n",
       "        text-align: right;\n",
       "    }\n",
       "</style>\n",
       "<table border=\"1\" class=\"dataframe\">\n",
       "  <thead>\n",
       "    <tr style=\"text-align: right;\">\n",
       "      <th></th>\n",
       "      <th>SUBJECT_ID</th>\n",
       "      <th>HADM_ID</th>\n",
       "      <th>ADMITTIME</th>\n",
       "      <th>DISCHTIME</th>\n",
       "      <th>DEATHTIME</th>\n",
       "      <th>ADMISSION_TYPE</th>\n",
       "      <th>ADMISSION_LOCATION</th>\n",
       "      <th>DISCHARGE_LOCATION</th>\n",
       "      <th>INSURANCE</th>\n",
       "      <th>LANGUAGE</th>\n",
       "      <th>...</th>\n",
       "      <th>HAS_CHARTEVENTS_DATA</th>\n",
       "      <th>GENDER</th>\n",
       "      <th>DOB</th>\n",
       "      <th>DOD</th>\n",
       "      <th>DOD_HOSP</th>\n",
       "      <th>DOD_SSN</th>\n",
       "      <th>EXPIRE_FLAG</th>\n",
       "      <th>AGE</th>\n",
       "      <th>ADMIT_TIMES</th>\n",
       "      <th>LENGTH_STAY</th>\n",
       "    </tr>\n",
       "  </thead>\n",
       "  <tbody>\n",
       "    <tr>\n",
       "      <th>0</th>\n",
       "      <td>22</td>\n",
       "      <td>165315</td>\n",
       "      <td>2196-04-09</td>\n",
       "      <td>2196-04-10</td>\n",
       "      <td>NaN</td>\n",
       "      <td>EMERGENCY</td>\n",
       "      <td>EMERGENCY ROOM ADMIT</td>\n",
       "      <td>DISC-TRAN CANCER/CHLDRN H</td>\n",
       "      <td>Private</td>\n",
       "      <td>NaN</td>\n",
       "      <td>...</td>\n",
       "      <td>1</td>\n",
       "      <td>F</td>\n",
       "      <td>2131-05-07</td>\n",
       "      <td>NaN</td>\n",
       "      <td>NaN</td>\n",
       "      <td>NaN</td>\n",
       "      <td>0</td>\n",
       "      <td>64</td>\n",
       "      <td>1</td>\n",
       "      <td>1</td>\n",
       "    </tr>\n",
       "    <tr>\n",
       "      <th>1</th>\n",
       "      <td>23</td>\n",
       "      <td>152223</td>\n",
       "      <td>2153-09-03</td>\n",
       "      <td>2153-09-08</td>\n",
       "      <td>NaN</td>\n",
       "      <td>ELECTIVE</td>\n",
       "      <td>PHYS REFERRAL/NORMAL DELI</td>\n",
       "      <td>HOME HEALTH CARE</td>\n",
       "      <td>Medicare</td>\n",
       "      <td>NaN</td>\n",
       "      <td>...</td>\n",
       "      <td>1</td>\n",
       "      <td>M</td>\n",
       "      <td>2082-07-17</td>\n",
       "      <td>NaN</td>\n",
       "      <td>NaN</td>\n",
       "      <td>NaN</td>\n",
       "      <td>0</td>\n",
       "      <td>71</td>\n",
       "      <td>2</td>\n",
       "      <td>5</td>\n",
       "    </tr>\n",
       "    <tr>\n",
       "      <th>2</th>\n",
       "      <td>23</td>\n",
       "      <td>124321</td>\n",
       "      <td>2157-10-18</td>\n",
       "      <td>2157-10-25</td>\n",
       "      <td>NaN</td>\n",
       "      <td>EMERGENCY</td>\n",
       "      <td>TRANSFER FROM HOSP/EXTRAM</td>\n",
       "      <td>HOME HEALTH CARE</td>\n",
       "      <td>Medicare</td>\n",
       "      <td>ENGL</td>\n",
       "      <td>...</td>\n",
       "      <td>1</td>\n",
       "      <td>M</td>\n",
       "      <td>2082-07-17</td>\n",
       "      <td>NaN</td>\n",
       "      <td>NaN</td>\n",
       "      <td>NaN</td>\n",
       "      <td>0</td>\n",
       "      <td>75</td>\n",
       "      <td>2</td>\n",
       "      <td>7</td>\n",
       "    </tr>\n",
       "    <tr>\n",
       "      <th>3</th>\n",
       "      <td>24</td>\n",
       "      <td>161859</td>\n",
       "      <td>2139-06-06</td>\n",
       "      <td>2139-06-09</td>\n",
       "      <td>NaN</td>\n",
       "      <td>EMERGENCY</td>\n",
       "      <td>TRANSFER FROM HOSP/EXTRAM</td>\n",
       "      <td>HOME</td>\n",
       "      <td>Private</td>\n",
       "      <td>NaN</td>\n",
       "      <td>...</td>\n",
       "      <td>1</td>\n",
       "      <td>M</td>\n",
       "      <td>2100-05-31</td>\n",
       "      <td>NaN</td>\n",
       "      <td>NaN</td>\n",
       "      <td>NaN</td>\n",
       "      <td>0</td>\n",
       "      <td>39</td>\n",
       "      <td>1</td>\n",
       "      <td>3</td>\n",
       "    </tr>\n",
       "    <tr>\n",
       "      <th>4</th>\n",
       "      <td>25</td>\n",
       "      <td>129635</td>\n",
       "      <td>2160-11-02</td>\n",
       "      <td>2160-11-05</td>\n",
       "      <td>NaN</td>\n",
       "      <td>EMERGENCY</td>\n",
       "      <td>EMERGENCY ROOM ADMIT</td>\n",
       "      <td>HOME</td>\n",
       "      <td>Private</td>\n",
       "      <td>NaN</td>\n",
       "      <td>...</td>\n",
       "      <td>1</td>\n",
       "      <td>M</td>\n",
       "      <td>2101-11-21</td>\n",
       "      <td>NaN</td>\n",
       "      <td>NaN</td>\n",
       "      <td>NaN</td>\n",
       "      <td>0</td>\n",
       "      <td>58</td>\n",
       "      <td>1</td>\n",
       "      <td>3</td>\n",
       "    </tr>\n",
       "  </tbody>\n",
       "</table>\n",
       "<p>5 rows × 27 columns</p>\n",
       "</div>"
      ],
      "text/plain": [
       "   SUBJECT_ID  HADM_ID   ADMITTIME   DISCHTIME DEATHTIME ADMISSION_TYPE  \\\n",
       "0          22   165315  2196-04-09  2196-04-10       NaN      EMERGENCY   \n",
       "1          23   152223  2153-09-03  2153-09-08       NaN       ELECTIVE   \n",
       "2          23   124321  2157-10-18  2157-10-25       NaN      EMERGENCY   \n",
       "3          24   161859  2139-06-06  2139-06-09       NaN      EMERGENCY   \n",
       "4          25   129635  2160-11-02  2160-11-05       NaN      EMERGENCY   \n",
       "\n",
       "          ADMISSION_LOCATION         DISCHARGE_LOCATION INSURANCE LANGUAGE  \\\n",
       "0       EMERGENCY ROOM ADMIT  DISC-TRAN CANCER/CHLDRN H   Private      NaN   \n",
       "1  PHYS REFERRAL/NORMAL DELI           HOME HEALTH CARE  Medicare      NaN   \n",
       "2  TRANSFER FROM HOSP/EXTRAM           HOME HEALTH CARE  Medicare     ENGL   \n",
       "3  TRANSFER FROM HOSP/EXTRAM                       HOME   Private      NaN   \n",
       "4       EMERGENCY ROOM ADMIT                       HOME   Private      NaN   \n",
       "\n",
       "   ... HAS_CHARTEVENTS_DATA GENDER         DOB  DOD DOD_HOSP DOD_SSN  \\\n",
       "0  ...                    1      F  2131-05-07  NaN      NaN     NaN   \n",
       "1  ...                    1      M  2082-07-17  NaN      NaN     NaN   \n",
       "2  ...                    1      M  2082-07-17  NaN      NaN     NaN   \n",
       "3  ...                    1      M  2100-05-31  NaN      NaN     NaN   \n",
       "4  ...                    1      M  2101-11-21  NaN      NaN     NaN   \n",
       "\n",
       "   EXPIRE_FLAG  AGE ADMIT_TIMES LENGTH_STAY  \n",
       "0            0   64           1           1  \n",
       "1            0   71           2           5  \n",
       "2            0   75           2           7  \n",
       "3            0   39           1           3  \n",
       "4            0   58           1           3  \n",
       "\n",
       "[5 rows x 27 columns]"
      ]
     },
     "execution_count": 252,
     "metadata": {},
     "output_type": "execute_result"
    }
   ],
   "source": [
    "adm_age.head()"
   ]
  },
  {
   "cell_type": "code",
   "execution_count": 253,
   "id": "c9a0fbee-ac53-4b67-a32e-776205e940cb",
   "metadata": {},
   "outputs": [],
   "source": [
    "adm_age_gb = adm_age.groupby(['SUBJECT_ID'], axis=0, as_index=False)"
   ]
  },
  {
   "cell_type": "code",
   "execution_count": 254,
   "id": "fa614bf4-61f7-416f-91b3-7cb9d4aaf821",
   "metadata": {},
   "outputs": [],
   "source": [
    "readmit = adm_age_gb.filter(lambda x: (x['SUBJECT_ID'].value_counts()) > 1)"
   ]
  },
  {
   "cell_type": "code",
   "execution_count": 255,
   "id": "68d30921-c08b-4159-bc32-c08088d06d58",
   "metadata": {},
   "outputs": [],
   "source": [
    "readmit = readmit.reset_index(drop = True)"
   ]
  },
  {
   "cell_type": "code",
   "execution_count": 256,
   "id": "2d755811-25b4-4f86-a420-13374d5ad7a3",
   "metadata": {},
   "outputs": [
    {
     "data": {
      "text/html": [
       "<div>\n",
       "<style scoped>\n",
       "    .dataframe tbody tr th:only-of-type {\n",
       "        vertical-align: middle;\n",
       "    }\n",
       "\n",
       "    .dataframe tbody tr th {\n",
       "        vertical-align: top;\n",
       "    }\n",
       "\n",
       "    .dataframe thead th {\n",
       "        text-align: right;\n",
       "    }\n",
       "</style>\n",
       "<table border=\"1\" class=\"dataframe\">\n",
       "  <thead>\n",
       "    <tr style=\"text-align: right;\">\n",
       "      <th></th>\n",
       "      <th>SUBJECT_ID</th>\n",
       "      <th>HADM_ID</th>\n",
       "      <th>ADMITTIME</th>\n",
       "      <th>DISCHTIME</th>\n",
       "      <th>DEATHTIME</th>\n",
       "      <th>ADMISSION_TYPE</th>\n",
       "      <th>ADMISSION_LOCATION</th>\n",
       "      <th>DISCHARGE_LOCATION</th>\n",
       "      <th>INSURANCE</th>\n",
       "      <th>LANGUAGE</th>\n",
       "      <th>...</th>\n",
       "      <th>HAS_CHARTEVENTS_DATA</th>\n",
       "      <th>GENDER</th>\n",
       "      <th>DOB</th>\n",
       "      <th>DOD</th>\n",
       "      <th>DOD_HOSP</th>\n",
       "      <th>DOD_SSN</th>\n",
       "      <th>EXPIRE_FLAG</th>\n",
       "      <th>AGE</th>\n",
       "      <th>ADMIT_TIMES</th>\n",
       "      <th>LENGTH_STAY</th>\n",
       "    </tr>\n",
       "  </thead>\n",
       "  <tbody>\n",
       "    <tr>\n",
       "      <th>0</th>\n",
       "      <td>23</td>\n",
       "      <td>152223</td>\n",
       "      <td>2153-09-03</td>\n",
       "      <td>2153-09-08</td>\n",
       "      <td>NaN</td>\n",
       "      <td>ELECTIVE</td>\n",
       "      <td>PHYS REFERRAL/NORMAL DELI</td>\n",
       "      <td>HOME HEALTH CARE</td>\n",
       "      <td>Medicare</td>\n",
       "      <td>NaN</td>\n",
       "      <td>...</td>\n",
       "      <td>1</td>\n",
       "      <td>M</td>\n",
       "      <td>2082-07-17</td>\n",
       "      <td>NaN</td>\n",
       "      <td>NaN</td>\n",
       "      <td>NaN</td>\n",
       "      <td>0</td>\n",
       "      <td>71</td>\n",
       "      <td>2</td>\n",
       "      <td>5</td>\n",
       "    </tr>\n",
       "    <tr>\n",
       "      <th>1</th>\n",
       "      <td>23</td>\n",
       "      <td>124321</td>\n",
       "      <td>2157-10-18</td>\n",
       "      <td>2157-10-25</td>\n",
       "      <td>NaN</td>\n",
       "      <td>EMERGENCY</td>\n",
       "      <td>TRANSFER FROM HOSP/EXTRAM</td>\n",
       "      <td>HOME HEALTH CARE</td>\n",
       "      <td>Medicare</td>\n",
       "      <td>ENGL</td>\n",
       "      <td>...</td>\n",
       "      <td>1</td>\n",
       "      <td>M</td>\n",
       "      <td>2082-07-17</td>\n",
       "      <td>NaN</td>\n",
       "      <td>NaN</td>\n",
       "      <td>NaN</td>\n",
       "      <td>0</td>\n",
       "      <td>75</td>\n",
       "      <td>2</td>\n",
       "      <td>7</td>\n",
       "    </tr>\n",
       "    <tr>\n",
       "      <th>2</th>\n",
       "      <td>34</td>\n",
       "      <td>115799</td>\n",
       "      <td>2186-07-18</td>\n",
       "      <td>2186-07-20</td>\n",
       "      <td>NaN</td>\n",
       "      <td>EMERGENCY</td>\n",
       "      <td>TRANSFER FROM HOSP/EXTRAM</td>\n",
       "      <td>HOME</td>\n",
       "      <td>Medicare</td>\n",
       "      <td>ENGL</td>\n",
       "      <td>...</td>\n",
       "      <td>1</td>\n",
       "      <td>M</td>\n",
       "      <td>1886-07-18</td>\n",
       "      <td>2192-01-30 00:00:00</td>\n",
       "      <td>NaN</td>\n",
       "      <td>2192-01-30 00:00:00</td>\n",
       "      <td>1</td>\n",
       "      <td>300</td>\n",
       "      <td>2</td>\n",
       "      <td>2</td>\n",
       "    </tr>\n",
       "    <tr>\n",
       "      <th>3</th>\n",
       "      <td>34</td>\n",
       "      <td>144319</td>\n",
       "      <td>2191-02-23</td>\n",
       "      <td>2191-02-25</td>\n",
       "      <td>NaN</td>\n",
       "      <td>EMERGENCY</td>\n",
       "      <td>CLINIC REFERRAL/PREMATURE</td>\n",
       "      <td>HOME HEALTH CARE</td>\n",
       "      <td>Medicare</td>\n",
       "      <td>ENGL</td>\n",
       "      <td>...</td>\n",
       "      <td>1</td>\n",
       "      <td>M</td>\n",
       "      <td>1886-07-18</td>\n",
       "      <td>2192-01-30 00:00:00</td>\n",
       "      <td>NaN</td>\n",
       "      <td>2192-01-30 00:00:00</td>\n",
       "      <td>1</td>\n",
       "      <td>304</td>\n",
       "      <td>2</td>\n",
       "      <td>2</td>\n",
       "    </tr>\n",
       "    <tr>\n",
       "      <th>4</th>\n",
       "      <td>36</td>\n",
       "      <td>182104</td>\n",
       "      <td>2131-04-30</td>\n",
       "      <td>2131-05-08</td>\n",
       "      <td>NaN</td>\n",
       "      <td>EMERGENCY</td>\n",
       "      <td>CLINIC REFERRAL/PREMATURE</td>\n",
       "      <td>HOME HEALTH CARE</td>\n",
       "      <td>Medicare</td>\n",
       "      <td>ENGL</td>\n",
       "      <td>...</td>\n",
       "      <td>1</td>\n",
       "      <td>M</td>\n",
       "      <td>2061-08-17</td>\n",
       "      <td>NaN</td>\n",
       "      <td>NaN</td>\n",
       "      <td>NaN</td>\n",
       "      <td>0</td>\n",
       "      <td>69</td>\n",
       "      <td>3</td>\n",
       "      <td>8</td>\n",
       "    </tr>\n",
       "  </tbody>\n",
       "</table>\n",
       "<p>5 rows × 27 columns</p>\n",
       "</div>"
      ],
      "text/plain": [
       "   SUBJECT_ID  HADM_ID   ADMITTIME   DISCHTIME DEATHTIME ADMISSION_TYPE  \\\n",
       "0          23   152223  2153-09-03  2153-09-08       NaN       ELECTIVE   \n",
       "1          23   124321  2157-10-18  2157-10-25       NaN      EMERGENCY   \n",
       "2          34   115799  2186-07-18  2186-07-20       NaN      EMERGENCY   \n",
       "3          34   144319  2191-02-23  2191-02-25       NaN      EMERGENCY   \n",
       "4          36   182104  2131-04-30  2131-05-08       NaN      EMERGENCY   \n",
       "\n",
       "          ADMISSION_LOCATION DISCHARGE_LOCATION INSURANCE LANGUAGE  ...  \\\n",
       "0  PHYS REFERRAL/NORMAL DELI   HOME HEALTH CARE  Medicare      NaN  ...   \n",
       "1  TRANSFER FROM HOSP/EXTRAM   HOME HEALTH CARE  Medicare     ENGL  ...   \n",
       "2  TRANSFER FROM HOSP/EXTRAM               HOME  Medicare     ENGL  ...   \n",
       "3  CLINIC REFERRAL/PREMATURE   HOME HEALTH CARE  Medicare     ENGL  ...   \n",
       "4  CLINIC REFERRAL/PREMATURE   HOME HEALTH CARE  Medicare     ENGL  ...   \n",
       "\n",
       "  HAS_CHARTEVENTS_DATA GENDER         DOB                  DOD DOD_HOSP  \\\n",
       "0                    1      M  2082-07-17                  NaN      NaN   \n",
       "1                    1      M  2082-07-17                  NaN      NaN   \n",
       "2                    1      M  1886-07-18  2192-01-30 00:00:00      NaN   \n",
       "3                    1      M  1886-07-18  2192-01-30 00:00:00      NaN   \n",
       "4                    1      M  2061-08-17                  NaN      NaN   \n",
       "\n",
       "               DOD_SSN  EXPIRE_FLAG  AGE ADMIT_TIMES LENGTH_STAY  \n",
       "0                  NaN            0   71           2           5  \n",
       "1                  NaN            0   75           2           7  \n",
       "2  2192-01-30 00:00:00            1  300           2           2  \n",
       "3  2192-01-30 00:00:00            1  304           2           2  \n",
       "4                  NaN            0   69           3           8  \n",
       "\n",
       "[5 rows x 27 columns]"
      ]
     },
     "execution_count": 256,
     "metadata": {},
     "output_type": "execute_result"
    }
   ],
   "source": [
    "readmit.head()"
   ]
  },
  {
   "cell_type": "code",
   "execution_count": 257,
   "id": "dc2c574e-fb38-4411-b7ee-550e535bcdd0",
   "metadata": {},
   "outputs": [],
   "source": [
    "# Count Readmit Days For Each Subject\n",
    "\n",
    "def count_days(df):\n",
    "    ID = df.loc[0, 'SUBJECT_ID']\n",
    "    count = 0\n",
    "    day = df.loc[0, 'ADMITTIME']\n",
    "    \n",
    "    for i in range(len(df)):\n",
    "        if df.loc[i, 'SUBJECT_ID'] == ID:\n",
    "            count += 1\n",
    "        else:\n",
    "            ID = df.loc[i, 'SUBJECT_ID']\n",
    "            count = 1\n",
    "            \n",
    "        if count > 1:\n",
    "            df.loc[i, 'READMIT_DAY'] = (df.loc[i,'ADMITTIME'] - day).days\n",
    "            day = df.loc[i, 'ADMITTIME']\n",
    "        else:\n",
    "            df.loc[i, 'READMIT_DAY'] = 0\n",
    "            day = df.loc[i, 'DISCHTIME']\n",
    "            \n",
    "            \n",
    "    return df"
   ]
  },
  {
   "cell_type": "code",
   "execution_count": 258,
   "id": "d70ce26a-5745-476f-9c91-c9448807dc09",
   "metadata": {},
   "outputs": [],
   "source": [
    "readmit = count_days(readmit)"
   ]
  },
  {
   "cell_type": "code",
   "execution_count": 259,
   "id": "9b68f656-6173-43e6-9dd5-8e1affd3116b",
   "metadata": {},
   "outputs": [],
   "source": [
    "readmit['READMIT_DAY'] = readmit['READMIT_DAY'].astype(int)"
   ]
  },
  {
   "cell_type": "code",
   "execution_count": 260,
   "id": "b4a759f4-8a4a-480f-add4-67387b2020e1",
   "metadata": {},
   "outputs": [],
   "source": [
    "readmit = readmit[(readmit['READMIT_DAY'] > 0) & (readmit['READMIT_DAY'] <= 30)]"
   ]
  },
  {
   "cell_type": "code",
   "execution_count": 261,
   "id": "4fc1ef39-2ed6-4140-9f36-8341792c1e30",
   "metadata": {},
   "outputs": [],
   "source": [
    "readmit=readmit.reset_index(drop=True)"
   ]
  },
  {
   "cell_type": "code",
   "execution_count": 262,
   "id": "6f94d67c-8e8c-4512-81f5-0fd6ffae5a03",
   "metadata": {},
   "outputs": [
    {
     "data": {
      "text/html": [
       "<div>\n",
       "<style scoped>\n",
       "    .dataframe tbody tr th:only-of-type {\n",
       "        vertical-align: middle;\n",
       "    }\n",
       "\n",
       "    .dataframe tbody tr th {\n",
       "        vertical-align: top;\n",
       "    }\n",
       "\n",
       "    .dataframe thead th {\n",
       "        text-align: right;\n",
       "    }\n",
       "</style>\n",
       "<table border=\"1\" class=\"dataframe\">\n",
       "  <thead>\n",
       "    <tr style=\"text-align: right;\">\n",
       "      <th></th>\n",
       "      <th>SUBJECT_ID</th>\n",
       "      <th>HADM_ID</th>\n",
       "      <th>ADMITTIME</th>\n",
       "      <th>DISCHTIME</th>\n",
       "      <th>DEATHTIME</th>\n",
       "      <th>ADMISSION_TYPE</th>\n",
       "      <th>ADMISSION_LOCATION</th>\n",
       "      <th>DISCHARGE_LOCATION</th>\n",
       "      <th>INSURANCE</th>\n",
       "      <th>LANGUAGE</th>\n",
       "      <th>...</th>\n",
       "      <th>GENDER</th>\n",
       "      <th>DOB</th>\n",
       "      <th>DOD</th>\n",
       "      <th>DOD_HOSP</th>\n",
       "      <th>DOD_SSN</th>\n",
       "      <th>EXPIRE_FLAG</th>\n",
       "      <th>AGE</th>\n",
       "      <th>ADMIT_TIMES</th>\n",
       "      <th>LENGTH_STAY</th>\n",
       "      <th>READMIT_DAY</th>\n",
       "    </tr>\n",
       "  </thead>\n",
       "  <tbody>\n",
       "    <tr>\n",
       "      <th>0</th>\n",
       "      <td>36</td>\n",
       "      <td>122659</td>\n",
       "      <td>2131-05-12</td>\n",
       "      <td>2131-05-25</td>\n",
       "      <td>NaN</td>\n",
       "      <td>EMERGENCY</td>\n",
       "      <td>EMERGENCY ROOM ADMIT</td>\n",
       "      <td>REHAB/DISTINCT PART HOSP</td>\n",
       "      <td>Medicare</td>\n",
       "      <td>ENGL</td>\n",
       "      <td>...</td>\n",
       "      <td>M</td>\n",
       "      <td>2061-08-17</td>\n",
       "      <td>NaN</td>\n",
       "      <td>NaN</td>\n",
       "      <td>NaN</td>\n",
       "      <td>0</td>\n",
       "      <td>69</td>\n",
       "      <td>3</td>\n",
       "      <td>13</td>\n",
       "      <td>4</td>\n",
       "    </tr>\n",
       "    <tr>\n",
       "      <th>1</th>\n",
       "      <td>362</td>\n",
       "      <td>150873</td>\n",
       "      <td>2112-07-28</td>\n",
       "      <td>2112-08-03</td>\n",
       "      <td>NaN</td>\n",
       "      <td>EMERGENCY</td>\n",
       "      <td>EMERGENCY ROOM ADMIT</td>\n",
       "      <td>SNF</td>\n",
       "      <td>Medicare</td>\n",
       "      <td>NaN</td>\n",
       "      <td>...</td>\n",
       "      <td>F</td>\n",
       "      <td>2026-09-23</td>\n",
       "      <td>2115-08-04 00:00:00</td>\n",
       "      <td>NaN</td>\n",
       "      <td>2115-08-04 00:00:00</td>\n",
       "      <td>1</td>\n",
       "      <td>85</td>\n",
       "      <td>2</td>\n",
       "      <td>6</td>\n",
       "      <td>12</td>\n",
       "    </tr>\n",
       "    <tr>\n",
       "      <th>2</th>\n",
       "      <td>68</td>\n",
       "      <td>108329</td>\n",
       "      <td>2174-01-04</td>\n",
       "      <td>2174-01-19</td>\n",
       "      <td>NaN</td>\n",
       "      <td>EMERGENCY</td>\n",
       "      <td>EMERGENCY ROOM ADMIT</td>\n",
       "      <td>SNF</td>\n",
       "      <td>Medicare</td>\n",
       "      <td>NaN</td>\n",
       "      <td>...</td>\n",
       "      <td>F</td>\n",
       "      <td>2132-02-29</td>\n",
       "      <td>2174-02-11 00:00:00</td>\n",
       "      <td>NaN</td>\n",
       "      <td>2174-02-11 00:00:00</td>\n",
       "      <td>1</td>\n",
       "      <td>41</td>\n",
       "      <td>2</td>\n",
       "      <td>15</td>\n",
       "      <td>1</td>\n",
       "    </tr>\n",
       "    <tr>\n",
       "      <th>3</th>\n",
       "      <td>103</td>\n",
       "      <td>133550</td>\n",
       "      <td>2144-08-30</td>\n",
       "      <td>2144-09-01</td>\n",
       "      <td>2144-09-01 14:28:00</td>\n",
       "      <td>EMERGENCY</td>\n",
       "      <td>EMERGENCY ROOM ADMIT</td>\n",
       "      <td>DEAD/EXPIRED</td>\n",
       "      <td>Private</td>\n",
       "      <td>NaN</td>\n",
       "      <td>...</td>\n",
       "      <td>F</td>\n",
       "      <td>2084-04-14</td>\n",
       "      <td>2144-09-01 00:00:00</td>\n",
       "      <td>2144-09-01 00:00:00</td>\n",
       "      <td>2144-09-01 00:00:00</td>\n",
       "      <td>1</td>\n",
       "      <td>60</td>\n",
       "      <td>2</td>\n",
       "      <td>2</td>\n",
       "      <td>10</td>\n",
       "    </tr>\n",
       "    <tr>\n",
       "      <th>4</th>\n",
       "      <td>105</td>\n",
       "      <td>128744</td>\n",
       "      <td>2189-02-21</td>\n",
       "      <td>2189-02-25</td>\n",
       "      <td>NaN</td>\n",
       "      <td>EMERGENCY</td>\n",
       "      <td>EMERGENCY ROOM ADMIT</td>\n",
       "      <td>HOME HEALTH CARE</td>\n",
       "      <td>Medicare</td>\n",
       "      <td>NaN</td>\n",
       "      <td>...</td>\n",
       "      <td>F</td>\n",
       "      <td>2153-09-26</td>\n",
       "      <td>2190-02-15 00:00:00</td>\n",
       "      <td>NaN</td>\n",
       "      <td>2190-02-15 00:00:00</td>\n",
       "      <td>1</td>\n",
       "      <td>35</td>\n",
       "      <td>2</td>\n",
       "      <td>4</td>\n",
       "      <td>19</td>\n",
       "    </tr>\n",
       "  </tbody>\n",
       "</table>\n",
       "<p>5 rows × 28 columns</p>\n",
       "</div>"
      ],
      "text/plain": [
       "   SUBJECT_ID  HADM_ID   ADMITTIME   DISCHTIME            DEATHTIME  \\\n",
       "0          36   122659  2131-05-12  2131-05-25                  NaN   \n",
       "1         362   150873  2112-07-28  2112-08-03                  NaN   \n",
       "2          68   108329  2174-01-04  2174-01-19                  NaN   \n",
       "3         103   133550  2144-08-30  2144-09-01  2144-09-01 14:28:00   \n",
       "4         105   128744  2189-02-21  2189-02-25                  NaN   \n",
       "\n",
       "  ADMISSION_TYPE    ADMISSION_LOCATION        DISCHARGE_LOCATION INSURANCE  \\\n",
       "0      EMERGENCY  EMERGENCY ROOM ADMIT  REHAB/DISTINCT PART HOSP  Medicare   \n",
       "1      EMERGENCY  EMERGENCY ROOM ADMIT                       SNF  Medicare   \n",
       "2      EMERGENCY  EMERGENCY ROOM ADMIT                       SNF  Medicare   \n",
       "3      EMERGENCY  EMERGENCY ROOM ADMIT              DEAD/EXPIRED   Private   \n",
       "4      EMERGENCY  EMERGENCY ROOM ADMIT          HOME HEALTH CARE  Medicare   \n",
       "\n",
       "  LANGUAGE  ... GENDER         DOB                  DOD             DOD_HOSP  \\\n",
       "0     ENGL  ...      M  2061-08-17                  NaN                  NaN   \n",
       "1      NaN  ...      F  2026-09-23  2115-08-04 00:00:00                  NaN   \n",
       "2      NaN  ...      F  2132-02-29  2174-02-11 00:00:00                  NaN   \n",
       "3      NaN  ...      F  2084-04-14  2144-09-01 00:00:00  2144-09-01 00:00:00   \n",
       "4      NaN  ...      F  2153-09-26  2190-02-15 00:00:00                  NaN   \n",
       "\n",
       "               DOD_SSN EXPIRE_FLAG  AGE  ADMIT_TIMES LENGTH_STAY READMIT_DAY  \n",
       "0                  NaN           0   69            3          13           4  \n",
       "1  2115-08-04 00:00:00           1   85            2           6          12  \n",
       "2  2174-02-11 00:00:00           1   41            2          15           1  \n",
       "3  2144-09-01 00:00:00           1   60            2           2          10  \n",
       "4  2190-02-15 00:00:00           1   35            2           4          19  \n",
       "\n",
       "[5 rows x 28 columns]"
      ]
     },
     "execution_count": 262,
     "metadata": {},
     "output_type": "execute_result"
    }
   ],
   "source": [
    "readmit.head()"
   ]
  },
  {
   "cell_type": "markdown",
   "id": "836bd40b-be32-481a-9c6f-cb92dd942e90",
   "metadata": {
    "jp-MarkdownHeadingCollapsed": true,
    "tags": []
   },
   "source": [
    "#### Test Function"
   ]
  },
  {
   "cell_type": "code",
   "execution_count": 63,
   "id": "dc6034c4-ad6b-4112-b6c0-0535d44c6c1a",
   "metadata": {},
   "outputs": [],
   "source": [
    "# test\n",
    "data = {'SUBJECT_ID': [23, 23,\n",
    "                 24, 24, 25, 25, 25],\n",
    "        'ADMITTIME': ['2153-09-03 07:15:00', '2157-10-18 19:34:00', '2186-07-18 16:46:00', '2191-02-23 05:23:00', '2186-01-16 10:30:00', '2186-02-08 12:30:00', '2189-07-10 18:08:00'],\n",
    "        'DISCHTIME': ['2153-09-08 19:10:00', '2157-10-25 14:00:00', '2186-07-20 16:00:00', '2191-02-25 20:20:00', '2186-01-16 16:30:00', '2186-02-08 20:21:00', '2189-07-17 14:57:00']}\n",
    "\n",
    "df_test = pd.DataFrame(data, columns=['SUBJECT_ID', 'ADMITTIME',\n",
    "                                 'DISCHTIME'])"
   ]
  },
  {
   "cell_type": "code",
   "execution_count": 64,
   "id": "75a3e73f-f263-4b04-af2b-de543a549367",
   "metadata": {},
   "outputs": [],
   "source": [
    "df_test['ADMITTIME'] = pd.to_datetime(df_test['ADMITTIME']).dt.date\n",
    "df_test['DISCHTIME'] = pd.to_datetime(df_test['DISCHTIME']).dt.date\n",
    "\n",
    "df_new = count_days(df_test)\n",
    "df_new['READMIT_DAY'] = df_new['READMIT_DAY'].astype(int)"
   ]
  },
  {
   "cell_type": "code",
   "execution_count": 65,
   "id": "0bd26e85-5926-4754-81ae-7d49ab756149",
   "metadata": {},
   "outputs": [
    {
     "data": {
      "text/html": [
       "<div>\n",
       "<style scoped>\n",
       "    .dataframe tbody tr th:only-of-type {\n",
       "        vertical-align: middle;\n",
       "    }\n",
       "\n",
       "    .dataframe tbody tr th {\n",
       "        vertical-align: top;\n",
       "    }\n",
       "\n",
       "    .dataframe thead th {\n",
       "        text-align: right;\n",
       "    }\n",
       "</style>\n",
       "<table border=\"1\" class=\"dataframe\">\n",
       "  <thead>\n",
       "    <tr style=\"text-align: right;\">\n",
       "      <th></th>\n",
       "      <th>SUBJECT_ID</th>\n",
       "      <th>ADMITTIME</th>\n",
       "      <th>DISCHTIME</th>\n",
       "      <th>READMIT_DAY</th>\n",
       "    </tr>\n",
       "  </thead>\n",
       "  <tbody>\n",
       "    <tr>\n",
       "      <th>0</th>\n",
       "      <td>23</td>\n",
       "      <td>2153-09-03</td>\n",
       "      <td>2153-09-08</td>\n",
       "      <td>0</td>\n",
       "    </tr>\n",
       "    <tr>\n",
       "      <th>1</th>\n",
       "      <td>23</td>\n",
       "      <td>2157-10-18</td>\n",
       "      <td>2157-10-25</td>\n",
       "      <td>1501</td>\n",
       "    </tr>\n",
       "    <tr>\n",
       "      <th>2</th>\n",
       "      <td>24</td>\n",
       "      <td>2186-07-18</td>\n",
       "      <td>2186-07-20</td>\n",
       "      <td>0</td>\n",
       "    </tr>\n",
       "    <tr>\n",
       "      <th>3</th>\n",
       "      <td>24</td>\n",
       "      <td>2191-02-23</td>\n",
       "      <td>2191-02-25</td>\n",
       "      <td>1679</td>\n",
       "    </tr>\n",
       "    <tr>\n",
       "      <th>4</th>\n",
       "      <td>25</td>\n",
       "      <td>2186-01-16</td>\n",
       "      <td>2186-01-16</td>\n",
       "      <td>0</td>\n",
       "    </tr>\n",
       "    <tr>\n",
       "      <th>5</th>\n",
       "      <td>25</td>\n",
       "      <td>2186-02-08</td>\n",
       "      <td>2186-02-08</td>\n",
       "      <td>23</td>\n",
       "    </tr>\n",
       "    <tr>\n",
       "      <th>6</th>\n",
       "      <td>25</td>\n",
       "      <td>2189-07-10</td>\n",
       "      <td>2189-07-17</td>\n",
       "      <td>1248</td>\n",
       "    </tr>\n",
       "  </tbody>\n",
       "</table>\n",
       "</div>"
      ],
      "text/plain": [
       "   SUBJECT_ID   ADMITTIME   DISCHTIME  READMIT_DAY\n",
       "0          23  2153-09-03  2153-09-08            0\n",
       "1          23  2157-10-18  2157-10-25         1501\n",
       "2          24  2186-07-18  2186-07-20            0\n",
       "3          24  2191-02-23  2191-02-25         1679\n",
       "4          25  2186-01-16  2186-01-16            0\n",
       "5          25  2186-02-08  2186-02-08           23\n",
       "6          25  2189-07-10  2189-07-17         1248"
      ]
     },
     "execution_count": 65,
     "metadata": {},
     "output_type": "execute_result"
    }
   ],
   "source": [
    "df_new"
   ]
  },
  {
   "cell_type": "markdown",
   "id": "afc873e1-d10e-4d64-b5ee-36aa3ba3c577",
   "metadata": {},
   "source": [
    "# Patient With VTE Readmit Within 30 days"
   ]
  },
  {
   "cell_type": "code",
   "execution_count": 263,
   "id": "6743ebc6-db57-45f1-8ba8-071aa10887f7",
   "metadata": {},
   "outputs": [],
   "source": [
    "readmit_subset = readmit[['SUBJECT_ID', 'HADM_ID', 'READMIT_DAY']]"
   ]
  },
  {
   "cell_type": "code",
   "execution_count": 264,
   "id": "066ebffe-59a1-4b60-91ba-59b80b7da4cd",
   "metadata": {},
   "outputs": [],
   "source": [
    "vte_readmit = pd.merge(vte_adm, readmit_subset, how='inner', on=['SUBJECT_ID', 'HADM_ID'])"
   ]
  },
  {
   "cell_type": "code",
   "execution_count": 265,
   "id": "93f11f99-ca6f-4dc1-8649-d3d53b6ba0b0",
   "metadata": {},
   "outputs": [],
   "source": [
    "vte_readmit = vte_readmit.drop('ROW_ID', axis=1)"
   ]
  },
  {
   "cell_type": "code",
   "execution_count": 280,
   "id": "1075699d-8181-433b-a840-3abc9316438c",
   "metadata": {},
   "outputs": [
    {
     "data": {
      "text/plain": [
       "(129, 31)"
      ]
     },
     "execution_count": 280,
     "metadata": {},
     "output_type": "execute_result"
    }
   ],
   "source": [
    "vte_readmit.shape"
   ]
  },
  {
   "cell_type": "markdown",
   "id": "db97a4c4-5b5d-42ec-8d0e-429a9669c419",
   "metadata": {
    "jp-MarkdownHeadingCollapsed": true,
    "tags": []
   },
   "source": [
    "#### Gender"
   ]
  },
  {
   "cell_type": "code",
   "execution_count": 320,
   "id": "cb0f73fd-0487-45bf-8f18-3369f7114692",
   "metadata": {},
   "outputs": [
    {
     "data": {
      "text/plain": [
       "M    77\n",
       "F    52\n",
       "Name: GENDER, dtype: int64"
      ]
     },
     "execution_count": 320,
     "metadata": {},
     "output_type": "execute_result"
    }
   ],
   "source": [
    "vte_readmit.GENDER.value_counts()"
   ]
  },
  {
   "cell_type": "markdown",
   "id": "763e723c-04e6-48f3-8bd3-985791bbcd0f",
   "metadata": {
    "jp-MarkdownHeadingCollapsed": true,
    "tags": []
   },
   "source": [
    "#### Race"
   ]
  },
  {
   "cell_type": "code",
   "execution_count": 322,
   "id": "be295d32-7dd0-4f4e-85ce-f657e01b0d29",
   "metadata": {},
   "outputs": [],
   "source": [
    "# total\n",
    "race2 = vte_readmit.groupby('ETHNICITY').size()\n",
    "race2_prop = race2.div(len(vte_readmit))*100"
   ]
  },
  {
   "cell_type": "code",
   "execution_count": 323,
   "id": "aa078cf7-13ac-4edd-8d69-fa28fc221668",
   "metadata": {},
   "outputs": [
    {
     "data": {
      "text/plain": [
       "ETHNICITY\n",
       "WHITE                    78.294574\n",
       "BLACK                    13.953488\n",
       "HISPANIC OR LATINO        4.651163\n",
       "UNKNOWN/NOT SPECIFIED     1.550388\n",
       "OTHER                     0.775194\n",
       "UNABLE TO OBTAIN          0.775194\n",
       "dtype: float64"
      ]
     },
     "execution_count": 323,
     "metadata": {},
     "output_type": "execute_result"
    }
   ],
   "source": [
    "race2_prop.sort_values(ascending=False)"
   ]
  },
  {
   "cell_type": "code",
   "execution_count": 325,
   "id": "bf5b75b8-651a-416e-8ca8-861448cff735",
   "metadata": {},
   "outputs": [
    {
     "data": {
      "text/plain": [
       "ETHNICITY\n",
       "WHITE                    101\n",
       "BLACK                     18\n",
       "HISPANIC OR LATINO         6\n",
       "UNKNOWN/NOT SPECIFIED      2\n",
       "OTHER                      1\n",
       "UNABLE TO OBTAIN           1\n",
       "dtype: int64"
      ]
     },
     "execution_count": 325,
     "metadata": {},
     "output_type": "execute_result"
    }
   ],
   "source": [
    "race2.sort_values(ascending=False)"
   ]
  },
  {
   "cell_type": "code",
   "execution_count": 326,
   "id": "6bdc9b56-6d45-4247-b303-85f519552f53",
   "metadata": {},
   "outputs": [],
   "source": [
    "# female\n",
    "race2_f = vte_readmit[vte_readmit['GENDER'] == 'F'].groupby('ETHNICITY').size()\n",
    "race2_f_prop = race2_f.div(len(vte_readmit))*100"
   ]
  },
  {
   "cell_type": "code",
   "execution_count": 327,
   "id": "aab20a14-cb3f-4fcf-8a36-18e5772c55fe",
   "metadata": {},
   "outputs": [
    {
     "data": {
      "text/plain": [
       "ETHNICITY\n",
       "WHITE                 28.682171\n",
       "BLACK                  9.302326\n",
       "HISPANIC OR LATINO     1.550388\n",
       "OTHER                  0.775194\n",
       "dtype: float64"
      ]
     },
     "execution_count": 327,
     "metadata": {},
     "output_type": "execute_result"
    }
   ],
   "source": [
    "race2_f_prop.sort_values(ascending=False)"
   ]
  },
  {
   "cell_type": "code",
   "execution_count": 328,
   "id": "4eb6e9ff-13d3-43eb-930e-67dcba9b109c",
   "metadata": {},
   "outputs": [
    {
     "data": {
      "text/plain": [
       "ETHNICITY\n",
       "WHITE                 37\n",
       "BLACK                 12\n",
       "HISPANIC OR LATINO     2\n",
       "OTHER                  1\n",
       "dtype: int64"
      ]
     },
     "execution_count": 328,
     "metadata": {},
     "output_type": "execute_result"
    }
   ],
   "source": [
    "race2_f.sort_values(ascending=False)"
   ]
  },
  {
   "cell_type": "code",
   "execution_count": 330,
   "id": "1123163f-fd4b-4267-ade7-6924fbceb6a4",
   "metadata": {},
   "outputs": [],
   "source": [
    "# male\n",
    "race2_m = vte_readmit[vte_readmit['GENDER'] == 'M'].groupby('ETHNICITY').size()\n",
    "race2_m_prop = race2_m.div(len(vte_readmit))*100"
   ]
  },
  {
   "cell_type": "code",
   "execution_count": 332,
   "id": "620bfd7f-9aa3-402d-893e-1c6ea8d8fb57",
   "metadata": {},
   "outputs": [
    {
     "data": {
      "text/plain": [
       "ETHNICITY\n",
       "WHITE                    49.612403\n",
       "BLACK                     4.651163\n",
       "HISPANIC OR LATINO        3.100775\n",
       "UNKNOWN/NOT SPECIFIED     1.550388\n",
       "UNABLE TO OBTAIN          0.775194\n",
       "dtype: float64"
      ]
     },
     "execution_count": 332,
     "metadata": {},
     "output_type": "execute_result"
    }
   ],
   "source": [
    "race2_m_prop.sort_values(ascending=False)"
   ]
  },
  {
   "cell_type": "code",
   "execution_count": 333,
   "id": "36a5fa64-cc32-4158-a924-bf9f6853f88a",
   "metadata": {},
   "outputs": [
    {
     "data": {
      "text/plain": [
       "ETHNICITY\n",
       "WHITE                    64\n",
       "BLACK                     6\n",
       "HISPANIC OR LATINO        4\n",
       "UNKNOWN/NOT SPECIFIED     2\n",
       "UNABLE TO OBTAIN          1\n",
       "dtype: int64"
      ]
     },
     "execution_count": 333,
     "metadata": {},
     "output_type": "execute_result"
    }
   ],
   "source": [
    "race2_m.sort_values(ascending=False)"
   ]
  },
  {
   "cell_type": "markdown",
   "id": "49b66539-a3d3-43ec-bd22-f422f37f0625",
   "metadata": {},
   "source": [
    "#### Age"
   ]
  },
  {
   "cell_type": "code",
   "execution_count": 278,
   "id": "1cf903f1-f64d-4a5d-ad17-9d65bfb23041",
   "metadata": {},
   "outputs": [
    {
     "data": {
      "text/plain": [
       "count    129.000000\n",
       "mean      70.604651\n",
       "std       38.444444\n",
       "min       22.000000\n",
       "25%       56.000000\n",
       "50%       68.000000\n",
       "75%       78.000000\n",
       "max      300.000000\n",
       "Name: AGE, dtype: float64"
      ]
     },
     "execution_count": 278,
     "metadata": {},
     "output_type": "execute_result"
    }
   ],
   "source": [
    "vte_readmit['AGE'].describe()"
   ]
  },
  {
   "cell_type": "code",
   "execution_count": 279,
   "id": "abcf1303-f139-47a5-a58f-06e879466698",
   "metadata": {},
   "outputs": [
    {
     "data": {
      "text/plain": [
       "count     52.000000\n",
       "mean      68.961538\n",
       "std       36.433104\n",
       "min       24.000000\n",
       "25%       54.000000\n",
       "50%       67.500000\n",
       "75%       76.500000\n",
       "max      300.000000\n",
       "Name: AGE, dtype: float64"
      ]
     },
     "execution_count": 279,
     "metadata": {},
     "output_type": "execute_result"
    }
   ],
   "source": [
    "# female\n",
    "vte_readmit['AGE'][vte_readmit['GENDER'] == 'F'].describe()"
   ]
  },
  {
   "cell_type": "code",
   "execution_count": 281,
   "id": "77a82f11-0752-461e-a927-fcdab718cac3",
   "metadata": {},
   "outputs": [
    {
     "data": {
      "text/plain": [
       "count     77.000000\n",
       "mean      71.714286\n",
       "std       39.942346\n",
       "min       22.000000\n",
       "25%       57.000000\n",
       "50%       68.000000\n",
       "75%       78.000000\n",
       "max      300.000000\n",
       "Name: AGE, dtype: float64"
      ]
     },
     "execution_count": 281,
     "metadata": {},
     "output_type": "execute_result"
    }
   ],
   "source": [
    "# male\n",
    "vte_readmit['AGE'][vte_readmit['GENDER'] == 'M'].describe()"
   ]
  },
  {
   "cell_type": "markdown",
   "id": "a4def701-0421-4ccd-b4f9-f860a877944c",
   "metadata": {},
   "source": [
    "#### Length Stay"
   ]
  },
  {
   "cell_type": "code",
   "execution_count": 282,
   "id": "0bbab9d8-77f9-43b1-9e40-6e75c7a4b419",
   "metadata": {},
   "outputs": [
    {
     "data": {
      "text/plain": [
       "count    129.000000\n",
       "mean      15.457364\n",
       "std       15.531222\n",
       "min        2.000000\n",
       "25%        7.000000\n",
       "50%       12.000000\n",
       "75%       17.000000\n",
       "max      100.000000\n",
       "Name: LENGTH_STAY, dtype: float64"
      ]
     },
     "execution_count": 282,
     "metadata": {},
     "output_type": "execute_result"
    }
   ],
   "source": [
    "vte_readmit['LENGTH_STAY'].describe()"
   ]
  },
  {
   "cell_type": "code",
   "execution_count": 283,
   "id": "b5d65912-d832-4ebb-8dfd-11c3829a8fa9",
   "metadata": {},
   "outputs": [
    {
     "data": {
      "text/plain": [
       "count     52.000000\n",
       "mean      16.769231\n",
       "std       19.228875\n",
       "min        2.000000\n",
       "25%        6.000000\n",
       "50%       11.000000\n",
       "75%       20.000000\n",
       "max      100.000000\n",
       "Name: LENGTH_STAY, dtype: float64"
      ]
     },
     "execution_count": 283,
     "metadata": {},
     "output_type": "execute_result"
    }
   ],
   "source": [
    "# female\n",
    "vte_readmit['LENGTH_STAY'][vte_readmit['GENDER'] == 'F'].describe()"
   ]
  },
  {
   "cell_type": "code",
   "execution_count": 284,
   "id": "bdab2441-5f07-405a-940c-6d3912b1ddc1",
   "metadata": {},
   "outputs": [
    {
     "data": {
      "text/plain": [
       "count    77.000000\n",
       "mean     14.571429\n",
       "std      12.496766\n",
       "min       2.000000\n",
       "25%       7.000000\n",
       "50%      12.000000\n",
       "75%      17.000000\n",
       "max      83.000000\n",
       "Name: LENGTH_STAY, dtype: float64"
      ]
     },
     "execution_count": 284,
     "metadata": {},
     "output_type": "execute_result"
    }
   ],
   "source": [
    "# male\n",
    "vte_readmit['LENGTH_STAY'][vte_readmit['GENDER'] == 'M'].describe()"
   ]
  },
  {
   "cell_type": "markdown",
   "id": "3ac3d561-2289-4141-bb66-10c2c8757d30",
   "metadata": {},
   "source": [
    "#### Admit Times"
   ]
  },
  {
   "cell_type": "code",
   "execution_count": 285,
   "id": "946ae322-fe0d-4eaf-b6f3-7122d833b295",
   "metadata": {},
   "outputs": [
    {
     "data": {
      "text/plain": [
       "count    129.000000\n",
       "mean       3.976744\n",
       "std        4.453694\n",
       "min        2.000000\n",
       "25%        2.000000\n",
       "50%        3.000000\n",
       "75%        4.000000\n",
       "max       34.000000\n",
       "Name: ADMIT_TIMES, dtype: float64"
      ]
     },
     "execution_count": 285,
     "metadata": {},
     "output_type": "execute_result"
    }
   ],
   "source": [
    "vte_readmit['ADMIT_TIMES'].describe()"
   ]
  },
  {
   "cell_type": "code",
   "execution_count": 286,
   "id": "f79d10eb-0c21-49a0-b9be-0ddf1bcada6e",
   "metadata": {},
   "outputs": [
    {
     "data": {
      "text/plain": [
       "count    52.000000\n",
       "mean      4.557692\n",
       "std       6.399796\n",
       "min       2.000000\n",
       "25%       2.000000\n",
       "50%       3.000000\n",
       "75%       4.000000\n",
       "max      34.000000\n",
       "Name: ADMIT_TIMES, dtype: float64"
      ]
     },
     "execution_count": 286,
     "metadata": {},
     "output_type": "execute_result"
    }
   ],
   "source": [
    "# female\n",
    "vte_readmit['ADMIT_TIMES'][vte_readmit['GENDER'] == 'F'].describe()"
   ]
  },
  {
   "cell_type": "code",
   "execution_count": 287,
   "id": "1e43d1e2-61b6-4cf9-a7e7-664402b3275a",
   "metadata": {},
   "outputs": [
    {
     "data": {
      "text/plain": [
       "count    77.000000\n",
       "mean      3.584416\n",
       "std       2.352774\n",
       "min       2.000000\n",
       "25%       2.000000\n",
       "50%       3.000000\n",
       "75%       5.000000\n",
       "max      12.000000\n",
       "Name: ADMIT_TIMES, dtype: float64"
      ]
     },
     "execution_count": 287,
     "metadata": {},
     "output_type": "execute_result"
    }
   ],
   "source": [
    "# male\n",
    "vte_readmit['ADMIT_TIMES'][vte_readmit['GENDER'] == 'M'].describe()"
   ]
  },
  {
   "cell_type": "markdown",
   "id": "c350970f-181d-4cd8-b8cf-5cc487bf632c",
   "metadata": {},
   "source": [
    "#### Readmit Days"
   ]
  },
  {
   "cell_type": "code",
   "execution_count": 288,
   "id": "3a682286-2ec6-4279-8694-77ddd23aab64",
   "metadata": {},
   "outputs": [
    {
     "data": {
      "text/plain": [
       "count    129.000000\n",
       "mean      14.093023\n",
       "std        8.760210\n",
       "min        1.000000\n",
       "25%        7.000000\n",
       "50%       13.000000\n",
       "75%       21.000000\n",
       "max       30.000000\n",
       "Name: READMIT_DAY, dtype: float64"
      ]
     },
     "execution_count": 288,
     "metadata": {},
     "output_type": "execute_result"
    }
   ],
   "source": [
    "vte_readmit['READMIT_DAY'].describe()"
   ]
  },
  {
   "cell_type": "code",
   "execution_count": 290,
   "id": "808123b3-2a61-4665-8fc1-2a9a593649a1",
   "metadata": {},
   "outputs": [
    {
     "data": {
      "text/plain": [
       "count    52.000000\n",
       "mean     13.692308\n",
       "std       8.667131\n",
       "min       1.000000\n",
       "25%       7.000000\n",
       "50%      11.000000\n",
       "75%      19.500000\n",
       "max      30.000000\n",
       "Name: READMIT_DAY, dtype: float64"
      ]
     },
     "execution_count": 290,
     "metadata": {},
     "output_type": "execute_result"
    }
   ],
   "source": [
    "# female\n",
    "vte_readmit['READMIT_DAY'][vte_readmit['GENDER'] == 'F'].describe()"
   ]
  },
  {
   "cell_type": "code",
   "execution_count": 291,
   "id": "4a520b2e-3bd1-4487-9db2-c76d901ef956",
   "metadata": {},
   "outputs": [
    {
     "data": {
      "text/plain": [
       "count    77.000000\n",
       "mean     14.363636\n",
       "std       8.868794\n",
       "min       1.000000\n",
       "25%       6.000000\n",
       "50%      14.000000\n",
       "75%      22.000000\n",
       "max      30.000000\n",
       "Name: READMIT_DAY, dtype: float64"
      ]
     },
     "execution_count": 291,
     "metadata": {},
     "output_type": "execute_result"
    }
   ],
   "source": [
    "# male\n",
    "vte_readmit['READMIT_DAY'][vte_readmit['GENDER'] == 'M'].describe()"
   ]
  }
 ],
 "metadata": {
  "kernelspec": {
   "display_name": "Python 3 (ipykernel)",
   "language": "python",
   "name": "python3"
  },
  "language_info": {
   "codemirror_mode": {
    "name": "ipython",
    "version": 3
   },
   "file_extension": ".py",
   "mimetype": "text/x-python",
   "name": "python",
   "nbconvert_exporter": "python",
   "pygments_lexer": "ipython3",
   "version": "3.9.7"
  }
 },
 "nbformat": 4,
 "nbformat_minor": 5
}
