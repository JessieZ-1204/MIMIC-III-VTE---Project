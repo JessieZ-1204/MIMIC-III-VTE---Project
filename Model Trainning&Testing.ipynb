{
 "cells": [
  {
   "cell_type": "markdown",
   "id": "23e23469-fe5f-4854-b064-f3613e7f9f40",
   "metadata": {},
   "source": [
    "# Load Data"
   ]
  },
  {
   "cell_type": "code",
   "execution_count": 1,
   "id": "47015c83-9ced-45cc-96e4-a6e612550f81",
   "metadata": {},
   "outputs": [],
   "source": [
    "import pandas as pd\n",
    "import numpy as np\n",
    "import matplotlib.pyplot as plt\n",
    "from sklearn.model_selection import train_test_split"
   ]
  },
  {
   "cell_type": "code",
   "execution_count": 2,
   "id": "8aa4c6e7-6477-4361-a120-b28425d23b06",
   "metadata": {},
   "outputs": [],
   "source": [
    "vte = pd.read_csv('New_VTE.csv', index_col=False)\n",
    "nvte = pd.read_csv('New_NVTE.csv', index_col=False)"
   ]
  },
  {
   "cell_type": "code",
   "execution_count": 3,
   "id": "f28d85b2-0f12-428e-863f-2926fb0f96d6",
   "metadata": {},
   "outputs": [],
   "source": [
    "vte = vte.iloc[:, 1:]\n",
    "nvte = nvte.iloc[:, 1:]"
   ]
  },
  {
   "cell_type": "code",
   "execution_count": 4,
   "id": "06d4d967-f7c6-4cdb-b8e9-ed6c70aa6838",
   "metadata": {},
   "outputs": [],
   "source": [
    "# drop diagnossi & admit/type\n",
    "vte = vte.drop(['DIAGNOSIS', 'ADMISSION_TYPE'], axis=1)\n",
    "nvte = nvte.drop(['DIAGNOSIS', 'ADMISSION_TYPE'], axis=1)"
   ]
  },
  {
   "cell_type": "code",
   "execution_count": 5,
   "id": "aabd4465-4cf1-4228-81ec-e51da49d2bb3",
   "metadata": {},
   "outputs": [],
   "source": [
    "#change gender into binary number\n",
    "gender = {'M':1, 'F':0}\n",
    "vte['GENDER'] = [gender[item] for item in vte['GENDER']]\n",
    "nvte['GENDER'] = [gender[item] for item in nvte['GENDER']]\n",
    "\n",
    "# change ethnicity into number\n",
    "enthnicity = {'WHITE':1, 'BLACK':2, 'HISPANIC OR LATINO':3, 'ASIAN':4, 'MIDDLE EASTERN':4, 'PORTUGUESE':5, \n",
    "              'AMERICAN INDIAN/ALASKA NATIVE':6, 'NATIVE HAWAIIAN OR OTHER PACIFIC ISLANDER':7, 'OTHER':0,\n",
    "              'UNKNOWN/NOT SPECIFIED':0, 'UNABLE TO OBTAIN':0, 'PATIENT DECLINED TO ANSWER':0, 'MULTI RACE ETHNICITY':0\n",
    "             }\n",
    "vte['ETHNICITY'] = [enthnicity[item] for item in vte['ETHNICITY']]\n",
    "nvte['ETHNICITY'] = [enthnicity[item] for item in nvte['ETHNICITY']]\n",
    "\n",
    "# change insurance into binary\n",
    "insurance = {'Medicaid':1, 'Private':2, 'Medicare': 3, 'Government': 4, 'Self Pay': 5}\n",
    "vte['INSURANCE'] = [insurance[item] for item in vte['INSURANCE']]\n",
    "nvte['INSURANCE'] = [insurance[item] for item in nvte['INSURANCE']]"
   ]
  },
  {
   "cell_type": "code",
   "execution_count": 6,
   "id": "edf153bd-9476-4424-b2ce-6cf84cc28392",
   "metadata": {},
   "outputs": [],
   "source": [
    "# add target columns for vte and nvte\n",
    "vte['vte'] = 1\n",
    "nvte['vte'] = 0"
   ]
  },
  {
   "cell_type": "code",
   "execution_count": 7,
   "id": "a02a6833-cddc-40ed-a7c7-968fff809c15",
   "metadata": {},
   "outputs": [],
   "source": [
    "df = pd.concat([vte, nvte]).reset_index(drop=True)"
   ]
  },
  {
   "cell_type": "code",
   "execution_count": 8,
   "id": "ac852860-3990-404d-b2f7-896ab9ab9612",
   "metadata": {},
   "outputs": [
    {
     "data": {
      "text/html": [
       "<div>\n",
       "<style scoped>\n",
       "    .dataframe tbody tr th:only-of-type {\n",
       "        vertical-align: middle;\n",
       "    }\n",
       "\n",
       "    .dataframe tbody tr th {\n",
       "        vertical-align: top;\n",
       "    }\n",
       "\n",
       "    .dataframe thead th {\n",
       "        text-align: right;\n",
       "    }\n",
       "</style>\n",
       "<table border=\"1\" class=\"dataframe\">\n",
       "  <thead>\n",
       "    <tr style=\"text-align: right;\">\n",
       "      <th></th>\n",
       "      <th>SUBJECT_ID</th>\n",
       "      <th>HADM_ID</th>\n",
       "      <th>INSURANCE</th>\n",
       "      <th>ETHNICITY</th>\n",
       "      <th>GENDER</th>\n",
       "      <th>AGE</th>\n",
       "      <th>ADMIT_TIMES</th>\n",
       "      <th>LENGTH_STAY</th>\n",
       "      <th>READMIT_DAY</th>\n",
       "      <th>001-009</th>\n",
       "      <th>...</th>\n",
       "      <th>94</th>\n",
       "      <th>95</th>\n",
       "      <th>96</th>\n",
       "      <th>97</th>\n",
       "      <th>98</th>\n",
       "      <th>99</th>\n",
       "      <th>chemistry</th>\n",
       "      <th>hematology</th>\n",
       "      <th>blood gas</th>\n",
       "      <th>vte</th>\n",
       "    </tr>\n",
       "  </thead>\n",
       "  <tbody>\n",
       "    <tr>\n",
       "      <th>0</th>\n",
       "      <td>32810</td>\n",
       "      <td>168208</td>\n",
       "      <td>1</td>\n",
       "      <td>1</td>\n",
       "      <td>1</td>\n",
       "      <td>0.000000</td>\n",
       "      <td>0.0</td>\n",
       "      <td>0.029940</td>\n",
       "      <td>0.103448</td>\n",
       "      <td>0</td>\n",
       "      <td>...</td>\n",
       "      <td>0</td>\n",
       "      <td>0</td>\n",
       "      <td>1</td>\n",
       "      <td>0</td>\n",
       "      <td>0</td>\n",
       "      <td>0</td>\n",
       "      <td>1</td>\n",
       "      <td>1</td>\n",
       "      <td>1</td>\n",
       "      <td>1</td>\n",
       "    </tr>\n",
       "    <tr>\n",
       "      <th>1</th>\n",
       "      <td>32810</td>\n",
       "      <td>189751</td>\n",
       "      <td>1</td>\n",
       "      <td>1</td>\n",
       "      <td>1</td>\n",
       "      <td>0.000000</td>\n",
       "      <td>0.0</td>\n",
       "      <td>0.215569</td>\n",
       "      <td>0.000000</td>\n",
       "      <td>0</td>\n",
       "      <td>...</td>\n",
       "      <td>0</td>\n",
       "      <td>0</td>\n",
       "      <td>1</td>\n",
       "      <td>0</td>\n",
       "      <td>0</td>\n",
       "      <td>0</td>\n",
       "      <td>1</td>\n",
       "      <td>1</td>\n",
       "      <td>1</td>\n",
       "      <td>1</td>\n",
       "    </tr>\n",
       "    <tr>\n",
       "      <th>2</th>\n",
       "      <td>109</td>\n",
       "      <td>124657</td>\n",
       "      <td>1</td>\n",
       "      <td>2</td>\n",
       "      <td>0</td>\n",
       "      <td>0.030769</td>\n",
       "      <td>1.0</td>\n",
       "      <td>0.023952</td>\n",
       "      <td>0.034483</td>\n",
       "      <td>0</td>\n",
       "      <td>...</td>\n",
       "      <td>0</td>\n",
       "      <td>0</td>\n",
       "      <td>0</td>\n",
       "      <td>0</td>\n",
       "      <td>0</td>\n",
       "      <td>0</td>\n",
       "      <td>1</td>\n",
       "      <td>1</td>\n",
       "      <td>0</td>\n",
       "      <td>1</td>\n",
       "    </tr>\n",
       "    <tr>\n",
       "      <th>3</th>\n",
       "      <td>109</td>\n",
       "      <td>176760</td>\n",
       "      <td>1</td>\n",
       "      <td>2</td>\n",
       "      <td>0</td>\n",
       "      <td>0.030769</td>\n",
       "      <td>1.0</td>\n",
       "      <td>0.000000</td>\n",
       "      <td>0.034483</td>\n",
       "      <td>0</td>\n",
       "      <td>...</td>\n",
       "      <td>0</td>\n",
       "      <td>0</td>\n",
       "      <td>0</td>\n",
       "      <td>0</td>\n",
       "      <td>0</td>\n",
       "      <td>0</td>\n",
       "      <td>1</td>\n",
       "      <td>1</td>\n",
       "      <td>1</td>\n",
       "      <td>1</td>\n",
       "    </tr>\n",
       "    <tr>\n",
       "      <th>4</th>\n",
       "      <td>91469</td>\n",
       "      <td>192145</td>\n",
       "      <td>2</td>\n",
       "      <td>1</td>\n",
       "      <td>1</td>\n",
       "      <td>0.046154</td>\n",
       "      <td>0.0</td>\n",
       "      <td>0.041916</td>\n",
       "      <td>0.344828</td>\n",
       "      <td>0</td>\n",
       "      <td>...</td>\n",
       "      <td>0</td>\n",
       "      <td>0</td>\n",
       "      <td>0</td>\n",
       "      <td>0</td>\n",
       "      <td>0</td>\n",
       "      <td>0</td>\n",
       "      <td>1</td>\n",
       "      <td>1</td>\n",
       "      <td>1</td>\n",
       "      <td>1</td>\n",
       "    </tr>\n",
       "  </tbody>\n",
       "</table>\n",
       "<p>5 rows × 297 columns</p>\n",
       "</div>"
      ],
      "text/plain": [
       "   SUBJECT_ID  HADM_ID  INSURANCE  ETHNICITY  GENDER       AGE  ADMIT_TIMES  \\\n",
       "0       32810   168208          1          1       1  0.000000          0.0   \n",
       "1       32810   189751          1          1       1  0.000000          0.0   \n",
       "2         109   124657          1          2       0  0.030769          1.0   \n",
       "3         109   176760          1          2       0  0.030769          1.0   \n",
       "4       91469   192145          2          1       1  0.046154          0.0   \n",
       "\n",
       "   LENGTH_STAY  READMIT_DAY  001-009  ...  94  95  96  97  98  99  chemistry  \\\n",
       "0     0.029940     0.103448        0  ...   0   0   1   0   0   0          1   \n",
       "1     0.215569     0.000000        0  ...   0   0   1   0   0   0          1   \n",
       "2     0.023952     0.034483        0  ...   0   0   0   0   0   0          1   \n",
       "3     0.000000     0.034483        0  ...   0   0   0   0   0   0          1   \n",
       "4     0.041916     0.344828        0  ...   0   0   0   0   0   0          1   \n",
       "\n",
       "   hematology  blood gas  vte  \n",
       "0           1          1    1  \n",
       "1           1          1    1  \n",
       "2           1          0    1  \n",
       "3           1          1    1  \n",
       "4           1          1    1  \n",
       "\n",
       "[5 rows x 297 columns]"
      ]
     },
     "execution_count": 8,
     "metadata": {},
     "output_type": "execute_result"
    }
   ],
   "source": [
    "df.head()"
   ]
  },
  {
   "cell_type": "code",
   "execution_count": 9,
   "id": "14c8ccb5-0acf-4c34-9ec1-60334de956a4",
   "metadata": {},
   "outputs": [],
   "source": [
    "df.to_csv('VTE Readmission With 30 Days.csv')"
   ]
  },
  {
   "cell_type": "markdown",
   "id": "838751d5-6ce2-4a37-a451-705d60715991",
   "metadata": {},
   "source": [
    "# Split Dataset"
   ]
  },
  {
   "cell_type": "code",
   "execution_count": 10,
   "id": "81d1818a-8842-4b0d-a30d-8a37460909e3",
   "metadata": {},
   "outputs": [],
   "source": [
    "X = df.iloc[:, 2:(df.shape[1]-1)]\n",
    "Y = df.iloc[:, df.shape[1]-1]"
   ]
  },
  {
   "cell_type": "code",
   "execution_count": 11,
   "id": "8c61b626-339a-424e-9c32-cd0fb603759c",
   "metadata": {},
   "outputs": [],
   "source": [
    "X_train, X_test, Y_train, Y_test = train_test_split(X, Y, test_size = 0.25, random_state=42)"
   ]
  },
  {
   "cell_type": "code",
   "execution_count": 14,
   "id": "bb55c226-112d-4139-ae1a-b894ed3bbcee",
   "metadata": {},
   "outputs": [
    {
     "data": {
      "text/plain": [
       "(1158, 294)"
      ]
     },
     "execution_count": 14,
     "metadata": {},
     "output_type": "execute_result"
    }
   ],
   "source": [
    "X_test.shape"
   ]
  },
  {
   "cell_type": "markdown",
   "id": "bdd234e3-6fd6-44be-ac11-32a3df8e230f",
   "metadata": {},
   "source": [
    "# Handle Imbalanced Dataset"
   ]
  },
  {
   "cell_type": "code",
   "execution_count": 541,
   "id": "acf085e2-52fe-4827-8f19-d10df992cf77",
   "metadata": {},
   "outputs": [],
   "source": [
    "from imblearn.over_sampling import SMOTE\n",
    "smote = SMOTE()"
   ]
  },
  {
   "cell_type": "code",
   "execution_count": 542,
   "id": "ff587718-87f5-4612-9ef8-bb7a6f7e5220",
   "metadata": {},
   "outputs": [],
   "source": [
    "X_train_smote, Y_train_smote = smote.fit_sample(X_train,Y_train)"
   ]
  },
  {
   "cell_type": "code",
   "execution_count": 543,
   "id": "3e92dff2-a7fc-43f0-a577-b12326459c4c",
   "metadata": {},
   "outputs": [
    {
     "name": "stdout",
     "output_type": "stream",
     "text": [
      "Before SMOTE : Counter({0: 3339, 1: 133})\n",
      "After SMOTE : Counter({0: 3339, 1: 3339})\n"
     ]
    }
   ],
   "source": [
    "print(\"Before SMOTE :\" , Counter(Y_train))\n",
    "print(\"After SMOTE :\" , Counter(Y_train_smote))"
   ]
  },
  {
   "cell_type": "markdown",
   "id": "f5365140-89c6-4464-a6af-33141e548d43",
   "metadata": {
    "tags": []
   },
   "source": [
    "# Balanced Random Forest"
   ]
  },
  {
   "cell_type": "code",
   "execution_count": 544,
   "id": "2699a543-83ff-4a32-ae53-c48cf07315ac",
   "metadata": {},
   "outputs": [],
   "source": [
    "from imblearn.ensemble import BalancedRandomForestClassifier\n",
    "from sklearn.model_selection import GridSearchCV\n",
    "from sklearn.metrics import roc_curve, precision_recall_curve, auc, make_scorer, recall_score, accuracy_score, precision_score, confusion_matrix"
   ]
  },
  {
   "cell_type": "code",
   "execution_count": 545,
   "id": "175fbd57-44e6-4551-98c1-98f2819f6ed0",
   "metadata": {},
   "outputs": [],
   "source": [
    "# Create a dict for tuning parameters\n",
    "brf_para = {}"
   ]
  },
  {
   "cell_type": "code",
   "execution_count": 563,
   "id": "e6988399-dbea-4e28-8aef-0fa20fa6aabc",
   "metadata": {},
   "outputs": [],
   "source": [
    "brf_para['n_estimators'] = [10, 25, 50, 100, 150, 200]\n",
    "brf_para['max_depth'] = [2,4, 6, 8, 10]\n",
    "brf_para['min_samples_split'] = [2, 3, 4, 5]\n",
    "brf_para['min_samples_leaf'] = [15, 20, 25, 30]"
   ]
  },
  {
   "cell_type": "markdown",
   "id": "68713621-c1ce-4ea9-b8a2-d6fbea383e2f",
   "metadata": {
    "tags": []
   },
   "source": [
    "## maybe delete"
   ]
  },
  {
   "cell_type": "code",
   "execution_count": 564,
   "id": "16082721-3bf1-45d8-9c54-df8900236b1e",
   "metadata": {},
   "outputs": [],
   "source": [
    "sen_lst=[]\n",
    "spe_lst=[]\n",
    "auc_lst=[]\n",
    "para_lst = []"
   ]
  },
  {
   "cell_type": "code",
   "execution_count": 565,
   "id": "b8015d16-3de8-45e9-a8f1-ce5eae4de1e5",
   "metadata": {},
   "outputs": [],
   "source": [
    "# Tune the best parameters\n",
    "for i in brf_para['n_estimators']:\n",
    "    for j in brf_para['max_depth']:\n",
    "        for k in brf_para['min_samples_split']:\n",
    "            for m in brf_para['min_samples_leaf']:\n",
    "                model = BalancedRandomForestClassifier(n_estimators=i, max_depth=j, \n",
    "                                                       max_features='log2',\n",
    "                                                       min_samples_split=k,\n",
    "                                                       min_samples_leaf=m,\n",
    "                                                       random_state=1,\n",
    "                                                       n_jobs = -1)\n",
    "                model.fit(X_train, Y_train)\n",
    "                y_pred = model.predict(X_train)\n",
    "                tn, fp, fn, tp = metrics.confusion_matrix(Y_train, y_pred).ravel()\n",
    "                sensitivity = tp/(tp+fn)\n",
    "                specificity = tn/(fp+tn)\n",
    "                fpr, tpr, thresholds = metrics.roc_curve(Y_train, y_pred)\n",
    "                auc = metrics.auc(fpr, tpr)\n",
    "                if sensitivity <= 0.95:\n",
    "                    sen_lst.append(sensitivity)\n",
    "                    spe_lst.append(specificity)\n",
    "                    auc_lst.append(auc)\n",
    "                    para_lst.append([i, j, k, m])"
   ]
  },
  {
   "cell_type": "code",
   "execution_count": 566,
   "id": "d26eb800-ce26-425a-8a94-db87b662db2f",
   "metadata": {},
   "outputs": [
    {
     "data": {
      "image/png": "[encoded data removed]",
      "text/plain": [
       "<Figure size 432x288 with 1 Axes>"
      ]
     },
     "metadata": {
      "needs_background": "light"
     },
     "output_type": "display_data"
    }
   ],
   "source": [
    "plt.plot(spe_lst, sen_lst)\n",
    "plt.show()"
   ]
  },
  {
   "cell_type": "code",
   "execution_count": 567,
   "id": "0439690d-d6ed-455b-b1cf-0e1183848409",
   "metadata": {},
   "outputs": [],
   "source": [
    "brf_auc_max = max(auc_lst)\n",
    "brf_max_index = auc_lst.index(brf_auc_max)"
   ]
  },
  {
   "cell_type": "code",
   "execution_count": 572,
   "id": "a3485390-7ece-4948-84e0-83b070ed31e2",
   "metadata": {},
   "outputs": [
    {
     "data": {
      "text/plain": [
       "0.8412698412698413"
      ]
     },
     "execution_count": 572,
     "metadata": {},
     "output_type": "execute_result"
    }
   ],
   "source": [
    "spe_lst[brf_max_index]"
   ]
  },
  {
   "cell_type": "code",
   "execution_count": 573,
   "id": "3f500a5a-11c4-4187-b306-2036ae016fb8",
   "metadata": {},
   "outputs": [
    {
     "data": {
      "text/plain": [
       "[50, 2, 2, 20]"
      ]
     },
     "execution_count": 573,
     "metadata": {},
     "output_type": "execute_result"
    }
   ],
   "source": [
    "para_lst[brf_max_index]"
   ]
  },
  {
   "cell_type": "code",
   "execution_count": 849,
   "id": "8750d79e-78ba-4290-98a3-fc839ac88d22",
   "metadata": {},
   "outputs": [],
   "source": [
    "# Train data\n",
    "brf = BalancedRandomForestClassifier(n_estimators=50, max_depth=2, \n",
    "                                                       max_features='log2',\n",
    "                                                       min_samples_split=2,\n",
    "                                                       min_samples_leaf=20,\n",
    "                                                       random_state=1,\n",
    "                                                       n_jobs = -1)"
   ]
  },
  {
   "cell_type": "code",
   "execution_count": 850,
   "id": "6ca4a488-bdbc-45d1-8a27-58a80fc8e9f1",
   "metadata": {},
   "outputs": [],
   "source": [
    "brf.fit(X_train, Y_train)\n",
    "y_train_pred_brf = brf.predict(X_train)"
   ]
  },
  {
   "cell_type": "code",
   "execution_count": 365,
   "id": "cf54a56b-3f8d-4883-8392-d6c8b1f467ab",
   "metadata": {},
   "outputs": [],
   "source": [
    "#auc_lst"
   ]
  },
  {
   "cell_type": "code",
   "execution_count": 851,
   "id": "be7f5437-03e7-4948-93a6-ed1380fe4c5f",
   "metadata": {},
   "outputs": [
    {
     "name": "stdout",
     "output_type": "stream",
     "text": [
      "Trainning Sensitivity:  0.9473684210526315\n",
      "Trainning Specificity:  0.8412698412698413\n"
     ]
    }
   ],
   "source": [
    "# Output the sensitivity and specificity for train set\n",
    "tn, fp, fn, tp = metrics.confusion_matrix(Y_train, y_train_pred_brf).ravel()\n",
    "sensitivity = tp/(tp+fn)\n",
    "specificity = tn/(fp+tn)\n",
    "print('Trainning Sensitivity: ', sensitivity)\n",
    "print('Trainning Specificity: ', specificity)"
   ]
  },
  {
   "cell_type": "code",
   "execution_count": 852,
   "id": "faefbdd8-c0d0-4346-809a-c0f31fdf1adc",
   "metadata": {},
   "outputs": [
    {
     "name": "stdout",
     "output_type": "stream",
     "text": [
      "Trainning AUC:  0.8943191311612364\n"
     ]
    }
   ],
   "source": [
    "# Output the auc score for train set\n",
    "fpr1, tpr1, thresholds1 = metrics.roc_curve(Y_train, y_train_pred_brf)\n",
    "auc_score1 = metrics.auc(fpr1, tpr1)\n",
    "print('Trainning AUC: ', auc_score1)"
   ]
  },
  {
   "cell_type": "code",
   "execution_count": 853,
   "id": "9652db46-2ce5-442c-9244-0a789ae5f017",
   "metadata": {},
   "outputs": [
    {
     "data": {
      "text/plain": [
       "(2809, 530, 7, 126)"
      ]
     },
     "execution_count": 853,
     "metadata": {},
     "output_type": "execute_result"
    }
   ],
   "source": [
    "# output confusion matrix for train set\n",
    "tn, fp, fn, tp"
   ]
  },
  {
   "cell_type": "code",
   "execution_count": 854,
   "id": "c2685143-a659-4930-818b-80ba09bf9a89",
   "metadata": {},
   "outputs": [
    {
     "name": "stdout",
     "output_type": "stream",
     "text": [
      "Testing Sensitivity:  0.9245283018867925\n",
      "Testing Specificity:  0.8108597285067873\n"
     ]
    }
   ],
   "source": [
    "# Test model and output sensitivity and specificity\n",
    "y_test_pred_brf = brf.predict(X_test)\n",
    "\n",
    "tn11, fp11, fn11, tp11 = metrics.confusion_matrix(Y_test, y_test_pred_brf).ravel()\n",
    "sensitivity11 = tp11/(tp11+fn11)\n",
    "specificity11 = tn11/(fp11+tn11)\n",
    "print('Testing Sensitivity: ', sensitivity11)\n",
    "print('Testing Specificity: ', specificity11)"
   ]
  },
  {
   "cell_type": "code",
   "execution_count": 855,
   "id": "dc3212c5-89f0-446c-9b3d-3066cbdcd98f",
   "metadata": {},
   "outputs": [
    {
     "name": "stdout",
     "output_type": "stream",
     "text": [
      "Testing AUC:  0.8676940151967899\n"
     ]
    }
   ],
   "source": [
    "# Output the auc score for test set\n",
    "fpr11, tpr11, thresholds11 = metrics.roc_curve(Y_test, y_test_pred_brf)\n",
    "auc_score11 = metrics.auc(fpr11, tpr11)\n",
    "print('Testing AUC: ', auc_score11)"
   ]
  },
  {
   "cell_type": "code",
   "execution_count": 856,
   "id": "b8f7bb1e-946b-480e-965e-b795b9bc1eca",
   "metadata": {},
   "outputs": [
    {
     "data": {
      "text/plain": [
       "(896, 209, 4, 49)"
      ]
     },
     "execution_count": 856,
     "metadata": {},
     "output_type": "execute_result"
    }
   ],
   "source": [
    "# output confusion matrix for test set\n",
    "tn11, fp11, fn11, tp11"
   ]
  },
  {
   "cell_type": "markdown",
   "id": "91eb7d61-587f-4371-bd6b-5666d0f81bca",
   "metadata": {
    "tags": []
   },
   "source": [
    "# Support Vector Machines"
   ]
  },
  {
   "cell_type": "code",
   "execution_count": 104,
   "id": "9415afd5-4165-40ee-95a6-6d571c87c246",
   "metadata": {},
   "outputs": [],
   "source": [
    "from sklearn.svm import SVC"
   ]
  },
  {
   "cell_type": "code",
   "execution_count": 632,
   "id": "5c44bfdd-646b-47a4-82ba-4c0cc8ea0f73",
   "metadata": {},
   "outputs": [],
   "source": [
    "# Create a dict for tuning parameters\n",
    "svm_para = {}"
   ]
  },
  {
   "cell_type": "code",
   "execution_count": 857,
   "id": "693fb90e-8a3c-48d8-a295-cb85f6555405",
   "metadata": {},
   "outputs": [],
   "source": [
    "svm_para['kernel'] = ['rbf', 'poly', 'sigmoid', 'linear']\n",
    "svm_para['C'] = [0.1, 1, 10, 100, 1000]\n",
    "svm_para['gamma'] = [1, 0.1, 0.01, 0.001, 0.0001]\n",
    "svm_para['class_weight'] = [{0:1, 1:25}, {0:1, 1:50}, {0:1, 1:100}, {0:1, 1:150}]"
   ]
  },
  {
   "cell_type": "code",
   "execution_count": 858,
   "id": "7aeef9df-28be-4419-ad96-dbebc22b77b4",
   "metadata": {},
   "outputs": [],
   "source": [
    "# GridSearch\n",
    "svm = SVC(random_state=1)\n",
    "gsc_svm = GridSearchCV(svm, svm_para, scoring='roc_auc', n_jobs=-1, cv=5)"
   ]
  },
  {
   "cell_type": "code",
   "execution_count": 860,
   "id": "64950413-f362-4aa0-a06c-5ecd0f62e6ee",
   "metadata": {},
   "outputs": [],
   "source": [
    "#gsc_svm.fit(X_train, Y_train)"
   ]
  },
  {
   "cell_type": "code",
   "execution_count": 861,
   "id": "4be4f860-6561-4ea3-bc2f-ec8291a9299c",
   "metadata": {},
   "outputs": [],
   "source": [
    "#gsc_svm.best_params_"
   ]
  },
  {
   "cell_type": "code",
   "execution_count": 977,
   "id": "06319523-6ca8-48d7-9a4f-e2d9c94e62d7",
   "metadata": {},
   "outputs": [],
   "source": [
    "# Train the model with best parameters and predict\n",
    "svm_model = SVC(C=100, kernel = 'rbf', gamma = 0.0001, random_state=1) #class_weight={1: 30})\n",
    "svm_model.fit(X_train_smote, Y_train_smote)\n",
    "y_train_pred_svm = svm_model.predict(X_train_smote)"
   ]
  },
  {
   "cell_type": "code",
   "execution_count": 978,
   "id": "d62ae708-7779-4ecb-8760-eb45a4995afa",
   "metadata": {},
   "outputs": [
    {
     "name": "stdout",
     "output_type": "stream",
     "text": [
      "Trainning Sensitivity:  0.9868224019167415\n",
      "Trainning Specificity:  0.9281221922731356\n"
     ]
    }
   ],
   "source": [
    "# Output the sensitivity and specificity\n",
    "tn2, fp2, fn2, tp2 = metrics.confusion_matrix(Y_train_smote, y_train_pred_svm).ravel()\n",
    "sensitivity_svm = tp2/(tp2+fn2)\n",
    "specificity_svm = tn2/(fp2+tn2)\n",
    "print('Trainning Sensitivity: ', sensitivity_svm)\n",
    "print('Trainning Specificity: ', specificity_svm)"
   ]
  },
  {
   "cell_type": "code",
   "execution_count": 979,
   "id": "1bd1c5cd-22b9-4a9c-bb0b-a6804949e49d",
   "metadata": {},
   "outputs": [
    {
     "name": "stdout",
     "output_type": "stream",
     "text": [
      "Trainning AUC:  0.9574722970949385\n"
     ]
    }
   ],
   "source": [
    "# Output the auc score\n",
    "fpr2, tpr2, thresholds2 = metrics.roc_curve(Y_train_smote, y_train_pred_svm)\n",
    "auc_score2 = metrics.auc(fpr2, tpr2)\n",
    "print('Trainning AUC: ', auc_score2)"
   ]
  },
  {
   "cell_type": "code",
   "execution_count": 980,
   "id": "c73dda73-ffde-4c06-b16d-523b8af502d8",
   "metadata": {},
   "outputs": [
    {
     "data": {
      "text/plain": [
       "array([[3099,  240],\n",
       "       [  44, 3295]])"
      ]
     },
     "execution_count": 980,
     "metadata": {},
     "output_type": "execute_result"
    }
   ],
   "source": [
    "# output confusion matrix for train set\n",
    "confusion_matrix(Y_train_smote, y_train_pred_svm)"
   ]
  },
  {
   "cell_type": "code",
   "execution_count": 981,
   "id": "c2f3f579-854e-447e-8df0-8697c8760723",
   "metadata": {},
   "outputs": [
    {
     "name": "stdout",
     "output_type": "stream",
     "text": [
      "Testing Sensitivity:  0.5471698113207547\n",
      "Testing Specificity:  0.9140271493212669\n"
     ]
    }
   ],
   "source": [
    "# Test model and output sensitivity and specificity\n",
    "y_test_pred_svm = svm_model.predict(X_test)\n",
    "\n",
    "tn22, fp22, fn22, tp22 = metrics.confusion_matrix(Y_test, y_test_pred_svm).ravel()\n",
    "sensitivity_svm2 = tp22/(tp22+fn22)\n",
    "specificity_svm2 = tn22/(fp22+tn22)\n",
    "print('Testing Sensitivity: ', sensitivity_svm2)\n",
    "print('Testing Specificity: ', specificity_svm2)"
   ]
  },
  {
   "cell_type": "code",
   "execution_count": 982,
   "id": "4644e676-f839-45c1-af08-aac398bcb50a",
   "metadata": {},
   "outputs": [
    {
     "name": "stdout",
     "output_type": "stream",
     "text": [
      "Testing AUC:  0.7305984803210108\n"
     ]
    }
   ],
   "source": [
    "# Output the auc score for test set\n",
    "fpr22, tpr22, thresholds22 = metrics.roc_curve(Y_test, y_test_pred_svm)\n",
    "auc_score22 = metrics.auc(fpr22, tpr22)\n",
    "print('Testing AUC: ', auc_score22)"
   ]
  },
  {
   "cell_type": "code",
   "execution_count": 983,
   "id": "694c2545-9a34-4f7b-af79-c65dafb75836",
   "metadata": {},
   "outputs": [
    {
     "data": {
      "text/plain": [
       "(1010, 95, 24, 29)"
      ]
     },
     "execution_count": 983,
     "metadata": {},
     "output_type": "execute_result"
    }
   ],
   "source": [
    "# output confusion matrix for test set\n",
    "tn22, fp22, fn22, tp22"
   ]
  },
  {
   "cell_type": "markdown",
   "id": "cce5488a-f258-4a68-80e0-747ef4a955a1",
   "metadata": {
    "tags": []
   },
   "source": [
    "# Logistic Regression"
   ]
  },
  {
   "cell_type": "code",
   "execution_count": 133,
   "id": "bef1a0bf-db84-45be-95f5-9a15a38825da",
   "metadata": {},
   "outputs": [],
   "source": [
    "from sklearn.linear_model import LogisticRegression"
   ]
  },
  {
   "cell_type": "code",
   "execution_count": 606,
   "id": "2588bbdd-ade9-4861-8d38-819a4a4b3be9",
   "metadata": {},
   "outputs": [],
   "source": [
    "# Create a dict for tuning parameters\n",
    "lg_para = {'C':[3, 5, 10, 15, 20, 25, 28, 30], 'penalty': ['l1', 'l2'], 'class_weight': [{0:1, 1:25}, {0:1, 1:50}, {0:1, 1:100}, {0:1, 1:150}]}"
   ]
  },
  {
   "cell_type": "code",
   "execution_count": 607,
   "id": "87cb2205-d1d7-41f6-89b0-db90f3509859",
   "metadata": {},
   "outputs": [],
   "source": [
    "# GridSearch\n",
    "\n",
    "lgs = LogisticRegression(max_iter = 1000000, solver = 'liblinear', random_state=1)\n",
    "gsc_lg = GridSearchCV(lgs, lg_para, scoring='roc_auc_ovr', n_jobs=-1)"
   ]
  },
  {
   "cell_type": "code",
   "execution_count": 608,
   "id": "0d6ca464-1098-444b-82a6-9699b8f94ac4",
   "metadata": {},
   "outputs": [
    {
     "data": {
      "text/plain": [
       "GridSearchCV(estimator=LogisticRegression(max_iter=1000000, random_state=1,\n",
       "                                          solver='liblinear'),\n",
       "             n_jobs=-1,\n",
       "             param_grid={'C': [3, 5, 10, 15, 20, 25, 28, 30],\n",
       "                         'class_weight': [{0: 1, 1: 25}, {0: 1, 1: 50},\n",
       "                                          {0: 1, 1: 100}, {0: 1, 1: 150}],\n",
       "                         'penalty': ['l1', 'l2']},\n",
       "             scoring='roc_auc_ovr')"
      ]
     },
     "execution_count": 608,
     "metadata": {},
     "output_type": "execute_result"
    }
   ],
   "source": [
    "gsc_lg.fit(X_train, Y_train)"
   ]
  },
  {
   "cell_type": "code",
   "execution_count": 609,
   "id": "d74569cc-9058-4f04-8be6-2e1c8bbb9cf2",
   "metadata": {},
   "outputs": [
    {
     "data": {
      "text/plain": [
       "{'C': 3, 'class_weight': {0: 1, 1: 25}, 'penalty': 'l1'}"
      ]
     },
     "execution_count": 609,
     "metadata": {},
     "output_type": "execute_result"
    }
   ],
   "source": [
    "gsc_lg.best_params_"
   ]
  },
  {
   "cell_type": "code",
   "execution_count": 954,
   "id": "ae827d7b-a6a9-452f-ad18-6a61f5709a4c",
   "metadata": {},
   "outputs": [],
   "source": [
    "# Train the model with best parameters and predict\n",
    "lg = LogisticRegression(C = 10, penalty = 'l2', max_iter = 1000000, solver = 'liblinear', random_state=1)# class_weight = {0:1, 1:25})\n",
    "lg.fit(X_train_smote, Y_train_smote)\n",
    "y_train_pred_lg = lg.predict(X_train_smote)"
   ]
  },
  {
   "cell_type": "code",
   "execution_count": 955,
   "id": "07189220-4612-4acb-8387-47bd4047a099",
   "metadata": {},
   "outputs": [
    {
     "name": "stdout",
     "output_type": "stream",
     "text": [
      "Trainning Sensitivity:  0.9826295297993412\n",
      "Trainning Specificity:  0.9649595687331537\n"
     ]
    }
   ],
   "source": [
    "# Output the sensitivity and specificity\n",
    "tn3, fp3, fn3, tp3 = metrics.confusion_matrix(Y_train_smote, y_train_pred_lg).ravel()\n",
    "sensitivity_lg = tp3/(tp3+fn3)\n",
    "specificity_lg = tn3/(fp3+tn3)\n",
    "print('Trainning Sensitivity: ', sensitivity_lg)\n",
    "print('Trainning Specificity: ', specificity_lg)"
   ]
  },
  {
   "cell_type": "code",
   "execution_count": 984,
   "id": "4b295480-f39f-43af-a1f4-bea26bc0cd19",
   "metadata": {},
   "outputs": [
    {
     "name": "stdout",
     "output_type": "stream",
     "text": [
      "Trainning AUC:  0.9737945492662473\n"
     ]
    }
   ],
   "source": [
    "# Output the auc score for train set\n",
    "fpr3, tpr3, thresholds3 = metrics.roc_curve(Y_train_smote, y_train_pred_lg)\n",
    "auc_score3 = metrics.auc(fpr3, tpr3)\n",
    "print('Trainning AUC: ', auc_score3)"
   ]
  },
  {
   "cell_type": "code",
   "execution_count": 958,
   "id": "cce376d3-88ff-4317-ae53-6feb4ca9a02c",
   "metadata": {},
   "outputs": [
    {
     "data": {
      "text/plain": [
       "(3222, 117, 58, 3281)"
      ]
     },
     "execution_count": 958,
     "metadata": {},
     "output_type": "execute_result"
    }
   ],
   "source": [
    "# output confusion matrix for train test\n",
    "tn3, fp3, fn3, tp3"
   ]
  },
  {
   "cell_type": "code",
   "execution_count": 959,
   "id": "1b30d3e1-b215-4bd9-a752-8e590d6f95d2",
   "metadata": {},
   "outputs": [
    {
     "name": "stdout",
     "output_type": "stream",
     "text": [
      "Testing Sensitivity:  0.41509433962264153\n",
      "Testing Specificity:  0.9475113122171945\n"
     ]
    }
   ],
   "source": [
    "# Test model and output sensitivity and specificity\n",
    "y_test_pred_lg = lg.predict(X_test)\n",
    "\n",
    "tn33, fp33, fn33, tp33 = metrics.confusion_matrix(Y_test, y_test_pred_lg).ravel()\n",
    "sensitivity_lg3 = tp33/(tp33+fn33)\n",
    "specificity_lg3 = tn33/(fp33+tn33)\n",
    "print('Testing Sensitivity: ', sensitivity_lg3)\n",
    "print('Testing Specificity: ', specificity_lg3)"
   ]
  },
  {
   "cell_type": "code",
   "execution_count": 960,
   "id": "aa03ceb9-9048-4279-bc8f-f7088a878f6d",
   "metadata": {},
   "outputs": [
    {
     "name": "stdout",
     "output_type": "stream",
     "text": [
      "Testing AUC:  0.681302825919918\n"
     ]
    }
   ],
   "source": [
    "# Output the auc score for test set\n",
    "fpr33, tpr33, thresholds33 = metrics.roc_curve(Y_test, y_test_pred_lg)\n",
    "auc_score33 = metrics.auc(fpr33, tpr33)\n",
    "print('Testing AUC: ', auc_score33)"
   ]
  },
  {
   "cell_type": "code",
   "execution_count": 961,
   "id": "dbb59342-d465-4ffb-945f-0d4a23a7d4fe",
   "metadata": {},
   "outputs": [
    {
     "data": {
      "text/plain": [
       "(1047, 58, 31, 22)"
      ]
     },
     "execution_count": 961,
     "metadata": {},
     "output_type": "execute_result"
    }
   ],
   "source": [
    "# output confusion matrix for test set\n",
    "tn33, fp33, fn33, tp33"
   ]
  },
  {
   "cell_type": "markdown",
   "id": "c70c7e7f-1d33-45da-aa6e-8f9710e3d5d8",
   "metadata": {
    "tags": []
   },
   "source": [
    "# XGBoost"
   ]
  },
  {
   "cell_type": "code",
   "execution_count": 650,
   "id": "a4ebded0-7cb1-464c-b481-a8a577d0e190",
   "metadata": {},
   "outputs": [],
   "source": [
    "from xgboost import XGBClassifier\n",
    "from sklearn.model_selection import cross_val_score\n",
    "from sklearn.model_selection import RepeatedStratifiedKFold\n",
    "from numpy import mean\n",
    "from sklearn.datasets import make_classification"
   ]
  },
  {
   "cell_type": "markdown",
   "id": "d9c4c5e7-d4c5-4367-8bdd-cc086fc87dcc",
   "metadata": {},
   "source": [
    "#### Tune learning rate"
   ]
  },
  {
   "cell_type": "code",
   "execution_count": 693,
   "id": "af012572-78de-4480-89c2-aa12afafa242",
   "metadata": {},
   "outputs": [],
   "source": [
    "# define grid\n",
    "xgb_para = {'learning_rate': [0.1, 0.25, 0.4, 0.5],\n",
    "           'n_estimators':[50, 100, 150, 200]}\n",
    "\n",
    "# define model\n",
    "xgb = XGBClassifier(max_depth = 5, min_child_weight = 1, gamma = 0.1, subsample = 0.8, colsample_bytree = 0.8,\n",
    "                    random_state=1, objective= 'binary:logistic', use_label_encoder =False, scale_pos_weight = 25)\n",
    "gsc_xgb = GridSearchCV(xgb, xgb_para, scoring='roc_auc', n_jobs=-1, cv=5)"
   ]
  },
  {
   "cell_type": "code",
   "execution_count": 694,
   "id": "163c2c3c-7562-4c6a-ae03-82fc99d7c20e",
   "metadata": {},
   "outputs": [
    {
     "data": {
      "text/plain": [
       "GridSearchCV(cv=5,\n",
       "             estimator=XGBClassifier(base_score=None, booster=None,\n",
       "                                     colsample_bylevel=None,\n",
       "                                     colsample_bynode=None,\n",
       "                                     colsample_bytree=0.8,\n",
       "                                     enable_categorical=False, gamma=0.1,\n",
       "                                     gpu_id=None, importance_type=None,\n",
       "                                     interaction_constraints=None,\n",
       "                                     learning_rate=None, max_delta_step=None,\n",
       "                                     max_depth=5, min_child_weight=1,\n",
       "                                     missing=nan, monotone_constraints=None,\n",
       "                                     n_estimators=100, n_jobs=None,\n",
       "                                     num_parallel_tree=None, predictor=None,\n",
       "                                     random_state=1, reg_alpha=None,\n",
       "                                     reg_lambda=None, scale_pos_weight=25,\n",
       "                                     subsample=0.8, tree_method=None,\n",
       "                                     use_label_encoder=False,\n",
       "                                     validate_parameters=None, verbosity=None),\n",
       "             n_jobs=-1,\n",
       "             param_grid={'learning_rate': [0.1, 0.25, 0.4, 0.5],\n",
       "                         'n_estimators': [50, 100, 150, 200]},\n",
       "             scoring='roc_auc')"
      ]
     },
     "execution_count": 694,
     "metadata": {},
     "output_type": "execute_result"
    }
   ],
   "source": [
    "gsc_xgb.fit(X_train, Y_train, eval_metric='rmse')"
   ]
  },
  {
   "cell_type": "code",
   "execution_count": 695,
   "id": "9a7c7789-466c-4875-a40e-e6703ec22a5d",
   "metadata": {},
   "outputs": [
    {
     "data": {
      "text/plain": [
       "{'learning_rate': 0.1, 'n_estimators': 200}"
      ]
     },
     "execution_count": 695,
     "metadata": {},
     "output_type": "execute_result"
    }
   ],
   "source": [
    "gsc_xgb.best_params_"
   ]
  },
  {
   "cell_type": "markdown",
   "id": "0cb97d24-5f99-4ed8-8ee2-15ec6aa0c305",
   "metadata": {},
   "source": [
    "#### Tune max_depth and min_child_weight"
   ]
  },
  {
   "cell_type": "code",
   "execution_count": 703,
   "id": "50c032fb-396e-4b2b-9888-0b8a40e40071",
   "metadata": {},
   "outputs": [],
   "source": [
    "xgb_para1 = {'max_depth': [1,2,3],\n",
    "            'min_child_weight': [5, 6, 7]}\n",
    "\n",
    "xgb1 = XGBClassifier(learning_rate = 0.1, n_estimators = 200, gamma = 0.1, subsample = 0.8, colsample_bytree = 0.8,\n",
    "                    random_state=1, objective= 'binary:logistic', use_label_encoder =False, scale_pos_weight = 25)\n",
    "gsc_xgb1 = GridSearchCV(xgb1, xgb_para1, scoring='roc_auc', n_jobs=-1, cv=5)"
   ]
  },
  {
   "cell_type": "code",
   "execution_count": 704,
   "id": "0068f362-c6b2-49b7-bcdf-cc5f6bf49866",
   "metadata": {},
   "outputs": [
    {
     "data": {
      "text/plain": [
       "GridSearchCV(cv=5,\n",
       "             estimator=XGBClassifier(base_score=None, booster=None,\n",
       "                                     colsample_bylevel=None,\n",
       "                                     colsample_bynode=None,\n",
       "                                     colsample_bytree=0.8,\n",
       "                                     enable_categorical=False, gamma=0.1,\n",
       "                                     gpu_id=None, importance_type=None,\n",
       "                                     interaction_constraints=None,\n",
       "                                     learning_rate=0.1, max_delta_step=None,\n",
       "                                     max_depth=None, min_child_weight=None,\n",
       "                                     missing=nan, monotone_constraints=None,\n",
       "                                     n_estimators=200, n_jobs=None,\n",
       "                                     num_parallel_tree=None, predictor=None,\n",
       "                                     random_state=1, reg_alpha=None,\n",
       "                                     reg_lambda=None, scale_pos_weight=25,\n",
       "                                     subsample=0.8, tree_method=None,\n",
       "                                     use_label_encoder=False,\n",
       "                                     validate_parameters=None, verbosity=None),\n",
       "             n_jobs=-1,\n",
       "             param_grid={'max_depth': [1, 2, 3], 'min_child_weight': [5, 6, 7]},\n",
       "             scoring='roc_auc')"
      ]
     },
     "execution_count": 704,
     "metadata": {},
     "output_type": "execute_result"
    }
   ],
   "source": [
    "gsc_xgb1.fit(X_train, Y_train, eval_metric='rmse')"
   ]
  },
  {
   "cell_type": "code",
   "execution_count": 705,
   "id": "3ba6ca08-8e75-4336-894d-436fb5ee27a1",
   "metadata": {},
   "outputs": [
    {
     "data": {
      "text/plain": [
       "{'max_depth': 3, 'min_child_weight': 6}"
      ]
     },
     "execution_count": 705,
     "metadata": {},
     "output_type": "execute_result"
    }
   ],
   "source": [
    "gsc_xgb1.best_params_"
   ]
  },
  {
   "cell_type": "code",
   "execution_count": 700,
   "id": "4704646f-81c4-4f5f-a50b-1f26c3c89ce7",
   "metadata": {},
   "outputs": [
    {
     "data": {
      "text/plain": [
       "0.9803258914838604"
      ]
     },
     "execution_count": 700,
     "metadata": {},
     "output_type": "execute_result"
    }
   ],
   "source": [
    "gsc_xgb1.best_score_"
   ]
  },
  {
   "cell_type": "markdown",
   "id": "11045bf9-8b70-4084-a837-6dfb431f1626",
   "metadata": {},
   "source": [
    "#### Tune gamma"
   ]
  },
  {
   "cell_type": "code",
   "execution_count": 709,
   "id": "32348c80-c440-401f-a498-00f4eff666b2",
   "metadata": {},
   "outputs": [],
   "source": [
    "xgb_para2 = {'gamma': [0.1, 0.2, 0.3, 0.4, 0.5]}\n",
    "\n",
    "xgb2 = XGBClassifier(learning_rate = 0.1, n_estimators = 200, max_depth = 3,\n",
    "                     min_child_weight = 6, subsample = 0.8, colsample_bytree = 0.8,\n",
    "                    random_state=1, objective= 'binary:logistic', use_label_encoder =False, scale_pos_weight = 25)\n",
    "gsc_xgb2 = GridSearchCV(xgb2, xgb_para2, scoring='roc_auc', n_jobs=-1, cv=5)"
   ]
  },
  {
   "cell_type": "code",
   "execution_count": 710,
   "id": "64ad8c2a-42d2-4af1-8977-76b9d7521c37",
   "metadata": {},
   "outputs": [
    {
     "data": {
      "text/plain": [
       "GridSearchCV(cv=5,\n",
       "             estimator=XGBClassifier(base_score=None, booster=None,\n",
       "                                     colsample_bylevel=None,\n",
       "                                     colsample_bynode=None,\n",
       "                                     colsample_bytree=0.8,\n",
       "                                     enable_categorical=False, gamma=None,\n",
       "                                     gpu_id=None, importance_type=None,\n",
       "                                     interaction_constraints=None,\n",
       "                                     learning_rate=0.1, max_delta_step=None,\n",
       "                                     max_depth=3, min_child_weight=6,\n",
       "                                     missing=nan, monotone_constraints=None,\n",
       "                                     n_estimators=200, n_jobs=None,\n",
       "                                     num_parallel_tree=None, predictor=None,\n",
       "                                     random_state=1, reg_alpha=None,\n",
       "                                     reg_lambda=None, scale_pos_weight=25,\n",
       "                                     subsample=0.8, tree_method=None,\n",
       "                                     use_label_encoder=False,\n",
       "                                     validate_parameters=None, verbosity=None),\n",
       "             n_jobs=-1, param_grid={'gamma': [0.1, 0.2, 0.3, 0.4, 0.5]},\n",
       "             scoring='roc_auc')"
      ]
     },
     "execution_count": 710,
     "metadata": {},
     "output_type": "execute_result"
    }
   ],
   "source": [
    "gsc_xgb2.fit(X_train, Y_train, eval_metric='rmse')"
   ]
  },
  {
   "cell_type": "code",
   "execution_count": 711,
   "id": "cf8aa32c-c0c9-49c6-9bc8-1908a57b9865",
   "metadata": {},
   "outputs": [
    {
     "data": {
      "text/plain": [
       "{'gamma': 0.1}"
      ]
     },
     "execution_count": 711,
     "metadata": {},
     "output_type": "execute_result"
    }
   ],
   "source": [
    "gsc_xgb2.best_params_"
   ]
  },
  {
   "cell_type": "code",
   "execution_count": 814,
   "id": "cc8eb6be-8f7e-4544-adb6-d6bbbdf1a7d0",
   "metadata": {},
   "outputs": [],
   "source": [
    "# Train the model with best parameters and predict\n",
    "xgb_best = XGBClassifier(learning_rate = 0.003, n_estimators = 100, max_depth = 3,\n",
    "                     min_child_weight = 30, subsample = 0.5, colsample_bytree = 0.5,\n",
    "                    random_state=1, objective= 'binary:logistic', use_label_encoder =False, gamma = 0.1, \n",
    "                         scale_pos_weight = 20)"
   ]
  },
  {
   "cell_type": "code",
   "execution_count": 815,
   "id": "14a8ff9f-f7bf-41b5-879f-4597cff38df1",
   "metadata": {},
   "outputs": [],
   "source": [
    "xgb_best.fit(X_train, Y_train, eval_metric='rmse')\n",
    "y_train_pred_xgb = xgb_best.predict(X_train)"
   ]
  },
  {
   "cell_type": "code",
   "execution_count": 816,
   "id": "69da744f-7c4d-4856-b168-259eac3abb13",
   "metadata": {},
   "outputs": [
    {
     "name": "stdout",
     "output_type": "stream",
     "text": [
      "Trainning Sensitivity:  0.9548872180451128\n",
      "Trainning Specificity:  0.8828990715783168\n",
      "Trainning AUC:  0.9188931448117148\n"
     ]
    }
   ],
   "source": [
    "# Output the sensitivity and specificity\n",
    "tn4, fp4, fn4, tp4 = metrics.confusion_matrix(Y_train, y_train_pred_xgb).ravel()\n",
    "sensitivity_xgb = tp4/(tp4+fn4)\n",
    "specificity_xgb = tn4/(fp4+tn4)\n",
    "print('Trainning Sensitivity: ', sensitivity_xgb)\n",
    "print('Trainning Specificity: ', specificity_xgb)\n",
    "\n",
    "# Output the auc score for train set\n",
    "fpr4, tpr4, thresholds4 = metrics.roc_curve(Y_train, y_train_pred_xgb)\n",
    "auc_score4 = metrics.auc(fpr4, tpr4)\n",
    "print('Trainning AUC: ', auc_score4)"
   ]
  },
  {
   "cell_type": "code",
   "execution_count": 817,
   "id": "fc0d1fd8-303b-4f82-a027-f7f98dfb269c",
   "metadata": {},
   "outputs": [
    {
     "data": {
      "text/plain": [
       "array([[2948,  391],\n",
       "       [   6,  127]])"
      ]
     },
     "execution_count": 817,
     "metadata": {},
     "output_type": "execute_result"
    }
   ],
   "source": [
    "# output confusion matrix\n",
    "metrics.confusion_matrix(Y_train, y_train_pred_xgb)"
   ]
  },
  {
   "cell_type": "code",
   "execution_count": 818,
   "id": "9bdab775-6d04-491a-bdfc-2ac2f118e7ed",
   "metadata": {},
   "outputs": [
    {
     "name": "stdout",
     "output_type": "stream",
     "text": [
      "Testing Sensitivity:  0.9245283018867925\n",
      "Testing Specificity:  0.8723981900452489\n",
      "Testing AUC:  0.8984632459660207\n"
     ]
    }
   ],
   "source": [
    "# Test model and output sensitivity and specificity\n",
    "y_test_pred_xgb = xgb_best.predict(X_test)\n",
    "\n",
    "tn44, fp44, fn44, tp44 = metrics.confusion_matrix(Y_test, y_test_pred_xgb).ravel()\n",
    "sensitivity_xgb44 = tp44/(tp44+fn44)\n",
    "specificity_xgb44 = tn44/(fp44+tn44)\n",
    "print('Testing Sensitivity: ', sensitivity_xgb44)\n",
    "print('Testing Specificity: ', specificity_xgb44)\n",
    "\n",
    "# Output the auc score for test set\n",
    "fpr44, tpr44, thresholds44 = metrics.roc_curve(Y_test, y_test_pred_xgb)\n",
    "auc_score44 = metrics.auc(fpr44, tpr44)\n",
    "print('Testing AUC: ', auc_score44)"
   ]
  },
  {
   "cell_type": "code",
   "execution_count": 819,
   "id": "0c5b9c4c-abdf-42f4-834a-83861ca6a6e1",
   "metadata": {},
   "outputs": [
    {
     "data": {
      "text/plain": [
       "array([[964, 141],\n",
       "       [  4,  49]])"
      ]
     },
     "execution_count": 819,
     "metadata": {},
     "output_type": "execute_result"
    }
   ],
   "source": [
    "confusion_matrix(Y_test, y_test_pred_xgb)"
   ]
  },
  {
   "cell_type": "markdown",
   "id": "458994c5-a425-4f75-989a-d17385913d80",
   "metadata": {},
   "source": [
    "# Find Top 10 Significant Features In Model"
   ]
  },
  {
   "cell_type": "code",
   "execution_count": 985,
   "id": "b42d80dc-4ab6-4113-aef8-c706afeb05f9",
   "metadata": {},
   "outputs": [],
   "source": [
    "from xgboost import plot_importance"
   ]
  },
  {
   "cell_type": "code",
   "execution_count": 986,
   "id": "afcfc148-da63-40df-b192-3edf70b90529",
   "metadata": {},
   "outputs": [
    {
     "data": {
      "image/png": "[encoded data removed]",
      "text/plain": [
       "<Figure size 432x288 with 1 Axes>"
      ]
     },
     "metadata": {
      "needs_background": "light"
     },
     "output_type": "display_data"
    }
   ],
   "source": [
    "plot_importance(xgb_best, max_num_features=10)\n",
    "plt.show()"
   ]
  },
  {
   "cell_type": "code",
   "execution_count": 991,
   "id": "efd5fe6d-1527-4f54-99d7-4c5bfd98d461",
   "metadata": {},
   "outputs": [
    {
     "name": "stdout",
     "output_type": "stream",
     "text": [
      "10 most revelent factors: \n",
      "Admit Times\n",
      "Length_Stay\n",
      "Diseases Of Veins And Lymphatics, And Other Diseases Of Circulatory System\n",
      "Complications Of Surgical And Medical Care, Not Elsewhere Classified\n",
      "Incision, Excision, And Occlusion Of Vessels\n",
      "Other Nonoperative Procedures\n",
      "Age\n",
      "Readmit Day\n",
      "Diseases Of Esophagus, Stomach, And Duodenum\n",
      "Surgical And Medical Procedures As The Cause Of Abnormal Reaction Of Patient Or Later Complication, Without Mention Of Misadventure At The Time Of Procedure\n"
     ]
    }
   ],
   "source": [
    "print('10 most revelent factors: \\nAdmit Times\\nLength_Stay\\nDiseases Of Veins And Lymphatics, And Other Diseases Of Circulatory System\\nComplications Of Surgical And Medical Care, Not Elsewhere Classified\\nIncision, Excision, And Occlusion Of Vessels\\nOther Nonoperative Procedures\\nAge\\nReadmit Day\\nDiseases Of Esophagus, Stomach, And Duodenum\\nSurgical And Medical Procedures As The Cause Of Abnormal Reaction Of Patient Or Later Complication, Without Mention Of Misadventure At The Time Of Procedure')"
   ]
  },
  {
   "cell_type": "markdown",
   "id": "86901cb7-1c09-4f9c-be72-c5bc171c4d86",
   "metadata": {},
   "source": [
    "# Save the models"
   ]
  },
  {
   "cell_type": "code",
   "execution_count": 47,
   "id": "21df6db1-f6cd-40b4-a4c8-cf80ebfd3446",
   "metadata": {},
   "outputs": [],
   "source": [
    "from joblib import dump, load"
   ]
  },
  {
   "cell_type": "code",
   "execution_count": 52,
   "id": "f5fcd640-3a68-4d15-9371-71fa5b8fb721",
   "metadata": {},
   "outputs": [
    {
     "data": {
      "text/plain": [
       "['LogisticRegression.jlib']"
      ]
     },
     "execution_count": 52,
     "metadata": {},
     "output_type": "execute_result"
    }
   ],
   "source": [
    "dump(lg, 'LogisticRegression.jlib')"
   ]
  },
  {
   "cell_type": "code",
   "execution_count": 49,
   "id": "def84fc5-8d42-45df-8844-29d6b3030f90",
   "metadata": {},
   "outputs": [],
   "source": [
    "model = load('BalancedRandomForest.jlib')"
   ]
  }
 ],
 "metadata": {
  "kernelspec": {
   "display_name": "Python 3 (ipykernel)",
   "language": "python",
   "name": "python3"
  },
  "language_info": {
   "codemirror_mode": {
    "name": "ipython",
    "version": 3
   },
   "file_extension": ".py",
   "mimetype": "text/x-python",
   "name": "python",
   "nbconvert_exporter": "python",
   "pygments_lexer": "ipython3",
   "version": "3.9.7"
  }
 },
 "nbformat": 4,
 "nbformat_minor": 5
}
