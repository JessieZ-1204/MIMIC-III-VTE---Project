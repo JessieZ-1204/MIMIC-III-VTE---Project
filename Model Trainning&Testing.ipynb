{
 "cells": [
  {
   "cell_type": "markdown",
   "id": "23e23469-fe5f-4854-b064-f3613e7f9f40",
   "metadata": {},
   "source": [
    "# Load Data"
   ]
  },
  {
   "cell_type": "code",
   "execution_count": 1,
   "id": "47015c83-9ced-45cc-96e4-a6e612550f81",
   "metadata": {},
   "outputs": [],
   "source": [
    "import pandas as pd\n",
    "import numpy as np\n",
    "import matplotlib.pyplot as plt\n",
    "from sklearn.model_selection import train_test_split"
   ]
  },
  {
   "cell_type": "code",
   "execution_count": 2,
   "id": "8aa4c6e7-6477-4361-a120-b28425d23b06",
   "metadata": {},
   "outputs": [],
   "source": [
    "vte = pd.read_csv('New_VTE.csv', index_col=False)\n",
    "nvte = pd.read_csv('New_NVTE.csv', index_col=False)"
   ]
  },
  {
   "cell_type": "code",
   "execution_count": 3,
   "id": "f28d85b2-0f12-428e-863f-2926fb0f96d6",
   "metadata": {},
   "outputs": [],
   "source": [
    "vte = vte.iloc[:, 1:]\n",
    "nvte = nvte.iloc[:, 1:]"
   ]
  },
  {
   "cell_type": "code",
   "execution_count": 4,
   "id": "06d4d967-f7c6-4cdb-b8e9-ed6c70aa6838",
   "metadata": {},
   "outputs": [],
   "source": [
    "# drop diagnossi & admit/type\n",
    "vte = vte.drop(['DIAGNOSIS', 'ADMISSION_TYPE'], axis=1)\n",
    "nvte = nvte.drop(['DIAGNOSIS', 'ADMISSION_TYPE'], axis=1)"
   ]
  },
  {
   "cell_type": "code",
   "execution_count": 5,
   "id": "aabd4465-4cf1-4228-81ec-e51da49d2bb3",
   "metadata": {},
   "outputs": [],
   "source": [
    "#change gender into binary number\n",
    "gender = {'M':1, 'F':0}\n",
    "vte['GENDER'] = [gender[item] for item in vte['GENDER']]\n",
    "nvte['GENDER'] = [gender[item] for item in nvte['GENDER']]\n",
    "\n",
    "# change ethnicity into number\n",
    "enthnicity = {'WHITE':1, 'BLACK':2, 'HISPANIC OR LATINO':3, 'ASIAN':4, 'MIDDLE EASTERN':4, 'PORTUGUESE':5, \n",
    "              'AMERICAN INDIAN/ALASKA NATIVE':6, 'NATIVE HAWAIIAN OR OTHER PACIFIC ISLANDER':7, 'OTHER':0,\n",
    "              'UNKNOWN/NOT SPECIFIED':0, 'UNABLE TO OBTAIN':0, 'PATIENT DECLINED TO ANSWER':0, 'MULTI RACE ETHNICITY':0\n",
    "             }\n",
    "vte['ETHNICITY'] = [enthnicity[item] for item in vte['ETHNICITY']]\n",
    "nvte['ETHNICITY'] = [enthnicity[item] for item in nvte['ETHNICITY']]\n",
    "\n",
    "# change insurance into binary\n",
    "insurance = {'Medicaid':1, 'Private':2, 'Medicare': 3, 'Government': 4, 'Self Pay': 5}\n",
    "vte['INSURANCE'] = [insurance[item] for item in vte['INSURANCE']]\n",
    "nvte['INSURANCE'] = [insurance[item] for item in nvte['INSURANCE']]"
   ]
  },
  {
   "cell_type": "code",
   "execution_count": 6,
   "id": "edf153bd-9476-4424-b2ce-6cf84cc28392",
   "metadata": {},
   "outputs": [],
   "source": [
    "# add target columns for vte and nvte\n",
    "vte['vte'] = 1\n",
    "nvte['vte'] = 0"
   ]
  },
  {
   "cell_type": "code",
   "execution_count": 7,
   "id": "a02a6833-cddc-40ed-a7c7-968fff809c15",
   "metadata": {},
   "outputs": [],
   "source": [
    "df = pd.concat([vte, nvte]).reset_index(drop=True)"
   ]
  },
  {
   "cell_type": "code",
   "execution_count": 8,
   "id": "ac852860-3990-404d-b2f7-896ab9ab9612",
   "metadata": {},
   "outputs": [
    {
     "data": {
      "text/html": [
       "<div>\n",
       "<style scoped>\n",
       "    .dataframe tbody tr th:only-of-type {\n",
       "        vertical-align: middle;\n",
       "    }\n",
       "\n",
       "    .dataframe tbody tr th {\n",
       "        vertical-align: top;\n",
       "    }\n",
       "\n",
       "    .dataframe thead th {\n",
       "        text-align: right;\n",
       "    }\n",
       "</style>\n",
       "<table border=\"1\" class=\"dataframe\">\n",
       "  <thead>\n",
       "    <tr style=\"text-align: right;\">\n",
       "      <th></th>\n",
       "      <th>SUBJECT_ID</th>\n",
       "      <th>HADM_ID</th>\n",
       "      <th>INSURANCE</th>\n",
       "      <th>ETHNICITY</th>\n",
       "      <th>GENDER</th>\n",
       "      <th>AGE</th>\n",
       "      <th>ADMIT_TIMES</th>\n",
       "      <th>LENGTH_STAY</th>\n",
       "      <th>READMIT_DAY</th>\n",
       "      <th>001-009</th>\n",
       "      <th>...</th>\n",
       "      <th>94</th>\n",
       "      <th>95</th>\n",
       "      <th>96</th>\n",
       "      <th>97</th>\n",
       "      <th>98</th>\n",
       "      <th>99</th>\n",
       "      <th>chemistry</th>\n",
       "      <th>hematology</th>\n",
       "      <th>blood gas</th>\n",
       "      <th>vte</th>\n",
       "    </tr>\n",
       "  </thead>\n",
       "  <tbody>\n",
       "    <tr>\n",
       "      <th>0</th>\n",
       "      <td>32810</td>\n",
       "      <td>168208</td>\n",
       "      <td>1</td>\n",
       "      <td>1</td>\n",
       "      <td>1</td>\n",
       "      <td>0.000000</td>\n",
       "      <td>0.0</td>\n",
       "      <td>0.029940</td>\n",
       "      <td>0.103448</td>\n",
       "      <td>0</td>\n",
       "      <td>...</td>\n",
       "      <td>0</td>\n",
       "      <td>0</td>\n",
       "      <td>1</td>\n",
       "      <td>0</td>\n",
       "      <td>0</td>\n",
       "      <td>0</td>\n",
       "      <td>1</td>\n",
       "      <td>1</td>\n",
       "      <td>1</td>\n",
       "      <td>1</td>\n",
       "    </tr>\n",
       "    <tr>\n",
       "      <th>1</th>\n",
       "      <td>32810</td>\n",
       "      <td>189751</td>\n",
       "      <td>1</td>\n",
       "      <td>1</td>\n",
       "      <td>1</td>\n",
       "      <td>0.000000</td>\n",
       "      <td>0.0</td>\n",
       "      <td>0.215569</td>\n",
       "      <td>0.000000</td>\n",
       "      <td>0</td>\n",
       "      <td>...</td>\n",
       "      <td>0</td>\n",
       "      <td>0</td>\n",
       "      <td>1</td>\n",
       "      <td>0</td>\n",
       "      <td>0</td>\n",
       "      <td>0</td>\n",
       "      <td>1</td>\n",
       "      <td>1</td>\n",
       "      <td>1</td>\n",
       "      <td>1</td>\n",
       "    </tr>\n",
       "    <tr>\n",
       "      <th>2</th>\n",
       "      <td>109</td>\n",
       "      <td>124657</td>\n",
       "      <td>1</td>\n",
       "      <td>2</td>\n",
       "      <td>0</td>\n",
       "      <td>0.030769</td>\n",
       "      <td>1.0</td>\n",
       "      <td>0.023952</td>\n",
       "      <td>0.034483</td>\n",
       "      <td>0</td>\n",
       "      <td>...</td>\n",
       "      <td>0</td>\n",
       "      <td>0</td>\n",
       "      <td>0</td>\n",
       "      <td>0</td>\n",
       "      <td>0</td>\n",
       "      <td>0</td>\n",
       "      <td>1</td>\n",
       "      <td>1</td>\n",
       "      <td>0</td>\n",
       "      <td>1</td>\n",
       "    </tr>\n",
       "    <tr>\n",
       "      <th>3</th>\n",
       "      <td>109</td>\n",
       "      <td>176760</td>\n",
       "      <td>1</td>\n",
       "      <td>2</td>\n",
       "      <td>0</td>\n",
       "      <td>0.030769</td>\n",
       "      <td>1.0</td>\n",
       "      <td>0.000000</td>\n",
       "      <td>0.034483</td>\n",
       "      <td>0</td>\n",
       "      <td>...</td>\n",
       "      <td>0</td>\n",
       "      <td>0</td>\n",
       "      <td>0</td>\n",
       "      <td>0</td>\n",
       "      <td>0</td>\n",
       "      <td>0</td>\n",
       "      <td>1</td>\n",
       "      <td>1</td>\n",
       "      <td>1</td>\n",
       "      <td>1</td>\n",
       "    </tr>\n",
       "    <tr>\n",
       "      <th>4</th>\n",
       "      <td>91469</td>\n",
       "      <td>192145</td>\n",
       "      <td>2</td>\n",
       "      <td>1</td>\n",
       "      <td>1</td>\n",
       "      <td>0.046154</td>\n",
       "      <td>0.0</td>\n",
       "      <td>0.041916</td>\n",
       "      <td>0.344828</td>\n",
       "      <td>0</td>\n",
       "      <td>...</td>\n",
       "      <td>0</td>\n",
       "      <td>0</td>\n",
       "      <td>0</td>\n",
       "      <td>0</td>\n",
       "      <td>0</td>\n",
       "      <td>0</td>\n",
       "      <td>1</td>\n",
       "      <td>1</td>\n",
       "      <td>1</td>\n",
       "      <td>1</td>\n",
       "    </tr>\n",
       "  </tbody>\n",
       "</table>\n",
       "<p>5 rows × 297 columns</p>\n",
       "</div>"
      ],
      "text/plain": [
       "   SUBJECT_ID  HADM_ID  INSURANCE  ETHNICITY  GENDER       AGE  ADMIT_TIMES  \\\n",
       "0       32810   168208          1          1       1  0.000000          0.0   \n",
       "1       32810   189751          1          1       1  0.000000          0.0   \n",
       "2         109   124657          1          2       0  0.030769          1.0   \n",
       "3         109   176760          1          2       0  0.030769          1.0   \n",
       "4       91469   192145          2          1       1  0.046154          0.0   \n",
       "\n",
       "   LENGTH_STAY  READMIT_DAY  001-009  ...  94  95  96  97  98  99  chemistry  \\\n",
       "0     0.029940     0.103448        0  ...   0   0   1   0   0   0          1   \n",
       "1     0.215569     0.000000        0  ...   0   0   1   0   0   0          1   \n",
       "2     0.023952     0.034483        0  ...   0   0   0   0   0   0          1   \n",
       "3     0.000000     0.034483        0  ...   0   0   0   0   0   0          1   \n",
       "4     0.041916     0.344828        0  ...   0   0   0   0   0   0          1   \n",
       "\n",
       "   hematology  blood gas  vte  \n",
       "0           1          1    1  \n",
       "1           1          1    1  \n",
       "2           1          0    1  \n",
       "3           1          1    1  \n",
       "4           1          1    1  \n",
       "\n",
       "[5 rows x 297 columns]"
      ]
     },
     "execution_count": 8,
     "metadata": {},
     "output_type": "execute_result"
    }
   ],
   "source": [
    "df.head()"
   ]
  },
  {
   "cell_type": "markdown",
   "id": "838751d5-6ce2-4a37-a451-705d60715991",
   "metadata": {},
   "source": [
    "# Split Dataset"
   ]
  },
  {
   "cell_type": "code",
   "execution_count": 9,
   "id": "81d1818a-8842-4b0d-a30d-8a37460909e3",
   "metadata": {},
   "outputs": [],
   "source": [
    "X = df.iloc[:, 2:(df.shape[1]-1)]\n",
    "Y = df.iloc[:, df.shape[1]-1]"
   ]
  },
  {
   "cell_type": "code",
   "execution_count": 10,
   "id": "8c61b626-339a-424e-9c32-cd0fb603759c",
   "metadata": {},
   "outputs": [],
   "source": [
    "X_train, X_test, Y_train, Y_test = train_test_split(X, Y, test_size = 0.25, random_state=42)"
   ]
  },
  {
   "cell_type": "markdown",
   "id": "f5365140-89c6-4464-a6af-33141e548d43",
   "metadata": {},
   "source": [
    "# Balanced Random Forest"
   ]
  },
  {
   "cell_type": "code",
   "execution_count": 11,
   "id": "2699a543-83ff-4a32-ae53-c48cf07315ac",
   "metadata": {},
   "outputs": [],
   "source": [
    "from imblearn.ensemble import BalancedRandomForestClassifier\n",
    "from sklearn.model_selection import GridSearchCV\n",
    "from sklearn import metrics"
   ]
  },
  {
   "cell_type": "code",
   "execution_count": 39,
   "id": "175fbd57-44e6-4551-98c1-98f2819f6ed0",
   "metadata": {},
   "outputs": [],
   "source": [
    "# Create a dict for tuning parameters\n",
    "brf_para = {}"
   ]
  },
  {
   "cell_type": "code",
   "execution_count": 40,
   "id": "e6988399-dbea-4e28-8aef-0fa20fa6aabc",
   "metadata": {},
   "outputs": [],
   "source": [
    "brf_para['n_estimators'] = [65, 70, 75, 80, 85, 90, 95, 100]\n",
    "brf_para['max_depth'] = [3, 5, 7]\n",
    "brf_para['max_features'] = ['auto', 'sqrt', 'log2']"
   ]
  },
  {
   "cell_type": "code",
   "execution_count": 41,
   "id": "b8015d16-3de8-45e9-a8f1-ce5eae4de1e5",
   "metadata": {},
   "outputs": [],
   "source": [
    "# GridSearch\n",
    "brfc = BalancedRandomForestClassifier(random_state=0)\n",
    "gsc = GridSearchCV(brfc, brf_para)"
   ]
  },
  {
   "cell_type": "code",
   "execution_count": 42,
   "id": "37f94c7f-3b26-417d-bd85-469b80260750",
   "metadata": {},
   "outputs": [
    {
     "data": {
      "text/plain": [
       "GridSearchCV(estimator=BalancedRandomForestClassifier(random_state=0),\n",
       "             param_grid={'max_depth': [3, 5, 7],\n",
       "                         'max_features': ['auto', 'sqrt', 'log2'],\n",
       "                         'n_estimators': [65, 70, 75, 80, 85, 90, 95, 100]})"
      ]
     },
     "execution_count": 42,
     "metadata": {},
     "output_type": "execute_result"
    }
   ],
   "source": [
    "gsc.fit(X_train, Y_train)"
   ]
  },
  {
   "cell_type": "code",
   "execution_count": 43,
   "id": "cbf2a482-c1f9-4f35-a3d2-ea394f0c1763",
   "metadata": {},
   "outputs": [
    {
     "data": {
      "text/plain": [
       "{'max_depth': 5, 'max_features': 'auto', 'n_estimators': 100}"
      ]
     },
     "execution_count": 43,
     "metadata": {},
     "output_type": "execute_result"
    }
   ],
   "source": [
    "gsc.best_params_"
   ]
  },
  {
   "cell_type": "code",
   "execution_count": 44,
   "id": "af62f2f6-5594-4b8a-92e1-c1eb47551fd6",
   "metadata": {},
   "outputs": [],
   "source": [
    "# Train the model with best parameters and predict\n",
    "brf = BalancedRandomForestClassifier(n_estimators=100, max_depth=5, max_features = 'auto', random_state=0)\n",
    "brf.fit(X_train, Y_train)\n",
    "y_pred_brf = brf.predict(X_train)"
   ]
  },
  {
   "cell_type": "code",
   "execution_count": 45,
   "id": "3c52dda0-4ee8-46b9-998a-cfa645446144",
   "metadata": {},
   "outputs": [
    {
     "name": "stdout",
     "output_type": "stream",
     "text": [
      "Sensitivity:  1.0\n",
      "Specificity:  0.8250973345312967\n"
     ]
    }
   ],
   "source": [
    "# Output the sensitivity and specificity\n",
    "tn, fp, fn, tp = metrics.confusion_matrix(Y_train, y_pred_brf).ravel()\n",
    "sensitivity = tp/(tp+fn)\n",
    "specificity = tn/(fp+tn)\n",
    "print('Sensitivity: ', sensitivity)\n",
    "print('Specificity: ', specificity)"
   ]
  },
  {
   "cell_type": "code",
   "execution_count": 46,
   "id": "1e500f60-4c47-41b6-9d9c-cac5c7c741ad",
   "metadata": {},
   "outputs": [
    {
     "name": "stdout",
     "output_type": "stream",
     "text": [
      "AUC:  0.9125486672656484\n"
     ]
    }
   ],
   "source": [
    "# Output the auc score\n",
    "fpr, tpr, thresholds = metrics.roc_curve(Y_train, y_pred_brf)\n",
    "auc_score = metrics.auc(fpr, tpr)\n",
    "print('AUC: ', auc_score)"
   ]
  },
  {
   "cell_type": "markdown",
   "id": "91eb7d61-587f-4371-bd6b-5666d0f81bca",
   "metadata": {},
   "source": [
    "# Support vector machines"
   ]
  },
  {
   "cell_type": "code",
   "execution_count": 65,
   "id": "9415afd5-4165-40ee-95a6-6d571c87c246",
   "metadata": {},
   "outputs": [],
   "source": [
    "from sklearn.svm import SVC"
   ]
  },
  {
   "cell_type": "code",
   "execution_count": 66,
   "id": "5c44bfdd-646b-47a4-82ba-4c0cc8ea0f73",
   "metadata": {},
   "outputs": [],
   "source": [
    "# Create a dict for tuning parameters\n",
    "svm_para = {}"
   ]
  },
  {
   "cell_type": "code",
   "execution_count": 67,
   "id": "693fb90e-8a3c-48d8-a295-cb85f6555405",
   "metadata": {},
   "outputs": [],
   "source": [
    "svm_para['kernel'] = ['rbf', 'poly', 'sigmoid', 'linear']\n",
    "svm_para['C'] = [0.1,1, 10, 100]\n",
    "svm_para['gamma'] = [1,0.1,0.01,0.001]"
   ]
  },
  {
   "cell_type": "code",
   "execution_count": 68,
   "id": "7aeef9df-28be-4419-ad96-dbebc22b77b4",
   "metadata": {},
   "outputs": [],
   "source": [
    "# GridSearch\n",
    "svm = SVC(random_state=0)\n",
    "gsc_svm = GridSearchCV(svm, svm_para)"
   ]
  },
  {
   "cell_type": "code",
   "execution_count": 69,
   "id": "64950413-f362-4aa0-a06c-5ecd0f62e6ee",
   "metadata": {},
   "outputs": [
    {
     "data": {
      "text/plain": [
       "GridSearchCV(estimator=SVC(random_state=0),\n",
       "             param_grid={'C': [0.1, 1, 10, 100], 'gamma': [1, 0.1, 0.01, 0.001],\n",
       "                         'kernel': ['rbf', 'poly', 'sigmoid', 'linear']})"
      ]
     },
     "execution_count": 69,
     "metadata": {},
     "output_type": "execute_result"
    }
   ],
   "source": [
    "gsc_svm.fit(X_train, Y_train)"
   ]
  },
  {
   "cell_type": "code",
   "execution_count": 70,
   "id": "4be4f860-6561-4ea3-bc2f-ec8291a9299c",
   "metadata": {},
   "outputs": [
    {
     "data": {
      "text/plain": [
       "{'C': 10, 'gamma': 0.1, 'kernel': 'rbf'}"
      ]
     },
     "execution_count": 70,
     "metadata": {},
     "output_type": "execute_result"
    }
   ],
   "source": [
    "gsc_svm.best_params_"
   ]
  },
  {
   "cell_type": "code",
   "execution_count": 31,
   "id": "06319523-6ca8-48d7-9a4f-e2d9c94e62d7",
   "metadata": {},
   "outputs": [],
   "source": [
    "# Train the model with best parameters and predict\n",
    "svm_model = SVC(C=10, kernel = 'rbf', gamma = 0.1, random_state=0)\n",
    "svm_model.fit(X_train, Y_train)\n",
    "y_pred_svm = svm_model.predict(X_train)"
   ]
  },
  {
   "cell_type": "code",
   "execution_count": 54,
   "id": "d62ae708-7779-4ecb-8760-eb45a4995afa",
   "metadata": {},
   "outputs": [
    {
     "name": "stdout",
     "output_type": "stream",
     "text": [
      "Sensitivity:  1.0\n",
      "Specificity:  1.0\n"
     ]
    }
   ],
   "source": [
    "# Output the sensitivity and specificity\n",
    "tn2, fp2, fn2, tp2 = metrics.confusion_matrix(Y_train, y_pred_svm).ravel()\n",
    "sensitivity_svm = tp2/(tp2+fn2)\n",
    "specificity_svm = tn2/(fp2+tn2)\n",
    "print('Sensitivity: ', sensitivity_svm)\n",
    "print('Specificity: ', specificity_svm)"
   ]
  },
  {
   "cell_type": "code",
   "execution_count": 55,
   "id": "1bd1c5cd-22b9-4a9c-bb0b-a6804949e49d",
   "metadata": {},
   "outputs": [
    {
     "name": "stdout",
     "output_type": "stream",
     "text": [
      "AUC:  1.0\n"
     ]
    }
   ],
   "source": [
    "# Output the auc score\n",
    "fpr2, tpr2, thresholds2 = metrics.roc_curve(Y_train, y_pred_svm)\n",
    "auc_score2 = metrics.auc(fpr2, tpr2)\n",
    "print('AUC: ', auc_score2)"
   ]
  },
  {
   "cell_type": "markdown",
   "id": "cce5488a-f258-4a68-80e0-747ef4a955a1",
   "metadata": {},
   "source": [
    "# Logistic Regression"
   ]
  },
  {
   "cell_type": "code",
   "execution_count": 12,
   "id": "bef1a0bf-db84-45be-95f5-9a15a38825da",
   "metadata": {},
   "outputs": [],
   "source": [
    "from sklearn.linear_model import LogisticRegression"
   ]
  },
  {
   "cell_type": "code",
   "execution_count": 22,
   "id": "2588bbdd-ade9-4861-8d38-819a4a4b3be9",
   "metadata": {},
   "outputs": [],
   "source": [
    "# Create a dict for tuning parameters\n",
    "lg_para = {'C':[1500, 1000, 100, 10, 1.0, 0.1, 0.01], 'penalty': ['l1', 'l2']}"
   ]
  },
  {
   "cell_type": "code",
   "execution_count": 23,
   "id": "87cb2205-d1d7-41f6-89b0-db90f3509859",
   "metadata": {},
   "outputs": [],
   "source": [
    "# GridSearch\n",
    "lgs = LogisticRegression(class_weight='balanced', max_iter = 1000000, solver = 'liblinear', random_state=0)\n",
    "gsc_lg = GridSearchCV(lgs, lg_para)"
   ]
  },
  {
   "cell_type": "code",
   "execution_count": 24,
   "id": "0d6ca464-1098-444b-82a6-9699b8f94ac4",
   "metadata": {},
   "outputs": [
    {
     "data": {
      "text/plain": [
       "GridSearchCV(estimator=LogisticRegression(class_weight='balanced',\n",
       "                                          max_iter=1000000, random_state=0,\n",
       "                                          solver='liblinear'),\n",
       "             param_grid={'C': [1500, 1000, 100, 10, 1.0, 0.1, 0.01],\n",
       "                         'penalty': ['l1', 'l2']})"
      ]
     },
     "execution_count": 24,
     "metadata": {},
     "output_type": "execute_result"
    }
   ],
   "source": [
    "gsc_lg.fit(X_train, Y_train)"
   ]
  },
  {
   "cell_type": "code",
   "execution_count": 25,
   "id": "d74569cc-9058-4f04-8be6-2e1c8bbb9cf2",
   "metadata": {},
   "outputs": [
    {
     "data": {
      "text/plain": [
       "{'C': 1000, 'penalty': 'l1'}"
      ]
     },
     "execution_count": 25,
     "metadata": {},
     "output_type": "execute_result"
    }
   ],
   "source": [
    "gsc_lg.best_params_"
   ]
  },
  {
   "cell_type": "code",
   "execution_count": 27,
   "id": "ae827d7b-a6a9-452f-ad18-6a61f5709a4c",
   "metadata": {},
   "outputs": [],
   "source": [
    "# Train the model with best parameters and predict\n",
    "lg = LogisticRegression(C = 1000, penalty = 'l1', class_weight='balanced', max_iter = 1000000, solver = 'liblinear', random_state=0)\n",
    "lg.fit(X_train, Y_train)\n",
    "y_pred_lg = lg.predict(X_train)"
   ]
  },
  {
   "cell_type": "code",
   "execution_count": 28,
   "id": "07189220-4612-4acb-8387-47bd4047a099",
   "metadata": {},
   "outputs": [
    {
     "name": "stdout",
     "output_type": "stream",
     "text": [
      "Sensitivity:  1.0\n",
      "Specificity:  0.955675351901767\n"
     ]
    }
   ],
   "source": [
    "# Output the sensitivity and specificity\n",
    "tn3, fp3, fn3, tp3 = metrics.confusion_matrix(Y_train, y_pred_lg).ravel()\n",
    "sensitivity_lg = tp3/(tp3+fn3)\n",
    "specificity_lg = tn3/(fp3+tn3)\n",
    "print('Sensitivity: ', sensitivity_lg)\n",
    "print('Specificity: ', specificity_lg)"
   ]
  },
  {
   "cell_type": "code",
   "execution_count": 29,
   "id": "4b295480-f39f-43af-a1f4-bea26bc0cd19",
   "metadata": {},
   "outputs": [
    {
     "name": "stdout",
     "output_type": "stream",
     "text": [
      "AUC:  0.9778376759508836\n"
     ]
    }
   ],
   "source": [
    "# Output the auc score\n",
    "fpr3, tpr3, thresholds3 = metrics.roc_curve(Y_train, y_pred_lg)\n",
    "auc_score3 = metrics.auc(fpr3, tpr3)\n",
    "print('AUC: ', auc_score3)"
   ]
  },
  {
   "cell_type": "markdown",
   "id": "8360773a-00b1-4ea8-92b0-1887047f7fa4",
   "metadata": {},
   "source": [
    "# ROC Curve"
   ]
  },
  {
   "cell_type": "code",
   "execution_count": 57,
   "id": "c3761b58-8325-456b-8737-d608f7d9de0b",
   "metadata": {},
   "outputs": [
    {
     "data": {
      "image/png": "[encoded data removed]",
      "text/plain": [
       "<Figure size 432x288 with 1 Axes>"
      ]
     },
     "metadata": {
      "needs_background": "light"
     },
     "output_type": "display_data"
    }
   ],
   "source": [
    "# ROC for BRM\n",
    "plt.plot(fpr,tpr, label = 'BalancedRandomForest')\n",
    "plt.plot(fpr2,tpr2, label = 'SVM')\n",
    "plt.plot(fpr3,tpr3, label = 'LogisticRegression')\n",
    "plt.ylabel('True Positive Rate')\n",
    "plt.xlabel('False Positive Rate')\n",
    "plt.legend()\n",
    "plt.show()\n",
    "\n"
   ]
  },
  {
   "cell_type": "markdown",
   "id": "08408fce-ee8b-4e4c-9ba8-e23e5d86c32f",
   "metadata": {},
   "source": [
    "# Test"
   ]
  },
  {
   "cell_type": "raw",
   "id": "5ce938c0-3a7a-4ed6-b67f-88fda3f3f7c4",
   "metadata": {},
   "source": [
    "Base on the AUC score, the best model is SVM"
   ]
  },
  {
   "cell_type": "code",
   "execution_count": 35,
   "id": "ef1491a6-03c1-45ec-8432-0068d9be35fd",
   "metadata": {},
   "outputs": [],
   "source": [
    "y_test_pred = svm_model.predict(X_test)"
   ]
  },
  {
   "cell_type": "code",
   "execution_count": 36,
   "id": "235a2759-75da-48b8-81a2-402e0fc8ccb5",
   "metadata": {},
   "outputs": [
    {
     "data": {
      "text/plain": [
       "0.9533678756476683"
      ]
     },
     "execution_count": 36,
     "metadata": {},
     "output_type": "execute_result"
    }
   ],
   "source": [
    "metrics.accuracy_score(Y_test, y_test_pred)"
   ]
  },
  {
   "cell_type": "markdown",
   "id": "458994c5-a425-4f75-989a-d17385913d80",
   "metadata": {},
   "source": [
    "# Find Top 10 Significant Features In SVM Model"
   ]
  },
  {
   "cell_type": "code",
   "execution_count": 63,
   "id": "b42d80dc-4ab6-4113-aef8-c706afeb05f9",
   "metadata": {},
   "outputs": [],
   "source": [
    "from sklearn.inspection import permutation_importance"
   ]
  },
  {
   "cell_type": "code",
   "execution_count": 73,
   "id": "afcfc148-da63-40df-b192-3edf70b90529",
   "metadata": {},
   "outputs": [],
   "source": [
    "perm_importance = permutation_importance(svm_model, X_test, Y_test)\n",
    "\n",
    "feature_names = list(X_train.columns)\n",
    "features = np.array(feature_names)\n",
    "\n",
    "sorted_idx = perm_importance.importances_mean.argsort()"
   ]
  },
  {
   "cell_type": "code",
   "execution_count": 86,
   "id": "f27bbb6b-97e1-4d34-a69e-9fddb6647b78",
   "metadata": {},
   "outputs": [],
   "source": [
    "index = sorted_idx[:10]"
   ]
  },
  {
   "cell_type": "code",
   "execution_count": 87,
   "id": "fde44615-fdb1-4a84-a691-fdc56adbb883",
   "metadata": {},
   "outputs": [
    {
     "data": {
      "text/plain": [
       "Text(0.5, 0, 'Permutation Importance')"
      ]
     },
     "execution_count": 87,
     "metadata": {},
     "output_type": "execute_result"
    },
    {
     "data": {
      "image/png": "[encoded data removed]",
      "text/plain": [
       "<Figure size 432x288 with 1 Axes>"
      ]
     },
     "metadata": {
      "needs_background": "light"
     },
     "output_type": "display_data"
    }
   ],
   "source": [
    "plt.barh(features[index], perm_importance.importances_mean[index])\n",
    "plt.xlabel(\"Permutation Importance\")"
   ]
  },
  {
   "cell_type": "code",
   "execution_count": 92,
   "id": "efd5fe6d-1527-4f54-99d7-4c5bfd98d461",
   "metadata": {},
   "outputs": [
    {
     "name": "stdout",
     "output_type": "stream",
     "text": [
      "10 most revelent factors: \n",
      " Intestinal Infectious Diseases\n",
      " Gender\n",
      " Other Nonoperative Procedures\n",
      " Nephritis, Nephrotic Syndrome, And Nephrosis\n",
      " Excision Of Lung And Bronchus\n",
      " Organic Psychotic Conditions\n",
      " iseases Of Esophagus, Stomach, And Duodenum\n",
      " Persons With Potential Health Hazards Related To Personal And Family History\n",
      " Other Diseases Of Respiratory System\n",
      " Other Metabolic Disorders And Immunity Disorders\n",
      "\n"
     ]
    }
   ],
   "source": [
    "print('10 most revelent factors: \\n', 'Intestinal Infectious Diseases\\n', 'Gender\\n',\n",
    "                                    'Other Nonoperative Procedures\\n', \n",
    "                                    'Nephritis, Nephrotic Syndrome, And Nephrosis\\n', \n",
    "                                    'Excision Of Lung And Bronchus\\n',\n",
    "                                    'Organic Psychotic Conditions\\n',\n",
    "                                    'iseases Of Esophagus, Stomach, And Duodenum\\n',\n",
    "                                    'Persons With Potential Health Hazards Related To Personal And Family History\\n',\n",
    "                                    'Other Diseases Of Respiratory System\\n',\n",
    "                                    'Other Metabolic Disorders And Immunity Disorders\\n')"
   ]
  },
  {
   "cell_type": "markdown",
   "id": "86901cb7-1c09-4f9c-be72-c5bc171c4d86",
   "metadata": {},
   "source": [
    "# Save the models"
   ]
  },
  {
   "cell_type": "code",
   "execution_count": 47,
   "id": "21df6db1-f6cd-40b4-a4c8-cf80ebfd3446",
   "metadata": {},
   "outputs": [],
   "source": [
    "from joblib import dump, load"
   ]
  },
  {
   "cell_type": "code",
   "execution_count": 52,
   "id": "f5fcd640-3a68-4d15-9371-71fa5b8fb721",
   "metadata": {},
   "outputs": [
    {
     "data": {
      "text/plain": [
       "['LogisticRegression.jlib']"
      ]
     },
     "execution_count": 52,
     "metadata": {},
     "output_type": "execute_result"
    }
   ],
   "source": [
    "dump(lg, 'LogisticRegression.jlib')"
   ]
  },
  {
   "cell_type": "code",
   "execution_count": 49,
   "id": "def84fc5-8d42-45df-8844-29d6b3030f90",
   "metadata": {},
   "outputs": [],
   "source": [
    "model = load('BalancedRandomForest.jlib')"
   ]
  }
 ],
 "metadata": {
  "kernelspec": {
   "display_name": "Python 3 (ipykernel)",
   "language": "python",
   "name": "python3"
  },
  "language_info": {
   "codemirror_mode": {
    "name": "ipython",
    "version": 3
   },
   "file_extension": ".py",
   "mimetype": "text/x-python",
   "name": "python",
   "nbconvert_exporter": "python",
   "pygments_lexer": "ipython3",
   "version": "3.9.7"
  }
 },
 "nbformat": 4,
 "nbformat_minor": 5
}
